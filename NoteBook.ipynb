{
 "cells": [
  {
   "cell_type": "code",
   "execution_count": 1,
   "metadata": {},
   "outputs": [],
   "source": [
    "def name_function():\n",
    "    '''\n",
    "    Docstring information \n",
    "    about..\n",
    "    output\n",
    "    '''\n",
    "    \n",
    "    \n",
    "    print('hello')"
   ]
  },
  {
   "cell_type": "code",
   "execution_count": 2,
   "metadata": {},
   "outputs": [
    {
     "name": "stdout",
     "output_type": "stream",
     "text": [
      "Help on function name_function in module __main__:\n",
      "\n",
      "name_function()\n",
      "    Docstring information \n",
      "    about..\n",
      "    output\n",
      "\n"
     ]
    }
   ],
   "source": [
    "help(name_function)"
   ]
  },
  {
   "cell_type": "code",
   "execution_count": 3,
   "metadata": {},
   "outputs": [],
   "source": [
    "def say_hello(name='NAME'):\n",
    "    return 'hello ' +name"
   ]
  },
  {
   "cell_type": "code",
   "execution_count": 4,
   "metadata": {},
   "outputs": [],
   "source": [
    "result=say_hello('Zach')"
   ]
  },
  {
   "cell_type": "code",
   "execution_count": 5,
   "metadata": {},
   "outputs": [
    {
     "data": {
      "text/plain": [
       "'hello Zach'"
      ]
     },
     "execution_count": 5,
     "metadata": {},
     "output_type": "execute_result"
    }
   ],
   "source": [
    "result"
   ]
  },
  {
   "cell_type": "code",
   "execution_count": 6,
   "metadata": {},
   "outputs": [
    {
     "data": {
      "text/plain": [
       "str"
      ]
     },
     "execution_count": 6,
     "metadata": {},
     "output_type": "execute_result"
    }
   ],
   "source": [
    "type(result)"
   ]
  },
  {
   "cell_type": "code",
   "execution_count": 7,
   "metadata": {},
   "outputs": [],
   "source": [
    "def add(n1,n2):\n",
    "    return n1+n2"
   ]
  },
  {
   "cell_type": "code",
   "execution_count": 8,
   "metadata": {},
   "outputs": [],
   "source": [
    "result=add(20,30)"
   ]
  },
  {
   "cell_type": "code",
   "execution_count": 9,
   "metadata": {},
   "outputs": [
    {
     "data": {
      "text/plain": [
       "50"
      ]
     },
     "execution_count": 9,
     "metadata": {},
     "output_type": "execute_result"
    }
   ],
   "source": [
    "result"
   ]
  },
  {
   "cell_type": "code",
   "execution_count": 10,
   "metadata": {},
   "outputs": [],
   "source": [
    "def dog_check(mystring):\n",
    "    if 'dog' in mystring:\n",
    "        return True\n",
    "    else:\n",
    "        return False"
   ]
  },
  {
   "cell_type": "code",
   "execution_count": 11,
   "metadata": {},
   "outputs": [
    {
     "data": {
      "text/plain": [
       "True"
      ]
     },
     "execution_count": 11,
     "metadata": {},
     "output_type": "execute_result"
    }
   ],
   "source": [
    "dog_check('My dog ran away')"
   ]
  },
  {
   "cell_type": "code",
   "execution_count": 12,
   "metadata": {},
   "outputs": [],
   "source": [
    "def dog_check(mystring):\n",
    "    return'dog' in mystring.lower()"
   ]
  },
  {
   "cell_type": "code",
   "execution_count": 13,
   "metadata": {},
   "outputs": [
    {
     "data": {
      "text/plain": [
       "True"
      ]
     },
     "execution_count": 13,
     "metadata": {},
     "output_type": "execute_result"
    }
   ],
   "source": [
    "dog_check('My Dog ran away')"
   ]
  },
  {
   "cell_type": "code",
   "execution_count": 14,
   "metadata": {},
   "outputs": [],
   "source": [
    "def pig_latin(word):\n",
    "    first_letter=word[0] \n",
    "    \n",
    "    if first_letter in 'aeiou':\n",
    "        pig_word = word + 'ay'\n",
    "    else:\n",
    "        pig_word = word[1:] + first_letter +'ay'\n",
    "    return pig_word"
   ]
  },
  {
   "cell_type": "code",
   "execution_count": 15,
   "metadata": {},
   "outputs": [
    {
     "data": {
      "text/plain": [
       "'appleay'"
      ]
     },
     "execution_count": 15,
     "metadata": {},
     "output_type": "execute_result"
    }
   ],
   "source": [
    "pig_latin('apple')"
   ]
  },
  {
   "cell_type": "code",
   "execution_count": 16,
   "metadata": {},
   "outputs": [],
   "source": [
    "def myfunc(a,b,c=0,d=0,e=0):\n",
    "    return sum((a,b,c,d,e))*0.05"
   ]
  },
  {
   "cell_type": "code",
   "execution_count": 17,
   "metadata": {},
   "outputs": [
    {
     "data": {
      "text/plain": [
       "15.3"
      ]
     },
     "execution_count": 17,
     "metadata": {},
     "output_type": "execute_result"
    }
   ],
   "source": [
    "myfunc(40,60,100,100,6)"
   ]
  },
  {
   "cell_type": "code",
   "execution_count": 18,
   "metadata": {},
   "outputs": [],
   "source": [
    "def myfunc(*args):\n",
    "    return sum(args)*0.05"
   ]
  },
  {
   "cell_type": "code",
   "execution_count": 19,
   "metadata": {},
   "outputs": [
    {
     "data": {
      "text/plain": [
       "13.25"
      ]
     },
     "execution_count": 19,
     "metadata": {},
     "output_type": "execute_result"
    }
   ],
   "source": [
    "myfunc(40,60,100,1,34,3,5,6,8,8)"
   ]
  },
  {
   "cell_type": "code",
   "execution_count": 20,
   "metadata": {},
   "outputs": [],
   "source": [
    "def myfunc(*args):\n",
    "    for item in args:\n",
    "        print(item)\n",
    "  "
   ]
  },
  {
   "cell_type": "code",
   "execution_count": 21,
   "metadata": {},
   "outputs": [
    {
     "name": "stdout",
     "output_type": "stream",
     "text": [
      "40\n",
      "60\n",
      "100\n",
      "1\n",
      "34\n"
     ]
    }
   ],
   "source": [
    "myfunc(40,60,100,1,34)"
   ]
  },
  {
   "cell_type": "code",
   "execution_count": 22,
   "metadata": {},
   "outputs": [],
   "source": [
    "def myfunc(**kwargs):\n",
    "    if 'fruit' in kwargs:\n",
    "        print('My fruit of choice is {}'.format(kwargs['fruit']))\n",
    "    else:\n",
    "        print('I did not find fruit')"
   ]
  },
  {
   "cell_type": "code",
   "execution_count": 23,
   "metadata": {},
   "outputs": [
    {
     "name": "stdout",
     "output_type": "stream",
     "text": [
      "My fruit of choice is apple\n"
     ]
    }
   ],
   "source": [
    "myfunc(fruit='apple',veggie='lettuce')"
   ]
  },
  {
   "cell_type": "code",
   "execution_count": 24,
   "metadata": {},
   "outputs": [],
   "source": [
    "def myfunc(*args,**kwargs):\n",
    "    print('I would like {} {}'.format(args[0],kwargs['food']))"
   ]
  },
  {
   "cell_type": "code",
   "execution_count": 25,
   "metadata": {},
   "outputs": [
    {
     "name": "stdout",
     "output_type": "stream",
     "text": [
      "I would like 10 Eggs\n"
     ]
    }
   ],
   "source": [
    "myfunc(10,20,30,fruit='Orange',food='Eggs',animals='dog')"
   ]
  },
  {
   "cell_type": "code",
   "execution_count": 26,
   "metadata": {},
   "outputs": [],
   "source": [
    "def lesser_of_two_evens(a,b):\n",
    "    if a%2==0  and b%2==0:\n",
    "        # Both numbers are even\n",
    "        if a < b:\n",
    "            result = a\n",
    "        else:\n",
    "            result = b\n",
    "    else:\n",
    "        # One or Both numbers are odd\n",
    "        if a > b:\n",
    "            result = a\n",
    "        else:\n",
    "            result = b\n",
    "    return result        \n",
    "        "
   ]
  },
  {
   "cell_type": "code",
   "execution_count": 27,
   "metadata": {},
   "outputs": [
    {
     "data": {
      "text/plain": [
       "2"
      ]
     },
     "execution_count": 27,
     "metadata": {},
     "output_type": "execute_result"
    }
   ],
   "source": [
    "lesser_of_two_evens(2,4)"
   ]
  },
  {
   "cell_type": "code",
   "execution_count": 28,
   "metadata": {},
   "outputs": [
    {
     "data": {
      "text/plain": [
       "5"
      ]
     },
     "execution_count": 28,
     "metadata": {},
     "output_type": "execute_result"
    }
   ],
   "source": [
    "lesser_of_two_evens(2,5)"
   ]
  },
  {
   "cell_type": "code",
   "execution_count": 29,
   "metadata": {},
   "outputs": [],
   "source": [
    "def lesser_of_two_evens(a,b):\n",
    "    if a%2==0  and b%2==0:\n",
    "        # Both numbers are even\n",
    "        result = min(a,b)\n",
    "    else:\n",
    "        # One or Both numbers are odd\n",
    "        result = max(a,b)\n",
    "    return result        \n",
    "        "
   ]
  },
  {
   "cell_type": "code",
   "execution_count": 30,
   "metadata": {},
   "outputs": [
    {
     "data": {
      "text/plain": [
       "2"
      ]
     },
     "execution_count": 30,
     "metadata": {},
     "output_type": "execute_result"
    }
   ],
   "source": [
    "lesser_of_two_evens(2,4)"
   ]
  },
  {
   "cell_type": "code",
   "execution_count": 31,
   "metadata": {},
   "outputs": [
    {
     "data": {
      "text/plain": [
       "5"
      ]
     },
     "execution_count": 31,
     "metadata": {},
     "output_type": "execute_result"
    }
   ],
   "source": [
    "lesser_of_two_evens(3,5)"
   ]
  },
  {
   "cell_type": "code",
   "execution_count": 32,
   "metadata": {},
   "outputs": [],
   "source": [
    "def lesser_of_two_evens(a,b):\n",
    "    if a%2==0  and b%2==0:\n",
    "        # Both numbers are even\n",
    "        return min(a,b)\n",
    "    else:\n",
    "        # One or Both numbers are odd\n",
    "        return max(a,b)\n",
    "    return result        \n",
    "        "
   ]
  },
  {
   "cell_type": "code",
   "execution_count": 33,
   "metadata": {},
   "outputs": [
    {
     "data": {
      "text/plain": [
       "2"
      ]
     },
     "execution_count": 33,
     "metadata": {},
     "output_type": "execute_result"
    }
   ],
   "source": [
    "lesser_of_two_evens(2,4)"
   ]
  },
  {
   "cell_type": "code",
   "execution_count": 34,
   "metadata": {},
   "outputs": [
    {
     "data": {
      "text/plain": [
       "5"
      ]
     },
     "execution_count": 34,
     "metadata": {},
     "output_type": "execute_result"
    }
   ],
   "source": [
    "lesser_of_two_evens(3,5)"
   ]
  },
  {
   "cell_type": "code",
   "execution_count": 35,
   "metadata": {},
   "outputs": [],
   "source": [
    "def makes_twenty(n1,n2):\n",
    "    if n1 + n2 ==20:\n",
    "        return True\n",
    "    elif n1 == 20:\n",
    "        return True\n",
    "    elif n2 == 20:\n",
    "        return True\n",
    "    else:\n",
    "        return False"
   ]
  },
  {
   "cell_type": "code",
   "execution_count": 36,
   "metadata": {},
   "outputs": [
    {
     "data": {
      "text/plain": [
       "True"
      ]
     },
     "execution_count": 36,
     "metadata": {},
     "output_type": "execute_result"
    }
   ],
   "source": [
    "makes_twenty(10,10)"
   ]
  },
  {
   "cell_type": "code",
   "execution_count": 37,
   "metadata": {},
   "outputs": [
    {
     "data": {
      "text/plain": [
       "False"
      ]
     },
     "execution_count": 37,
     "metadata": {},
     "output_type": "execute_result"
    }
   ],
   "source": [
    "makes_twenty(2,3)"
   ]
  },
  {
   "cell_type": "code",
   "execution_count": 38,
   "metadata": {},
   "outputs": [],
   "source": [
    "def makes_twenty(n1,n2):\n",
    "    return (n1+n2) ==20 or n1==20 or n2==20"
   ]
  },
  {
   "cell_type": "code",
   "execution_count": 39,
   "metadata": {},
   "outputs": [
    {
     "data": {
      "text/plain": [
       "True"
      ]
     },
     "execution_count": 39,
     "metadata": {},
     "output_type": "execute_result"
    }
   ],
   "source": [
    "makes_twenty(10,10)"
   ]
  },
  {
   "cell_type": "code",
   "execution_count": 40,
   "metadata": {},
   "outputs": [
    {
     "data": {
      "text/plain": [
       "False"
      ]
     },
     "execution_count": 40,
     "metadata": {},
     "output_type": "execute_result"
    }
   ],
   "source": [
    "makes_twenty(1,1)"
   ]
  },
  {
   "cell_type": "code",
   "execution_count": 41,
   "metadata": {},
   "outputs": [],
   "source": [
    "def old_macdonald(name):\n",
    "    first_letter = name[0]\n",
    "    inbetween = name[1:3]\n",
    "    fourth_letter = name[3]\n",
    "    rest = name[4:]\n",
    "    return first_letter.upper() + inbetween +fourth_letter.upper() + rest"
   ]
  },
  {
   "cell_type": "code",
   "execution_count": 42,
   "metadata": {},
   "outputs": [
    {
     "data": {
      "text/plain": [
       "'MacDonald'"
      ]
     },
     "execution_count": 42,
     "metadata": {},
     "output_type": "execute_result"
    }
   ],
   "source": [
    "old_macdonald('macdonald')"
   ]
  },
  {
   "cell_type": "code",
   "execution_count": 43,
   "metadata": {},
   "outputs": [],
   "source": [
    "def old_macdonald(name):\n",
    "    first_half = name[:3]\n",
    "    second_half = name[3:]\n",
    "    return first_half.capitalize() + second_half.capitalize()"
   ]
  },
  {
   "cell_type": "code",
   "execution_count": 44,
   "metadata": {},
   "outputs": [
    {
     "data": {
      "text/plain": [
       "'MacDonald'"
      ]
     },
     "execution_count": 44,
     "metadata": {},
     "output_type": "execute_result"
    }
   ],
   "source": [
    "old_macdonald('macdonald')"
   ]
  },
  {
   "cell_type": "code",
   "execution_count": 45,
   "metadata": {},
   "outputs": [
    {
     "data": {
      "text/plain": [
       "'emoh ma I'"
      ]
     },
     "execution_count": 45,
     "metadata": {},
     "output_type": "execute_result"
    }
   ],
   "source": [
    "s='I am home'\n",
    "s[::-1]"
   ]
  },
  {
   "cell_type": "code",
   "execution_count": 46,
   "metadata": {},
   "outputs": [],
   "source": [
    "def spy_game(nums):\n",
    "    code = [0,0,7,'x']\n",
    "    # [0,7,'x]\n",
    "    #[7,'x]\n",
    "    #['x] length=1\n",
    "    for num in nums:\n",
    "        if num == code[0]:\n",
    "            code.pop(0)\n",
    "    return len(code) == 1\n",
    "        "
   ]
  },
  {
   "cell_type": "code",
   "execution_count": 47,
   "metadata": {},
   "outputs": [
    {
     "data": {
      "text/plain": [
       "True"
      ]
     },
     "execution_count": 47,
     "metadata": {},
     "output_type": "execute_result"
    }
   ],
   "source": [
    "spy_game([0,2,4,0,7,5])"
   ]
  },
  {
   "cell_type": "code",
   "execution_count": 48,
   "metadata": {},
   "outputs": [],
   "source": [
    "def square(num):\n",
    "    return num**2"
   ]
  },
  {
   "cell_type": "code",
   "execution_count": 49,
   "metadata": {},
   "outputs": [],
   "source": [
    "my_nums =[1,2,3,4,5]"
   ]
  },
  {
   "cell_type": "code",
   "execution_count": 50,
   "metadata": {},
   "outputs": [
    {
     "name": "stdout",
     "output_type": "stream",
     "text": [
      "1\n",
      "4\n",
      "9\n",
      "16\n",
      "25\n"
     ]
    }
   ],
   "source": [
    "for item in map(square,my_nums):\n",
    "    print(item)"
   ]
  },
  {
   "cell_type": "code",
   "execution_count": 51,
   "metadata": {},
   "outputs": [
    {
     "data": {
      "text/plain": [
       "[1, 4, 9, 16, 25]"
      ]
     },
     "execution_count": 51,
     "metadata": {},
     "output_type": "execute_result"
    }
   ],
   "source": [
    "list(map(square,my_nums))"
   ]
  },
  {
   "cell_type": "code",
   "execution_count": 52,
   "metadata": {},
   "outputs": [],
   "source": [
    "def splicer(mystring):\n",
    "    if len(mystring)%2 == 0:\n",
    "        return 'Even'\n",
    "    else:\n",
    "        return mystring[0]"
   ]
  },
  {
   "cell_type": "code",
   "execution_count": 53,
   "metadata": {},
   "outputs": [],
   "source": [
    "names = ['Andy','Eve','Sally']"
   ]
  },
  {
   "cell_type": "code",
   "execution_count": 54,
   "metadata": {},
   "outputs": [
    {
     "data": {
      "text/plain": [
       "['Even', 'E', 'S']"
      ]
     },
     "execution_count": 54,
     "metadata": {},
     "output_type": "execute_result"
    }
   ],
   "source": [
    "list(map(splicer,names))"
   ]
  },
  {
   "cell_type": "code",
   "execution_count": 55,
   "metadata": {},
   "outputs": [],
   "source": [
    "def check_even(num):\n",
    "    return num%2 == 0"
   ]
  },
  {
   "cell_type": "code",
   "execution_count": 56,
   "metadata": {},
   "outputs": [],
   "source": [
    "mynums = [1,2,3,4,5,6]"
   ]
  },
  {
   "cell_type": "code",
   "execution_count": 57,
   "metadata": {},
   "outputs": [
    {
     "data": {
      "text/plain": [
       "[2, 4, 6]"
      ]
     },
     "execution_count": 57,
     "metadata": {},
     "output_type": "execute_result"
    }
   ],
   "source": [
    "list(filter(check_even,mynums))"
   ]
  },
  {
   "cell_type": "code",
   "execution_count": 58,
   "metadata": {},
   "outputs": [
    {
     "name": "stdout",
     "output_type": "stream",
     "text": [
      "2\n",
      "4\n",
      "6\n"
     ]
    }
   ],
   "source": [
    "for n in filter(check_even,mynums):\n",
    "    print(n)"
   ]
  },
  {
   "cell_type": "code",
   "execution_count": 59,
   "metadata": {},
   "outputs": [],
   "source": [
    "def square(num):\n",
    "    result = num ** 2\n",
    "    return result"
   ]
  },
  {
   "cell_type": "code",
   "execution_count": null,
   "metadata": {},
   "outputs": [],
   "source": []
  },
  {
   "cell_type": "code",
   "execution_count": 60,
   "metadata": {},
   "outputs": [
    {
     "data": {
      "text/plain": [
       "9"
      ]
     },
     "execution_count": 60,
     "metadata": {},
     "output_type": "execute_result"
    }
   ],
   "source": [
    "square(3)"
   ]
  },
  {
   "cell_type": "code",
   "execution_count": 61,
   "metadata": {},
   "outputs": [],
   "source": [
    "sqaure = lambda num: num ** 2"
   ]
  },
  {
   "cell_type": "code",
   "execution_count": 62,
   "metadata": {},
   "outputs": [
    {
     "data": {
      "text/plain": [
       "25"
      ]
     },
     "execution_count": 62,
     "metadata": {},
     "output_type": "execute_result"
    }
   ],
   "source": [
    "square(5)"
   ]
  },
  {
   "cell_type": "code",
   "execution_count": 63,
   "metadata": {},
   "outputs": [
    {
     "data": {
      "text/plain": [
       "[1, 4, 9, 16, 25]"
      ]
     },
     "execution_count": 63,
     "metadata": {},
     "output_type": "execute_result"
    }
   ],
   "source": [
    "list(map(lambda num: num ** 2,my_nums))"
   ]
  },
  {
   "cell_type": "code",
   "execution_count": 64,
   "metadata": {},
   "outputs": [
    {
     "data": {
      "text/plain": [
       "[2, 4]"
      ]
     },
     "execution_count": 64,
     "metadata": {},
     "output_type": "execute_result"
    }
   ],
   "source": [
    "list(filter(lambda num:num%2 == 0, my_nums))"
   ]
  },
  {
   "cell_type": "code",
   "execution_count": 65,
   "metadata": {},
   "outputs": [
    {
     "data": {
      "text/plain": [
       "['Andy', 'Eve', 'Sally']"
      ]
     },
     "execution_count": 65,
     "metadata": {},
     "output_type": "execute_result"
    }
   ],
   "source": [
    "names"
   ]
  },
  {
   "cell_type": "code",
   "execution_count": 66,
   "metadata": {},
   "outputs": [
    {
     "data": {
      "text/plain": [
       "['ydnA', 'evE', 'yllaS']"
      ]
     },
     "execution_count": 66,
     "metadata": {},
     "output_type": "execute_result"
    }
   ],
   "source": [
    "list(map(lambda name:name[::-1],names))"
   ]
  },
  {
   "cell_type": "code",
   "execution_count": 67,
   "metadata": {},
   "outputs": [],
   "source": [
    "x = 25\n",
    "\n",
    "def printer():\n",
    "    x = 50\n",
    "    return x"
   ]
  },
  {
   "cell_type": "code",
   "execution_count": 68,
   "metadata": {},
   "outputs": [
    {
     "name": "stdout",
     "output_type": "stream",
     "text": [
      "25\n"
     ]
    }
   ],
   "source": [
    "print(x)"
   ]
  },
  {
   "cell_type": "code",
   "execution_count": 69,
   "metadata": {},
   "outputs": [
    {
     "data": {
      "text/plain": [
       "50"
      ]
     },
     "execution_count": 69,
     "metadata": {},
     "output_type": "execute_result"
    }
   ],
   "source": [
    "printer()"
   ]
  },
  {
   "cell_type": "markdown",
   "metadata": {},
   "source": [
    "# Local & Global"
   ]
  },
  {
   "cell_type": "code",
   "execution_count": 72,
   "metadata": {},
   "outputs": [],
   "source": [
    "# Global\n",
    "name = 'This is a Global String'\n",
    "\n",
    "def greet():\n",
    "    # Enclosing\n",
    "    #name = 'Sammy'\n",
    "    \n",
    "    def hello():\n",
    "        # Local\n",
    "        #name = 'I am Local'\n",
    "        print('Hello '+name)\n",
    "    hello()"
   ]
  },
  {
   "cell_type": "code",
   "execution_count": 73,
   "metadata": {},
   "outputs": [
    {
     "name": "stdout",
     "output_type": "stream",
     "text": [
      "Hello This is a Global String\n"
     ]
    }
   ],
   "source": [
    "greet()"
   ]
  },
  {
   "cell_type": "code",
   "execution_count": 74,
   "metadata": {},
   "outputs": [],
   "source": [
    "x = 50\n",
    "\n",
    "def func(x):\n",
    "     \n",
    "    print(f'x is {x}')\n",
    "    # Locally reassignment on Global variable\n",
    "    x = 'New value'\n",
    "    print(f'I just locally x to {x}')\n",
    "    return x"
   ]
  },
  {
   "cell_type": "code",
   "execution_count": null,
   "metadata": {},
   "outputs": [],
   "source": [
    "func(x)"
   ]
  },
  {
   "cell_type": "code",
   "execution_count": null,
   "metadata": {},
   "outputs": [],
   "source": [
    "print(x)"
   ]
  },
  {
   "cell_type": "markdown",
   "metadata": {},
   "source": [
    "# Project : Game"
   ]
  },
  {
   "cell_type": "code",
   "execution_count": 13,
   "metadata": {},
   "outputs": [],
   "source": [
    "from IPython.display import clear_output\n",
    "def display_board(board):\n",
    "    clear_output()\n",
    "    print('   |   |')\n",
    "    print(' ' + board[7] +  ' | ' + board[8] + ' | ' + board[9])\n",
    "    print('   |   |')\n",
    "    print('----------')\n",
    "    print('   |   |')\n",
    "    print(' ' + board[4] +  ' | ' + board[5] + ' | ' + board[6])\n",
    "    print('   |   |')\n",
    "    print('----------')\n",
    "    print('   |   |')\n",
    "    print(' ' + board[1] +  ' | ' + board[2] + ' | ' + board[3])\n",
    "    print('   |   |')"
   ]
  },
  {
   "cell_type": "code",
   "execution_count": 14,
   "metadata": {},
   "outputs": [
    {
     "name": "stdout",
     "output_type": "stream",
     "text": [
      "   |   |\n",
      " X | O | X\n",
      "   |   |\n",
      "----------\n",
      "   |   |\n",
      " O | X | O\n",
      "   |   |\n",
      "----------\n",
      "   |   |\n",
      " X | O | X\n",
      "   |   |\n"
     ]
    }
   ],
   "source": [
    "test_board = ['#','X','O','X','O','X','O','X','O','X']\n",
    "display_board(test_board)\n",
    "display_board(test_board)"
   ]
  },
  {
   "cell_type": "code",
   "execution_count": 15,
   "metadata": {},
   "outputs": [],
   "source": [
    "def player_input():\n",
    "    marker = ''\n",
    "    \n",
    "    while not (marker == 'X' or marker == 'O'):\n",
    "        marker =input('Player1: Choose X or O: ').upper()\n",
    "    if marker == 'X':\n",
    "        return ('X','O')\n",
    "    else:\n",
    "        return ('O','X')"
   ]
  },
  {
   "cell_type": "code",
   "execution_count": 16,
   "metadata": {},
   "outputs": [
    {
     "name": "stdout",
     "output_type": "stream",
     "text": [
      "Player1: Choose X or O: x\n"
     ]
    }
   ],
   "source": [
    "player1_marker,player2_maker = player_input() "
   ]
  },
  {
   "cell_type": "code",
   "execution_count": 17,
   "metadata": {},
   "outputs": [
    {
     "data": {
      "text/plain": [
       "'X'"
      ]
     },
     "execution_count": 17,
     "metadata": {},
     "output_type": "execute_result"
    }
   ],
   "source": [
    "player1_marker"
   ]
  },
  {
   "cell_type": "code",
   "execution_count": 18,
   "metadata": {},
   "outputs": [],
   "source": [
    "def place_marker(board,marker,position):\n",
    "    board[position] = marker"
   ]
  },
  {
   "cell_type": "code",
   "execution_count": 19,
   "metadata": {},
   "outputs": [
    {
     "data": {
      "text/plain": [
       "['#', 'X', 'O', 'X', 'O', 'X', 'O', 'X', 'O', 'X']"
      ]
     },
     "execution_count": 19,
     "metadata": {},
     "output_type": "execute_result"
    }
   ],
   "source": [
    "test_board"
   ]
  },
  {
   "cell_type": "code",
   "execution_count": 20,
   "metadata": {},
   "outputs": [
    {
     "name": "stdout",
     "output_type": "stream",
     "text": [
      "   |   |\n",
      " X | $ | X\n",
      "   |   |\n",
      "----------\n",
      "   |   |\n",
      " O | X | O\n",
      "   |   |\n",
      "----------\n",
      "   |   |\n",
      " X | O | X\n",
      "   |   |\n"
     ]
    }
   ],
   "source": [
    "place_marker(test_board,'$',8)\n",
    "display_board(test_board)"
   ]
  },
  {
   "cell_type": "code",
   "execution_count": 21,
   "metadata": {},
   "outputs": [],
   "source": [
    "def win_check(board,mark):\n",
    "    return ((board[7] == mark and board[8] == mark and board[9] == mark) or\n",
    "           (board[4] == mark and board[5]== mark and board[6] == mark) or\n",
    "           (board[1] == mark and board[2]== mark and board[3] == mark) or\n",
    "           (board[7] == mark and board[4]== mark and board[1] == mark) or\n",
    "           (board[8] == mark and board[5]== mark and board[2] == mark) or\n",
    "           (board[9] == mark and board[6]== mark and board[3] == mark) or\n",
    "           (board[7] == mark and board[5]== mark and board[3] == mark) or\n",
    "           (board[9] == mark and board[5]== mark and board[1] == mark))    "
   ]
  },
  {
   "cell_type": "code",
   "execution_count": 22,
   "metadata": {},
   "outputs": [
    {
     "name": "stdout",
     "output_type": "stream",
     "text": [
      "   |   |\n",
      " X | $ | X\n",
      "   |   |\n",
      "----------\n",
      "   |   |\n",
      " O | X | O\n",
      "   |   |\n",
      "----------\n",
      "   |   |\n",
      " X | O | X\n",
      "   |   |\n"
     ]
    },
    {
     "data": {
      "text/plain": [
       "True"
      ]
     },
     "execution_count": 22,
     "metadata": {},
     "output_type": "execute_result"
    }
   ],
   "source": [
    "display_board(test_board)\n",
    "win_check(test_board,'X')"
   ]
  },
  {
   "cell_type": "code",
   "execution_count": 23,
   "metadata": {},
   "outputs": [],
   "source": [
    "import random\n",
    "def choose_first():\n",
    "    flip = random.randint(0,1)\n",
    "    if flip == 0:\n",
    "        return 'Player 1'\n",
    "    else:\n",
    "        return 'Player 2'"
   ]
  },
  {
   "cell_type": "code",
   "execution_count": 24,
   "metadata": {},
   "outputs": [],
   "source": [
    "def space_check(board,position):\n",
    "    return board[position] == ' '"
   ]
  },
  {
   "cell_type": "code",
   "execution_count": 25,
   "metadata": {},
   "outputs": [],
   "source": [
    "def full_board_check(board):\n",
    "    for i in range(1,10):\n",
    "        if space_check(board,i):\n",
    "            return False\n",
    "    return True"
   ]
  },
  {
   "cell_type": "code",
   "execution_count": 26,
   "metadata": {},
   "outputs": [],
   "source": [
    "def player_choice(board):\n",
    "    position = 0\n",
    "    while position not in [1,2,3,4,5,6,7,8,9] or not space_check(board,position):\n",
    "        position = int(input('Choice a position: (1-9)'))\n",
    "    return position    "
   ]
  },
  {
   "cell_type": "code",
   "execution_count": 27,
   "metadata": {},
   "outputs": [],
   "source": [
    "def replay():\n",
    "    choice = input('Play again? Enter Yes or No')\n",
    "    return choice == 'Yes'    "
   ]
  },
  {
   "cell_type": "code",
   "execution_count": 28,
   "metadata": {},
   "outputs": [
    {
     "name": "stdout",
     "output_type": "stream",
     "text": [
      "   |   |\n",
      "   | O | X\n",
      "   |   |\n",
      "----------\n",
      "   |   |\n",
      "   |   | X\n",
      "   |   |\n",
      "----------\n",
      "   |   |\n",
      " O | O | X\n",
      "   |   |\n",
      "PLAYER 1 HAS WON!!!\n",
      "Play again? Enter Yes or No4\n"
     ]
    }
   ],
   "source": [
    "print('Welcome to Tic TAC TOE')\n",
    "while True:\n",
    "    \n",
    "    \n",
    "    the_board = [' ']*10\n",
    "    player1_marker,player2_marker = player_input()\n",
    "    \n",
    "    turn = choose_first()\n",
    "    print(turn + 'will go first')\n",
    "    \n",
    "    play_game = input('Ready to Play? y or n?')\n",
    "    \n",
    "    if play_game == 'y':\n",
    "        game_on = True\n",
    "    else:\n",
    "        game_on = False\n",
    "        \n",
    "    while game_on:\n",
    "        if turn == 'Player 1':\n",
    "            display_board(the_board)\n",
    "            position = player_choice(the_board)\n",
    "            \n",
    "            place_marker(the_board,player1_marker,position)\n",
    "            \n",
    "            if win_check(the_board,player1_marker):\n",
    "                display_board(the_board)\n",
    "                print('PLAYER 1 HAS WON!!!')\n",
    "                game_on = False\n",
    "            else:\n",
    "                if full_board_check(the_board):\n",
    "                    display_board(the_board)\n",
    "                    print('TIE GAME!!')\n",
    "                    game_on = False\n",
    "                    \n",
    "                else:\n",
    "                    turn = 'Player 2'\n",
    "        else:\n",
    "            display_board(the_board)\n",
    "            position = player_choice(the_board)\n",
    "            \n",
    "            place_marker(the_board,player2_marker,position)\n",
    "            \n",
    "            if win_check(the_board,player2_marker):\n",
    "                display_board(the_board)\n",
    "                print('PLAYER 2 HAS WON!!!')\n",
    "                game_on = False\n",
    "            else:\n",
    "                if full_board_check(the_board):\n",
    "                    display_board(the_board)\n",
    "                    print('TIE GAME!!')\n",
    "                    game_on = False\n",
    "                else:\n",
    "                    turn = 'Player 1'\n",
    "            \n",
    "            \n",
    "        \n",
    "    \n",
    "    \n",
    "    if not replay():\n",
    "        break"
   ]
  },
  {
   "cell_type": "code",
   "execution_count": null,
   "metadata": {},
   "outputs": [],
   "source": [
    " "
   ]
  },
  {
   "cell_type": "code",
   "execution_count": null,
   "metadata": {},
   "outputs": [],
   "source": []
  },
  {
   "cell_type": "code",
   "execution_count": null,
   "metadata": {},
   "outputs": [],
   "source": []
  },
  {
   "cell_type": "code",
   "execution_count": null,
   "metadata": {},
   "outputs": [],
   "source": []
  },
  {
   "cell_type": "code",
   "execution_count": null,
   "metadata": {},
   "outputs": [],
   "source": []
  },
  {
   "cell_type": "code",
   "execution_count": 99,
   "metadata": {},
   "outputs": [],
   "source": [
    "class Dog():\n",
    "    def __init__(self,breed):\n",
    "        self.breed = breed"
   ]
  },
  {
   "cell_type": "code",
   "execution_count": 101,
   "metadata": {},
   "outputs": [],
   "source": [
    "my_dog = Dog(breed='Lab')"
   ]
  },
  {
   "cell_type": "code",
   "execution_count": 102,
   "metadata": {},
   "outputs": [
    {
     "data": {
      "text/plain": [
       "__main__.Dog"
      ]
     },
     "execution_count": 102,
     "metadata": {},
     "output_type": "execute_result"
    }
   ],
   "source": [
    "type(my_dog)"
   ]
  },
  {
   "cell_type": "code",
   "execution_count": 103,
   "metadata": {},
   "outputs": [
    {
     "data": {
      "text/plain": [
       "'Lab'"
      ]
     },
     "execution_count": 103,
     "metadata": {},
     "output_type": "execute_result"
    }
   ],
   "source": [
    "my_dog.breed"
   ]
  },
  {
   "cell_type": "code",
   "execution_count": null,
   "metadata": {},
   "outputs": [],
   "source": []
  },
  {
   "cell_type": "code",
   "execution_count": null,
   "metadata": {},
   "outputs": [],
   "source": []
  },
  {
   "cell_type": "code",
   "execution_count": null,
   "metadata": {},
   "outputs": [],
   "source": []
  },
  {
   "cell_type": "code",
   "execution_count": null,
   "metadata": {},
   "outputs": [],
   "source": []
  },
  {
   "cell_type": "markdown",
   "metadata": {},
   "source": [
    "# Assignment-1"
   ]
  },
  {
   "cell_type": "code",
   "execution_count": 153,
   "metadata": {},
   "outputs": [
    {
     "data": {
      "text/plain": [
       "{'Books': {'Academics': {'Categories': ['Higher Edu', 'School Books'],\n",
       "   'School Books': ['School Text Books', 'School Guide Books'],\n",
       "   'School Text Books': {'Mathematics': {'Author': 'Sharma',\n",
       "     'Class': 10,\n",
       "     'Price': 400}}}}}"
      ]
     },
     "execution_count": 153,
     "metadata": {},
     "output_type": "execute_result"
    }
   ],
   "source": [
    "f={'Books':{'Academics':{'Categories':['Higher Edu','School Books'],'School Books':['School Text Books','School Guide Books'],\n",
    "                        'School Text Books':{'Mathematics':{'Class':10,\n",
    "                                                            'Author':'Sharma',\n",
    "                                                            'Price':400}\n",
    "                                            }\n",
    "                        }\n",
    "           }\n",
    "  }\n",
    "f"
   ]
  },
  {
   "cell_type": "code",
   "execution_count": 155,
   "metadata": {},
   "outputs": [
    {
     "data": {
      "text/plain": [
       "{'Food': {'Nuts': {'Brand': {'Balji': {'Price': 270, 'Qut': '200g'}}}}}"
      ]
     },
     "execution_count": 155,
     "metadata": {},
     "output_type": "execute_result"
    }
   ],
   "source": [
    "d = {'Food':{'Nuts':{'Brand':{'Balji':{\n",
    "                                          'Qut':'200g',\n",
    "                                         'Price':270\n",
    "}}}}}\n",
    "d"
   ]
  },
  {
   "cell_type": "code",
   "execution_count": null,
   "metadata": {},
   "outputs": [],
   "source": []
  },
  {
   "cell_type": "code",
   "execution_count": 34,
   "metadata": {},
   "outputs": [
    {
     "name": "stdout",
     "output_type": "stream",
     "text": [
      "Enter the Total Number1\n",
      "Enter key1\n",
      "Enter valuename\n"
     ]
    },
    {
     "data": {
      "text/plain": [
       "{'1': 'name'}"
      ]
     },
     "execution_count": 34,
     "metadata": {},
     "output_type": "execute_result"
    }
   ],
   "source": [
    "def addDictData():\n",
    "    d = {}\n",
    "    size = int(input('Enter the Total Number'))\n",
    "    for i in range(size):\n",
    "        key = input('Enter key')\n",
    "        value = input('Enter value')\n",
    "        d[key] = value\n",
    "    return d\n",
    "addDictData()       "
   ]
  },
  {
   "cell_type": "code",
   "execution_count": null,
   "metadata": {},
   "outputs": [],
   "source": [
    "def addSet():\n",
    "    setdata = set{}\n",
    "    size = int(input('enter total ele')\n",
    "     for i in range(size):\n",
    "               ele = input('enter the input')"
   ]
  },
  {
   "cell_type": "code",
   "execution_count": null,
   "metadata": {},
   "outputs": [],
   "source": [
    "def liii():\n",
    "    li = [11,22,33,11,22,66]\n",
    "    for i in li:\n",
    "        print(li.index(i))\n",
    "\n",
    "liii()"
   ]
  },
  {
   "cell_type": "markdown",
   "metadata": {},
   "source": [
    "## With using index function"
   ]
  },
  {
   "cell_type": "code",
   "execution_count": null,
   "metadata": {},
   "outputs": [],
   "source": [
    "def test(li):\n",
    "    ele=int(input(\"Enter the ele\"))\n",
    "    if ele in li:\n",
    "        print(li.index(ele))\n",
    "    else:\n",
    "        print('invalid element')\n",
    "test(li)\n",
    "            "
   ]
  },
  {
   "cell_type": "markdown",
   "metadata": {},
   "source": [
    "## without index function"
   ]
  },
  {
   "cell_type": "code",
   "execution_count": null,
   "metadata": {},
   "outputs": [],
   "source": [
    "def test(li):\n",
    "    ele=int(input(\"Enter the ele\"))\n",
    "    if ele in li:\n",
    "        for i in range(len(li)):\n",
    "            if ele==li[i]:\n",
    "                print(i)\n",
    "                break\n",
    "    else:\n",
    "        print('invalid element')\n",
    "test(li)\n",
    "           "
   ]
  },
  {
   "cell_type": "markdown",
   "metadata": {},
   "source": [
    "## without len function"
   ]
  },
  {
   "cell_type": "code",
   "execution_count": null,
   "metadata": {},
   "outputs": [],
   "source": [
    "def length():\n",
    "    count=0\n",
    "    strr=list(input(\"enter the string\"))\n",
    "    for i in strr:\n",
    "        count=count+1\n",
    "    print(count)\n",
    "        \n",
    "length()"
   ]
  },
  {
   "cell_type": "code",
   "execution_count": 78,
   "metadata": {},
   "outputs": [
    {
     "name": "stdout",
     "output_type": "stream",
     "text": [
      "Enter your name Ram\n",
      "Enter your password ram123\n",
      "Welcome Ram\n"
     ]
    }
   ],
   "source": [
    "userdata = {'Arjun':'arjun123','Ram':'ram123','Ravi':'ravi123'}\n",
    "def login(userdata):\n",
    "    userName = input('Enter your name ')\n",
    "    if userName in userdata:\n",
    "        passWord = input('Enter your password ')\n",
    "        if passWord == userdata[userName]:\n",
    "            print('Welcome',userName)\n",
    "        else:\n",
    "            print('Invalid Password')\n",
    "    else:\n",
    "        print('Invalid UserName')\n",
    "login(userdata)"
   ]
  },
  {
   "cell_type": "code",
   "execution_count": 41,
   "metadata": {},
   "outputs": [
    {
     "name": "stdout",
     "output_type": "stream",
     "text": [
      "Enter Your Name: 55\n",
      "Invalid UserName\n"
     ]
    }
   ],
   "source": [
    "username = input('Enter Your Name: ')\n",
    "if ((len(username)>3 and len(username)<25)) and (username.isalpha()):\n",
    "    print('Valid UserName')\n",
    "else:\n",
    "    print('Invalid UserName')"
   ]
  },
  {
   "cell_type": "code",
   "execution_count": 53,
   "metadata": {},
   "outputs": [
    {
     "name": "stdout",
     "output_type": "stream",
     "text": [
      "Enter the total size of list3\n",
      "Enter total size of inner list1\n",
      "Enter ele list11\n",
      "Enter total size of inner list2\n",
      "Enter ele for inner list22\n",
      "Enter ele for inner list33\n",
      "Enter total size of inner list3\n",
      "Enter ele for inner list44\n",
      "Enter ele for inner list55\n",
      "Enter ele for inner list66\n",
      "updated list value [11, [22, 33], [44, 55, 66]]\n"
     ]
    }
   ],
   "source": [
    "def createlist():\n",
    "    listdata = []\n",
    "    #[11,[22,33],[44,55,66]]\n",
    "    size = int(input('Enter the total size of list'))\n",
    "    for i in range(size):\n",
    "        n = int(input('Enter total size of inner list'))\n",
    "        if n > 1:\n",
    "            innerlist = []\n",
    "            for i in range(n):\n",
    "                ele = int(input('Enter ele for inner list'))\n",
    "                innerlist.append(ele)\n",
    "            listdata.append(innerlist)\n",
    "        else:\n",
    "            ele = int(input('Enter ele list'))\n",
    "            listdata.append(ele)\n",
    "    print('updated list value',listdata)\n",
    "createlist()    "
   ]
  },
  {
   "cell_type": "code",
   "execution_count": 49,
   "metadata": {},
   "outputs": [
    {
     "data": {
      "text/plain": [
       "3"
      ]
     },
     "execution_count": 49,
     "metadata": {},
     "output_type": "execute_result"
    }
   ],
   "source": [
    "s='a am ans'\n",
    "s.count('a')"
   ]
  },
  {
   "cell_type": "code",
   "execution_count": 51,
   "metadata": {},
   "outputs": [
    {
     "data": {
      "text/plain": [
       "2"
      ]
     },
     "execution_count": 51,
     "metadata": {},
     "output_type": "execute_result"
    }
   ],
   "source": [
    "li = [11,22,33,44,55,22,22,11]\n",
    "li.count(11)"
   ]
  },
  {
   "cell_type": "code",
   "execution_count": 60,
   "metadata": {},
   "outputs": [
    {
     "data": {
      "text/plain": [
       "3"
      ]
     },
     "execution_count": 60,
     "metadata": {},
     "output_type": "execute_result"
    }
   ],
   "source": [
    "li = [11,22,3,34,4,4,4]\n",
    "def countdata(ele):\n",
    "    count = 0\n",
    "    if ele in li:\n",
    "        for i in range(len(li)):\n",
    "            if ele == li[i]:\n",
    "                count = count + 1\n",
    "    return count\n",
    "countdata(4)"
   ]
  },
  {
   "cell_type": "code",
   "execution_count": 61,
   "metadata": {},
   "outputs": [
    {
     "name": "stdout",
     "output_type": "stream",
     "text": [
      "updated dict data {'hello': 2, 'python': 1, 'hi': 1, 'yms': 2}\n"
     ]
    }
   ],
   "source": [
    "def dictdata():\n",
    "    listdata = ['hello','python','hi','hello','yms','yms']\n",
    "    d = {}\n",
    "    for i in listdata:\n",
    "        if i not in d:\n",
    "            d[i] =listdata.count(i)\n",
    "    print('updated dict data',d)        \n",
    "dictdata()            "
   ]
  },
  {
   "cell_type": "code",
   "execution_count": 64,
   "metadata": {},
   "outputs": [
    {
     "data": {
      "text/plain": [
       "'I AM A DATA SCIENTIST'"
      ]
     },
     "execution_count": 64,
     "metadata": {},
     "output_type": "execute_result"
    }
   ],
   "source": [
    "s= 'I am a Data Scientist'\n",
    "s.upper()"
   ]
  },
  {
   "cell_type": "markdown",
   "metadata": {},
   "source": [
    "# Login Validation"
   ]
  },
  {
   "cell_type": "code",
   "execution_count": 162,
   "metadata": {},
   "outputs": [
    {
     "name": "stdout",
     "output_type": "stream",
     "text": [
      "Enter the total number3\n",
      "Enter the usernameram\n",
      "Enter the passwordram123\n",
      "updated user details\n",
      "Enter the usernameraj\n",
      "Enter the passwordraj123\n",
      "updated user details\n",
      "Enter the usernamejohn\n",
      "Enter the passwordjohn123\n",
      "updated user details\n"
     ]
    },
    {
     "data": {
      "text/plain": [
       "{'john': 'john123', 'raj': 'raj123', 'ram': 'ram123'}"
      ]
     },
     "execution_count": 162,
     "metadata": {},
     "output_type": "execute_result"
    }
   ],
   "source": [
    "def createuser():\n",
    "    d = {}\n",
    "    size = int(input('Enter the total number'))\n",
    "    for i in range(size):\n",
    "        username = input('Enter the username')\n",
    "        password = input('Enter the password')\n",
    "        d[username] = password\n",
    "        print('updated user details')\n",
    "    return d\n",
    "createuser()    "
   ]
  },
  {
   "cell_type": "code",
   "execution_count": 167,
   "metadata": {},
   "outputs": [
    {
     "name": "stdout",
     "output_type": "stream",
     "text": [
      "Enter the total number1\n",
      "Enter the usernameraj\n",
      "Enter the passwordraj123\n",
      "updated user details\n",
      "Enter usernameraj\n",
      "Enter your passwordraj123\n",
      "Welcome raj\n"
     ]
    }
   ],
   "source": [
    "def login():\n",
    "    userdata = createuser()\n",
    "    username = input('Enter username')\n",
    "    if username in userdata:\n",
    "        password = input('Enter your password')\n",
    "        if password == userdata[username]:\n",
    "            print('Welcome',username)\n",
    "        else:\n",
    "            print('Invalid User')\n",
    "    else:\n",
    "        print('Invalid user')\n",
    "login()"
   ]
  },
  {
   "cell_type": "markdown",
   "metadata": {},
   "source": [
    "# Assingment-2"
   ]
  },
  {
   "cell_type": "markdown",
   "metadata": {},
   "source": [
    "# Flipkart  User Login "
   ]
  },
  {
   "cell_type": "code",
   "execution_count": 7,
   "metadata": {},
   "outputs": [
    {
     "name": "stdout",
     "output_type": "stream",
     "text": [
      "Enter Emailram@gmail.com\n",
      "Enter Passwordram123\n",
      "Welcome to Flipkart ram@gmail.com\n",
      "Login Successfull\n",
      "Select Category of Product you want\n",
      "dict_keys(['Electronics', 'Fashion'])\n",
      "Enter Product Category nameElectronics\n",
      "dict_keys(['Mobiles', \"TV's\", 'Laptops'])\n",
      "Enter the Product You wantMobiles\n",
      "dict_keys(['Iphone 11 Pro', 'MI Note 5', 'One Plus 7', 'Buy'])\n",
      "Enter your desired productIphone 11 Pro\n",
      "{'Colour': ['White', 'Black', 'Gold'], 'size': '6.7 inch', 'Main Camera': '64 MP', 'Price': 121000}\n"
     ]
    }
   ],
   "source": [
    "userdata = {'ram@gmail.com':'ram123','raj@gmail.com':'raj123','ravi@gmail.com':'ravi123'}\n",
    "productlist = {'Electronics':{'Mobiles':{'Iphone 11 Pro':{'Colour':['White','Black','Gold'],'size':'6.7 inch','Main Camera':'64 MP','Price':121000},\n",
    "                                        'MI Note 5':{'Colour':['White','Black','Gold'],'size':'6.7 inch','Main Camera':'64 MP','Price':14000}, \n",
    "                                        'One Plus 7':{'Colour':['White','Black','Gold'],'size':'6.7 inch','Main Camera':'64 MP','Price':40000},'Buy':{'Buy':'Buy','Add to Cart':'Add to Cart'}},\n",
    "                                        \"TV's\":{'Sony':{'Size':'55 inch','Price':150000,'colour':'Black','Type':'Android Smart','Screen':'LED'},\n",
    "                                        'LG':{'Size':'50 inch','Price':140000,'colour':'Black','Type':'Android Smart','Screen':'LED'}},\n",
    "                                        'Laptops':{'MacBook Pro':{'Colour':'Grey','Size':'15 inch','Price':150000,'Storage':'512 GB'},\n",
    "                                          'HP':{'Colour':'Black','Size':'16 inch','Price':60000,'Storage':'1 TB'}}},\n",
    "                                         'Fashion':{'Men':{'Clothing':[\"Tshirt's\",'Jeans','Trouser','Shirts','Inner','Casuals']},\n",
    "                                                   'Women':{'Clothing':['Tops',\"Tshirt's\",'Jeans','Shirts','Troser','Casuals']}}}\n",
    "\n",
    "\n",
    "def login():\n",
    "    usr = input('Enter Email')\n",
    "    pwd = input('Enter Password')\n",
    "    if usr in userdata:\n",
    "        if userdata[usr] == pwd:\n",
    "            print('Welcome to Flipkart',usr)\n",
    "            print('Login Successfull')\n",
    "            product()\n",
    "        else:\n",
    "            print('Invalid Password')\n",
    "            print('please check your username and password')\n",
    "    else:\n",
    "        print('Your Account not Registered')\n",
    "        print('Please Signup')\n",
    "        \n",
    "\n",
    "def product():\n",
    "    print('Select Category of Product you want')\n",
    "    print(productlist.keys())\n",
    "    cate = input('Enter Product Category name')\n",
    "    if cate in productlist:\n",
    "        print(productlist[cate].keys())\n",
    "        product = input('Enter the Product You want')\n",
    "        if product in productlist[cate]:\n",
    "            print(productlist[cate][product].keys())\n",
    "            finalprod = input('Enter your desired product')\n",
    "            if finalprod in productlist[cate][product]:\n",
    "                print(productlist[cate][product][finalprod])\n",
    "            else:\n",
    "                print('You entered product is not matched')\n",
    "        else:\n",
    "            print('You entered product is not matched')\n",
    "    else:\n",
    "        print('You entered product is not matched')\n",
    "        \n",
    "\n",
    "login()           "
   ]
  },
  {
   "cell_type": "markdown",
   "metadata": {},
   "source": [
    "# Flipkart Admin Login"
   ]
  },
  {
   "cell_type": "code",
   "execution_count": 87,
   "metadata": {},
   "outputs": [
    {
     "name": "stdout",
     "output_type": "stream",
     "text": [
      "Enter Emailjohn@gmail.com\n",
      "Enter Passwordjohn123\n",
      "Welcome to Flipkart john@gmail.com\n",
      "Login Successfull\n",
      "Select Category of Product you want\n",
      "dict_keys(['Electronics', 'Fashion'])\n",
      "Enter the Total Number of Products you want to Add1\n",
      "Enter Category Namesports\n",
      "Enter Sub-category Namecricket\n",
      "dict_keys(['Electronics', 'Fashion', 'sports'])\n",
      "Enter Product Category namecricket\n",
      "You entered product is not matched\n"
     ]
    }
   ],
   "source": [
    "admindata = {'john@gmail.com':'john123','david@gmail.com':'david123','rock@gmail.com':'rock123'}\n",
    "productlist = {'Electronics':{'Mobiles':{'Iphone 11 Pro':{'Colour':['White','Black','Gold'],'size':'6.7 inch','Main Camera':'64 MP','Price':121000},\n",
    "                                        'MI Note 5':{'Colour':['White','Black','Gold'],'size':'6.7 inch','Main Camera':'64 MP','Price':14000}, \n",
    "                                        'One Plus 7':{'Colour':['White','Black','Gold'],'size':'6.7 inch','Main Camera':'64 MP','Price':40000}},\n",
    "                                        \"TV's\":{'Sony':{'Size':'55 inch','Price':150000,'colour':'Black','Type':'Android Smart','Screen':'LED'},\n",
    "                                        'LG':{'Size':'50 inch','Price':140000,'colour':'Black','Type':'Android Smart','Screen':'LED'}},\n",
    "                                        'Laptops':{'MacBook Pro':{'Colour':'Grey','Size':'15 inch','Price':150000,'Storage':'512 GB'},\n",
    "                                          'HP':{'Colour':'Black','Size':'16 inch','Price':60000,'Storage':'1 TB'}}},\n",
    "                                         'Fashion':{'Men':{'Clothing':[\"Tshirt's\",'Jeans','Trouser','Shirts','Inner','Casuals']},\n",
    "                                                   'Women':{'Clothing':['Tops',\"Tshirt's\",'Jeans','Shirts','Troser','Casuals']}}}\n",
    "\n",
    "\n",
    "\n",
    "\n",
    "\n",
    "def login():\n",
    "    adm = input('Enter Email')\n",
    "    pwd = input('Enter Password')\n",
    "    if adm in admindata:\n",
    "        if admindata[adm] == pwd:\n",
    "            print('Welcome to Flipkart',adm)\n",
    "            print('Login Successfull')\n",
    "            product()\n",
    "        else:\n",
    "            print('Invalid Password')\n",
    "            print('please check your admin Name and password')\n",
    "    else:\n",
    "        print('Your Account not Registered')\n",
    "        print('Please Signup')\n",
    "        \n",
    "\n",
    "def product():\n",
    "    print('Select Category of Product you want')\n",
    "    print(productlist.keys())\n",
    "    addDictData()\n",
    "    cate = input('Enter Product Category name')\n",
    "    if cate in productlist:\n",
    "        print(productlist[cate].keys())\n",
    "        product = input('Enter the Product You want')\n",
    "        if product in productlist[cate]:\n",
    "            print(productlist[cate][product].keys())\n",
    "            finalprod = input('Enter your desired product')\n",
    "            if finalprod in productlist[cate][product]:\n",
    "                print(productlist[cate][product][finalprod])\n",
    "            else:\n",
    "                print('You entered product is not matched')\n",
    "        else:\n",
    "            print('You entered product is not matched')\n",
    "    else:\n",
    "        print('You entered product is not matched')\n",
    "        \n",
    "        \n",
    "def addDictData():\n",
    "    d = {}\n",
    "    size = int(input('Enter the Total Number of Products you want to Add'))\n",
    "    for i in range(size):\n",
    "        key = input('Enter Category Name')\n",
    "        value = input('Enter Sub-category Name')\n",
    "        productlist[key] = value\n",
    "    \n",
    "    \n",
    "        \n",
    "    \n",
    "    print(productlist.keys())\n",
    "\n",
    "\n",
    "\n",
    "login()"
   ]
  },
  {
   "cell_type": "code",
   "execution_count": 85,
   "metadata": {},
   "outputs": [
    {
     "name": "stdout",
     "output_type": "stream",
     "text": [
      "key? sport\n",
      "value? 'cricket':{'bat':{'Brand':{'MRF':{'Price':39900,'length':'40 inch'}}}}\n",
      "{'add': 'Mum', 'no': 122, 'sport': \"'cricket':{'bat':{'Brand':{'MRF':{'Price':39900,'length':'40 inch'}}}}\"}\n"
     ]
    }
   ],
   "source": [
    "di = {'add':'Mum','no':122,'sport':{'cricket':{'bat':{'price':12345,\n",
    "                                                     'length':'30 inch'}}}}\n",
    "key = input('key? ')\n",
    "value = input('value? ')\n",
    "di[key] = value\n",
    "print(di)"
   ]
  },
  {
   "cell_type": "code",
   "execution_count": 65,
   "metadata": {},
   "outputs": [
    {
     "name": "stdout",
     "output_type": "stream",
     "text": [
      "{'Tim': 18, 'Charlie': 12, 'Tiffany': 22, 'Robert': 25, 'Sarah': 9}\n"
     ]
    }
   ],
   "source": [
    "Dict = {'Tim': 18,'Charlie':12,'Tiffany':22,'Robert':25}\n",
    "Dict.update({\"Sarah\":9})\n",
    "print(Dict)"
   ]
  },
  {
   "cell_type": "code",
   "execution_count": 57,
   "metadata": {},
   "outputs": [
    {
     "data": {
      "text/plain": [
       "{'Electronics': {'Laptops': {'HP': {'Colour': 'Black',\n",
       "    'Price': 60000,\n",
       "    'Size': '16 inch',\n",
       "    'Storage': '1 TB'},\n",
       "   'MacBook Pro': {'Colour': 'Grey',\n",
       "    'Price': 150000,\n",
       "    'Size': '15 inch',\n",
       "    'Storage': '512 GB'}},\n",
       "  'Mobiles': {'Iphone 11 Pro': {'Colour': ['White', 'Black', 'Gold'],\n",
       "    'Main Camera': '64 MP',\n",
       "    'Price': 121000,\n",
       "    'size': '6.7 inch'},\n",
       "   'MI Note 5': {'Colour': ['White', 'Black', 'Gold'],\n",
       "    'Main Camera': '64 MP',\n",
       "    'Price': 14000,\n",
       "    'size': '6.7 inch'},\n",
       "   'One Plus 7': {'Colour': ['White', 'Black', 'Gold'],\n",
       "    'Main Camera': '64 MP',\n",
       "    'Price': 40000,\n",
       "    'size': '6.7 inch'}},\n",
       "  \"TV's\": {'LG': {'Price': 140000,\n",
       "    'Screen': 'LED',\n",
       "    'Size': '50 inch',\n",
       "    'Type': 'Android Smart',\n",
       "    'colour': 'Black'},\n",
       "   'Sony': {'Price': 150000,\n",
       "    'Screen': 'LED',\n",
       "    'Size': '55 inch',\n",
       "    'Type': 'Android Smart',\n",
       "    'colour': 'Black'}}},\n",
       " 'Fashion': {'Men': {'Clothing': [\"Tshirt's\",\n",
       "    'Jeans',\n",
       "    'Trouser',\n",
       "    'Shirts',\n",
       "    'Inner',\n",
       "    'Casuals']},\n",
       "  'Women': {'Clothing': ['Tops',\n",
       "    \"Tshirt's\",\n",
       "    'Jeans',\n",
       "    'Shirts',\n",
       "    'Troser',\n",
       "    'Casuals']}},\n",
       " 'sports': 'cricket'}"
      ]
     },
     "execution_count": 57,
     "metadata": {},
     "output_type": "execute_result"
    }
   ],
   "source": [
    "productlist"
   ]
  },
  {
   "cell_type": "code",
   "execution_count": 59,
   "metadata": {},
   "outputs": [
    {
     "data": {
      "text/plain": [
       "{'sports': {'cricket': {'bat': 'mrf'}}}"
      ]
     },
     "execution_count": 59,
     "metadata": {},
     "output_type": "execute_result"
    }
   ],
   "source": [
    "a = {'sports':{'cricket':{'bat':'mrf'}}}\n",
    "a"
   ]
  },
  {
   "cell_type": "code",
   "execution_count": 63,
   "metadata": {},
   "outputs": [
    {
     "data": {
      "text/plain": [
       "{'bat': 'mrf'}"
      ]
     },
     "execution_count": 63,
     "metadata": {},
     "output_type": "execute_result"
    }
   ],
   "source": [
    "a['sports']['cricket']"
   ]
  },
  {
   "cell_type": "code",
   "execution_count": 53,
   "metadata": {},
   "outputs": [
    {
     "name": "stdout",
     "output_type": "stream",
     "text": [
      "Enter the Total Number2\n",
      "Enter keyname\n",
      "Enter valueram\n",
      "Enter keyaddre\n",
      "Enter valuebagr\n"
     ]
    },
    {
     "data": {
      "text/plain": [
       "{'addre': 'bagr', 'name': 'ram'}"
      ]
     },
     "execution_count": 53,
     "metadata": {},
     "output_type": "execute_result"
    }
   ],
   "source": [
    "def addDictData():\n",
    "    d = {}\n",
    "    size = int(input('Enter the Total Number'))\n",
    "    for i in range(size):\n",
    "        key = input('Enter key')\n",
    "        value = input('Enter value')\n",
    "        d[key] = value\n",
    "    return d\n",
    "addDictData() "
   ]
  },
  {
   "cell_type": "markdown",
   "metadata": {},
   "source": [
    "# Assignment-3"
   ]
  },
  {
   "cell_type": "markdown",
   "metadata": {},
   "source": [
    "# Fibonacci Series Method 1"
   ]
  },
  {
   "cell_type": "code",
   "execution_count": 11,
   "metadata": {},
   "outputs": [
    {
     "name": "stdout",
     "output_type": "stream",
     "text": [
      "21\n"
     ]
    }
   ],
   "source": [
    "def fibonacci(n):\n",
    "    if n<0:\n",
    "        print('Invalid input')\n",
    "    elif n==1:\n",
    "        return 0\n",
    "    elif n==2:\n",
    "        return 1\n",
    "    else:\n",
    "        return fibonacci(n-1) + fibonacci(n-2)\n",
    "print(fibonacci(9))"
   ]
  },
  {
   "cell_type": "markdown",
   "metadata": {},
   "source": [
    "# Fibonacci Series Method 2"
   ]
  },
  {
   "cell_type": "code",
   "execution_count": null,
   "metadata": {},
   "outputs": [],
   "source": [
    "def fibonacci(n):\n",
    "    a = 0\n",
    "    b = 1\n",
    "    if n < 0:\n",
    "        print('Invalid Input')\n",
    "    elif n == 0:\n",
    "        return a\n",
    "    elif n == 1:\n",
    "        return b\n",
    "    else:\n",
    "        for i in range(2,n):\n",
    "            c = a + b\n",
    "            a = b\n",
    "            b = c\n",
    "        return b\n",
    "print(fibonacci(9))"
   ]
  },
  {
   "cell_type": "markdown",
   "metadata": {},
   "source": [
    "# Number is Prime or Not"
   ]
  },
  {
   "cell_type": "code",
   "execution_count": null,
   "metadata": {},
   "outputs": [],
   "source": [
    "number = int(input('Enter a Number: '))\n",
    "if number > 1:\n",
    "    for i in range(2,number):\n",
    "        if (number%i) == 0:\n",
    "            print(number, 'is not a Prime Number')\n",
    "            break\n",
    "    else:\n",
    "        print(number,'is a Prime Number')\n",
    "else:\n",
    "    print(number, 'is not a Prime Number')"
   ]
  },
  {
   "cell_type": "code",
   "execution_count": null,
   "metadata": {},
   "outputs": [],
   "source": [
    "number = int(input('Enter a number: '))\n",
    "if number > 1:\n",
    "    for i in range(2,number):\n",
    "        if (number%i) == 0:\n",
    "            print(number,'is not a Prime Number')\n",
    "            break\n",
    "    else:\n",
    "            print(number,'is a Prime Number')\n",
    "else:\n",
    "    print(number,'is not a Prime Number')"
   ]
  },
  {
   "cell_type": "markdown",
   "metadata": {},
   "source": [
    "# Palindrome Number"
   ]
  },
  {
   "cell_type": "code",
   "execution_count": 3,
   "metadata": {},
   "outputs": [
    {
     "name": "stdout",
     "output_type": "stream",
     "text": [
      "Enter a Number : 3433\n",
      "Is number is palodrome ?: False\n"
     ]
    }
   ],
   "source": [
    "number = input('Enter a Number : ')\n",
    "rev = (number) == (number)[::-1]\n",
    "print('Is number is palodrome ?: '+str(rev))"
   ]
  },
  {
   "cell_type": "markdown",
   "metadata": {},
   "source": [
    "# Palindrome String"
   ]
  },
  {
   "cell_type": "code",
   "execution_count": 14,
   "metadata": {},
   "outputs": [
    {
     "name": "stdout",
     "output_type": "stream",
     "text": [
      "Enter a String : ioh\n",
      "Is string is palodrome ? False\n"
     ]
    }
   ],
   "source": [
    "string = input('Enter a String : ')\n",
    "rev = (string) == (string)[::-1]\n",
    "print('Is string is palodrome ?', rev)"
   ]
  },
  {
   "cell_type": "markdown",
   "metadata": {},
   "source": [
    "# Armstrong Number"
   ]
  },
  {
   "cell_type": "code",
   "execution_count": 10,
   "metadata": {},
   "outputs": [
    {
     "name": "stdout",
     "output_type": "stream",
     "text": [
      "Enter a number: 153\n",
      "153 is a Armstrong Number\n"
     ]
    }
   ],
   "source": [
    "num = int(input('Enter a number: '))\n",
    "sum = 0\n",
    "temp = num\n",
    "while temp >0:\n",
    "    digit= temp % 10\n",
    "    sum += digit **3\n",
    "    temp //= 10\n",
    "    \n",
    "if num == sum:\n",
    "    print(num, 'is a Armstrong Number')\n",
    "else:\n",
    "    print(num, 'is not a Armstrong Number')    "
   ]
  },
  {
   "cell_type": "markdown",
   "metadata": {},
   "source": [
    "# Factorial of a Number\n",
    "# Method 1"
   ]
  },
  {
   "cell_type": "code",
   "execution_count": 28,
   "metadata": {},
   "outputs": [
    {
     "name": "stdout",
     "output_type": "stream",
     "text": [
      "Enter a number : 5\n",
      "The factorial of 5 is 120\n"
     ]
    }
   ],
   "source": [
    "num = int(input('Enter a number : '))\n",
    "factorial = 1\n",
    "if num < 0:\n",
    "    print('Enter a Positive number')\n",
    "elif num == 0:\n",
    "    print('The factorial of 0 is 1')\n",
    "else:\n",
    "    for i in range(1,num+1):\n",
    "        factorial = factorial * i\n",
    "    print('The factorial of',num,'is',factorial)"
   ]
  },
  {
   "cell_type": "markdown",
   "metadata": {},
   "source": [
    "# Method 2"
   ]
  },
  {
   "cell_type": "code",
   "execution_count": 27,
   "metadata": {},
   "outputs": [
    {
     "data": {
      "text/plain": [
       "120"
      ]
     },
     "execution_count": 27,
     "metadata": {},
     "output_type": "execute_result"
    }
   ],
   "source": [
    "def factorial(num):\n",
    "    fact = 1\n",
    "    if num == 0 or num ==1:\n",
    "        return fact\n",
    "    else:\n",
    "        for i in range(1, num+1):\n",
    "            fact = fact * i\n",
    "        return fact\n",
    "factorial(5)        "
   ]
  },
  {
   "cell_type": "markdown",
   "metadata": {},
   "source": [
    "# Conversion of Lower to Upper & Vice versa"
   ]
  },
  {
   "cell_type": "code",
   "execution_count": null,
   "metadata": {},
   "outputs": [],
   "source": []
  },
  {
   "cell_type": "code",
   "execution_count": 17,
   "metadata": {},
   "outputs": [
    {
     "data": {
      "text/plain": [
       "'a'"
      ]
     },
     "execution_count": 17,
     "metadata": {},
     "output_type": "execute_result"
    }
   ],
   "source": [
    "c = 'A'\n",
    "c1 = chr(ord(c)+32)\n",
    "c1"
   ]
  },
  {
   "cell_type": "code",
   "execution_count": 138,
   "metadata": {},
   "outputs": [
    {
     "data": {
      "text/plain": [
       "'A'"
      ]
     },
     "execution_count": 138,
     "metadata": {},
     "output_type": "execute_result"
    }
   ],
   "source": [
    "c = 'a'\n",
    "c1 = chr(ord(c)-32)\n",
    "c1"
   ]
  },
  {
   "cell_type": "markdown",
   "metadata": {},
   "source": [
    "# Sum of Digits"
   ]
  },
  {
   "cell_type": "code",
   "execution_count": 169,
   "metadata": {},
   "outputs": [
    {
     "data": {
      "text/plain": [
       "8"
      ]
     },
     "execution_count": 169,
     "metadata": {},
     "output_type": "execute_result"
    }
   ],
   "source": [
    "def sum_digits(n):\n",
    "    s = 0\n",
    "    while n:\n",
    "        s += n % 10\n",
    "        n //= 10\n",
    "    return s\n",
    "sum_digits(2222)"
   ]
  },
  {
   "cell_type": "code",
   "execution_count": 185,
   "metadata": {},
   "outputs": [
    {
     "data": {
      "text/plain": [
       "9"
      ]
     },
     "execution_count": 185,
     "metadata": {},
     "output_type": "execute_result"
    }
   ],
   "source": [
    "def sum_digits3(n):\n",
    "    r = 0\n",
    "    while n:\n",
    "        r, n = r + n % 10, n // 10\n",
    "    return r\n",
    "sum_digits3(1233)"
   ]
  },
  {
   "cell_type": "markdown",
   "metadata": {},
   "source": [
    "# Reverse a Number"
   ]
  },
  {
   "cell_type": "code",
   "execution_count": 211,
   "metadata": {},
   "outputs": [
    {
     "name": "stdout",
     "output_type": "stream",
     "text": [
      "Enter the number564\n",
      "465\n"
     ]
    }
   ],
   "source": [
    "n = int(input('Enter the number')) \n",
    "rev = 0\n",
    "\n",
    "while(n > 0):\n",
    "    a = n % 10\n",
    "    rev = rev * 10 + a \n",
    "    n = n // 10\n",
    "\n",
    "print(rev) "
   ]
  },
  {
   "cell_type": "code",
   "execution_count": 217,
   "metadata": {},
   "outputs": [
    {
     "name": "stdout",
     "output_type": "stream",
     "text": [
      "Please Enter any Number: 121344\n",
      "Reverse of entered number is = 443121\n"
     ]
    }
   ],
   "source": [
    "Num = int(input(\"Please Enter any Number: \"))    \n",
    "Rev = 0    \n",
    "while(Num > 0):    \n",
    "    Reminder = Num %10    \n",
    "    Rev = (Rev *10) + Reminder    \n",
    "    Num = Num //10    \n",
    "     \n",
    "print(\"Reverse of entered number is = %d\" %Rev)"
   ]
  },
  {
   "cell_type": "markdown",
   "metadata": {},
   "source": [
    "# Swap Two Numbers without using third Variable"
   ]
  },
  {
   "cell_type": "code",
   "execution_count": 212,
   "metadata": {},
   "outputs": [
    {
     "name": "stdout",
     "output_type": "stream",
     "text": [
      "x 10\n",
      "y 5\n"
     ]
    }
   ],
   "source": [
    "x = 5\n",
    "y = 10\n",
    "x,y = y,x\n",
    "print('x',x)\n",
    "print('y',y)"
   ]
  },
  {
   "cell_type": "markdown",
   "metadata": {},
   "source": [
    "# Even & Odd Number"
   ]
  },
  {
   "cell_type": "code",
   "execution_count": 215,
   "metadata": {},
   "outputs": [
    {
     "name": "stdout",
     "output_type": "stream",
     "text": [
      "Enter a number4\n",
      "4 is a Even Number\n"
     ]
    }
   ],
   "source": [
    "num = int(input('Enter a number'))\n",
    "if num % 2 == 0:\n",
    "    print(num,'is a Even Number')\n",
    "else:\n",
    "    print(num,'is a Odd Number')"
   ]
  },
  {
   "cell_type": "markdown",
   "metadata": {},
   "source": [
    "# Functions\n",
    "* It is a set of instructions which is enclosed within a block.\n",
    "* by using 'def' keyword we can define a fucntion by giving a valid name to the block.\n",
    "* If we want to write all the set of instructions eithin a fucntion, we need to leave 1 tab space after the colon which   indicates the starting of the specified fucntion.\n",
    "* If we want to execute any instructions which is preset inside the function, we need a fucntion call."
   ]
  },
  {
   "cell_type": "markdown",
   "metadata": {},
   "source": [
    "- Before creating a fucntion, we cannot call the fucntion.\n",
    "- If we try to invoke the fucntion which is not defined, it throws NameError.\n",
    "- Any data which is present inside the function cannot be accessed outside the fucntion.\n",
    "- In a single module we can create 'n' number of functions.\n",
    "- We can call the function from one function to another.\n",
    "- We can create nested function."
   ]
  },
  {
   "cell_type": "markdown",
   "metadata": {},
   "source": [
    "# Types of Functions\n",
    "\n",
    "- Functions with arguments and with return type.\n",
    "- Functions with arguments and without return type.\n",
    "- Functions without arguments and with return type.\n",
    "- Functions without arguments and without return type."
   ]
  },
  {
   "cell_type": "markdown",
   "metadata": {},
   "source": [
    "## Note\n",
    "- we can utilize only the function name to print the address of the fucntion where it is defined."
   ]
  },
  {
   "cell_type": "markdown",
   "metadata": {},
   "source": [
    "# Functions with Argument & without Return Type\n",
    "\n",
    "- It is function which takes arguments and performs the operations and it will not return any data to the caller/invoking function.\n",
    "- The number of arguments and parameters should be equal.\n",
    "- We can pass any no of arguments to the function."
   ]
  },
  {
   "cell_type": "code",
   "execution_count": 182,
   "metadata": {},
   "outputs": [
    {
     "name": "stdout",
     "output_type": "stream",
     "text": [
      "data in arg1 ram\n",
      "data in arg2 66\n"
     ]
    }
   ],
   "source": [
    "def display(arg1,arg2):\n",
    "    print('data in arg1',arg1)\n",
    "    print('data in arg2',arg2)\n",
    "display('ram',66)"
   ]
  },
  {
   "cell_type": "markdown",
   "metadata": {},
   "source": [
    "## Passing different types of arguments to the functions\n",
    "\n",
    "- sending default arguments\n",
    "- sending variable length arguments.\n",
    "- sending keyword arguments."
   ]
  },
  {
   "cell_type": "markdown",
   "metadata": {},
   "source": [
    "# Sending Default Argument"
   ]
  },
  {
   "cell_type": "code",
   "execution_count": 191,
   "metadata": {},
   "outputs": [
    {
     "name": "stdout",
     "output_type": "stream",
     "text": [
      "ram\n",
      "15000\n",
      "9999\n",
      "None\n",
      "__________________________________________________\n",
      "raj\n",
      "286437\n",
      "6722\n",
      "8191\n",
      "__________________________________________________\n"
     ]
    }
   ],
   "source": [
    "def empDetails(name,sal,Phone,Phone2=None):\n",
    "    print(name)\n",
    "    print(sal)\n",
    "    print(Phone)\n",
    "    print(Phone2)\n",
    "    print('_'*50)\n",
    "empDetails('ram',15000,9999)\n",
    "empDetails('raj',286437,6722,8191)"
   ]
  },
  {
   "cell_type": "markdown",
   "metadata": {},
   "source": [
    "# Sending Variable Length"
   ]
  },
  {
   "cell_type": "code",
   "execution_count": 195,
   "metadata": {},
   "outputs": [
    {
     "name": "stdout",
     "output_type": "stream",
     "text": [
      "Type of args <class 'tuple'> ('John', 22, 'Mumbai')\n",
      "Name is John\n",
      "Age is 22\n",
      "Address is Mumbai\n"
     ]
    }
   ],
   "source": [
    "def empDetails(*args):\n",
    "    print('Type of args',type(args),args)\n",
    "    print('Name is',args[0])\n",
    "    print('Age is',args[1])\n",
    "    print('Address is',args[2])\n",
    "empDetails('John',22,'Mumbai')"
   ]
  },
  {
   "cell_type": "markdown",
   "metadata": {},
   "source": [
    "# Sending Keyword Argument"
   ]
  },
  {
   "cell_type": "code",
   "execution_count": 201,
   "metadata": {},
   "outputs": [
    {
     "name": "stdout",
     "output_type": "stream",
     "text": [
      "Type of kwargs <class 'dict'>\n",
      "{'name': 'raj', 'age': 22}\n",
      "Name is raj\n",
      "Age is 22\n"
     ]
    }
   ],
   "source": [
    "def empDetails(**kwargs):\n",
    "    print('Type of kwargs',type(kwargs))\n",
    "    print(kwargs)\n",
    "    print('Name is',kwargs['name'])\n",
    "    print('Age is',kwargs['age'])\n",
    "empDetails(name='raj',age=22)"
   ]
  },
  {
   "cell_type": "code",
   "execution_count": 203,
   "metadata": {},
   "outputs": [
    {
     "name": "stdout",
     "output_type": "stream",
     "text": [
      "{'name': 'raj', 'age': 21, 'add': 'asg'}\n",
      "(3, 4, 5, 6, 7, 'hello')\n"
     ]
    }
   ],
   "source": [
    "def empDetails(arg1,arg2,*args,**kwargs):\n",
    "    print(kwargs)\n",
    "    print(args)\n",
    "empDetails(11,22,3,4,5,6,7,'hello',name='raj',age=21,add='asg')"
   ]
  },
  {
   "cell_type": "markdown",
   "metadata": {},
   "source": [
    "# Bubble Sort"
   ]
  },
  {
   "cell_type": "code",
   "execution_count": 30,
   "metadata": {},
   "outputs": [
    {
     "name": "stdout",
     "output_type": "stream",
     "text": [
      "[2, 3, 4, 11, 22, 33]\n"
     ]
    }
   ],
   "source": [
    "listdata = [11,22,33,2,3,4]\n",
    "for i in range(len(listdata)):\n",
    "    for j in range(len(listdata)-i-1):\n",
    "        if listdata[j] > listdata[j+1]:\n",
    "            listdata[j],listdata[j+1] = listdata[j+1],listdata[j]\n",
    "print(listdata)"
   ]
  },
  {
   "cell_type": "code",
   "execution_count": 88,
   "metadata": {},
   "outputs": [],
   "source": [
    "#4650roq\n",
    "#google class"
   ]
  },
  {
   "cell_type": "markdown",
   "metadata": {},
   "source": [
    "# Packing"
   ]
  },
  {
   "cell_type": "code",
   "execution_count": 89,
   "metadata": {},
   "outputs": [
    {
     "name": "stdout",
     "output_type": "stream",
     "text": [
      "data type of args is <class 'tuple'>\n",
      "data (11, 22, 'hello', [1, 2, 3, 4], None, True, 2)\n"
     ]
    }
   ],
   "source": [
    "def packingdata(*args):\n",
    "    print('data type of args is',type(args))\n",
    "    print('data',args)\n",
    "packingdata(11,22,'hello',[1,2,3,4],None,True,2)"
   ]
  },
  {
   "cell_type": "markdown",
   "metadata": {},
   "source": [
    "# Unpacking"
   ]
  },
  {
   "cell_type": "code",
   "execution_count": 104,
   "metadata": {},
   "outputs": [
    {
     "name": "stdout",
     "output_type": "stream",
     "text": [
      "arg1 h\n",
      "arg2 a\n",
      "arg3 i\n",
      "arg1 11\n",
      "arg2 22\n",
      "arg3 33\n",
      "arg1 33\n",
      "arg2 hello\n",
      "arg3 44\n",
      "arg1 [11, 22, 33]\n",
      "arg2 55\n",
      "arg3 hello\n",
      "arg1 ram\n",
      "arg2 earth\n",
      "arg3 ram@123\n"
     ]
    }
   ],
   "source": [
    "def unpackingData(arg1,arg2,arg3):\n",
    "    print('arg1',arg1)\n",
    "    print('arg2',arg2)\n",
    "    print('arg3',arg3)\n",
    "msg = 'hai'\n",
    "listdata = [11,22,33]\n",
    "setdata = {33,44,'hello'}\n",
    "tupledata = ([11,22,33],55,'hello')\n",
    "dictdata = {'name':'ram','add':'earth','email':'ram@123'}\n",
    "unpackingData(*msg)\n",
    "unpackingData(*listdata)\n",
    "unpackingData(*setdata)\n",
    "unpackingData(*tupledata)\n",
    "unpackingData(*dictdata.values())    "
   ]
  },
  {
   "cell_type": "markdown",
   "metadata": {},
   "source": [
    "# Upper & Lower Case Conversion"
   ]
  },
  {
   "cell_type": "code",
   "execution_count": 163,
   "metadata": {},
   "outputs": [],
   "source": [
    "def lower(str1):\n",
    "    lowerstr = ' '\n",
    "    for i in str1:\n",
    "        if ord(i)>=ord('a') and ord(i)<ord('z'):\n",
    "            lowerstr = lowerstr + chr(ord(i)-32)\n",
    "        elif ord(i)>=ord('A') and ord(i)<ord('Z'):\n",
    "            lowerstr = lowerstr + chr(ord(i)+32)\n",
    "        else:\n",
    "            lowerstr += i"
   ]
  },
  {
   "cell_type": "markdown",
   "metadata": {},
   "source": [
    "# Linear Search\n",
    "# Bubble Sort"
   ]
  },
  {
   "cell_type": "code",
   "execution_count": 170,
   "metadata": {},
   "outputs": [
    {
     "name": "stdout",
     "output_type": "stream",
     "text": [
      "Enter a number: 11\n",
      "Element is Found\n"
     ]
    }
   ],
   "source": [
    "listdata = [11,22,33,4,5,6]\n",
    "ele = int(input('Enter a number: '))\n",
    "flag = 0\n",
    "for i in range(len(listdata)):\n",
    "    if ele == listdata[i]:\n",
    "        flag = 1\n",
    "        break\n",
    "if flag == 1:\n",
    "    print('Element is Found')\n",
    "else:\n",
    "    print('Element is not Found')"
   ]
  },
  {
   "cell_type": "code",
   "execution_count": 171,
   "metadata": {},
   "outputs": [
    {
     "name": "stdout",
     "output_type": "stream",
     "text": [
      "[1, 2, 3, 6, 7, 45]\n"
     ]
    }
   ],
   "source": [
    "listdata = [1,2,3,45,6,7]\n",
    "for i in range(len(listdata)):\n",
    "    for j in range(len(listdata)-i-1):\n",
    "        if listdata[j] > listdata[j+1]:\n",
    "            listdata[j],listdata[j+1] = listdata[j+1],listdata[j]\n",
    "print(listdata)"
   ]
  },
  {
   "cell_type": "markdown",
   "metadata": {},
   "source": [
    "# Binary Search\n",
    "#### In Binary Search the Elements should be Sorted"
   ]
  },
  {
   "cell_type": "code",
   "execution_count": null,
   "metadata": {},
   "outputs": [],
   "source": [
    "listdata = [1,2,3,4,5,11,30]\n",
    "low = 0\n",
    "high = 7\n",
    "key = 3\n",
    "while low <= high:\n",
    "    mid = (low + high)/2\n",
    "    mid = 4\n",
    "    if listdata[mid] == key:\n",
    "        low = mid + 1\n",
    "    else:\n",
    "        high = mid - 1\n",
    "if low > high:\n",
    "    print('Key not Found')\n",
    "else:\n",
    "    print('Key Found')   "
   ]
  },
  {
   "cell_type": "markdown",
   "metadata": {},
   "source": [
    "# Inheritance"
   ]
  },
  {
   "cell_type": "code",
   "execution_count": 141,
   "metadata": {},
   "outputs": [
    {
     "name": "stdout",
     "output_type": "stream",
     "text": [
      "ram\n",
      "23\n",
      "abc\n",
      "23\n"
     ]
    }
   ],
   "source": [
    "class Base():\n",
    "    name = 'abc'\n",
    "    age = 23\n",
    "    def __init__(self):\n",
    "        pass\n",
    "    def display(slefg):\n",
    "        pass\n",
    "class Child(Base):\n",
    "    name = 'ram'\n",
    "    address = 'raj'\n",
    "c1 = Child()\n",
    "print(c1.name)\n",
    "print(c1.age)\n",
    "c2 = Base()\n",
    "print(c2.name)\n",
    "print(c2.age)"
   ]
  },
  {
   "cell_type": "markdown",
   "metadata": {},
   "source": [
    "# Assignment -4  (Sunday, 24-11-2019)\n",
    "# Modification W.R.T. Base Class"
   ]
  },
  {
   "cell_type": "code",
   "execution_count": 1,
   "metadata": {},
   "outputs": [
    {
     "name": "stdout",
     "output_type": "stream",
     "text": [
      "Before Changes wrt Base Class\n",
      "John\n",
      "22\n",
      "After Changes wrt Base Class\n",
      "Rock\n",
      "20\n"
     ]
    }
   ],
   "source": [
    "class Base():\n",
    "    name = 'John'\n",
    "    age = 22\n",
    "class Child(Base):\n",
    "    add = 'Mumbai'\n",
    "    No = 212\n",
    "a1 = Base()\n",
    "print('Before Changes wrt Base Class')\n",
    "print(a1.name)\n",
    "print(a1.age)\n",
    "a1.name = 'Rock'\n",
    "a1.age = 20\n",
    "print('After Changes wrt Base Class')\n",
    "print(a1.name)\n",
    "print(a1.age)"
   ]
  },
  {
   "cell_type": "markdown",
   "metadata": {},
   "source": [
    "\n",
    "# Modification W.R.T. Child Class"
   ]
  },
  {
   "cell_type": "code",
   "execution_count": 146,
   "metadata": {},
   "outputs": [
    {
     "name": "stdout",
     "output_type": "stream",
     "text": [
      "Before Changes wrt Child Class\n",
      "Physics\n",
      "98\n",
      "After Changes wrt Child Class\n",
      "Mathematics\n",
      "100\n"
     ]
    }
   ],
   "source": [
    "class Base():\n",
    "    Subject = 'Physics'\n",
    "    Marks = 98\n",
    "class Child(Base):\n",
    "    Subject = 'Physics'\n",
    "    Marks = 98\n",
    "a1 = Child()\n",
    "print('Before Changes wrt Child Class')\n",
    "print(a1.Subject)\n",
    "print(a1.Marks)\n",
    "a1.Subject = 'Mathematics'\n",
    "a1.Marks = 100\n",
    "print('After Changes wrt Child Class')\n",
    "print(a1.Subject)\n",
    "print(a1.Marks)"
   ]
  },
  {
   "cell_type": "markdown",
   "metadata": {},
   "source": [
    "# Modification W.R.T. Object"
   ]
  },
  {
   "cell_type": "code",
   "execution_count": 151,
   "metadata": {},
   "outputs": [
    {
     "name": "stdout",
     "output_type": "stream",
     "text": [
      "Before Changes wrt Object\n",
      "Physics\n",
      "98\n",
      "After Changes wrt Object\n",
      "Mathematics\n",
      "100\n",
      "101\n",
      "A+\n"
     ]
    }
   ],
   "source": [
    "class Base():\n",
    "    Subject = 'Physics'\n",
    "    Marks = 98\n",
    "class Child(Base):\n",
    "    Subject = 'Physics'\n",
    "    Marks = 98\n",
    "a1 = Child()\n",
    "print('Before Changes wrt Object')\n",
    "print(a1.Subject)\n",
    "print(a1.Marks)\n",
    "a1.Subject = 'Mathematics'\n",
    "a1.Marks = 100\n",
    "a1.USN = 101\n",
    "a1.Grade = 'A+'\n",
    "print('After Changes wrt Object')\n",
    "print(a1.Subject)\n",
    "print(a1.Marks)\n",
    "print(a1.USN)\n",
    "print(a1.Grade)"
   ]
  },
  {
   "cell_type": "code",
   "execution_count": 2,
   "metadata": {},
   "outputs": [
    {
     "name": "stdout",
     "output_type": "stream",
     "text": [
      "Enter keysports\n",
      "Enter valuebat\n",
      "Enter the total number of keys4\n",
      "Enter the keysporten\n",
      "Enter the value11\n",
      "Enter the keyMFR\n",
      "Enter the value22\n",
      "Enter the keyceat\n",
      "Enter the value33\n",
      "Enter the keyAPI\n",
      "Enter the value55\n",
      "{'name': 'John', 'age': 21, 'Address': 'Mumbai', 'Amazon': {'Electronics': {'Mobiles': {'price': 122333, 'display': '6 inch'}}}, 'sports': 'bat', 'sporten': '11', 'MFR': '22', 'ceat': '33', 'API': '55'}\n"
     ]
    }
   ],
   "source": [
    "data = {'name':'John','age':21,'Address':'Mumbai','Amazon':{'Electronics':{'Mobiles':{'price':122333,\n",
    "                                                                                   'display':'6 inch'}}}}\n",
    "def addDict():\n",
    "    size = int(input('Enter the total number of keys'))\n",
    "    for i in range(size):\n",
    "        key = input('Enter the key')\n",
    "        value = input('Enter the value')\n",
    "        data[key] = value\n",
    "\n",
    "\n",
    "\n",
    "\n",
    "def updataDict():\n",
    "    key = input('Enter key')\n",
    "    value = input('Enter value')\n",
    "    data[key] = value\n",
    "    addDict()\n",
    "    print(data)\n",
    "updataDict()"
   ]
  },
  {
   "cell_type": "markdown",
   "metadata": {},
   "source": [
    "# Assignment - 5  (Monday, 25-11-2019)\n",
    "\n",
    "\n",
    "# Example of All types of Inheritance"
   ]
  },
  {
   "cell_type": "markdown",
   "metadata": {},
   "source": [
    "# Single Level Inheritance"
   ]
  },
  {
   "cell_type": "code",
   "execution_count": 12,
   "metadata": {},
   "outputs": [
    {
     "name": "stdout",
     "output_type": "stream",
     "text": [
      "John\n",
      "21\n",
      "John\n",
      "21\n"
     ]
    }
   ],
   "source": [
    "class Base:\n",
    "    name = 'John'\n",
    "    age = 21\n",
    " \n",
    "    def show_parent(self):\n",
    "        print(self.name)\n",
    "        print(self.age)\n",
    " \n",
    " \n",
    "\n",
    "class Child(Base):\n",
    "    def show_child(self):\n",
    "        print(self.name)\n",
    "        print(self.age)\n",
    " \n",
    " \n",
    "c1 = Child()  \n",
    "c1.show_parent()  \n",
    "c1.show_child()"
   ]
  },
  {
   "cell_type": "code",
   "execution_count": 16,
   "metadata": {},
   "outputs": [
    {
     "name": "stdout",
     "output_type": "stream",
     "text": [
      "ram\n",
      "20\n",
      "in display ram\n"
     ]
    }
   ],
   "source": [
    "class Base:\n",
    "    name = 'ram'\n",
    "    age = 20\n",
    "    def display(self):\n",
    "        print('in display',self.name)\n",
    "class Child(Base):\n",
    "    def show(self):\n",
    "        print('in Child',self.age)\n",
    "\n",
    "c1 = Child()\n",
    "print(c1.name)  \n",
    "print(c1.age)\n",
    "c1.display()"
   ]
  },
  {
   "cell_type": "markdown",
   "metadata": {},
   "source": [
    "# Multi-Level Inheritance"
   ]
  },
  {
   "cell_type": "code",
   "execution_count": 109,
   "metadata": {},
   "outputs": [
    {
     "name": "stdout",
     "output_type": "stream",
     "text": [
      "This is our family:\n",
      "Father : Shiva\n",
      "Mother : Gouri\n"
     ]
    }
   ],
   "source": [
    "class Family:\n",
    "    def family(self):\n",
    "        print(\"This is our family:\")\n",
    " \n",
    " \n",
    "# Father class inherited from Family\n",
    "class Father(Family):\n",
    "    fathername = 'Shiva'\n",
    " \n",
    "    def father(self):\n",
    "        print(self.fathername)\n",
    " \n",
    " \n",
    "# Mother class inherited from Family\n",
    "class Mother(Family):\n",
    "    mothername = 'Gouri'\n",
    " \n",
    "    def mother(self):\n",
    "        print(self.mothername)\n",
    " \n",
    " \n",
    "# Son class inherited from Father and Mother classes\n",
    "class Son(Father, Mother):\n",
    "    def parent(self):\n",
    "        print(\"Father :\", self.fathername)\n",
    "        print(\"Mother :\", self.mothername)\n",
    " \n",
    " \n",
    "s1 = Son()  # Object of Son class\n",
    "s1.fathername \n",
    "s1.mothername \n",
    "s1.family()\n",
    "s1.parent() "
   ]
  },
  {
   "cell_type": "markdown",
   "metadata": {},
   "source": [
    "# Multiple Inheritance"
   ]
  },
  {
   "cell_type": "code",
   "execution_count": 125,
   "metadata": {},
   "outputs": [
    {
     "name": "stdout",
     "output_type": "stream",
     "text": [
      "In Child class\n",
      "In init function from Child\n",
      "In init function from Base2\n"
     ]
    }
   ],
   "source": [
    "class Base1:\n",
    "    name = 'John'\n",
    "    Address = 'USA'\n",
    "    def display(self):\n",
    "        print('In display function from Base1')\n",
    "        def __init__(self):\n",
    "            print('In init function from base1')\n",
    "class Base2:\n",
    "    name = 'Rock'\n",
    "    age = 21\n",
    "    def __init__(self):\n",
    "        print('In init function from Base2')\n",
    "class Child(Base2,Base1):\n",
    "    print('In Child class')\n",
    "    def __init__(self):\n",
    "        print('In init function from Child')\n",
    "        #Base1.__init__()\n",
    "        #Base2.__init__(self)\n",
    "        super().__init__()\n",
    "c1 = Child()"
   ]
  },
  {
   "cell_type": "markdown",
   "metadata": {},
   "source": [
    "# Hirerachical Inheritance"
   ]
  },
  {
   "cell_type": "code",
   "execution_count": 3,
   "metadata": {},
   "outputs": [
    {
     "name": "stdout",
     "output_type": "stream",
     "text": [
      "In Child1 class\n",
      "In Base Class\n",
      "In Child2 class\n",
      "In Base Class\n"
     ]
    }
   ],
   "source": [
    "class Base:\n",
    "    name = 'ram'\n",
    "    age = 21\n",
    "    def __init__(self):\n",
    "        print('In Base Class')\n",
    "        def display(self):\n",
    "            print('In display from base')\n",
    "class Child1(Base):\n",
    "    def __init__(self):\n",
    "        print('In Child1 class')\n",
    "        super().__init__()\n",
    "        def display(self):\n",
    "            print('In display from child1')\n",
    "class Child2(Base):\n",
    "    def __init__(self):\n",
    "        print('In Child2 class')\n",
    "        super(Child2,self).__init__()\n",
    "        def display(self):\n",
    "            print('In display from Child2')\n",
    "c1 = Child1() \n",
    "c2 = Child2()"
   ]
  },
  {
   "cell_type": "markdown",
   "metadata": {},
   "source": [
    "# Hybrid Inheritance"
   ]
  },
  {
   "cell_type": "code",
   "execution_count": 151,
   "metadata": {},
   "outputs": [
    {
     "name": "stdout",
     "output_type": "stream",
     "text": [
      "In Child3 Class\n",
      "ram\n",
      "20\n",
      "ram\n"
     ]
    }
   ],
   "source": [
    "class Base:\n",
    "    name = 'ram'\n",
    "    age = 20\n",
    "    def display(self):\n",
    "        print('in display',self.name)\n",
    "class Child1(Base):\n",
    "    def show(self):\n",
    "        print('in Child1',self.age)\n",
    "class Child2(Base):\n",
    "    def run(self):\n",
    "        print('in Child2',self.age)\n",
    "class Child3(Child1,Child2):\n",
    "    print('In Child3 Class')\n",
    "    \n",
    "c1 = Child1()\n",
    "print(c1.name)\n",
    "c2 = Child2()\n",
    "print(c2.age)\n",
    "c3 = Child3()\n",
    "print(c3.name)"
   ]
  },
  {
   "cell_type": "markdown",
   "metadata": {},
   "source": [
    "# Exceptional Handling\n",
    "\n",
    "\n",
    "## Types of Except Blocks\n",
    "### 1. Default Except Block\n",
    "### 2. Specific Except Block\n",
    "### 3. Generic Except Block\n",
    "### 4. Multiple Except Block\n",
    "### 5. Nested Except Block"
   ]
  },
  {
   "cell_type": "markdown",
   "metadata": {},
   "source": [
    "# 1. Default Except Block"
   ]
  },
  {
   "cell_type": "code",
   "execution_count": 1,
   "metadata": {},
   "outputs": [
    {
     "name": "stdout",
     "output_type": "stream",
     "text": [
      "Exception Block\n"
     ]
    }
   ],
   "source": [
    "try:\n",
    "    print('name',username)\n",
    "except:\n",
    "    print('Exception Block')"
   ]
  },
  {
   "cell_type": "code",
   "execution_count": 2,
   "metadata": {},
   "outputs": [
    {
     "name": "stdout",
     "output_type": "stream",
     "text": [
      "name John\n",
      "In Else Block\n"
     ]
    }
   ],
   "source": [
    "try:\n",
    "    username = 'John'\n",
    "    print('name',username)\n",
    "except:\n",
    "    print('Exception Block')\n",
    "else:\n",
    "    print('In Else Block')"
   ]
  },
  {
   "cell_type": "markdown",
   "metadata": {},
   "source": [
    "# 2. Specific Except Block"
   ]
  },
  {
   "cell_type": "code",
   "execution_count": 6,
   "metadata": {},
   "outputs": [
    {
     "name": "stdout",
     "output_type": "stream",
     "text": [
      "Enter num10\n",
      "Enter num20\n",
      "In Try block\n",
      "ZeroErrorDivisionError\n",
      "End of try/except block\n"
     ]
    }
   ],
   "source": [
    "def display():\n",
    "    num1 = int(input('Enter num1'))\n",
    "    num2 = int(input('Enter num2'))\n",
    "    try:\n",
    "        print('In Try block')\n",
    "        res = num1/num2\n",
    "        print('Result',res)\n",
    "    except ZeroDivisionError:\n",
    "        print('ZeroErrorDivisionError')\n",
    "        print('End of try/except block')\n",
    "display()"
   ]
  },
  {
   "cell_type": "markdown",
   "metadata": {},
   "source": [
    "# 3. Generic Except Block"
   ]
  },
  {
   "cell_type": "code",
   "execution_count": 7,
   "metadata": {},
   "outputs": [
    {
     "name": "stdout",
     "output_type": "stream",
     "text": [
      "Exception Block\n"
     ]
    }
   ],
   "source": [
    "try:\n",
    "    fileobj = open('textdata.txt','r')\n",
    "    print('name',name)\n",
    "except Exception:\n",
    "    print('Exception Block')"
   ]
  },
  {
   "cell_type": "code",
   "execution_count": 8,
   "metadata": {},
   "outputs": [
    {
     "name": "stdout",
     "output_type": "stream",
     "text": [
      "Exception block\n"
     ]
    }
   ],
   "source": [
    "try:\n",
    "    fileobj = open('textdata.txt','r')\n",
    "    print('name',name)\n",
    "except NameError:\n",
    "    print('NameError Block')\n",
    "except TypeError:\n",
    "    print('TypeError block')\n",
    "except Exception:\n",
    "    print('Exception block')"
   ]
  },
  {
   "cell_type": "markdown",
   "metadata": {},
   "source": [
    "# 4. Multiple Except Block"
   ]
  },
  {
   "cell_type": "code",
   "execution_count": 10,
   "metadata": {},
   "outputs": [
    {
     "name": "stdout",
     "output_type": "stream",
     "text": [
      "ValueError block\n"
     ]
    }
   ],
   "source": [
    "try:\n",
    "    listdata = [11,2,3,4,55]\n",
    "    listdata.remove(100)\n",
    "    10/0\n",
    "    print('name',name)\n",
    "except ZeroDivisionError:\n",
    "    print('ZeroDivisionError block')\n",
    "except NameError:\n",
    "    print('NameError block')\n",
    "except ValueError:\n",
    "    print('ValueError block')   "
   ]
  },
  {
   "cell_type": "markdown",
   "metadata": {},
   "source": [
    "# 5. Nested Except Block"
   ]
  },
  {
   "cell_type": "code",
   "execution_count": 11,
   "metadata": {},
   "outputs": [
    {
     "name": "stdout",
     "output_type": "stream",
     "text": [
      "In try block\n",
      "IndentationError Exception block\n"
     ]
    }
   ],
   "source": [
    "try:\n",
    "    print('In try block')\n",
    "    listdata = [11,33,44,'hello']\n",
    "    print(listdata[40])\n",
    "    print('start of N-try/except block')\n",
    "    try:\n",
    "        print('In N-try block')\n",
    "        print('username',username)\n",
    "    except NameError:\n",
    "        print('NameError Exception block')\n",
    "        print('End of N-try/Except block')\n",
    "except IndexError:\n",
    "    print('IndentationError Exception block')\n",
    "    try:\n",
    "        pass\n",
    "    except BaseException:\n",
    "        pass\n",
    "except Exception:\n",
    "    print('Exception block')"
   ]
  },
  {
   "cell_type": "markdown",
   "metadata": {},
   "source": [
    "# User Defined Exception or Custome Exception"
   ]
  },
  {
   "cell_type": "code",
   "execution_count": 14,
   "metadata": {},
   "outputs": [
    {
     "name": "stdout",
     "output_type": "stream",
     "text": [
      "I value 0\n",
      "I value 1\n",
      "Error mes hello\n"
     ]
    }
   ],
   "source": [
    "class python(Exception):\n",
    "    pass\n",
    "try:\n",
    "    for i in range(3):\n",
    "        if i == 2:\n",
    "            raise python('hello')\n",
    "        else:\n",
    "            print('I value',i)\n",
    "except python as py:\n",
    "    print('Error mes',py)"
   ]
  },
  {
   "cell_type": "code",
   "execution_count": 16,
   "metadata": {},
   "outputs": [
    {
     "name": "stdout",
     "output_type": "stream",
     "text": [
      "Enter the Age22\n",
      "Your age is 22\n"
     ]
    }
   ],
   "source": [
    "class AgeError(Exception):\n",
    "    def __str__(self):\n",
    "        return 'hello AgeError'\n",
    "try:\n",
    "    age = int(input('Enter the Age'))\n",
    "    if age > 18:\n",
    "        print('Your age is',age)\n",
    "    else:\n",
    "        raise AgeError\n",
    "except AgeError as e:\n",
    "    print('Error msg',e)"
   ]
  },
  {
   "cell_type": "markdown",
   "metadata": {},
   "source": [
    "# Selection Sort"
   ]
  },
  {
   "cell_type": "code",
   "execution_count": 1,
   "metadata": {},
   "outputs": [
    {
     "name": "stdout",
     "output_type": "stream",
     "text": [
      "Updated list data [1, 2, 3, 4, 66]\n"
     ]
    }
   ],
   "source": [
    "listdata = [4,3,2,66,1]\n",
    "\n",
    "for i in range(len(listdata)):\n",
    "    small = listdata[i]\n",
    "    pos = i\n",
    "    for j in range(i+1,len(listdata)):\n",
    "        if small > listdata[j]:\n",
    "            small = listdata[j]\n",
    "            pos = j\n",
    "    listdata[i],listdata[pos] = listdata[pos],listdata[i]\n",
    "print('Updated list data',listdata)"
   ]
  },
  {
   "cell_type": "markdown",
   "metadata": {},
   "source": [
    "# Insertion Sort"
   ]
  },
  {
   "cell_type": "code",
   "execution_count": 2,
   "metadata": {},
   "outputs": [
    {
     "name": "stdout",
     "output_type": "stream",
     "text": [
      "[1, 2, 3, 4, 66]\n"
     ]
    }
   ],
   "source": [
    "def insertion(a):\n",
    "    n = len(a)\n",
    "    for passno in range(1,n):\n",
    "        i = passno\n",
    "        while i > 0 and a[i] < a[i-1]:\n",
    "            a[i-1],a[i] = a[i],a[i-1]\n",
    "            i -= 1\n",
    "    return a\n",
    "if __name__=='__main__':\n",
    "    list_value = [4,3,2,66,1]\n",
    "    sorted_list = insertion(list_value)\n",
    "    print(sorted_list)"
   ]
  },
  {
   "cell_type": "markdown",
   "metadata": {},
   "source": [
    "# Merge Sort Alogorithm"
   ]
  },
  {
   "cell_type": "code",
   "execution_count": 20,
   "metadata": {},
   "outputs": [],
   "source": [
    "def divide(a,l,h):\n",
    "    if (l < h):\n",
    "        mid = (l + h)//2\n",
    "        l = (a,l,mid)\n",
    "        r = (a,mid+1,h)\n",
    "divide([1,2,6,2,4],0,4)    "
   ]
  },
  {
   "cell_type": "code",
   "execution_count": 21,
   "metadata": {},
   "outputs": [],
   "source": [
    "def conquare(a,l,m,h):\n",
    "    nL = m - l + 1\n",
    "    nR = h - (m + 1) + 1\n",
    "    L = []\n",
    "    R = []\n",
    "    for i in range(nL):\n",
    "        L.append(a[l + i])\n",
    "        for j in range(nR):\n",
    "            R.append(a[m + 1 + j])\n",
    "            iL = 0\n",
    "            iR = 0\n",
    "            ia = l\n",
    "            while(iL < nL and iR < nR):\n",
    "                if (L[iL] < R[iR]):\n",
    "                    a[ia] = L[iL]\n",
    "                    iL += 1\n",
    "                    ia += 1\n",
    "                else:\n",
    "                    a[ia] = R[iR]\n",
    "            while(iL < nL):\n",
    "                a[ia] = L[iL]\n",
    "                ia += 1\n",
    "                iL += 1\n",
    "            while(iR < nR):\n",
    "                a[ia] = R[iR]\n",
    "                ia += 1\n",
    "                iR += 1  "
   ]
  },
  {
   "cell_type": "markdown",
   "metadata": {},
   "source": [
    "# <font color='red'>Data Structures</font>\n"
   ]
  },
  {
   "cell_type": "markdown",
   "metadata": {},
   "source": [
    "## <font color='purple'>Arrays</font>"
   ]
  },
  {
   "cell_type": "code",
   "execution_count": 36,
   "metadata": {},
   "outputs": [],
   "source": [
    "import array as arr"
   ]
  },
  {
   "cell_type": "code",
   "execution_count": 41,
   "metadata": {},
   "outputs": [
    {
     "data": {
      "text/plain": [
       "array('i', [1, 2, 3, 4, 5, 6])"
      ]
     },
     "execution_count": 41,
     "metadata": {},
     "output_type": "execute_result"
    }
   ],
   "source": [
    "var = arr.array('i',[1,2,3,4,5,6])\n",
    "var"
   ]
  },
  {
   "cell_type": "code",
   "execution_count": 40,
   "metadata": {},
   "outputs": [
    {
     "data": {
      "text/plain": [
       "array('f', [1.0, 2.0, 3.0, 4.0, 5.0, 6.0])"
      ]
     },
     "execution_count": 40,
     "metadata": {},
     "output_type": "execute_result"
    }
   ],
   "source": [
    "var = arr.array('f',[1,2,3,4,5,6])\n",
    "var"
   ]
  },
  {
   "cell_type": "code",
   "execution_count": 42,
   "metadata": {},
   "outputs": [
    {
     "data": {
      "text/plain": [
       "2"
      ]
     },
     "execution_count": 42,
     "metadata": {},
     "output_type": "execute_result"
    }
   ],
   "source": [
    "var[1]"
   ]
  },
  {
   "cell_type": "code",
   "execution_count": 43,
   "metadata": {},
   "outputs": [
    {
     "data": {
      "text/plain": [
       "array('i', [3, 4, 5])"
      ]
     },
     "execution_count": 43,
     "metadata": {},
     "output_type": "execute_result"
    }
   ],
   "source": [
    "var[2:5]"
   ]
  },
  {
   "cell_type": "code",
   "execution_count": 44,
   "metadata": {},
   "outputs": [
    {
     "data": {
      "text/plain": [
       "array('i', [3, 4, 5, 6])"
      ]
     },
     "execution_count": 44,
     "metadata": {},
     "output_type": "execute_result"
    }
   ],
   "source": [
    "var[2:]"
   ]
  },
  {
   "cell_type": "code",
   "execution_count": 45,
   "metadata": {},
   "outputs": [
    {
     "data": {
      "text/plain": [
       "array('i', [1, 2, 3, 4])"
      ]
     },
     "execution_count": 45,
     "metadata": {},
     "output_type": "execute_result"
    }
   ],
   "source": [
    "var[:4]"
   ]
  },
  {
   "cell_type": "code",
   "execution_count": 46,
   "metadata": {},
   "outputs": [
    {
     "data": {
      "text/plain": [
       "array('i', [2, 3, 4, 5])"
      ]
     },
     "execution_count": 46,
     "metadata": {},
     "output_type": "execute_result"
    }
   ],
   "source": [
    "var[-5:-1]"
   ]
  },
  {
   "cell_type": "code",
   "execution_count": 47,
   "metadata": {},
   "outputs": [
    {
     "data": {
      "text/plain": [
       "array('i', [6, 5, 4, 3, 2])"
      ]
     },
     "execution_count": 47,
     "metadata": {},
     "output_type": "execute_result"
    }
   ],
   "source": [
    "var[-1:-6:-1]"
   ]
  },
  {
   "cell_type": "code",
   "execution_count": 49,
   "metadata": {},
   "outputs": [
    {
     "data": {
      "text/plain": [
       "array('i', [6, 5, 4, 3, 2, 1])"
      ]
     },
     "execution_count": 49,
     "metadata": {},
     "output_type": "execute_result"
    }
   ],
   "source": [
    "var[::-1]"
   ]
  },
  {
   "cell_type": "code",
   "execution_count": 50,
   "metadata": {},
   "outputs": [
    {
     "data": {
      "text/plain": [
       "array('i', [1, 2, 3, 4, 5, 6])"
      ]
     },
     "execution_count": 50,
     "metadata": {},
     "output_type": "execute_result"
    }
   ],
   "source": [
    "var"
   ]
  },
  {
   "cell_type": "code",
   "execution_count": 51,
   "metadata": {},
   "outputs": [],
   "source": [
    "var[-1] = 7"
   ]
  },
  {
   "cell_type": "code",
   "execution_count": 52,
   "metadata": {},
   "outputs": [
    {
     "data": {
      "text/plain": [
       "array('i', [1, 2, 3, 4, 5, 7])"
      ]
     },
     "execution_count": 52,
     "metadata": {},
     "output_type": "execute_result"
    }
   ],
   "source": [
    "var"
   ]
  },
  {
   "cell_type": "code",
   "execution_count": 53,
   "metadata": {},
   "outputs": [
    {
     "data": {
      "text/plain": [
       "array('i', [1, 8, 9, 4, 5, 7])"
      ]
     },
     "execution_count": 53,
     "metadata": {},
     "output_type": "execute_result"
    }
   ],
   "source": [
    "var[1:3] = arr.array('i',[8,9])\n",
    "var"
   ]
  },
  {
   "cell_type": "code",
   "execution_count": 55,
   "metadata": {},
   "outputs": [
    {
     "data": {
      "text/plain": [
       "array('i', [0, 8, 0, 4, 0, 7])"
      ]
     },
     "execution_count": 55,
     "metadata": {},
     "output_type": "execute_result"
    }
   ],
   "source": [
    "var[::2] = arr.array('i',[0,0,0])\n",
    "var"
   ]
  },
  {
   "cell_type": "markdown",
   "metadata": {},
   "source": [
    "# append( )"
   ]
  },
  {
   "cell_type": "code",
   "execution_count": 59,
   "metadata": {},
   "outputs": [
    {
     "data": {
      "text/plain": [
       "array('i', [0, 8, 0, 4, 0, 7, 8, 8, 9, 10])"
      ]
     },
     "execution_count": 59,
     "metadata": {},
     "output_type": "execute_result"
    }
   ],
   "source": [
    "var.append(10)\n",
    "var"
   ]
  },
  {
   "cell_type": "markdown",
   "metadata": {},
   "source": [
    "# Insert( )"
   ]
  },
  {
   "cell_type": "code",
   "execution_count": 60,
   "metadata": {},
   "outputs": [
    {
     "data": {
      "text/plain": [
       "array('i', [1, 0, 8, 0, 4, 0, 7, 8, 8, 9, 10])"
      ]
     },
     "execution_count": 60,
     "metadata": {},
     "output_type": "execute_result"
    }
   ],
   "source": [
    "var.insert(0,1)\n",
    "var"
   ]
  },
  {
   "cell_type": "code",
   "execution_count": 61,
   "metadata": {},
   "outputs": [
    {
     "data": {
      "text/plain": [
       "array('i', [1, 0, 8, 0, 4, 0, 7, 8, 8, 9, 10, 1])"
      ]
     },
     "execution_count": 61,
     "metadata": {},
     "output_type": "execute_result"
    }
   ],
   "source": [
    "var.insert(100,1)\n",
    "var"
   ]
  },
  {
   "cell_type": "markdown",
   "metadata": {},
   "source": [
    "# Extend( )"
   ]
  },
  {
   "cell_type": "code",
   "execution_count": 62,
   "metadata": {},
   "outputs": [
    {
     "data": {
      "text/plain": [
       "array('i', [1, 2])"
      ]
     },
     "execution_count": 62,
     "metadata": {},
     "output_type": "execute_result"
    }
   ],
   "source": [
    "var = arr.array('i',[1,2])\n",
    "var"
   ]
  },
  {
   "cell_type": "code",
   "execution_count": 63,
   "metadata": {},
   "outputs": [
    {
     "data": {
      "text/plain": [
       "array('i', [1, 2, 3, 4])"
      ]
     },
     "execution_count": 63,
     "metadata": {},
     "output_type": "execute_result"
    }
   ],
   "source": [
    "var.extend([3,4])\n",
    "var"
   ]
  },
  {
   "cell_type": "markdown",
   "metadata": {},
   "source": [
    "# remove( )"
   ]
  },
  {
   "cell_type": "code",
   "execution_count": 64,
   "metadata": {},
   "outputs": [
    {
     "data": {
      "text/plain": [
       "array('i', [1, 2, 3])"
      ]
     },
     "execution_count": 64,
     "metadata": {},
     "output_type": "execute_result"
    }
   ],
   "source": [
    "var.remove(4)\n",
    "var"
   ]
  },
  {
   "cell_type": "markdown",
   "metadata": {},
   "source": [
    "# pop( )"
   ]
  },
  {
   "cell_type": "code",
   "execution_count": 65,
   "metadata": {},
   "outputs": [
    {
     "data": {
      "text/plain": [
       "array('i', [1, 3])"
      ]
     },
     "execution_count": 65,
     "metadata": {},
     "output_type": "execute_result"
    }
   ],
   "source": [
    "var.pop(1)\n",
    "var"
   ]
  },
  {
   "cell_type": "code",
   "execution_count": 67,
   "metadata": {},
   "outputs": [
    {
     "data": {
      "text/plain": [
       "array('i')"
      ]
     },
     "execution_count": 67,
     "metadata": {},
     "output_type": "execute_result"
    }
   ],
   "source": [
    "var.pop()\n",
    "var"
   ]
  },
  {
   "cell_type": "markdown",
   "metadata": {},
   "source": [
    "# index( )"
   ]
  },
  {
   "cell_type": "code",
   "execution_count": 68,
   "metadata": {},
   "outputs": [
    {
     "data": {
      "text/plain": [
       "array('i', [1, 2, 3, 4, 5])"
      ]
     },
     "execution_count": 68,
     "metadata": {},
     "output_type": "execute_result"
    }
   ],
   "source": [
    "var = arr.array('i',[1,2,3,4,5])\n",
    "var"
   ]
  },
  {
   "cell_type": "code",
   "execution_count": 69,
   "metadata": {},
   "outputs": [
    {
     "data": {
      "text/plain": [
       "0"
      ]
     },
     "execution_count": 69,
     "metadata": {},
     "output_type": "execute_result"
    }
   ],
   "source": [
    "var.index(1)"
   ]
  },
  {
   "cell_type": "code",
   "execution_count": 70,
   "metadata": {},
   "outputs": [
    {
     "data": {
      "text/plain": [
       "2"
      ]
     },
     "execution_count": 70,
     "metadata": {},
     "output_type": "execute_result"
    }
   ],
   "source": [
    "var.index(3)"
   ]
  },
  {
   "cell_type": "markdown",
   "metadata": {},
   "source": [
    "# del( )"
   ]
  },
  {
   "cell_type": "code",
   "execution_count": 71,
   "metadata": {},
   "outputs": [
    {
     "data": {
      "text/plain": [
       "array('i', [1, 2, 3, 4, 5, 6, 7])"
      ]
     },
     "execution_count": 71,
     "metadata": {},
     "output_type": "execute_result"
    }
   ],
   "source": [
    "var = arr.array('i',[1,2,3,4,5,6,7])\n",
    "var"
   ]
  },
  {
   "cell_type": "code",
   "execution_count": 72,
   "metadata": {},
   "outputs": [],
   "source": [
    "del var[0]"
   ]
  },
  {
   "cell_type": "code",
   "execution_count": 73,
   "metadata": {},
   "outputs": [
    {
     "data": {
      "text/plain": [
       "array('i', [2, 3, 4, 5, 6, 7])"
      ]
     },
     "execution_count": 73,
     "metadata": {},
     "output_type": "execute_result"
    }
   ],
   "source": [
    "var"
   ]
  },
  {
   "cell_type": "code",
   "execution_count": 76,
   "metadata": {},
   "outputs": [
    {
     "data": {
      "text/plain": [
       "array('i', [4, 5, 6, 7])"
      ]
     },
     "execution_count": 76,
     "metadata": {},
     "output_type": "execute_result"
    }
   ],
   "source": [
    "del var[0]\n",
    "var"
   ]
  },
  {
   "cell_type": "code",
   "execution_count": 77,
   "metadata": {},
   "outputs": [],
   "source": [
    "del var[0]"
   ]
  },
  {
   "cell_type": "code",
   "execution_count": 78,
   "metadata": {},
   "outputs": [
    {
     "data": {
      "text/plain": [
       "array('i', [5, 6, 7])"
      ]
     },
     "execution_count": 78,
     "metadata": {},
     "output_type": "execute_result"
    }
   ],
   "source": [
    "var"
   ]
  },
  {
   "cell_type": "markdown",
   "metadata": {},
   "source": [
    "## Array Concatination"
   ]
  },
  {
   "cell_type": "code",
   "execution_count": 81,
   "metadata": {},
   "outputs": [
    {
     "data": {
      "text/plain": [
       "array('i', [1, 2, 3, 4, 5, 6])"
      ]
     },
     "execution_count": 81,
     "metadata": {},
     "output_type": "execute_result"
    }
   ],
   "source": [
    "a = arr.array('i',[1,2,3,4])\n",
    "b = arr.array('i',[5,6])\n",
    "a + b"
   ]
  },
  {
   "cell_type": "markdown",
   "metadata": {},
   "source": [
    "# <font color='brown'>Stack</font>"
   ]
  },
  {
   "cell_type": "code",
   "execution_count": 5,
   "metadata": {},
   "outputs": [
    {
     "name": "stdout",
     "output_type": "stream",
     "text": [
      "Enter the size of Stack5\n",
      "Press 1 for Push\n",
      "Press 2 for Pop\n",
      "Press 3 for Display\n",
      "Anything to comeout1\n",
      "Enter the value5\n",
      "Press 1 for Push\n",
      "Press 2 for Pop\n",
      "Press 3 for Display\n",
      "Anything to comeout1\n",
      "Enter the value6\n",
      "Press 1 for Push\n",
      "Press 2 for Pop\n",
      "Press 3 for Display\n",
      "Anything to comeout1\n",
      "Enter the value7\n",
      "Press 1 for Push\n",
      "Press 2 for Pop\n",
      "Press 3 for Display\n",
      "Anything to comeout1\n",
      "Enter the value8\n",
      "Press 1 for Push\n",
      "Press 2 for Pop\n",
      "Press 3 for Display\n",
      "Anything to comeout1\n",
      "Enter the value9\n",
      "Press 1 for Push\n",
      "Press 2 for Pop\n",
      "Press 3 for Display\n",
      "Anything to comeout1\n",
      "Stack Overflow\n",
      "Press 1 for Push\n",
      "Press 2 for Pop\n",
      "Press 3 for Display\n",
      "Anything to comeout10\n"
     ]
    }
   ],
   "source": [
    "def push(stack,top,n):\n",
    "    if top == n-1:\n",
    "        print('Stack Overflow')\n",
    "        return top\n",
    "    top += 1\n",
    "    stack[top] = input('Enter the value')\n",
    "    return top\n",
    "\n",
    "def pop(stack,top):\n",
    "    if top == -1:\n",
    "        print('Stack UnderFlow')\n",
    "        return top\n",
    "    stack[top] = 0\n",
    "    return top - 1\n",
    "\n",
    "def display(stack,top):\n",
    "    if top == -1:\n",
    "        print('Stack underflow')\n",
    "    else:\n",
    "        print('Stack elements are :',end=\"\")\n",
    "        for i in range(top+1):\n",
    "            print(stack[i],end=\" \")\n",
    "\n",
    "def main():\n",
    "    n = int(input('Enter the size of Stack'))\n",
    "    stack = [0]*n\n",
    "    top = -1\n",
    "    while True:\n",
    "        ch = input('Press 1 for Push\\nPress 2 for Pop\\nPress 3 for Display\\nAnything to comeout')\n",
    "        if ch == '1':\n",
    "            top = push(stack,top,n)\n",
    "        elif ch == '2':\n",
    "            top = pop(stack,top)\n",
    "        elif ch == '3':\n",
    "            display(stack,top)\n",
    "        else:\n",
    "            break\n",
    "            \n",
    "    \n",
    "if __name__ == \"__main__\":\n",
    "    main()  "
   ]
  },
  {
   "cell_type": "code",
   "execution_count": null,
   "metadata": {},
   "outputs": [],
   "source": [
    "def main():\n",
    "    n = int(input('Enter the size of Stack'))\n",
    "    stack = [0]*n\n",
    "    top = -1\n",
    "    while True:\n",
    "        ch = input('Press 1 for Push\\nPress 2 for Pop\\nPress 3 for Display\\nAnything to comeout')\n",
    "        if ch == '1':\n",
    "            top = push(stack,top,n)\n",
    "        elif ch == '2':\n",
    "            top = pop(stack,top)\n",
    "        elif ch == '3':\n",
    "            display(stack,top)\n",
    "        else:\n",
    "            break"
   ]
  },
  {
   "cell_type": "code",
   "execution_count": 43,
   "metadata": {},
   "outputs": [],
   "source": [
    "def main():\n",
    "    n = int(input('Enter the size of Stack'))\n",
    "    stack = [0]*n\n",
    "    top = -1\n",
    "    while True:\n",
    "        ch = input('Press 1 for Push\\nPress 2 for Pop\\nPress 3 for Display\\nAnything to comeout')\n",
    "        if ch == '1':\n",
    "            top = push(stack,top,n)\n",
    "        elif ch == '2':\n",
    "            top = pop(stack,top)\n",
    "        elif ch == '3':\n",
    "            display(stack,top)\n",
    "        else:\n",
    "            break   "
   ]
  },
  {
   "cell_type": "code",
   "execution_count": 5,
   "metadata": {},
   "outputs": [
    {
     "name": "stdout",
     "output_type": "stream",
     "text": [
      "Enter the size of stack3\n",
      "Press 1 for Push\n",
      "Press 2 for Pop\n",
      "Press 3 for Display\n",
      "Anything to comeout 1\n",
      "Enter the value5\n",
      "Press 1 for Push\n",
      "Press 2 for Pop\n",
      "Press 3 for Display\n",
      "Anything to comeout 1\n",
      "Enter the value7\n",
      "Press 1 for Push\n",
      "Press 2 for Pop\n",
      "Press 3 for Display\n",
      "Anything to comeout 1\n",
      "Enter the value9\n",
      "Press 1 for Push\n",
      "Press 2 for Pop\n",
      "Press 3 for Display\n",
      "Anything to comeout 1\n",
      "Stack Overflow\n",
      "Press 1 for Push\n",
      "Press 2 for Pop\n",
      "Press 3 for Display\n",
      "Anything to comeout k\n"
     ]
    }
   ],
   "source": [
    "def push(stack,top,n):\n",
    "    if top == n - 1:\n",
    "        print('Stack Overflow')\n",
    "        return top\n",
    "    top += 1\n",
    "    stack[top] = int(input('Enter the value'))\n",
    "    return top  \n",
    "\n",
    "def pop(stack,top):\n",
    "    if top == -1:\n",
    "        print('Stack Underflow')\n",
    "        return top\n",
    "    top += 1\n",
    "    stack[top] = 0\n",
    "    return top-1\n",
    "\n",
    "def display(stack,top):\n",
    "    if top == -1:\n",
    "        print('Stack Underflow')\n",
    "    else:\n",
    "        print('Stack elements are :',end='')\n",
    "        for i in range(top+1):\n",
    "            print(stack[i],end=' ')      \n",
    "\n",
    "\n",
    "def main():\n",
    "    n = int(input('Enter the size of stack'))\n",
    "    stack = [0]*n\n",
    "    top = -1\n",
    "    while True:\n",
    "        ch = input('Press 1 for Push\\nPress 2 for Pop\\nPress 3 for Display\\nAnything to comeout ')\n",
    "        if ch == '1':\n",
    "            top = push(stack,top,n)\n",
    "        elif ch == '2':\n",
    "            top = pop(stack,top)\n",
    "        elif ch == '3':\n",
    "            display(stack,top)\n",
    "        else:\n",
    "            break  \n",
    "if __name__=='__main__':\n",
    "    main()"
   ]
  },
  {
   "cell_type": "code",
   "execution_count": 69,
   "metadata": {},
   "outputs": [
    {
     "name": "stdout",
     "output_type": "stream",
     "text": [
      "Initial stack\n",
      "['a', 'b', 'c']\n",
      "\n",
      "Elements poped from stack:\n",
      "c\n",
      "b\n",
      "a\n",
      "\n",
      "Stack after elements are poped:\n",
      "[]\n"
     ]
    }
   ],
   "source": [
    "# Python program to \n",
    "# demonstrate stack implementation \n",
    "# using list \n",
    "\n",
    "\n",
    "stack = [] \n",
    "\n",
    "# append() function to push \n",
    "# element in the stack \n",
    "stack.append('a') \n",
    "stack.append('b') \n",
    "stack.append('c') \n",
    "\n",
    "print('Initial stack') \n",
    "print(stack) \n",
    "\n",
    "# pop() fucntion to pop \n",
    "# element from stack in \n",
    "# LIFO order \n",
    "print('\\nElements poped from stack:') \n",
    "print(stack.pop()) \n",
    "print(stack.pop()) \n",
    "print(stack.pop()) \n",
    "\n",
    "print('\\nStack after elements are poped:') \n",
    "print(stack) \n",
    "\n",
    "# uncommenting print(stack.pop()) \n",
    "# will cause an IndexError \n",
    "# as the stack is now empty "
   ]
  },
  {
   "cell_type": "markdown",
   "metadata": {},
   "source": [
    "# Some Built-In Functions"
   ]
  },
  {
   "cell_type": "code",
   "execution_count": 22,
   "metadata": {},
   "outputs": [],
   "source": [
    "l = []\n",
    "l.append(1)"
   ]
  },
  {
   "cell_type": "code",
   "execution_count": 24,
   "metadata": {},
   "outputs": [],
   "source": [
    "l.append('hello')"
   ]
  },
  {
   "cell_type": "code",
   "execution_count": 25,
   "metadata": {},
   "outputs": [
    {
     "data": {
      "text/plain": [
       "[1, 'hello']"
      ]
     },
     "execution_count": 25,
     "metadata": {},
     "output_type": "execute_result"
    }
   ],
   "source": [
    "l"
   ]
  },
  {
   "cell_type": "code",
   "execution_count": 26,
   "metadata": {},
   "outputs": [],
   "source": [
    "l.remove(1)"
   ]
  },
  {
   "cell_type": "code",
   "execution_count": 27,
   "metadata": {},
   "outputs": [
    {
     "data": {
      "text/plain": [
       "['hello']"
      ]
     },
     "execution_count": 27,
     "metadata": {},
     "output_type": "execute_result"
    }
   ],
   "source": [
    "l"
   ]
  },
  {
   "cell_type": "code",
   "execution_count": 28,
   "metadata": {},
   "outputs": [],
   "source": [
    "l.remove('hello')"
   ]
  },
  {
   "cell_type": "code",
   "execution_count": 29,
   "metadata": {},
   "outputs": [
    {
     "data": {
      "text/plain": [
       "[]"
      ]
     },
     "execution_count": 29,
     "metadata": {},
     "output_type": "execute_result"
    }
   ],
   "source": [
    "l"
   ]
  },
  {
   "cell_type": "code",
   "execution_count": 31,
   "metadata": {},
   "outputs": [],
   "source": [
    "l = [1,2,3,4,5]"
   ]
  },
  {
   "cell_type": "code",
   "execution_count": 34,
   "metadata": {},
   "outputs": [],
   "source": [
    "del l[0]"
   ]
  },
  {
   "cell_type": "code",
   "execution_count": 35,
   "metadata": {},
   "outputs": [
    {
     "data": {
      "text/plain": [
       "[3, 4, 5]"
      ]
     },
     "execution_count": 35,
     "metadata": {},
     "output_type": "execute_result"
    }
   ],
   "source": [
    "l"
   ]
  },
  {
   "cell_type": "code",
   "execution_count": 37,
   "metadata": {},
   "outputs": [],
   "source": [
    "del l[1]"
   ]
  },
  {
   "cell_type": "code",
   "execution_count": 38,
   "metadata": {},
   "outputs": [
    {
     "data": {
      "text/plain": [
       "[3, 5]"
      ]
     },
     "execution_count": 38,
     "metadata": {},
     "output_type": "execute_result"
    }
   ],
   "source": [
    "l"
   ]
  },
  {
   "cell_type": "code",
   "execution_count": 39,
   "metadata": {},
   "outputs": [],
   "source": [
    "l = [1,2,3,4,5,6]"
   ]
  },
  {
   "cell_type": "code",
   "execution_count": 40,
   "metadata": {},
   "outputs": [
    {
     "data": {
      "text/plain": [
       "1"
      ]
     },
     "execution_count": 40,
     "metadata": {},
     "output_type": "execute_result"
    }
   ],
   "source": [
    "l.pop(0)"
   ]
  },
  {
   "cell_type": "code",
   "execution_count": 41,
   "metadata": {},
   "outputs": [
    {
     "data": {
      "text/plain": [
       "2"
      ]
     },
     "execution_count": 41,
     "metadata": {},
     "output_type": "execute_result"
    }
   ],
   "source": [
    "l.pop(0)"
   ]
  },
  {
   "cell_type": "code",
   "execution_count": 42,
   "metadata": {},
   "outputs": [
    {
     "data": {
      "text/plain": [
       "6"
      ]
     },
     "execution_count": 42,
     "metadata": {},
     "output_type": "execute_result"
    }
   ],
   "source": [
    "l.pop(3)"
   ]
  },
  {
   "cell_type": "code",
   "execution_count": 43,
   "metadata": {},
   "outputs": [],
   "source": [
    "l = [1,2,3,4,5,6]"
   ]
  },
  {
   "cell_type": "code",
   "execution_count": 44,
   "metadata": {},
   "outputs": [],
   "source": [
    "del l"
   ]
  },
  {
   "cell_type": "code",
   "execution_count": 46,
   "metadata": {},
   "outputs": [],
   "source": [
    "l = [1,2,3]"
   ]
  },
  {
   "cell_type": "code",
   "execution_count": 47,
   "metadata": {},
   "outputs": [],
   "source": [
    "l.insert(0,9)"
   ]
  },
  {
   "cell_type": "code",
   "execution_count": 48,
   "metadata": {},
   "outputs": [
    {
     "data": {
      "text/plain": [
       "[9, 1, 2, 3]"
      ]
     },
     "execution_count": 48,
     "metadata": {},
     "output_type": "execute_result"
    }
   ],
   "source": [
    "l"
   ]
  },
  {
   "cell_type": "code",
   "execution_count": 49,
   "metadata": {},
   "outputs": [],
   "source": [
    "l.insert(6,0)"
   ]
  },
  {
   "cell_type": "code",
   "execution_count": 50,
   "metadata": {},
   "outputs": [
    {
     "data": {
      "text/plain": [
       "[9, 1, 2, 3, 0]"
      ]
     },
     "execution_count": 50,
     "metadata": {},
     "output_type": "execute_result"
    }
   ],
   "source": [
    "l"
   ]
  },
  {
   "cell_type": "code",
   "execution_count": 51,
   "metadata": {},
   "outputs": [
    {
     "data": {
      "text/plain": [
       "4"
      ]
     },
     "execution_count": 51,
     "metadata": {},
     "output_type": "execute_result"
    }
   ],
   "source": [
    "l.index(0)"
   ]
  },
  {
   "cell_type": "code",
   "execution_count": 53,
   "metadata": {},
   "outputs": [
    {
     "data": {
      "text/plain": [
       "1"
      ]
     },
     "execution_count": 53,
     "metadata": {},
     "output_type": "execute_result"
    }
   ],
   "source": [
    "l.index(1)"
   ]
  },
  {
   "cell_type": "code",
   "execution_count": 54,
   "metadata": {},
   "outputs": [],
   "source": [
    "l = [9,8,7,6,5]"
   ]
  },
  {
   "cell_type": "code",
   "execution_count": 59,
   "metadata": {},
   "outputs": [],
   "source": [
    "l.extend('k')"
   ]
  },
  {
   "cell_type": "code",
   "execution_count": 61,
   "metadata": {},
   "outputs": [],
   "source": [
    "l.extend('1')"
   ]
  },
  {
   "cell_type": "code",
   "execution_count": 64,
   "metadata": {},
   "outputs": [],
   "source": [
    "l.extend('0')"
   ]
  },
  {
   "cell_type": "code",
   "execution_count": 65,
   "metadata": {},
   "outputs": [
    {
     "data": {
      "text/plain": [
       "[9, 8, 7, 6, 5, 'k', 'k', '1', '1', '0']"
      ]
     },
     "execution_count": 65,
     "metadata": {},
     "output_type": "execute_result"
    }
   ],
   "source": [
    "l"
   ]
  },
  {
   "cell_type": "markdown",
   "metadata": {},
   "source": [
    "# <font color='orange'>Queue</font>"
   ]
  },
  {
   "cell_type": "code",
   "execution_count": 78,
   "metadata": {},
   "outputs": [
    {
     "name": "stdout",
     "output_type": "stream",
     "text": [
      "Enter the size of Queue3\n",
      "Press 1 for Enque\n",
      "Press 2 for Deque\n",
      "Press 3 for display\n",
      "Anything to comeout1\n",
      "Enter the value5\n",
      "Press 1 for Enque\n",
      "Press 2 for Deque\n",
      "Press 3 for display\n",
      "Anything to comeout1\n",
      "Enter the value9\n",
      "Press 1 for Enque\n",
      "Press 2 for Deque\n",
      "Press 3 for display\n",
      "Anything to comeout1\n",
      "Enter the value8\n",
      "Press 1 for Enque\n",
      "Press 2 for Deque\n",
      "Press 3 for display\n",
      "Anything to comeout3\n",
      "5 9 8 \n",
      "Press 1 for Enque\n",
      "Press 2 for Deque\n",
      "Press 3 for display\n",
      "Anything to comeout2\n",
      "Press 1 for Enque\n",
      "Press 2 for Deque\n",
      "Press 3 for display\n",
      "Anything to comeout3\n",
      "9 8 \n",
      "Press 1 for Enque\n",
      "Press 2 for Deque\n",
      "Press 3 for display\n",
      "Anything to comeout2\n",
      "Press 1 for Enque\n",
      "Press 2 for Deque\n",
      "Press 3 for display\n",
      "Anything to comeout3\n",
      "8 \n",
      "Press 1 for Enque\n",
      "Press 2 for Deque\n",
      "Press 3 for display\n",
      "Anything to comeout2\n",
      "Press 1 for Enque\n",
      "Press 2 for Deque\n",
      "Press 3 for display\n",
      "Anything to comeout3\n",
      "Queue is Empty\n",
      "Press 1 for Enque\n",
      "Press 2 for Deque\n",
      "Press 3 for display\n",
      "Anything to comeouto\n"
     ]
    }
   ],
   "source": [
    "def enque(q,f,n):\n",
    "    if f == n-1:\n",
    "        print('Queue is full')\n",
    "        return f\n",
    "    f += 1\n",
    "    q[f] = int(input('Enter the value'))\n",
    "    return f\n",
    "\n",
    "def deque(q,r,f):\n",
    "    if r > f:\n",
    "        print('Queue is Empty')\n",
    "        return r\n",
    "    q[r] = 0\n",
    "    r += 1\n",
    "    return r\n",
    "\n",
    "def display(q,f,r):\n",
    "    if r > f:\n",
    "        print('Queue is Empty')\n",
    "        return\n",
    "    for i in range(r,f+1):\n",
    "        print(q[i],end =' ')\n",
    "    print()\n",
    "        \n",
    "\n",
    "def main():\n",
    "    n = int(input('Enter the size of Queue'))\n",
    "    q = [0]*n\n",
    "    f,r = -1,0\n",
    "    while True:\n",
    "        ch = input('Press 1 for Enque\\nPress 2 for Deque\\nPress 3 for display\\nAnything to comeout')\n",
    "        if ch == '1':\n",
    "            f = enque(q,f,n)\n",
    "        elif ch == '2':\n",
    "            r = deque(q,r,f)\n",
    "        elif ch == '3':\n",
    "            display(q,f,r)\n",
    "        else:\n",
    "            break\n",
    "            \n",
    "    \n",
    "if __name__=='__main__':\n",
    "    main()       "
   ]
  },
  {
   "cell_type": "markdown",
   "metadata": {},
   "source": [
    "# <font color='purple'>Linked List</font>"
   ]
  },
  {
   "cell_type": "code",
   "execution_count": null,
   "metadata": {},
   "outputs": [
    {
     "name": "stdout",
     "output_type": "stream",
     "text": [
      "--------------------------------------------------\n"
     ]
    }
   ],
   "source": [
    "class Node:\n",
    "    global first,last\n",
    "    def __init__(self,data,addr=None):\n",
    "        self.data = data\n",
    "        self.addr = addr\n",
    "        first,last,prev,temp,ptr = None,None,None,None,None\n",
    "\n",
    "def create_node():\n",
    "\n",
    "    data = int(input('Enter the data'))\n",
    "    node = Node(data)\n",
    "    return Node\n",
    "\n",
    "def insert_node_first():\n",
    "    global first,last\n",
    "    newnode = create_node()\n",
    "    if first == None and last == None:\n",
    "        first = newnode\n",
    "        last = newnode\n",
    "    else:\n",
    "        newnode.addr = first\n",
    "        first = newnode\n",
    "\n",
    "def delete_first_node():\n",
    "    global first,last\n",
    "    if first == None and last == None:\n",
    "        print('Empty list')\n",
    "        return None\n",
    "    if first == last:\n",
    "        ptr = first\n",
    "        first = None\n",
    "        last = None\n",
    "    else:\n",
    "        ptr = first\n",
    "        first = ptr.addr\n",
    "        ptr.addr = None\n",
    "    return ptr\n",
    "\n",
    "def insert_node_last():\n",
    "    global first,last\n",
    "    newnode = create_node()\n",
    "    if first == None and last == None:\n",
    "        first = newnode\n",
    "        last = newnode\n",
    "        return\n",
    "    last,addr = newnode\n",
    "    last = newnode\n",
    "    \n",
    "    \n",
    "def delete_last_node():\n",
    "    global first,last\n",
    "    if first == None and last == None:\n",
    "        print('Empty list')\n",
    "        return None\n",
    "    if first == last:\n",
    "        ptr = first\n",
    "        first = None\n",
    "        last = None\n",
    "    else:\n",
    "        ptr = first\n",
    "        while ptr.addr!=None:\n",
    "            prev = ptr\n",
    "            ptr = ptr.addr\n",
    "        prev.addr = None\n",
    "        last = prev\n",
    "    return ptr\n",
    "\n",
    "def insert_node_pos(pos=0):\n",
    "    global first,last\n",
    "    if pos == 0:\n",
    "        pos = int(input('Enter the position'))\n",
    "    if first == None and last == None:\n",
    "        insert_node_first()\n",
    "        return\n",
    "    count = 0\n",
    "    ptr = first\n",
    "    while ptr.addr!=None:\n",
    "        count += 1\n",
    "        ptr = ptr.addr\n",
    "    if pos<0:\n",
    "        insert_node_first()\n",
    "        return\n",
    "    if pos>=count:\n",
    "        insert_node_last()\n",
    "        return\n",
    "    ptr = first\n",
    "    for i in range(0,pos):\n",
    "        prev = ptr\n",
    "        ptr = ptr.addr\n",
    "    newnode = create_node()\n",
    "    newnode.addr = ptr\n",
    "    prev.addr = newnode\n",
    "\n",
    "def display():\n",
    "    global first,last\n",
    "    if first == None and last == None:\n",
    "        print('Empty list')\n",
    "        return\n",
    "    ptr = first\n",
    "    print('the value in the node are')\n",
    "    while ptr!=None:\n",
    "        print(ptr.data,end=' ')\n",
    "        ptr=ptr.addr\n",
    "    print()\n",
    "print('-'*50)\n",
    "insert_node_last()\n",
    "display()        "
   ]
  },
  {
   "cell_type": "markdown",
   "metadata": {},
   "source": [
    "# <font color='purple'>Single Linked List</font>"
   ]
  },
  {
   "cell_type": "code",
   "execution_count": 1,
   "metadata": {},
   "outputs": [
    {
     "name": "stdout",
     "output_type": "stream",
     "text": [
      "Enter the data1\n",
      "Enter the data2\n",
      "Enter the data3\n",
      "Enter the data4\n",
      "4\n",
      "1234\n",
      "1\n",
      "2\n",
      "13\n",
      "Enter the data9\n",
      "193\n"
     ]
    }
   ],
   "source": [
    "class Node:\n",
    "    def __init__(self,data,addr=None):\n",
    "        self.data = data\n",
    "        self.addr = addr\n",
    "    def get_nextaddr(self):\n",
    "        return self.addr\n",
    "    def get_value(self):\n",
    "        return self.data\n",
    "    def set_nextaddr(self,addr):\n",
    "        self.addr = addr\n",
    "        \n",
    "class LinkedList:\n",
    "    def __init__(self):\n",
    "        self.first = None\n",
    "        self.last = None\n",
    "    def isEmpty(self):\n",
    "        return self.first == None and self.last == None\n",
    "    def create_node(self):\n",
    "        data = self.get_dataip()\n",
    "        newnode = Node(data)\n",
    "        return newnode\n",
    "    def insert_beginnig(self,newnode):\n",
    "        self.first=newnode\n",
    "        self.last=newnode\n",
    "    def append(self):\n",
    "        newnode=self.create_node()\n",
    "        if self.isEmpty():\n",
    "            self.insert_beginnig(newnode)\n",
    "        self.last.set_nextaddr(newnode)\n",
    "        self.last=newnode\n",
    "    def insert(self,pos):\n",
    "        newnode=self.create_node()\n",
    "        if self.isEmpty():\n",
    "            self.insert_beginnig(newnode)\n",
    "        if pos==0:\n",
    "            newnode.set_nextaddr(self.first)\n",
    "            self.first=newnode\n",
    "        if pos<=len(self):\n",
    "            ptr=self.first\n",
    "            for i in range(0,pos):\n",
    "                self.prev = ptr\n",
    "                ptr = ptr.get_nextaddr()\n",
    "                if pos<=len(self):\n",
    "                    self.prev.set_nextaddr(newnode)\n",
    "                    newnode.set_nextaddr(ptr)\n",
    "                else:\n",
    "                    self.last.set_nextaddr(newnode)\n",
    "                    self.last=newnode\n",
    "        else:\n",
    "            print('Invalid position')\n",
    "    def pop(self):\n",
    "        if self.isEmpty():\n",
    "            print('List is Empty')\n",
    "            return None\n",
    "        ptr = self.first\n",
    "        if self.first == self.last:\n",
    "            self.insert_beginnig(None)\n",
    "        else:\n",
    "            while ptr.get_nextaddr()!=None:\n",
    "                prev=ptr\n",
    "                ptr=ptr.get_nextaddr()\n",
    "            prev.set_nextaddr(None)\n",
    "            self.last=None\n",
    "        return ptr\n",
    "    def remove(self,pos):\n",
    "        if self.isEmpty():\n",
    "            print('List is Empty')\n",
    "            return None\n",
    "        ptr=self.first\n",
    "        if pos<0 and pos>len(self)-1:\n",
    "            print('Invalid position')\n",
    "            return None\n",
    "        else:\n",
    "            for i in range(0,pos):\n",
    "                prev=ptr\n",
    "                ptr=ptr.get_nextaddr()\n",
    "            if pos!=0:\n",
    "                prev.set_nextaddr(ptr.get_nextaddr())\n",
    "            ptr.set_nextaddr(None)\n",
    "            if pos==len(self)-1:\n",
    "                self.last=None\n",
    "            if pos==0:\n",
    "                self.first=self.first.get_nextaddr()\n",
    "            return ptr\n",
    "    def __str__(self):\n",
    "        ptr=self.first\n",
    "        data=\"\"\n",
    "        while ptr!=None:\n",
    "            data+=str(ptr.get_value())+\"\"\n",
    "            ptr=ptr.get_nextaddr()\n",
    "        return data\n",
    "    def __getitem__(self,index):\n",
    "        if index<0:\n",
    "            index=len(l)+index\n",
    "        if index>=0 and index<len(self):\n",
    "            ptr=self.first\n",
    "            for i in range(index):\n",
    "                ptr=ptr.get_nextaddr()\n",
    "            return ptr.get_value()\n",
    "    def __len__(self):\n",
    "        ptr=self.first\n",
    "        count=0\n",
    "        while ptr!=None:\n",
    "            ptr=ptr.get_nextaddr()\n",
    "            count+=1\n",
    "        return count\n",
    "    @staticmethod\n",
    "    def get_dataip():\n",
    "        return int(input('Enter the data'))\n",
    "\n",
    "l=LinkedList()\n",
    "l.append()\n",
    "l.append()\n",
    "l.append()\n",
    "l.append()\n",
    "print(len(l))\n",
    "print(l)\n",
    "print(l[0]) \n",
    "print(l.__getitem__(1))\n",
    "l.pop()\n",
    "l.remove(1)\n",
    "print(l)\n",
    "l.insert(1)\n",
    "print(l)"
   ]
  },
  {
   "cell_type": "code",
   "execution_count": 4,
   "metadata": {},
   "outputs": [
    {
     "name": "stdout",
     "output_type": "stream",
     "text": [
      "a\n",
      "b\n",
      "c\n",
      "d\n"
     ]
    }
   ],
   "source": [
    "d=['a','b','c','d']\n",
    "for i in d:\n",
    "    print(i)"
   ]
  },
  {
   "cell_type": "code",
   "execution_count": 14,
   "metadata": {},
   "outputs": [
    {
     "name": "stdout",
     "output_type": "stream",
     "text": [
      "I\n",
      " \n",
      "a\n",
      "m\n",
      " \n",
      "a\n",
      " \n",
      "D\n",
      "a\n",
      "t\n",
      "a\n",
      " \n",
      "S\n",
      "c\n",
      "i\n",
      "e\n",
      "n\n",
      "t\n",
      "i\n",
      "s\n",
      "t\n"
     ]
    }
   ],
   "source": [
    "s='I am a Data Scientist'\n",
    "for i in s:\n",
    "    print(i)"
   ]
  },
  {
   "cell_type": "code",
   "execution_count": 1,
   "metadata": {},
   "outputs": [
    {
     "data": {
      "text/plain": [
       "'hantoss'"
      ]
     },
     "execution_count": 1,
     "metadata": {},
     "output_type": "execute_result"
    }
   ],
   "source": [
    "s='santosh'\n",
    "a=s[1:6]\n",
    "b=s[0]\n",
    "c=s[6]\n",
    "z=c+a+b\n",
    "z"
   ]
  },
  {
   "cell_type": "code",
   "execution_count": 2,
   "metadata": {},
   "outputs": [
    {
     "name": "stdout",
     "output_type": "stream",
     "text": [
      "Enter namearjun\n"
     ]
    },
    {
     "data": {
      "text/plain": [
       "'nrjua'"
      ]
     },
     "execution_count": 2,
     "metadata": {},
     "output_type": "execute_result"
    }
   ],
   "source": [
    "s=input('Enter name')\n",
    "s[-1]+s[1:len(s)-1]+s[0]"
   ]
  },
  {
   "cell_type": "markdown",
   "metadata": {},
   "source": [
    "# Lambda Expression"
   ]
  },
  {
   "cell_type": "code",
   "execution_count": 27,
   "metadata": {},
   "outputs": [
    {
     "data": {
      "text/plain": [
       "7"
      ]
     },
     "execution_count": 27,
     "metadata": {},
     "output_type": "execute_result"
    }
   ],
   "source": [
    "var = lambda a,b: a+b\n",
    "var(2,5)"
   ]
  },
  {
   "cell_type": "code",
   "execution_count": 31,
   "metadata": {},
   "outputs": [
    {
     "data": {
      "text/plain": [
       "True"
      ]
     },
     "execution_count": 31,
     "metadata": {},
     "output_type": "execute_result"
    }
   ],
   "source": [
    "iseven = lambda n:n%2==0\n",
    "iseven(4)"
   ]
  },
  {
   "cell_type": "code",
   "execution_count": 37,
   "metadata": {},
   "outputs": [
    {
     "data": {
      "text/plain": [
       "False"
      ]
     },
     "execution_count": 37,
     "metadata": {},
     "output_type": "execute_result"
    }
   ],
   "source": [
    "isalphanumeric =lambda x:x>='a' and x<='z' or x>='A' and x<='Z' or x>='0' and x<='9'\n",
    "isalphanumeric('*')"
   ]
  },
  {
   "cell_type": "code",
   "execution_count": null,
   "metadata": {},
   "outputs": [],
   "source": [
    "spacial = lambda ch not(ch>='a' and ch<='z' or ch>='A' and ch<='Z' or ch>='0' and ch)"
   ]
  },
  {
   "cell_type": "code",
   "execution_count": null,
   "metadata": {},
   "outputs": [],
   "source": []
  },
  {
   "cell_type": "code",
   "execution_count": null,
   "metadata": {},
   "outputs": [],
   "source": []
  },
  {
   "cell_type": "code",
   "execution_count": null,
   "metadata": {},
   "outputs": [],
   "source": []
  },
  {
   "cell_type": "code",
   "execution_count": null,
   "metadata": {},
   "outputs": [],
   "source": []
  },
  {
   "cell_type": "markdown",
   "metadata": {},
   "source": [
    "# Maps"
   ]
  },
  {
   "cell_type": "code",
   "execution_count": 18,
   "metadata": {},
   "outputs": [
    {
     "data": {
      "text/plain": [
       "[11, 12, 13, 14]"
      ]
     },
     "execution_count": 18,
     "metadata": {},
     "output_type": "execute_result"
    }
   ],
   "source": [
    "m = list(map(lambda x:x+10,[1,2,3,4]))\n",
    "m"
   ]
  },
  {
   "cell_type": "code",
   "execution_count": 23,
   "metadata": {},
   "outputs": [
    {
     "name": "stdout",
     "output_type": "stream",
     "text": [
      "[11, 12, 13, 14]\n"
     ]
    }
   ],
   "source": [
    "def add(a,b):\n",
    "    return a+b\n",
    "add(3,3)\n",
    "\n",
    "def add10(l):\n",
    "    for i in range(len(l)):\n",
    "        l[i] = add(l[i],10)\n",
    "    return l\n",
    "print(add10([1,2,3,4]))    \n"
   ]
  },
  {
   "cell_type": "code",
   "execution_count": 72,
   "metadata": {},
   "outputs": [
    {
     "data": {
      "text/plain": [
       "1"
      ]
     },
     "execution_count": 72,
     "metadata": {},
     "output_type": "execute_result"
    }
   ],
   "source": [
    "def fact(n):\n",
    "    for i in [0,1]:\n",
    "        return 1\n",
    "    return n*(n-1)\n",
    "fact(8)"
   ]
  },
  {
   "cell_type": "code",
   "execution_count": 94,
   "metadata": {},
   "outputs": [
    {
     "data": {
      "text/plain": [
       "True"
      ]
     },
     "execution_count": 94,
     "metadata": {},
     "output_type": "execute_result"
    }
   ],
   "source": [
    "def fact(n):\n",
    "    for i in [0,1]:\n",
    "        return True\n",
    "    return False\n",
    "fact(5)"
   ]
  },
  {
   "cell_type": "code",
   "execution_count": 104,
   "metadata": {},
   "outputs": [
    {
     "data": {
      "text/plain": [
       "16"
      ]
     },
     "execution_count": 104,
     "metadata": {},
     "output_type": "execute_result"
    }
   ],
   "source": [
    "def coun(n):\n",
    "    return n**2\n",
    "coun(4)"
   ]
  },
  {
   "cell_type": "code",
   "execution_count": 107,
   "metadata": {},
   "outputs": [
    {
     "data": {
      "text/plain": [
       "'hantoss'"
      ]
     },
     "execution_count": 107,
     "metadata": {},
     "output_type": "execute_result"
    }
   ],
   "source": [
    "s = 'santosh'\n",
    "s[-1]+s[1:6]+s[0]"
   ]
  },
  {
   "cell_type": "code",
   "execution_count": 118,
   "metadata": {},
   "outputs": [
    {
     "name": "stdout",
     "output_type": "stream",
     "text": [
      "s\n",
      "c\n",
      "i\n",
      "e\n",
      "n\n",
      "t\n",
      "i\n",
      "s\n",
      "t\n"
     ]
    }
   ],
   "source": [
    "s = 'scientist'\n",
    "for i in s:\n",
    "    print(i)"
   ]
  },
  {
   "cell_type": "markdown",
   "metadata": {},
   "source": [
    "# Programs"
   ]
  },
  {
   "cell_type": "markdown",
   "metadata": {},
   "source": [
    "* Write a program to provide below input to get specified output\n",
    "* I/P=ABACDBDAAD\n",
    "* O/P=4A2B1C3D"
   ]
  },
  {
   "cell_type": "code",
   "execution_count": 1,
   "metadata": {},
   "outputs": [
    {
     "name": "stdout",
     "output_type": "stream",
     "text": [
      "4A2B1C3D\n"
     ]
    }
   ],
   "source": [
    "def count(k,s):\n",
    "    c=0\n",
    "    for i in s:\n",
    "        if k==i:\n",
    "            c+=1\n",
    "    return c\n",
    "def sample(s):\n",
    "    res=''\n",
    "    for i in s:\n",
    "        if i not in res:\n",
    "            res=res+str(count(i,s))+i\n",
    "    return res\n",
    "print(sample('ABACDBDAAD'))"
   ]
  },
  {
   "cell_type": "code",
   "execution_count": 2,
   "metadata": {},
   "outputs": [
    {
     "name": "stdout",
     "output_type": "stream",
     "text": [
      "HELLO WORLD\n"
     ]
    }
   ],
   "source": [
    "def toupper(s):\n",
    "    res=''\n",
    "    for i in s:\n",
    "        if i>='a' and i<='z':\n",
    "            res=res+chr(ord(i)-32)\n",
    "        else:\n",
    "            res=res+i\n",
    "    return res\n",
    "print(toupper('hello world'))"
   ]
  },
  {
   "cell_type": "markdown",
   "metadata": {},
   "source": [
    "### To convert the given string to Lower case"
   ]
  },
  {
   "cell_type": "code",
   "execution_count": 6,
   "metadata": {},
   "outputs": [
    {
     "name": "stdout",
     "output_type": "stream",
     "text": [
      "hello world\n"
     ]
    }
   ],
   "source": [
    "def tolower(s):\n",
    "    res=''\n",
    "    for i in s:\n",
    "        if i>='A' and i<='Z':\n",
    "            res=res+chr(ord(i)+32)\n",
    "        else:\n",
    "            res=res+i\n",
    "    return res\n",
    "print(tolower('HELLO WORLD'))"
   ]
  },
  {
   "cell_type": "markdown",
   "metadata": {},
   "source": [
    "### To count vowels present in the given string"
   ]
  },
  {
   "cell_type": "code",
   "execution_count": 29,
   "metadata": {},
   "outputs": [
    {
     "name": "stdout",
     "output_type": "stream",
     "text": [
      "Enter string:treaoub\n",
      "Number of vowels are:\n",
      "4\n"
     ]
    }
   ],
   "source": [
    "string=input(\"Enter string:\")\n",
    "vowels=0\n",
    "for i in string:\n",
    "      if(i=='a' or i=='e' or i=='i' or i=='o' or i=='u' or i=='A' or i=='E' or i=='I' or i=='O' or i=='U'):\n",
    "            vowels=vowels+1\n",
    "print(\"Number of vowels are:\")\n",
    "print(vowels)"
   ]
  },
  {
   "cell_type": "code",
   "execution_count": 24,
   "metadata": {},
   "outputs": [
    {
     "name": "stdout",
     "output_type": "stream",
     "text": [
      "No.of vowel(s) :  2\n"
     ]
    }
   ],
   "source": [
    "def vowel_count(s):\n",
    "    count = 0\n",
    "    vowel = 'aeiouAEIOU'\n",
    "    for i in s:\n",
    "        if i in vowel:\n",
    "            count=count+1\n",
    "    print('No.of vowel(s) : ',count)\n",
    "\n",
    "s='aesfnsv'\n",
    "vowel_count(s)"
   ]
  },
  {
   "cell_type": "markdown",
   "metadata": {},
   "source": [
    "### To count consonants present in the given string"
   ]
  },
  {
   "cell_type": "code",
   "execution_count": 27,
   "metadata": {},
   "outputs": [
    {
     "name": "stdout",
     "output_type": "stream",
     "text": [
      "No.of consonants :  4\n"
     ]
    }
   ],
   "source": [
    "def vowel_count(s):\n",
    "    count = 0\n",
    "    vowel = 'aeiouAEIOU'\n",
    "    for i in s:\n",
    "        if i not in vowel:\n",
    "            count=count+1\n",
    "    print('No.of consonants : ',count)\n",
    "\n",
    "s='gghg'\n",
    "vowel_count(s)"
   ]
  },
  {
   "cell_type": "code",
   "execution_count": 36,
   "metadata": {},
   "outputs": [
    {
     "name": "stdout",
     "output_type": "stream",
     "text": [
      "Enter string:dghsk\n",
      "Number of consonant:\n",
      "5\n"
     ]
    }
   ],
   "source": [
    "string=input(\"Enter string:\")\n",
    "vowels=0\n",
    "consonant=0\n",
    "for i in string:\n",
    "    if(i=='a' or i=='e' or i=='i' or i=='o' or i=='u' or i=='A' or i=='E' or i=='I' or i=='O' or i=='U'):\n",
    "            vowels=vowels+1\n",
    "    else:\n",
    "        consonant=consonant+1\n",
    "            \n",
    "print(\"Number of consonant:\")\n",
    "print(consonant)"
   ]
  },
  {
   "cell_type": "markdown",
   "metadata": {},
   "source": [
    "### To count special symbols present in given string"
   ]
  },
  {
   "cell_type": "code",
   "execution_count": 29,
   "metadata": {},
   "outputs": [
    {
     "name": "stdout",
     "output_type": "stream",
     "text": [
      "Enter string:fsgdg@3%\n",
      "Number of special symbols:\n",
      "2\n"
     ]
    }
   ],
   "source": [
    "string=input(\"Enter string:\")\n",
    "vowels=0\n",
    "special =0\n",
    "for i in string:\n",
    "    if(i>='a' and i<='z' or i>='A' and i<='Z' or i>='0' and i<='9' or i==' '):\n",
    "            vowels=vowels+1\n",
    "    else:\n",
    "            special=special+1\n",
    "print(\"Number of special symbols:\")\n",
    "print(special)"
   ]
  },
  {
   "cell_type": "code",
   "execution_count": 43,
   "metadata": {},
   "outputs": [
    {
     "name": "stdout",
     "output_type": "stream",
     "text": [
      "hdgsddbgabsdc\n",
      "abbcddddgghss\n"
     ]
    }
   ],
   "source": [
    "def stringSort(string):\n",
    "    l=list(string)\n",
    "    l.sort()\n",
    "    s=\"\"\n",
    "    for i in l:\n",
    "        s=s+i\n",
    "    return s\n",
    "\n",
    "if __name__==\"__main__\":\n",
    "    string=input()\n",
    "    print(stringSort(string))"
   ]
  },
  {
   "cell_type": "code",
   "execution_count": 49,
   "metadata": {},
   "outputs": [
    {
     "name": "stdout",
     "output_type": "stream",
     "text": [
      "0 1 1 2 3 5 8 13 21 34 "
     ]
    }
   ],
   "source": [
    "def fibonacci(n):\n",
    "    f1=0\n",
    "    f2=1\n",
    "    print(f1,f2,end=\" \")\n",
    "    for i in range(2,n):\n",
    "        f3=f1+f2\n",
    "        f1=f2\n",
    "        f2=f3\n",
    "        print(f3,end=\" \")\n",
    "        \n",
    "fibonacci(10)     "
   ]
  },
  {
   "cell_type": "code",
   "execution_count": 57,
   "metadata": {},
   "outputs": [
    {
     "name": "stdout",
     "output_type": "stream",
     "text": [
      "santhosh\n",
      "String is not Polindrome\n",
      "\n"
     ]
    }
   ],
   "source": [
    "def ispolindrome(string):\n",
    "    temp=\"\"\n",
    "    for i in string:\n",
    "        temp=i+temp\n",
    "    if temp==string:\n",
    "        print(\"String is Polindrome\")\n",
    "    else:\n",
    "        print(\"String is not Polindrome\")\n",
    "    return \"\"\n",
    "string=input()\n",
    "print(ispolindrome(string))"
   ]
  },
  {
   "cell_type": "code",
   "execution_count": 65,
   "metadata": {},
   "outputs": [
    {
     "name": "stdout",
     "output_type": "stream",
     "text": [
      "30\n"
     ]
    }
   ],
   "source": [
    "def gcd(n,m):\n",
    "    gfact=1\n",
    "    i=2\n",
    "    if n%i==0 and m%i==0:\n",
    "        gfact=gfact*i\n",
    "        n=n//i\n",
    "        m=m//i\n",
    "    \n",
    "    print(gfact)\n",
    "    \n",
    "gcd(30,180)"
   ]
  },
  {
   "cell_type": "code",
   "execution_count": 79,
   "metadata": {},
   "outputs": [
    {
     "name": "stdout",
     "output_type": "stream",
     "text": [
      "[2, 4, 4, 4, 6, 6, 7]\n"
     ]
    }
   ],
   "source": [
    "l=[4,4,6,6,7,2,4]\n",
    "l.sort()\n",
    "print(l)"
   ]
  },
  {
   "cell_type": "code",
   "execution_count": 85,
   "metadata": {},
   "outputs": [
    {
     "data": {
      "text/plain": [
       "120"
      ]
     },
     "execution_count": 85,
     "metadata": {},
     "output_type": "execute_result"
    }
   ],
   "source": [
    "def factorial(n):\n",
    "    return 1 if(n==0 or n==1) else n*factorial(n-1)\n",
    "factorial(5)"
   ]
  },
  {
   "cell_type": "code",
   "execution_count": null,
   "metadata": {},
   "outputs": [],
   "source": []
  },
  {
   "cell_type": "code",
   "execution_count": 96,
   "metadata": {},
   "outputs": [
    {
     "data": {
      "text/plain": [
       "34"
      ]
     },
     "execution_count": 96,
     "metadata": {},
     "output_type": "execute_result"
    }
   ],
   "source": [
    "def sumarr(arr):\n",
    "    return sum(arr)\n",
    "arr=[12,3,4,15]\n",
    "sumarr(arr)"
   ]
  },
  {
   "cell_type": "code",
   "execution_count": 101,
   "metadata": {},
   "outputs": [
    {
     "data": {
      "text/plain": [
       "19"
      ]
     },
     "execution_count": 101,
     "metadata": {},
     "output_type": "execute_result"
    }
   ],
   "source": [
    "def sumarr(arr):\n",
    "    return sum(arr)\n",
    "arr= [1,9,9]\n",
    "sumarr(arr)"
   ]
  },
  {
   "cell_type": "code",
   "execution_count": 111,
   "metadata": {},
   "outputs": [
    {
     "name": "stdout",
     "output_type": "stream",
     "text": [
      "[1, 2, 3, 5, 8, 9]\n"
     ]
    }
   ],
   "source": [
    "arr=[1,5,3,8,9,2]\n",
    "n=len(arr)\n",
    "for i in range(n):\n",
    "    for j in range(n-i-1):\n",
    "        if arr[j]>arr[j+1]:\n",
    "            arr[j],arr[j+1]=arr[j+1],arr[j]\n",
    "print(arr)"
   ]
  },
  {
   "cell_type": "code",
   "execution_count": 112,
   "metadata": {},
   "outputs": [
    {
     "name": "stdout",
     "output_type": "stream",
     "text": [
      "[1, 2, 4, 6, 9]\n"
     ]
    }
   ],
   "source": [
    "l=[2,4,9,6,1]\n",
    "m=len(l)\n",
    "for i in range(m):\n",
    "    for j in range(m-i-1):\n",
    "        if l[j]>l[j+1]:\n",
    "            l[j],l[j+1]=l[j+1],l[j]\n",
    "print(l)"
   ]
  },
  {
   "cell_type": "code",
   "execution_count": 132,
   "metadata": {},
   "outputs": [
    {
     "name": "stdout",
     "output_type": "stream",
     "text": [
      "Original list : [1, 4, 5, 8, 10]\n",
      "Yes, List is sorted.\n"
     ]
    }
   ],
   "source": [
    "# Python3 code to demonstrate \n",
    "# to check if list is sorted \n",
    "# using naive method \n",
    "\n",
    "# initializing list \n",
    "test_list = [1, 4, 5, 8, 10] \n",
    "\n",
    "# printing original list \n",
    "print (\"Original list : \" + str(test_list)) \n",
    "\n",
    "# using naive method to \n",
    "# check sorted list \n",
    "flag = 0\n",
    "i = 1\n",
    "while i < len(test_list): \n",
    "\tif(test_list[i] < test_list[i - 1]): \n",
    "\t\tflag = 1\n",
    "\ti += 1\n",
    "\t\n",
    "# printing result \n",
    "if (not flag) : \n",
    "\tprint (\"Yes, List is sorted.\") \n",
    "else : \n",
    "\tprint (\"No, List is not sorted.\") \n",
    "\n"
   ]
  },
  {
   "cell_type": "code",
   "execution_count": 133,
   "metadata": {},
   "outputs": [
    {
     "name": "stdout",
     "output_type": "stream",
     "text": [
      "Original list : [10, 4, 5, 8, 10]\n",
      "No, List is not sorted.\n"
     ]
    }
   ],
   "source": [
    "# Python3 code to demonstrate \n",
    "# to check if list is sorted \n",
    "# using sort() \n",
    "\n",
    "# initializing list \n",
    "test_list = [10, 4, 5, 8, 10] \n",
    "\n",
    "# printing original list \n",
    "print (\"Original list : \" + str(test_list)) \n",
    "\n",
    "# using sort() to \n",
    "# check sorted list \n",
    "flag = 0\n",
    "test_list1 = test_list[:] \n",
    "test_list1.sort() \n",
    "if (test_list1 == test_list): \n",
    "\tflag = 1\n",
    "\t\n",
    "# printing result \n",
    "if (flag) : \n",
    "\tprint (\"Yes, List is sorted.\") \n",
    "else : \n",
    "\tprint (\"No, List is not sorted.\") \n",
    "\n"
   ]
  },
  {
   "cell_type": "code",
   "execution_count": 137,
   "metadata": {},
   "outputs": [
    {
     "name": "stdout",
     "output_type": "stream",
     "text": [
      "Original list : [1, 4, 5, 8, 10]\n",
      "Yes, List is sorted.\n"
     ]
    }
   ],
   "source": [
    "test_list = [1, 4, 5, 8, 10] \n",
    "print (\"Original list : \" + str(test_list)) \n",
    "flag = 0\n",
    "if(test_list == sorted(test_list)): \n",
    "    flag = 1 \n",
    "if (flag) : \n",
    "    print (\"Yes, List is sorted.\") \n",
    "else : \n",
    "    print (\"No, List is not sorted.\") "
   ]
  },
  {
   "cell_type": "code",
   "execution_count": 148,
   "metadata": {},
   "outputs": [
    {
     "name": "stdout",
     "output_type": "stream",
     "text": [
      "Original list : [1, 4, 4, 9]\n",
      "Sorted\n"
     ]
    }
   ],
   "source": [
    "l=[1,4,4,9]\n",
    "print('Original list : '+str(l))\n",
    "c=0\n",
    "if(l==sorted(l)):\n",
    "    c=1\n",
    "if (c):\n",
    "    print('Sorted')\n",
    "else:\n",
    "    print('Not sorted')"
   ]
  },
  {
   "cell_type": "code",
   "execution_count": 155,
   "metadata": {},
   "outputs": [
    {
     "data": {
      "text/plain": [
       "True"
      ]
     },
     "execution_count": 155,
     "metadata": {},
     "output_type": "execute_result"
    }
   ],
   "source": [
    "def isort():\n",
    "    l=[2,4,5]\n",
    "    return l==sorted(l)\n",
    "isort()"
   ]
  },
  {
   "cell_type": "code",
   "execution_count": 6,
   "metadata": {},
   "outputs": [
    {
     "data": {
      "text/plain": [
       "False"
      ]
     },
     "execution_count": 6,
     "metadata": {},
     "output_type": "execute_result"
    }
   ],
   "source": [
    "def sort():\n",
    "    l=[1,7,6,5]\n",
    "    return l==sorted(l)\n",
    "sort()"
   ]
  },
  {
   "cell_type": "code",
   "execution_count": 10,
   "metadata": {},
   "outputs": [
    {
     "data": {
      "text/plain": [
       "'Dh Sjhagya'"
      ]
     },
     "execution_count": 10,
     "metadata": {},
     "output_type": "execute_result"
    }
   ],
   "source": [
    "s='dh sjhagya'\n",
    "s=s.title()\n",
    "s"
   ]
  },
  {
   "cell_type": "code",
   "execution_count": 13,
   "metadata": {},
   "outputs": [
    {
     "name": "stdout",
     "output_type": "stream",
     "text": [
      "Enter number-1\n",
      "Number is negative\n"
     ]
    }
   ],
   "source": [
    "num = int(input('Enter number'))\n",
    "if num<0:\n",
    "    print('Number is negative')\n",
    "elif num==0:\n",
    "    print('Number is zero')\n",
    "else:\n",
    "    print('Number is positive')"
   ]
  },
  {
   "cell_type": "code",
   "execution_count": 33,
   "metadata": {},
   "outputs": [
    {
     "name": "stdout",
     "output_type": "stream",
     "text": [
      "Enter a year : 2011\n",
      "Not a leap year\n"
     ]
    }
   ],
   "source": [
    "year = int(input('Enter a year : '))\n",
    "if (year%4==0):\n",
    "    if year%100==0:\n",
    "        if year%400==0:\n",
    "            print('Leap year')\n",
    "        else:\n",
    "            print('Not a leap year')\n",
    "    else:\n",
    "        print('Leap year')\n",
    "else:\n",
    "    print('Not a leap year')"
   ]
  },
  {
   "cell_type": "markdown",
   "metadata": {},
   "source": [
    "# Built-In Modules\n",
    "\n",
    "### <font color='purple'>String</font>"
   ]
  },
  {
   "cell_type": "code",
   "execution_count": 10,
   "metadata": {},
   "outputs": [],
   "source": [
    "import string as s"
   ]
  },
  {
   "cell_type": "code",
   "execution_count": 17,
   "metadata": {},
   "outputs": [
    {
     "data": {
      "text/plain": [
       "'abcdefghijklmnopqrstuvwxyzABCDEFGHIJKLMNOPQRSTUVWXYZ'"
      ]
     },
     "execution_count": 17,
     "metadata": {},
     "output_type": "execute_result"
    }
   ],
   "source": [
    "s.ascii_letters"
   ]
  },
  {
   "cell_type": "code",
   "execution_count": 18,
   "metadata": {},
   "outputs": [
    {
     "data": {
      "text/plain": [
       "'abcdefghijklmnopqrstuvwxyz'"
      ]
     },
     "execution_count": 18,
     "metadata": {},
     "output_type": "execute_result"
    }
   ],
   "source": [
    "s.ascii_lowercase"
   ]
  },
  {
   "cell_type": "code",
   "execution_count": 19,
   "metadata": {},
   "outputs": [
    {
     "data": {
      "text/plain": [
       "'ABCDEFGHIJKLMNOPQRSTUVWXYZ'"
      ]
     },
     "execution_count": 19,
     "metadata": {},
     "output_type": "execute_result"
    }
   ],
   "source": [
    "s.ascii_uppercase"
   ]
  },
  {
   "cell_type": "code",
   "execution_count": 32,
   "metadata": {},
   "outputs": [
    {
     "data": {
      "text/plain": [
       "'0123456789abcdefABCDEF'"
      ]
     },
     "execution_count": 32,
     "metadata": {},
     "output_type": "execute_result"
    }
   ],
   "source": [
    "s.hexdigits"
   ]
  },
  {
   "cell_type": "code",
   "execution_count": 33,
   "metadata": {},
   "outputs": [
    {
     "data": {
      "text/plain": [
       "'!\"#$%&\\'()*+,-./:;<=>?@[\\\\]^_`{|}~'"
      ]
     },
     "execution_count": 33,
     "metadata": {},
     "output_type": "execute_result"
    }
   ],
   "source": [
    "s.punctuation"
   ]
  },
  {
   "cell_type": "code",
   "execution_count": 34,
   "metadata": {},
   "outputs": [
    {
     "data": {
      "text/plain": [
       "string.Formatter"
      ]
     },
     "execution_count": 34,
     "metadata": {},
     "output_type": "execute_result"
    }
   ],
   "source": [
    "s.Formatter"
   ]
  },
  {
   "cell_type": "code",
   "execution_count": 37,
   "metadata": {},
   "outputs": [
    {
     "data": {
      "text/plain": [
       "string.Template"
      ]
     },
     "execution_count": 37,
     "metadata": {},
     "output_type": "execute_result"
    }
   ],
   "source": [
    "s.Template"
   ]
  },
  {
   "cell_type": "code",
   "execution_count": 38,
   "metadata": {},
   "outputs": [
    {
     "data": {
      "text/plain": [
       "'01234567'"
      ]
     },
     "execution_count": 38,
     "metadata": {},
     "output_type": "execute_result"
    }
   ],
   "source": [
    "s.octdigits"
   ]
  },
  {
   "cell_type": "code",
   "execution_count": 40,
   "metadata": {},
   "outputs": [
    {
     "data": {
      "text/plain": [
       "'h#e#l#l#o'"
      ]
     },
     "execution_count": 40,
     "metadata": {},
     "output_type": "execute_result"
    }
   ],
   "source": [
    "'#'.join('hello')"
   ]
  },
  {
   "cell_type": "code",
   "execution_count": 41,
   "metadata": {},
   "outputs": [
    {
     "data": {
      "text/plain": [
       "'h'"
      ]
     },
     "execution_count": 41,
     "metadata": {},
     "output_type": "execute_result"
    }
   ],
   "source": [
    "'#'.join('h')"
   ]
  },
  {
   "cell_type": "code",
   "execution_count": 44,
   "metadata": {},
   "outputs": [
    {
     "data": {
      "text/plain": [
       "'hpythonepythoni'"
      ]
     },
     "execution_count": 44,
     "metadata": {},
     "output_type": "execute_result"
    }
   ],
   "source": [
    "'python'.join('hei')"
   ]
  },
  {
   "cell_type": "code",
   "execution_count": 45,
   "metadata": {},
   "outputs": [],
   "source": [
    "import random as r"
   ]
  },
  {
   "cell_type": "code",
   "execution_count": 49,
   "metadata": {},
   "outputs": [
    {
     "data": {
      "text/plain": [
       "0.9635979437472906"
      ]
     },
     "execution_count": 49,
     "metadata": {},
     "output_type": "execute_result"
    }
   ],
   "source": [
    "r.random()"
   ]
  },
  {
   "cell_type": "code",
   "execution_count": 50,
   "metadata": {},
   "outputs": [
    {
     "data": {
      "text/plain": [
       "<random.Random at 0x7fd72f98dc18>"
      ]
     },
     "execution_count": 50,
     "metadata": {},
     "output_type": "execute_result"
    }
   ],
   "source": [
    "r.Random()"
   ]
  },
  {
   "cell_type": "code",
   "execution_count": 55,
   "metadata": {},
   "outputs": [
    {
     "data": {
      "text/plain": [
       "31"
      ]
     },
     "execution_count": 55,
     "metadata": {},
     "output_type": "execute_result"
    }
   ],
   "source": [
    "r.randint(19,56)"
   ]
  },
  {
   "cell_type": "code",
   "execution_count": 57,
   "metadata": {},
   "outputs": [
    {
     "data": {
      "text/plain": [
       "0.81340722916844"
      ]
     },
     "execution_count": 57,
     "metadata": {},
     "output_type": "execute_result"
    }
   ],
   "source": [
    "o=r.Random()\n",
    "o.random()"
   ]
  },
  {
   "cell_type": "code",
   "execution_count": 59,
   "metadata": {},
   "outputs": [
    {
     "data": {
      "text/plain": [
       "48"
      ]
     },
     "execution_count": 59,
     "metadata": {},
     "output_type": "execute_result"
    }
   ],
   "source": [
    "o.randint(19,56)"
   ]
  },
  {
   "cell_type": "code",
   "execution_count": 10,
   "metadata": {},
   "outputs": [
    {
     "data": {
      "text/plain": [
       "6"
      ]
     },
     "execution_count": 10,
     "metadata": {},
     "output_type": "execute_result"
    }
   ],
   "source": [
    "\n",
    "def search(arr, x):\n",
    "    for i in range(len(arr)):\n",
    "        if arr[i] == x:\n",
    "            return i\n",
    "    return -1\n",
    "search([10, 20, 80, 30, 60, 50, 110, 100, 130, 170],110)"
   ]
  },
  {
   "cell_type": "code",
   "execution_count": null,
   "metadata": {},
   "outputs": [],
   "source": []
  }
 ],
 "metadata": {
  "kernelspec": {
   "display_name": "Python 3",
   "language": "python",
   "name": "python3"
  },
  "language_info": {
   "codemirror_mode": {
    "name": "ipython",
    "version": 3
   },
   "file_extension": ".py",
   "mimetype": "text/x-python",
   "name": "python",
   "nbconvert_exporter": "python",
   "pygments_lexer": "ipython3",
   "version": "3.6.4"
  }
 },
 "nbformat": 4,
 "nbformat_minor": 2
}
