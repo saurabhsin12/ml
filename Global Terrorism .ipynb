{
 "cells": [
  {
   "cell_type": "code",
   "execution_count": 2,
   "metadata": {},
   "outputs": [],
   "source": [
    "import warnings\n",
    "warnings.filterwarnings('ignore')"
   ]
  },
  {
   "cell_type": "code",
   "execution_count": 3,
   "metadata": {},
   "outputs": [],
   "source": [
    "import numpy as np\n",
    "import pandas as pd\n",
    "import matplotlib.pyplot as plt\n",
    "import seaborn as sns"
   ]
  },
  {
   "cell_type": "code",
   "execution_count": 4,
   "metadata": {},
   "outputs": [
    {
     "data": {
      "text/html": [
       "<div>\n",
       "<style scoped>\n",
       "    .dataframe tbody tr th:only-of-type {\n",
       "        vertical-align: middle;\n",
       "    }\n",
       "\n",
       "    .dataframe tbody tr th {\n",
       "        vertical-align: top;\n",
       "    }\n",
       "\n",
       "    .dataframe thead th {\n",
       "        text-align: right;\n",
       "    }\n",
       "</style>\n",
       "<table border=\"1\" class=\"dataframe\">\n",
       "  <thead>\n",
       "    <tr style=\"text-align: right;\">\n",
       "      <th></th>\n",
       "      <th>eventid</th>\n",
       "      <th>iyear</th>\n",
       "      <th>imonth</th>\n",
       "      <th>iday</th>\n",
       "      <th>approxdate</th>\n",
       "      <th>extended</th>\n",
       "      <th>resolution</th>\n",
       "      <th>country</th>\n",
       "      <th>country_txt</th>\n",
       "      <th>region</th>\n",
       "      <th>...</th>\n",
       "      <th>addnotes</th>\n",
       "      <th>scite1</th>\n",
       "      <th>scite2</th>\n",
       "      <th>scite3</th>\n",
       "      <th>dbsource</th>\n",
       "      <th>INT_LOG</th>\n",
       "      <th>INT_IDEO</th>\n",
       "      <th>INT_MISC</th>\n",
       "      <th>INT_ANY</th>\n",
       "      <th>related</th>\n",
       "    </tr>\n",
       "  </thead>\n",
       "  <tbody>\n",
       "    <tr>\n",
       "      <th>0</th>\n",
       "      <td>197000000001</td>\n",
       "      <td>1970</td>\n",
       "      <td>7</td>\n",
       "      <td>2</td>\n",
       "      <td>NaN</td>\n",
       "      <td>0</td>\n",
       "      <td>NaN</td>\n",
       "      <td>58</td>\n",
       "      <td>Dominican Republic</td>\n",
       "      <td>2</td>\n",
       "      <td>...</td>\n",
       "      <td>NaN</td>\n",
       "      <td>NaN</td>\n",
       "      <td>NaN</td>\n",
       "      <td>NaN</td>\n",
       "      <td>PGIS</td>\n",
       "      <td>0</td>\n",
       "      <td>0</td>\n",
       "      <td>0</td>\n",
       "      <td>0</td>\n",
       "      <td>NaN</td>\n",
       "    </tr>\n",
       "    <tr>\n",
       "      <th>1</th>\n",
       "      <td>197000000002</td>\n",
       "      <td>1970</td>\n",
       "      <td>0</td>\n",
       "      <td>0</td>\n",
       "      <td>NaN</td>\n",
       "      <td>0</td>\n",
       "      <td>NaN</td>\n",
       "      <td>130</td>\n",
       "      <td>Mexico</td>\n",
       "      <td>1</td>\n",
       "      <td>...</td>\n",
       "      <td>NaN</td>\n",
       "      <td>NaN</td>\n",
       "      <td>NaN</td>\n",
       "      <td>NaN</td>\n",
       "      <td>PGIS</td>\n",
       "      <td>0</td>\n",
       "      <td>1</td>\n",
       "      <td>1</td>\n",
       "      <td>1</td>\n",
       "      <td>NaN</td>\n",
       "    </tr>\n",
       "    <tr>\n",
       "      <th>2</th>\n",
       "      <td>197001000001</td>\n",
       "      <td>1970</td>\n",
       "      <td>1</td>\n",
       "      <td>0</td>\n",
       "      <td>NaN</td>\n",
       "      <td>0</td>\n",
       "      <td>NaN</td>\n",
       "      <td>160</td>\n",
       "      <td>Philippines</td>\n",
       "      <td>5</td>\n",
       "      <td>...</td>\n",
       "      <td>NaN</td>\n",
       "      <td>NaN</td>\n",
       "      <td>NaN</td>\n",
       "      <td>NaN</td>\n",
       "      <td>PGIS</td>\n",
       "      <td>-9</td>\n",
       "      <td>-9</td>\n",
       "      <td>1</td>\n",
       "      <td>1</td>\n",
       "      <td>NaN</td>\n",
       "    </tr>\n",
       "    <tr>\n",
       "      <th>3</th>\n",
       "      <td>197001000002</td>\n",
       "      <td>1970</td>\n",
       "      <td>1</td>\n",
       "      <td>0</td>\n",
       "      <td>NaN</td>\n",
       "      <td>0</td>\n",
       "      <td>NaN</td>\n",
       "      <td>78</td>\n",
       "      <td>Greece</td>\n",
       "      <td>8</td>\n",
       "      <td>...</td>\n",
       "      <td>NaN</td>\n",
       "      <td>NaN</td>\n",
       "      <td>NaN</td>\n",
       "      <td>NaN</td>\n",
       "      <td>PGIS</td>\n",
       "      <td>-9</td>\n",
       "      <td>-9</td>\n",
       "      <td>1</td>\n",
       "      <td>1</td>\n",
       "      <td>NaN</td>\n",
       "    </tr>\n",
       "    <tr>\n",
       "      <th>4</th>\n",
       "      <td>197001000003</td>\n",
       "      <td>1970</td>\n",
       "      <td>1</td>\n",
       "      <td>0</td>\n",
       "      <td>NaN</td>\n",
       "      <td>0</td>\n",
       "      <td>NaN</td>\n",
       "      <td>101</td>\n",
       "      <td>Japan</td>\n",
       "      <td>4</td>\n",
       "      <td>...</td>\n",
       "      <td>NaN</td>\n",
       "      <td>NaN</td>\n",
       "      <td>NaN</td>\n",
       "      <td>NaN</td>\n",
       "      <td>PGIS</td>\n",
       "      <td>-9</td>\n",
       "      <td>-9</td>\n",
       "      <td>1</td>\n",
       "      <td>1</td>\n",
       "      <td>NaN</td>\n",
       "    </tr>\n",
       "  </tbody>\n",
       "</table>\n",
       "<p>5 rows × 135 columns</p>\n",
       "</div>"
      ],
      "text/plain": [
       "        eventid  iyear  imonth  iday approxdate  extended resolution  country  \\\n",
       "0  197000000001   1970       7     2        NaN         0        NaN       58   \n",
       "1  197000000002   1970       0     0        NaN         0        NaN      130   \n",
       "2  197001000001   1970       1     0        NaN         0        NaN      160   \n",
       "3  197001000002   1970       1     0        NaN         0        NaN       78   \n",
       "4  197001000003   1970       1     0        NaN         0        NaN      101   \n",
       "\n",
       "          country_txt  region   ...    addnotes scite1 scite2  scite3  \\\n",
       "0  Dominican Republic       2   ...         NaN    NaN    NaN     NaN   \n",
       "1              Mexico       1   ...         NaN    NaN    NaN     NaN   \n",
       "2         Philippines       5   ...         NaN    NaN    NaN     NaN   \n",
       "3              Greece       8   ...         NaN    NaN    NaN     NaN   \n",
       "4               Japan       4   ...         NaN    NaN    NaN     NaN   \n",
       "\n",
       "   dbsource  INT_LOG  INT_IDEO INT_MISC INT_ANY  related  \n",
       "0      PGIS        0         0        0       0      NaN  \n",
       "1      PGIS        0         1        1       1      NaN  \n",
       "2      PGIS       -9        -9        1       1      NaN  \n",
       "3      PGIS       -9        -9        1       1      NaN  \n",
       "4      PGIS       -9        -9        1       1      NaN  \n",
       "\n",
       "[5 rows x 135 columns]"
      ]
     },
     "execution_count": 4,
     "metadata": {},
     "output_type": "execute_result"
    }
   ],
   "source": [
    "df=pd.read_csv('globalterrorismdb_0718dist.csv',encoding='ISO 8859-1')\n",
    "df.head()"
   ]
  },
  {
   "cell_type": "code",
   "execution_count": 5,
   "metadata": {},
   "outputs": [
    {
     "data": {
      "text/plain": [
       "(181691, 135)"
      ]
     },
     "execution_count": 5,
     "metadata": {},
     "output_type": "execute_result"
    }
   ],
   "source": [
    "df.shape"
   ]
  },
  {
   "cell_type": "code",
   "execution_count": 6,
   "metadata": {},
   "outputs": [
    {
     "data": {
      "text/plain": [
       "['eventid',\n",
       " 'iyear',\n",
       " 'imonth',\n",
       " 'iday',\n",
       " 'approxdate',\n",
       " 'extended',\n",
       " 'resolution',\n",
       " 'country',\n",
       " 'country_txt',\n",
       " 'region',\n",
       " 'region_txt',\n",
       " 'provstate',\n",
       " 'city',\n",
       " 'latitude',\n",
       " 'longitude',\n",
       " 'specificity',\n",
       " 'vicinity',\n",
       " 'location',\n",
       " 'summary',\n",
       " 'crit1',\n",
       " 'crit2',\n",
       " 'crit3',\n",
       " 'doubtterr',\n",
       " 'alternative',\n",
       " 'alternative_txt',\n",
       " 'multiple',\n",
       " 'success',\n",
       " 'suicide',\n",
       " 'attacktype1',\n",
       " 'attacktype1_txt',\n",
       " 'attacktype2',\n",
       " 'attacktype2_txt',\n",
       " 'attacktype3',\n",
       " 'attacktype3_txt',\n",
       " 'targtype1',\n",
       " 'targtype1_txt',\n",
       " 'targsubtype1',\n",
       " 'targsubtype1_txt',\n",
       " 'corp1',\n",
       " 'target1',\n",
       " 'natlty1',\n",
       " 'natlty1_txt',\n",
       " 'targtype2',\n",
       " 'targtype2_txt',\n",
       " 'targsubtype2',\n",
       " 'targsubtype2_txt',\n",
       " 'corp2',\n",
       " 'target2',\n",
       " 'natlty2',\n",
       " 'natlty2_txt',\n",
       " 'targtype3',\n",
       " 'targtype3_txt',\n",
       " 'targsubtype3',\n",
       " 'targsubtype3_txt',\n",
       " 'corp3',\n",
       " 'target3',\n",
       " 'natlty3',\n",
       " 'natlty3_txt',\n",
       " 'gname',\n",
       " 'gsubname',\n",
       " 'gname2',\n",
       " 'gsubname2',\n",
       " 'gname3',\n",
       " 'gsubname3',\n",
       " 'motive',\n",
       " 'guncertain1',\n",
       " 'guncertain2',\n",
       " 'guncertain3',\n",
       " 'individual',\n",
       " 'nperps',\n",
       " 'nperpcap',\n",
       " 'claimed',\n",
       " 'claimmode',\n",
       " 'claimmode_txt',\n",
       " 'claim2',\n",
       " 'claimmode2',\n",
       " 'claimmode2_txt',\n",
       " 'claim3',\n",
       " 'claimmode3',\n",
       " 'claimmode3_txt',\n",
       " 'compclaim',\n",
       " 'weaptype1',\n",
       " 'weaptype1_txt',\n",
       " 'weapsubtype1',\n",
       " 'weapsubtype1_txt',\n",
       " 'weaptype2',\n",
       " 'weaptype2_txt',\n",
       " 'weapsubtype2',\n",
       " 'weapsubtype2_txt',\n",
       " 'weaptype3',\n",
       " 'weaptype3_txt',\n",
       " 'weapsubtype3',\n",
       " 'weapsubtype3_txt',\n",
       " 'weaptype4',\n",
       " 'weaptype4_txt',\n",
       " 'weapsubtype4',\n",
       " 'weapsubtype4_txt',\n",
       " 'weapdetail',\n",
       " 'nkill',\n",
       " 'nkillus',\n",
       " 'nkillter',\n",
       " 'nwound',\n",
       " 'nwoundus',\n",
       " 'nwoundte',\n",
       " 'property',\n",
       " 'propextent',\n",
       " 'propextent_txt',\n",
       " 'propvalue',\n",
       " 'propcomment',\n",
       " 'ishostkid',\n",
       " 'nhostkid',\n",
       " 'nhostkidus',\n",
       " 'nhours',\n",
       " 'ndays',\n",
       " 'divert',\n",
       " 'kidhijcountry',\n",
       " 'ransom',\n",
       " 'ransomamt',\n",
       " 'ransomamtus',\n",
       " 'ransompaid',\n",
       " 'ransompaidus',\n",
       " 'ransomnote',\n",
       " 'hostkidoutcome',\n",
       " 'hostkidoutcome_txt',\n",
       " 'nreleased',\n",
       " 'addnotes',\n",
       " 'scite1',\n",
       " 'scite2',\n",
       " 'scite3',\n",
       " 'dbsource',\n",
       " 'INT_LOG',\n",
       " 'INT_IDEO',\n",
       " 'INT_MISC',\n",
       " 'INT_ANY',\n",
       " 'related']"
      ]
     },
     "execution_count": 6,
     "metadata": {},
     "output_type": "execute_result"
    }
   ],
   "source": [
    "list(df.columns)"
   ]
  },
  {
   "cell_type": "code",
   "execution_count": 7,
   "metadata": {},
   "outputs": [
    {
     "data": {
      "text/plain": [
       "eventid                    0\n",
       "iyear                      0\n",
       "imonth                     0\n",
       "iday                       0\n",
       "approxdate            172452\n",
       "extended                   0\n",
       "resolution            179471\n",
       "country                    0\n",
       "country_txt                0\n",
       "region                     0\n",
       "region_txt                 0\n",
       "provstate                421\n",
       "city                     434\n",
       "latitude                4556\n",
       "longitude               4557\n",
       "specificity                6\n",
       "vicinity                   0\n",
       "location              126196\n",
       "summary                66129\n",
       "crit1                      0\n",
       "crit2                      0\n",
       "crit3                      0\n",
       "doubtterr                  1\n",
       "alternative           152680\n",
       "alternative_txt       152680\n",
       "multiple                   1\n",
       "success                    0\n",
       "suicide                    0\n",
       "attacktype1                0\n",
       "attacktype1_txt            0\n",
       "                       ...  \n",
       "propextent            117626\n",
       "propextent_txt        117626\n",
       "propvalue             142702\n",
       "propcomment           123732\n",
       "ishostkid                178\n",
       "nhostkid              168119\n",
       "nhostkidus            168174\n",
       "nhours                177628\n",
       "ndays                 173567\n",
       "divert                181367\n",
       "kidhijcountry         178386\n",
       "ransom                104310\n",
       "ransomamt             180341\n",
       "ransomamtus           181128\n",
       "ransompaid            180917\n",
       "ransompaidus          181139\n",
       "ransomnote            181177\n",
       "hostkidoutcome        170700\n",
       "hostkidoutcome_txt    170700\n",
       "nreleased             171291\n",
       "addnotes              153402\n",
       "scite1                 66191\n",
       "scite2                104758\n",
       "scite3                138175\n",
       "dbsource                   0\n",
       "INT_LOG                    0\n",
       "INT_IDEO                   0\n",
       "INT_MISC                   0\n",
       "INT_ANY                    0\n",
       "related               156653\n",
       "Length: 135, dtype: int64"
      ]
     },
     "execution_count": 7,
     "metadata": {},
     "output_type": "execute_result"
    }
   ],
   "source": [
    "df.isnull().sum()"
   ]
  },
  {
   "cell_type": "code",
   "execution_count": 8,
   "metadata": {},
   "outputs": [
    {
     "data": {
      "text/plain": [
       "2014    16903\n",
       "2015    14965\n",
       "2016    13587\n",
       "2013    12036\n",
       "2017    10900\n",
       "2012     8522\n",
       "2011     5076\n",
       "1992     5071\n",
       "2010     4826\n",
       "2008     4805\n",
       "2009     4721\n",
       "1991     4683\n",
       "1989     4324\n",
       "1990     3887\n",
       "1988     3721\n",
       "1984     3495\n",
       "1994     3456\n",
       "2007     3242\n",
       "1997     3197\n",
       "1987     3183\n",
       "1995     3081\n",
       "1996     3058\n",
       "1985     2915\n",
       "1983     2870\n",
       "1986     2860\n",
       "2006     2758\n",
       "1979     2662\n",
       "1980     2662\n",
       "1981     2586\n",
       "1982     2544\n",
       "2005     2017\n",
       "2001     1906\n",
       "2000     1814\n",
       "1978     1526\n",
       "1999     1395\n",
       "2002     1333\n",
       "1977     1319\n",
       "2003     1278\n",
       "2004     1166\n",
       "1998      934\n",
       "1976      923\n",
       "1975      740\n",
       "1970      651\n",
       "1974      581\n",
       "1972      568\n",
       "1973      473\n",
       "1971      471\n",
       "Name: iyear, dtype: int64"
      ]
     },
     "execution_count": 8,
     "metadata": {},
     "output_type": "execute_result"
    }
   ],
   "source": [
    "df['iyear'].value_counts()"
   ]
  },
  {
   "cell_type": "code",
   "execution_count": 9,
   "metadata": {},
   "outputs": [
    {
     "data": {
      "text/plain": [
       "The attack took place in Baghdad, Baghdad, Iraq.                                                                                                                    142\n",
       "Belfast (Capital City)                                                                                                                                               98\n",
       "The incident occurred at the Donetsk Sergey Prokofiev International Airport.                                                                                         62\n",
       "Manhattan                                                                                                                                                            60\n",
       "The attack took place in Mosul, Ninawa, Iraq.                                                                                                                        51\n",
       "The incident occurred in the Balad Ruz district.                                                                                                                     48\n",
       "The incident occurred in the Shaab area of Adhamiyah neighborhood                                                                                                    40\n",
       "The attack took place in Kirkuk, At Ta'mim, Iraq.                                                                                                                    39\n",
       "The incident occurred in the Al-Faris district.                                                                                                                      39\n",
       "The incident occurred in the Hayy ath-Thawrah neighborhood.                                                                                                          38\n",
       "The incident occurred in the Abu Ghraib district.                                                                                                                    35\n",
       "Londonderry (County)                                                                                                                                                 33\n",
       "The incident occurred in Bajaur district.                                                                                                                            32\n",
       "The incident occurred in the Mahawil district.                                                                                                                       31\n",
       "The incident occurred in the Muqdadiyah district.                                                                                                                    30\n",
       "The attack took place in Mosul.                                                                                                                                      30\n",
       "The attack took place in Baghdad.                                                                                                                                    30\n",
       "The incident occurred in Mohmand district.                                                                                                                           29\n",
       "The incident occurred in the Sadr City neighborhood.                                                                                                                 28\n",
       "The incident occurred in the Sadr City neighborhood                                                                                                                  28\n",
       "The incident occurred in the Amil area of Rasheed neighborhood                                                                                                       27\n",
       "In the city                                                                                                                                                          27\n",
       "The incident occurred in Nasirabad district.                                                                                                                         27\n",
       "The incident occurred in Kurram district.                                                                                                                            27\n",
       "The incident occurred in the Pulwama district.                                                                                                                       26\n",
       "The incident occurred in the western part of the city.                                                                                                               26\n",
       "The incident occurred in the Hit district.                                                                                                                           26\n",
       "County Antrim                                                                                                                                                        25\n",
       "The incident occurred in Wardhigley district of Mogadishu.                                                                                                           25\n",
       "The attack took place in Ba'quba, Diyala, Iraq.                                                                                                                      24\n",
       "                                                                                                                                                                   ... \n",
       "The incident occurred along Nnara road in Nkanu East district.                                                                                                        1\n",
       "The attack took place at a  vegetable market in Al Yusufiyah, Babil, Iraq.                                                                                            1\n",
       "This incident took place near Tetovo, Macedonia.                                                                                                                      1\n",
       "On Tela Band Road in Badhber, Peshawar, Khyber Pakhtunkhwa, Pakistan.                                                                                                 1\n",
       "The attack occurred at a funeral in Ba'quba.                                                                                                                          1\n",
       "The incident occurred in the Bunawan district.                                                                                                                        1\n",
       "The incident occurred in the Joint Road area.                                                                                                                         1\n",
       "The attack took place in Balochistan.                                                                                                                                 1\n",
       "The incident occurred in the Askari area of Al Shirqat district.                                                                                                      1\n",
       "The incident occurred in Pagagawan district.                                                                                                                          1\n",
       "The incident occurred in the Coolock neighborhood of the city.                                                                                                        1\n",
       "Gaya District                                                                                                                                                         1\n",
       "The incident occurred on Taizz street                                                                                                                                 1\n",
       "The attack took place in Bhuiadih, Khunti.                                                                                                                            1\n",
       "Between San Vincente del Caguan and Florencia                                                                                                                         1\n",
       "In the Ali Jubriil area near Mogadishu International Airport.                                                                                                         1\n",
       "The attack took place in the old district office in Yaqubi.                                                                                                           1\n",
       "The incident occurred in the Bodaput area of the Barada panchaya.                                                                                                     1\n",
       "The incident occurred in the Martins Lane area.                                                                                                                       1\n",
       "The attack took place at the residence of Mohammed Ziauddin, a cashier of the Ukhrul District Revenue office, in the Kyamgei Muslim Awang Leikai area of Ukhrul.      1\n",
       "In Al Khloof village.                                                                                                                                                 1\n",
       "The incident occurred on Syria street in the city.                                                                                                                    1\n",
       "The incident occurred in the al-Houra area.                                                                                                                           1\n",
       "The incident occurred between Kanyakuchi and Saljhar                                                                                                                  1\n",
       "In a residential neighborhood in Peshawar.                                                                                                                            1\n",
       "The attack took place near a mosque in Tall 'Afar.                                                                                                                    1\n",
       "Rayymbek Avenue between Momyshuly Street and Sain Street in Almaty                                                                                                    1\n",
       "Manhattan; Lamston's Variety Store at Lexington Avenue and 60th Street                                                                                                1\n",
       "Ovejas River Bridge on Pan American Highway between Cali and Popayan                                                                                                  1\n",
       "The attack occurred on a busy shopping street in the Drottningatan area of Stockholm.                                                                                 1\n",
       "Name: location, Length: 44109, dtype: int64"
      ]
     },
     "execution_count": 9,
     "metadata": {},
     "output_type": "execute_result"
    }
   ],
   "source": [
    "df['location'].value_counts()"
   ]
  },
  {
   "cell_type": "code",
   "execution_count": 10,
   "metadata": {},
   "outputs": [
    {
     "data": {
      "text/plain": [
       "Iraq                              24636\n",
       "Pakistan                          14368\n",
       "Afghanistan                       12731\n",
       "India                             11960\n",
       "Colombia                           8306\n",
       "Philippines                        6908\n",
       "Peru                               6096\n",
       "El Salvador                        5320\n",
       "United Kingdom                     5235\n",
       "Turkey                             4292\n",
       "Somalia                            4142\n",
       "Nigeria                            3907\n",
       "Thailand                           3849\n",
       "Yemen                              3347\n",
       "Spain                              3249\n",
       "Sri Lanka                          3022\n",
       "United States                      2836\n",
       "Algeria                            2743\n",
       "France                             2693\n",
       "Egypt                              2479\n",
       "Lebanon                            2478\n",
       "Chile                              2365\n",
       "Libya                              2249\n",
       "West Bank and Gaza Strip           2227\n",
       "Syria                              2201\n",
       "Russia                             2194\n",
       "Israel                             2183\n",
       "Guatemala                          2050\n",
       "South Africa                       2016\n",
       "Nicaragua                          1970\n",
       "                                  ...  \n",
       "Western Sahara                        5\n",
       "Malawi                                5\n",
       "Bahamas                               5\n",
       "Montenegro                            5\n",
       "Grenada                               5\n",
       "Comoros                               5\n",
       "Solomon Islands                       4\n",
       "Iceland                               4\n",
       "People's Republic of the Congo        4\n",
       "Barbados                              3\n",
       "French Polynesia                      3\n",
       "Dominica                              3\n",
       "Gambia                                3\n",
       "Vanuatu                               2\n",
       "Mauritius                             2\n",
       "Turkmenistan                          2\n",
       "Seychelles                            2\n",
       "Equatorial Guinea                     2\n",
       "St. Kitts and Nevis                   2\n",
       "South Yemen                           2\n",
       "Wallis and Futuna                     1\n",
       "South Vietnam                         1\n",
       "Andorra                               1\n",
       "Antigua and Barbuda                   1\n",
       "North Korea                           1\n",
       "Vatican City                          1\n",
       "New Hebrides                          1\n",
       "St. Lucia                             1\n",
       "Falkland Islands                      1\n",
       "International                         1\n",
       "Name: country_txt, Length: 205, dtype: int64"
      ]
     },
     "execution_count": 10,
     "metadata": {},
     "output_type": "execute_result"
    }
   ],
   "source": [
    "df['country_txt'].value_counts()"
   ]
  },
  {
   "cell_type": "code",
   "execution_count": 11,
   "metadata": {},
   "outputs": [
    {
     "name": "stdout",
     "output_type": "stream",
     "text": [
      "<class 'pandas.core.frame.DataFrame'>\n",
      "RangeIndex: 181691 entries, 0 to 181690\n",
      "Columns: 135 entries, eventid to related\n",
      "dtypes: float64(55), int64(22), object(58)\n",
      "memory usage: 187.1+ MB\n"
     ]
    }
   ],
   "source": [
    "df.info()"
   ]
  },
  {
   "cell_type": "code",
   "execution_count": 12,
   "metadata": {},
   "outputs": [
    {
     "data": {
      "text/plain": [
       "Unknown               9775\n",
       "Baghdad               7589\n",
       "Karachi               2652\n",
       "Lima                  2359\n",
       "Mosul                 2265\n",
       "Belfast               2171\n",
       "Santiago              1621\n",
       "Mogadishu             1581\n",
       "San Salvador          1558\n",
       "Istanbul              1048\n",
       "Athens                1019\n",
       "Bogota                 984\n",
       "Kirkuk                 925\n",
       "Beirut                 918\n",
       "Medellin               848\n",
       "Benghazi               840\n",
       "Peshawar               819\n",
       "Quetta                 803\n",
       "Guatemala City         755\n",
       "Baqubah                745\n",
       "Kabul                  738\n",
       "Srinagar               658\n",
       "Jerusalem              636\n",
       "Paris                  612\n",
       "Fallujah               582\n",
       "Tripoli                565\n",
       "Dhaka                  557\n",
       "Rome                   551\n",
       "Arish                  521\n",
       "Ramadi                 509\n",
       "                      ... \n",
       "St. Cloud                1\n",
       "Ulloa                    1\n",
       "Rajat                    1\n",
       "Anin                     1\n",
       "Siriguda                 1\n",
       "Ban Yon                  1\n",
       "Joh Bantang              1\n",
       "Talahib                  1\n",
       "Aila                     1\n",
       "El Espejo                1\n",
       "Barrera                  1\n",
       "Al-Mazari                1\n",
       "Panjudero                1\n",
       "Nauni                    1\n",
       "Narki                    1\n",
       "Ban Burge-Greding        1\n",
       "Bejangiwada              1\n",
       "Shahkoh                  1\n",
       "Tumauini                 1\n",
       "Masenar                  1\n",
       "Somage                   1\n",
       "Santa Marta Canton       1\n",
       "Kapedo                   1\n",
       "Qalat Nazar              1\n",
       "Lapono                   1\n",
       "Pech Dara                1\n",
       "Kaigamari                1\n",
       "Aegina                   1\n",
       "Mouria                   1\n",
       "Bhedhna                  1\n",
       "Name: city, Length: 36674, dtype: int64"
      ]
     },
     "execution_count": 12,
     "metadata": {},
     "output_type": "execute_result"
    }
   ],
   "source": [
    "df['city'].value_counts()"
   ]
  },
  {
   "cell_type": "code",
   "execution_count": 13,
   "metadata": {},
   "outputs": [],
   "source": [
    "p=(round(df.isnull().sum()/len(df)*100,2))"
   ]
  },
  {
   "cell_type": "code",
   "execution_count": 14,
   "metadata": {},
   "outputs": [
    {
     "data": {
      "text/plain": [
       "1    161632\n",
       "0     20059\n",
       "Name: success, dtype: int64"
      ]
     },
     "execution_count": 14,
     "metadata": {},
     "output_type": "execute_result"
    }
   ],
   "source": [
    "df['success'].value_counts()"
   ]
  },
  {
   "cell_type": "code",
   "execution_count": 15,
   "metadata": {},
   "outputs": [
    {
     "data": {
      "text/html": [
       "<div>\n",
       "<style scoped>\n",
       "    .dataframe tbody tr th:only-of-type {\n",
       "        vertical-align: middle;\n",
       "    }\n",
       "\n",
       "    .dataframe tbody tr th {\n",
       "        vertical-align: top;\n",
       "    }\n",
       "\n",
       "    .dataframe thead th {\n",
       "        text-align: right;\n",
       "    }\n",
       "</style>\n",
       "<table border=\"1\" class=\"dataframe\">\n",
       "  <thead>\n",
       "    <tr style=\"text-align: right;\">\n",
       "      <th></th>\n",
       "      <th>0</th>\n",
       "    </tr>\n",
       "  </thead>\n",
       "  <tbody>\n",
       "    <tr>\n",
       "      <th>eventid</th>\n",
       "      <td>0.00</td>\n",
       "    </tr>\n",
       "    <tr>\n",
       "      <th>iyear</th>\n",
       "      <td>0.00</td>\n",
       "    </tr>\n",
       "    <tr>\n",
       "      <th>imonth</th>\n",
       "      <td>0.00</td>\n",
       "    </tr>\n",
       "    <tr>\n",
       "      <th>iday</th>\n",
       "      <td>0.00</td>\n",
       "    </tr>\n",
       "    <tr>\n",
       "      <th>approxdate</th>\n",
       "      <td>94.91</td>\n",
       "    </tr>\n",
       "    <tr>\n",
       "      <th>extended</th>\n",
       "      <td>0.00</td>\n",
       "    </tr>\n",
       "    <tr>\n",
       "      <th>resolution</th>\n",
       "      <td>98.78</td>\n",
       "    </tr>\n",
       "    <tr>\n",
       "      <th>country</th>\n",
       "      <td>0.00</td>\n",
       "    </tr>\n",
       "    <tr>\n",
       "      <th>country_txt</th>\n",
       "      <td>0.00</td>\n",
       "    </tr>\n",
       "    <tr>\n",
       "      <th>region</th>\n",
       "      <td>0.00</td>\n",
       "    </tr>\n",
       "    <tr>\n",
       "      <th>region_txt</th>\n",
       "      <td>0.00</td>\n",
       "    </tr>\n",
       "    <tr>\n",
       "      <th>provstate</th>\n",
       "      <td>0.23</td>\n",
       "    </tr>\n",
       "    <tr>\n",
       "      <th>city</th>\n",
       "      <td>0.24</td>\n",
       "    </tr>\n",
       "    <tr>\n",
       "      <th>latitude</th>\n",
       "      <td>2.51</td>\n",
       "    </tr>\n",
       "    <tr>\n",
       "      <th>longitude</th>\n",
       "      <td>2.51</td>\n",
       "    </tr>\n",
       "    <tr>\n",
       "      <th>specificity</th>\n",
       "      <td>0.00</td>\n",
       "    </tr>\n",
       "    <tr>\n",
       "      <th>vicinity</th>\n",
       "      <td>0.00</td>\n",
       "    </tr>\n",
       "    <tr>\n",
       "      <th>location</th>\n",
       "      <td>69.46</td>\n",
       "    </tr>\n",
       "    <tr>\n",
       "      <th>summary</th>\n",
       "      <td>36.40</td>\n",
       "    </tr>\n",
       "    <tr>\n",
       "      <th>crit1</th>\n",
       "      <td>0.00</td>\n",
       "    </tr>\n",
       "    <tr>\n",
       "      <th>crit2</th>\n",
       "      <td>0.00</td>\n",
       "    </tr>\n",
       "    <tr>\n",
       "      <th>crit3</th>\n",
       "      <td>0.00</td>\n",
       "    </tr>\n",
       "    <tr>\n",
       "      <th>doubtterr</th>\n",
       "      <td>0.00</td>\n",
       "    </tr>\n",
       "    <tr>\n",
       "      <th>alternative</th>\n",
       "      <td>84.03</td>\n",
       "    </tr>\n",
       "    <tr>\n",
       "      <th>alternative_txt</th>\n",
       "      <td>84.03</td>\n",
       "    </tr>\n",
       "    <tr>\n",
       "      <th>multiple</th>\n",
       "      <td>0.00</td>\n",
       "    </tr>\n",
       "    <tr>\n",
       "      <th>success</th>\n",
       "      <td>0.00</td>\n",
       "    </tr>\n",
       "    <tr>\n",
       "      <th>suicide</th>\n",
       "      <td>0.00</td>\n",
       "    </tr>\n",
       "    <tr>\n",
       "      <th>attacktype1</th>\n",
       "      <td>0.00</td>\n",
       "    </tr>\n",
       "    <tr>\n",
       "      <th>attacktype1_txt</th>\n",
       "      <td>0.00</td>\n",
       "    </tr>\n",
       "    <tr>\n",
       "      <th>...</th>\n",
       "      <td>...</td>\n",
       "    </tr>\n",
       "    <tr>\n",
       "      <th>propextent</th>\n",
       "      <td>64.74</td>\n",
       "    </tr>\n",
       "    <tr>\n",
       "      <th>propextent_txt</th>\n",
       "      <td>64.74</td>\n",
       "    </tr>\n",
       "    <tr>\n",
       "      <th>propvalue</th>\n",
       "      <td>78.54</td>\n",
       "    </tr>\n",
       "    <tr>\n",
       "      <th>propcomment</th>\n",
       "      <td>68.10</td>\n",
       "    </tr>\n",
       "    <tr>\n",
       "      <th>ishostkid</th>\n",
       "      <td>0.10</td>\n",
       "    </tr>\n",
       "    <tr>\n",
       "      <th>nhostkid</th>\n",
       "      <td>92.53</td>\n",
       "    </tr>\n",
       "    <tr>\n",
       "      <th>nhostkidus</th>\n",
       "      <td>92.56</td>\n",
       "    </tr>\n",
       "    <tr>\n",
       "      <th>nhours</th>\n",
       "      <td>97.76</td>\n",
       "    </tr>\n",
       "    <tr>\n",
       "      <th>ndays</th>\n",
       "      <td>95.53</td>\n",
       "    </tr>\n",
       "    <tr>\n",
       "      <th>divert</th>\n",
       "      <td>99.82</td>\n",
       "    </tr>\n",
       "    <tr>\n",
       "      <th>kidhijcountry</th>\n",
       "      <td>98.18</td>\n",
       "    </tr>\n",
       "    <tr>\n",
       "      <th>ransom</th>\n",
       "      <td>57.41</td>\n",
       "    </tr>\n",
       "    <tr>\n",
       "      <th>ransomamt</th>\n",
       "      <td>99.26</td>\n",
       "    </tr>\n",
       "    <tr>\n",
       "      <th>ransomamtus</th>\n",
       "      <td>99.69</td>\n",
       "    </tr>\n",
       "    <tr>\n",
       "      <th>ransompaid</th>\n",
       "      <td>99.57</td>\n",
       "    </tr>\n",
       "    <tr>\n",
       "      <th>ransompaidus</th>\n",
       "      <td>99.70</td>\n",
       "    </tr>\n",
       "    <tr>\n",
       "      <th>ransomnote</th>\n",
       "      <td>99.72</td>\n",
       "    </tr>\n",
       "    <tr>\n",
       "      <th>hostkidoutcome</th>\n",
       "      <td>93.95</td>\n",
       "    </tr>\n",
       "    <tr>\n",
       "      <th>hostkidoutcome_txt</th>\n",
       "      <td>93.95</td>\n",
       "    </tr>\n",
       "    <tr>\n",
       "      <th>nreleased</th>\n",
       "      <td>94.28</td>\n",
       "    </tr>\n",
       "    <tr>\n",
       "      <th>addnotes</th>\n",
       "      <td>84.43</td>\n",
       "    </tr>\n",
       "    <tr>\n",
       "      <th>scite1</th>\n",
       "      <td>36.43</td>\n",
       "    </tr>\n",
       "    <tr>\n",
       "      <th>scite2</th>\n",
       "      <td>57.66</td>\n",
       "    </tr>\n",
       "    <tr>\n",
       "      <th>scite3</th>\n",
       "      <td>76.05</td>\n",
       "    </tr>\n",
       "    <tr>\n",
       "      <th>dbsource</th>\n",
       "      <td>0.00</td>\n",
       "    </tr>\n",
       "    <tr>\n",
       "      <th>INT_LOG</th>\n",
       "      <td>0.00</td>\n",
       "    </tr>\n",
       "    <tr>\n",
       "      <th>INT_IDEO</th>\n",
       "      <td>0.00</td>\n",
       "    </tr>\n",
       "    <tr>\n",
       "      <th>INT_MISC</th>\n",
       "      <td>0.00</td>\n",
       "    </tr>\n",
       "    <tr>\n",
       "      <th>INT_ANY</th>\n",
       "      <td>0.00</td>\n",
       "    </tr>\n",
       "    <tr>\n",
       "      <th>related</th>\n",
       "      <td>86.22</td>\n",
       "    </tr>\n",
       "  </tbody>\n",
       "</table>\n",
       "<p>135 rows × 1 columns</p>\n",
       "</div>"
      ],
      "text/plain": [
       "                        0\n",
       "eventid              0.00\n",
       "iyear                0.00\n",
       "imonth               0.00\n",
       "iday                 0.00\n",
       "approxdate          94.91\n",
       "extended             0.00\n",
       "resolution          98.78\n",
       "country              0.00\n",
       "country_txt          0.00\n",
       "region               0.00\n",
       "region_txt           0.00\n",
       "provstate            0.23\n",
       "city                 0.24\n",
       "latitude             2.51\n",
       "longitude            2.51\n",
       "specificity          0.00\n",
       "vicinity             0.00\n",
       "location            69.46\n",
       "summary             36.40\n",
       "crit1                0.00\n",
       "crit2                0.00\n",
       "crit3                0.00\n",
       "doubtterr            0.00\n",
       "alternative         84.03\n",
       "alternative_txt     84.03\n",
       "multiple             0.00\n",
       "success              0.00\n",
       "suicide              0.00\n",
       "attacktype1          0.00\n",
       "attacktype1_txt      0.00\n",
       "...                   ...\n",
       "propextent          64.74\n",
       "propextent_txt      64.74\n",
       "propvalue           78.54\n",
       "propcomment         68.10\n",
       "ishostkid            0.10\n",
       "nhostkid            92.53\n",
       "nhostkidus          92.56\n",
       "nhours              97.76\n",
       "ndays               95.53\n",
       "divert              99.82\n",
       "kidhijcountry       98.18\n",
       "ransom              57.41\n",
       "ransomamt           99.26\n",
       "ransomamtus         99.69\n",
       "ransompaid          99.57\n",
       "ransompaidus        99.70\n",
       "ransomnote          99.72\n",
       "hostkidoutcome      93.95\n",
       "hostkidoutcome_txt  93.95\n",
       "nreleased           94.28\n",
       "addnotes            84.43\n",
       "scite1              36.43\n",
       "scite2              57.66\n",
       "scite3              76.05\n",
       "dbsource             0.00\n",
       "INT_LOG              0.00\n",
       "INT_IDEO             0.00\n",
       "INT_MISC             0.00\n",
       "INT_ANY              0.00\n",
       "related             86.22\n",
       "\n",
       "[135 rows x 1 columns]"
      ]
     },
     "execution_count": 15,
     "metadata": {},
     "output_type": "execute_result"
    }
   ],
   "source": [
    "a=pd.DataFrame(p)\n",
    "a"
   ]
  },
  {
   "cell_type": "code",
   "execution_count": 16,
   "metadata": {
    "scrolled": true
   },
   "outputs": [
    {
     "data": {
      "text/plain": [
       "Index(['eventid', 'iyear', 'imonth', 'iday', 'approxdate', 'extended',\n",
       "       'resolution', 'country', 'country_txt', 'region',\n",
       "       ...\n",
       "       'addnotes', 'scite1', 'scite2', 'scite3', 'dbsource', 'INT_LOG',\n",
       "       'INT_IDEO', 'INT_MISC', 'INT_ANY', 'related'],\n",
       "      dtype='object', length=135)"
      ]
     },
     "execution_count": 16,
     "metadata": {},
     "output_type": "execute_result"
    }
   ],
   "source": [
    "a.index"
   ]
  },
  {
   "cell_type": "code",
   "execution_count": 17,
   "metadata": {},
   "outputs": [],
   "source": [
    "b=a[a[0]<57]"
   ]
  },
  {
   "cell_type": "code",
   "execution_count": 18,
   "metadata": {},
   "outputs": [
    {
     "data": {
      "text/plain": [
       "(58, 1)"
      ]
     },
     "execution_count": 18,
     "metadata": {},
     "output_type": "execute_result"
    }
   ],
   "source": [
    "b.shape"
   ]
  },
  {
   "cell_type": "code",
   "execution_count": 19,
   "metadata": {},
   "outputs": [],
   "source": [
    "col=b.index"
   ]
  },
  {
   "cell_type": "code",
   "execution_count": 20,
   "metadata": {},
   "outputs": [],
   "source": [
    "df1=df[col]"
   ]
  },
  {
   "cell_type": "code",
   "execution_count": 21,
   "metadata": {},
   "outputs": [
    {
     "data": {
      "text/plain": [
       "eventid              0.00\n",
       "iyear                0.00\n",
       "imonth               0.00\n",
       "iday                 0.00\n",
       "extended             0.00\n",
       "country              0.00\n",
       "country_txt          0.00\n",
       "region               0.00\n",
       "region_txt           0.00\n",
       "provstate            0.23\n",
       "city                 0.24\n",
       "latitude             2.51\n",
       "longitude            2.51\n",
       "specificity          0.00\n",
       "vicinity             0.00\n",
       "summary             36.40\n",
       "crit1                0.00\n",
       "crit2                0.00\n",
       "crit3                0.00\n",
       "doubtterr            0.00\n",
       "multiple             0.00\n",
       "success              0.00\n",
       "suicide              0.00\n",
       "attacktype1          0.00\n",
       "attacktype1_txt      0.00\n",
       "targtype1            0.00\n",
       "targtype1_txt        0.00\n",
       "targsubtype1         5.71\n",
       "targsubtype1_txt     5.71\n",
       "corp1               23.42\n",
       "target1              0.35\n",
       "natlty1              0.86\n",
       "natlty1_txt          0.86\n",
       "gname                0.00\n",
       "guncertain1          0.21\n",
       "individual           0.00\n",
       "nperps              39.14\n",
       "nperpcap            38.25\n",
       "claimed             36.39\n",
       "weaptype1            0.00\n",
       "weaptype1_txt        0.00\n",
       "weapsubtype1        11.43\n",
       "weapsubtype1_txt    11.43\n",
       "weapdetail          37.24\n",
       "nkill                5.68\n",
       "nkillus             35.47\n",
       "nkillter            36.85\n",
       "nwound               8.98\n",
       "nwoundus            35.61\n",
       "nwoundte            38.06\n",
       "property             0.00\n",
       "ishostkid            0.10\n",
       "scite1              36.43\n",
       "dbsource             0.00\n",
       "INT_LOG              0.00\n",
       "INT_IDEO             0.00\n",
       "INT_MISC             0.00\n",
       "INT_ANY              0.00\n",
       "dtype: float64"
      ]
     },
     "execution_count": 21,
     "metadata": {},
     "output_type": "execute_result"
    }
   ],
   "source": [
    "round(df1.isnull().sum()/len(df1)*100,2)"
   ]
  },
  {
   "cell_type": "code",
   "execution_count": 22,
   "metadata": {},
   "outputs": [
    {
     "data": {
      "text/plain": [
       "(181691, 58)"
      ]
     },
     "execution_count": 22,
     "metadata": {},
     "output_type": "execute_result"
    }
   ],
   "source": [
    "df1.shape"
   ]
  },
  {
   "cell_type": "code",
   "execution_count": 23,
   "metadata": {},
   "outputs": [],
   "source": [
    "df2=df1[df1['provstate'].notnull()]\n",
    "df2=df2[df2['city'].notnull()]\n",
    "df2=df2[df2['latitude'].notnull()]\n",
    "df2=df2[df2['longitude'].notnull()]\n",
    "df2=df2[df2['summary'].notnull()]\n",
    "df2=df2[df2['targsubtype1'].notnull()]\n",
    "df2=df2[df2['targsubtype1_txt'].notnull()]\n",
    "df2=df2[df2['corp1'].notnull()]\n",
    "df2=df2[df2['target1'].notnull()]\n",
    "df2=df2[df2['natlty1'].notnull()]\n",
    "df2=df2[df2['natlty1_txt'].notnull()]\n",
    "df2=df2[df2['guncertain1'].notnull()]\n",
    "df2=df2[df2['nperps'].notnull()]\n",
    "df2=df2[df2['nperpcap'].notnull()]\n",
    "df2=df2[df2['claimed'].notnull()]\n",
    "df2=df2[df2['weapsubtype1'].notnull()]\n",
    "df2=df2[df2['weapsubtype1_txt'].notnull()]\n",
    "df2=df2[df2['weapdetail'].notnull()]\n",
    "df2=df2[df2['nkill'].notnull()]\n",
    "df2=df2[df2['nkillus'].notnull()]\n",
    "df2=df2[df2['nkillter'].notnull()]\n",
    "df2=df2[df2['nwound'].notnull()]\n",
    "df2=df2[df2['nwoundus'].notnull()]\n",
    "df2=df2[df2['nwoundte'].notnull()]\n",
    "df2=df2[df2['scite1'].notnull()]\n",
    "df2=df2[df2['ishostkid'].notnull()]\n",
    "df2=df2[df2['doubtterr'].notnull()]\n",
    "df2=df2[df2['multiple'].notnull()]"
   ]
  },
  {
   "cell_type": "code",
   "execution_count": 24,
   "metadata": {},
   "outputs": [
    {
     "data": {
      "text/plain": [
       "eventid             0.0\n",
       "iyear               0.0\n",
       "imonth              0.0\n",
       "iday                0.0\n",
       "extended            0.0\n",
       "country             0.0\n",
       "country_txt         0.0\n",
       "region              0.0\n",
       "region_txt          0.0\n",
       "provstate           0.0\n",
       "city                0.0\n",
       "latitude            0.0\n",
       "longitude           0.0\n",
       "specificity         0.0\n",
       "vicinity            0.0\n",
       "summary             0.0\n",
       "crit1               0.0\n",
       "crit2               0.0\n",
       "crit3               0.0\n",
       "doubtterr           0.0\n",
       "multiple            0.0\n",
       "success             0.0\n",
       "suicide             0.0\n",
       "attacktype1         0.0\n",
       "attacktype1_txt     0.0\n",
       "targtype1           0.0\n",
       "targtype1_txt       0.0\n",
       "targsubtype1        0.0\n",
       "targsubtype1_txt    0.0\n",
       "corp1               0.0\n",
       "target1             0.0\n",
       "natlty1             0.0\n",
       "natlty1_txt         0.0\n",
       "gname               0.0\n",
       "guncertain1         0.0\n",
       "individual          0.0\n",
       "nperps              0.0\n",
       "nperpcap            0.0\n",
       "claimed             0.0\n",
       "weaptype1           0.0\n",
       "weaptype1_txt       0.0\n",
       "weapsubtype1        0.0\n",
       "weapsubtype1_txt    0.0\n",
       "weapdetail          0.0\n",
       "nkill               0.0\n",
       "nkillus             0.0\n",
       "nkillter            0.0\n",
       "nwound              0.0\n",
       "nwoundus            0.0\n",
       "nwoundte            0.0\n",
       "property            0.0\n",
       "ishostkid           0.0\n",
       "scite1              0.0\n",
       "dbsource            0.0\n",
       "INT_LOG             0.0\n",
       "INT_IDEO            0.0\n",
       "INT_MISC            0.0\n",
       "INT_ANY             0.0\n",
       "dtype: float64"
      ]
     },
     "execution_count": 24,
     "metadata": {},
     "output_type": "execute_result"
    }
   ],
   "source": [
    "round(100*df2.isnull().sum()/len(df2),2)"
   ]
  },
  {
   "cell_type": "code",
   "execution_count": 25,
   "metadata": {},
   "outputs": [
    {
     "data": {
      "text/plain": [
       "0"
      ]
     },
     "execution_count": 25,
     "metadata": {},
     "output_type": "execute_result"
    }
   ],
   "source": [
    "df2.isnull().sum().sum()"
   ]
  },
  {
   "cell_type": "code",
   "execution_count": 26,
   "metadata": {},
   "outputs": [
    {
     "data": {
      "text/plain": [
       "(34231, 58)"
      ]
     },
     "execution_count": 26,
     "metadata": {},
     "output_type": "execute_result"
    }
   ],
   "source": [
    "df2.shape"
   ]
  },
  {
   "cell_type": "code",
   "execution_count": 27,
   "metadata": {},
   "outputs": [
    {
     "name": "stdout",
     "output_type": "stream",
     "text": [
      "<class 'pandas.core.frame.DataFrame'>\n",
      "Int64Index: 34231 entries, 5 to 181689\n",
      "Data columns (total 58 columns):\n",
      "eventid             34231 non-null int64\n",
      "iyear               34231 non-null int64\n",
      "imonth              34231 non-null int64\n",
      "iday                34231 non-null int64\n",
      "extended            34231 non-null int64\n",
      "country             34231 non-null int64\n",
      "country_txt         34231 non-null object\n",
      "region              34231 non-null int64\n",
      "region_txt          34231 non-null object\n",
      "provstate           34231 non-null object\n",
      "city                34231 non-null object\n",
      "latitude            34231 non-null float64\n",
      "longitude           34231 non-null float64\n",
      "specificity         34231 non-null float64\n",
      "vicinity            34231 non-null int64\n",
      "summary             34231 non-null object\n",
      "crit1               34231 non-null int64\n",
      "crit2               34231 non-null int64\n",
      "crit3               34231 non-null int64\n",
      "doubtterr           34231 non-null float64\n",
      "multiple            34231 non-null float64\n",
      "success             34231 non-null int64\n",
      "suicide             34231 non-null int64\n",
      "attacktype1         34231 non-null int64\n",
      "attacktype1_txt     34231 non-null object\n",
      "targtype1           34231 non-null int64\n",
      "targtype1_txt       34231 non-null object\n",
      "targsubtype1        34231 non-null float64\n",
      "targsubtype1_txt    34231 non-null object\n",
      "corp1               34231 non-null object\n",
      "target1             34231 non-null object\n",
      "natlty1             34231 non-null float64\n",
      "natlty1_txt         34231 non-null object\n",
      "gname               34231 non-null object\n",
      "guncertain1         34231 non-null float64\n",
      "individual          34231 non-null int64\n",
      "nperps              34231 non-null float64\n",
      "nperpcap            34231 non-null float64\n",
      "claimed             34231 non-null float64\n",
      "weaptype1           34231 non-null int64\n",
      "weaptype1_txt       34231 non-null object\n",
      "weapsubtype1        34231 non-null float64\n",
      "weapsubtype1_txt    34231 non-null object\n",
      "weapdetail          34231 non-null object\n",
      "nkill               34231 non-null float64\n",
      "nkillus             34231 non-null float64\n",
      "nkillter            34231 non-null float64\n",
      "nwound              34231 non-null float64\n",
      "nwoundus            34231 non-null float64\n",
      "nwoundte            34231 non-null float64\n",
      "property            34231 non-null int64\n",
      "ishostkid           34231 non-null float64\n",
      "scite1              34231 non-null object\n",
      "dbsource            34231 non-null object\n",
      "INT_LOG             34231 non-null int64\n",
      "INT_IDEO            34231 non-null int64\n",
      "INT_MISC            34231 non-null int64\n",
      "INT_ANY             34231 non-null int64\n",
      "dtypes: float64(19), int64(22), object(17)\n",
      "memory usage: 15.4+ MB\n"
     ]
    }
   ],
   "source": [
    "df2.info()"
   ]
  },
  {
   "cell_type": "code",
   "execution_count": 28,
   "metadata": {},
   "outputs": [
    {
     "data": {
      "text/plain": [
       "Index(['eventid', 'iyear', 'imonth', 'iday', 'extended', 'country',\n",
       "       'country_txt', 'region', 'region_txt', 'provstate', 'city', 'latitude',\n",
       "       'longitude', 'specificity', 'vicinity', 'summary', 'crit1', 'crit2',\n",
       "       'crit3', 'doubtterr', 'multiple', 'success', 'suicide', 'attacktype1',\n",
       "       'attacktype1_txt', 'targtype1', 'targtype1_txt', 'targsubtype1',\n",
       "       'targsubtype1_txt', 'corp1', 'target1', 'natlty1', 'natlty1_txt',\n",
       "       'gname', 'guncertain1', 'individual', 'nperps', 'nperpcap', 'claimed',\n",
       "       'weaptype1', 'weaptype1_txt', 'weapsubtype1', 'weapsubtype1_txt',\n",
       "       'weapdetail', 'nkill', 'nkillus', 'nkillter', 'nwound', 'nwoundus',\n",
       "       'nwoundte', 'property', 'ishostkid', 'scite1', 'dbsource', 'INT_LOG',\n",
       "       'INT_IDEO', 'INT_MISC', 'INT_ANY'],\n",
       "      dtype='object')"
      ]
     },
     "execution_count": 28,
     "metadata": {},
     "output_type": "execute_result"
    }
   ],
   "source": [
    "df2.columns"
   ]
  },
  {
   "cell_type": "code",
   "execution_count": 29,
   "metadata": {},
   "outputs": [
    {
     "data": {
      "text/plain": [
       "Private Citizens & Property    7696\n",
       "Military                       6678\n",
       "Police                         6275\n",
       "Government (General)           4894\n",
       "Business                       2505\n",
       "Educational Institution        1023\n",
       "Name: targtype1_txt, dtype: int64"
      ]
     },
     "execution_count": 29,
     "metadata": {},
     "output_type": "execute_result"
    }
   ],
   "source": [
    "df2['targtype1_txt'].value_counts().head(6)"
   ]
  },
  {
   "cell_type": "code",
   "execution_count": 30,
   "metadata": {},
   "outputs": [
    {
     "data": {
      "text/plain": [
       "Unknown                                           18043\n",
       "Taliban                                            1911\n",
       "Islamic State of Iraq and the Levant (ISIL)        1550\n",
       "Al-Shabaab                                          843\n",
       "Communist Party of India - Maoist (CPI-Maoist)      718\n",
       "Kurdistan Workers' Party (PKK)                      532\n",
       "Tehrik-i-Taliban Pakistan (TTP)                     518\n",
       "New People's Army (NPA)                             515\n",
       "Boko Haram                                          448\n",
       "Houthi extremists (Ansar Allah)                     385\n",
       "Maoists                                             359\n",
       "Donetsk People's Republic                           353\n",
       "Revolutionary Armed Forces of Colombia (FARC)       335\n",
       "Al-Qaida in the Arabian Peninsula (AQAP)            303\n",
       "Muslim extremists                                   219\n",
       "Separatists                                         210\n",
       "Bangsamoro Islamic Freedom Movement (BIFM)          195\n",
       "Palestinian Extremists                              195\n",
       "Al-Qaida in Iraq                                    170\n",
       "Sinai Province of the Islamic State                 168\n",
       "Left-Wing Militants                                 148\n",
       "Liberation Tigers of Tamil Eelam (LTTE)             142\n",
       "Al-Qaida in the Islamic Maghreb (AQIM)              138\n",
       "Abu Sayyaf Group (ASG)                              122\n",
       "Khorasan Chapter of the Islamic State               120\n",
       "Name: gname, dtype: int64"
      ]
     },
     "execution_count": 30,
     "metadata": {},
     "output_type": "execute_result"
    }
   ],
   "source": [
    "df2['gname'].value_counts().head(25)"
   ]
  },
  {
   "cell_type": "code",
   "execution_count": 31,
   "metadata": {},
   "outputs": [
    {
     "data": {
      "text/plain": [
       "5.35"
      ]
     },
     "execution_count": 31,
     "metadata": {},
     "output_type": "execute_result"
    }
   ],
   "source": [
    "round(df2[(df2['targtype1_txt']=='Private Citizens & Property')&(df2['gname']=='Taliban')]['eventid'].count()/(df2[df2['targtype1_txt']=='Private Citizens & Property']['eventid'].count())*100,2)"
   ]
  },
  {
   "cell_type": "code",
   "execution_count": 32,
   "metadata": {},
   "outputs": [
    {
     "data": {
      "text/plain": [
       "8.08"
      ]
     },
     "execution_count": 32,
     "metadata": {},
     "output_type": "execute_result"
    }
   ],
   "source": [
    "round(df2[(df2['targtype1_txt']=='Private Citizens & Property')&(df2['gname']=='Islamic State of Iraq and the Levant (ISIL)')]['eventid'].count()/(df2[df2['targtype1_txt']=='Private Citizens & Property']['eventid'].count())*100,2)"
   ]
  },
  {
   "cell_type": "code",
   "execution_count": 33,
   "metadata": {},
   "outputs": [
    {
     "data": {
      "text/plain": [
       "1.55"
      ]
     },
     "execution_count": 33,
     "metadata": {},
     "output_type": "execute_result"
    }
   ],
   "source": [
    "round(df2[(df2['targtype1_txt']=='Private Citizens & Property')&(df2['gname']=='Al-Shabaab')]['eventid'].count()/(df2[df2['targtype1_txt']=='Private Citizens & Property']['eventid'].count())*100,2)"
   ]
  },
  {
   "cell_type": "code",
   "execution_count": 34,
   "metadata": {},
   "outputs": [
    {
     "data": {
      "text/plain": [
       "1.0"
      ]
     },
     "execution_count": 34,
     "metadata": {},
     "output_type": "execute_result"
    }
   ],
   "source": [
    "round(df2[(df2['targtype1_txt']=='Private Citizens & Property')&(df2['gname']=='Communist Party of India - Maoist (CPI-Maoist)')]['eventid'].count()/(df2[df2['targtype1_txt']=='Private Citizens & Property']['eventid'].count())*100,2)"
   ]
  },
  {
   "cell_type": "code",
   "execution_count": 35,
   "metadata": {},
   "outputs": [
    {
     "data": {
      "text/plain": [
       "0.94"
      ]
     },
     "execution_count": 35,
     "metadata": {},
     "output_type": "execute_result"
    }
   ],
   "source": [
    "round(df2[(df2['targtype1_txt']=='Private Citizens & Property')&(df2['gname']=='Muslim extremists')]['eventid'].count()/(df2[df2['targtype1_txt']=='Private Citizens & Property']['eventid'].count())*100,2)"
   ]
  },
  {
   "cell_type": "code",
   "execution_count": 36,
   "metadata": {},
   "outputs": [
    {
     "data": {
      "text/html": [
       "<div>\n",
       "<style scoped>\n",
       "    .dataframe tbody tr th:only-of-type {\n",
       "        vertical-align: middle;\n",
       "    }\n",
       "\n",
       "    .dataframe tbody tr th {\n",
       "        vertical-align: top;\n",
       "    }\n",
       "\n",
       "    .dataframe thead th {\n",
       "        text-align: right;\n",
       "    }\n",
       "</style>\n",
       "<table border=\"1\" class=\"dataframe\">\n",
       "  <thead>\n",
       "    <tr style=\"text-align: right;\">\n",
       "      <th></th>\n",
       "      <th>Gang Name</th>\n",
       "      <th>Percentage</th>\n",
       "      <th>Target Type</th>\n",
       "    </tr>\n",
       "  </thead>\n",
       "  <tbody>\n",
       "    <tr>\n",
       "      <th>0</th>\n",
       "      <td>Taliban</td>\n",
       "      <td>5.35</td>\n",
       "      <td>Private Citizens &amp; Property</td>\n",
       "    </tr>\n",
       "    <tr>\n",
       "      <th>1</th>\n",
       "      <td>Islamic State of Iraq and the Levant (ISIL)</td>\n",
       "      <td>8.08</td>\n",
       "      <td>Private Citizens &amp; Property</td>\n",
       "    </tr>\n",
       "    <tr>\n",
       "      <th>2</th>\n",
       "      <td>Al-Shabaab</td>\n",
       "      <td>1.55</td>\n",
       "      <td>Private Citizens &amp; Property</td>\n",
       "    </tr>\n",
       "    <tr>\n",
       "      <th>3</th>\n",
       "      <td>Communist Party of India - Maoist (CPI-Maoist)</td>\n",
       "      <td>1.00</td>\n",
       "      <td>Private Citizens &amp; Property</td>\n",
       "    </tr>\n",
       "    <tr>\n",
       "      <th>4</th>\n",
       "      <td>Muslim extremists</td>\n",
       "      <td>0.94</td>\n",
       "      <td>Private Citizens &amp; Property</td>\n",
       "    </tr>\n",
       "  </tbody>\n",
       "</table>\n",
       "</div>"
      ],
      "text/plain": [
       "                                        Gang Name  Percentage  \\\n",
       "0                                         Taliban        5.35   \n",
       "1     Islamic State of Iraq and the Levant (ISIL)        8.08   \n",
       "2                                      Al-Shabaab        1.55   \n",
       "3  Communist Party of India - Maoist (CPI-Maoist)        1.00   \n",
       "4                               Muslim extremists        0.94   \n",
       "\n",
       "                   Target Type  \n",
       "0  Private Citizens & Property  \n",
       "1  Private Citizens & Property  \n",
       "2  Private Citizens & Property  \n",
       "3  Private Citizens & Property  \n",
       "4  Private Citizens & Property  "
      ]
     },
     "execution_count": 36,
     "metadata": {},
     "output_type": "execute_result"
    }
   ],
   "source": [
    "a={'Gang Name':['Taliban','Islamic State of Iraq and the Levant (ISIL)','Al-Shabaab','Communist Party of India - Maoist (CPI-Maoist)',\n",
    "               'Muslim extremists'],'Target Type':['Private Citizens & Property','Private Citizens & Property','Private Citizens & Property',\n",
    "                                                  'Private Citizens & Property','Private Citizens & Property'],\n",
    "  'Percentage':[5.35,8.08,1.55,1.0,0.94]}\n",
    "gn=pd.DataFrame(a)\n",
    "gn"
   ]
  },
  {
   "cell_type": "code",
   "execution_count": 37,
   "metadata": {},
   "outputs": [
    {
     "data": {
      "text/plain": [
       "(array([0, 1, 2, 3, 4]), <a list of 5 Text xticklabel objects>)"
      ]
     },
     "execution_count": 37,
     "metadata": {},
     "output_type": "execute_result"
    },
    {
     "data": {
      "image/png": "[encoded data removed]",
      "text/plain": [
       "<matplotlib.figure.Figure at 0x111ef5e48>"
      ]
     },
     "metadata": {},
     "output_type": "display_data"
    }
   ],
   "source": [
    "sns.barplot(x='Gang Name',y='Percentage',hue='Target Type',data=gn)\n",
    "plt.xticks(rotation=60)"
   ]
  },
  {
   "cell_type": "code",
   "execution_count": 38,
   "metadata": {},
   "outputs": [
    {
     "data": {
      "text/plain": [
       "<matplotlib.axes._subplots.AxesSubplot at 0x1a1e490128>"
      ]
     },
     "execution_count": 38,
     "metadata": {},
     "output_type": "execute_result"
    },
    {
     "data": {
      "image/png": "[encoded data removed]",
      "text/plain": [
       "<matplotlib.figure.Figure at 0x1a1e4584e0>"
      ]
     },
     "metadata": {},
     "output_type": "display_data"
    }
   ],
   "source": [
    "plt.figure(figsize=(25,20))\n",
    "df2['provstate'].value_counts().head(30).plot(kind='bar')"
   ]
  },
  {
   "cell_type": "code",
   "execution_count": 39,
   "metadata": {},
   "outputs": [
    {
     "data": {
      "text/plain": [
       "<matplotlib.axes._subplots.AxesSubplot at 0x1a1e8e0630>"
      ]
     },
     "execution_count": 39,
     "metadata": {},
     "output_type": "execute_result"
    },
    {
     "data": {
      "image/png": "[encoded data removed]",
      "text/plain": [
       "<matplotlib.figure.Figure at 0x1a1e8eef98>"
      ]
     },
     "metadata": {},
     "output_type": "display_data"
    }
   ],
   "source": [
    "plt.figure(figsize=(10,10))\n",
    "df2[df2['country_txt']=='India']['provstate'].value_counts().head(8).plot(kind='bar')"
   ]
  },
  {
   "cell_type": "code",
   "execution_count": 40,
   "metadata": {},
   "outputs": [],
   "source": [
    "a=df2[df2['country_txt']=='India']['provstate']"
   ]
  },
  {
   "cell_type": "code",
   "execution_count": 41,
   "metadata": {},
   "outputs": [
    {
     "data": {
      "text/plain": [
       "<matplotlib.axes._subplots.AxesSubplot at 0x1a1e8f3668>"
      ]
     },
     "execution_count": 41,
     "metadata": {},
     "output_type": "execute_result"
    },
    {
     "data": {
      "image/png": "[encoded data removed]",
      "text/plain": [
       "<matplotlib.figure.Figure at 0x1a207b57f0>"
      ]
     },
     "metadata": {},
     "output_type": "display_data"
    }
   ],
   "source": [
    "df2[df2['country_txt']=='India']['gname'].value_counts().head(3).plot(kind='bar')"
   ]
  },
  {
   "cell_type": "code",
   "execution_count": null,
   "metadata": {},
   "outputs": [],
   "source": []
  },
  {
   "cell_type": "code",
   "execution_count": null,
   "metadata": {},
   "outputs": [],
   "source": []
  },
  {
   "cell_type": "code",
   "execution_count": 42,
   "metadata": {},
   "outputs": [
    {
     "data": {
      "text/plain": [
       "2013    5192\n",
       "2014    5126\n",
       "2015    4642\n",
       "2016    3906\n",
       "2017    3085\n",
       "2012    2925\n",
       "2011    2313\n",
       "2010    1992\n",
       "2009    1380\n",
       "2008    1307\n",
       "2001     340\n",
       "1970     289\n",
       "2000     288\n",
       "2002     223\n",
       "2005     163\n",
       "2007     141\n",
       "2006     139\n",
       "1971     120\n",
       "2003     100\n",
       "1972      98\n",
       "2004      91\n",
       "1999      76\n",
       "1998      32\n",
       "1984      21\n",
       "1994      19\n",
       "1995      17\n",
       "1983      16\n",
       "1986      16\n",
       "1990      16\n",
       "1997      14\n",
       "1991      13\n",
       "1976      13\n",
       "1975      12\n",
       "1985      11\n",
       "1988      10\n",
       "1989      10\n",
       "1980      10\n",
       "1987       9\n",
       "1996       9\n",
       "1992       9\n",
       "1978       8\n",
       "1981       8\n",
       "1973       7\n",
       "1977       6\n",
       "1982       5\n",
       "1979       3\n",
       "1974       1\n",
       "Name: iyear, dtype: int64"
      ]
     },
     "execution_count": 42,
     "metadata": {},
     "output_type": "execute_result"
    }
   ],
   "source": [
    "df2['iyear'].value_counts()"
   ]
  },
  {
   "cell_type": "code",
   "execution_count": 43,
   "metadata": {},
   "outputs": [
    {
     "data": {
      "text/plain": [
       "5     3302\n",
       "4     3200\n",
       "7     3092\n",
       "11    2994\n",
       "8     2973\n",
       "10    2879\n",
       "6     2708\n",
       "3     2675\n",
       "2     2637\n",
       "1     2635\n",
       "12    2600\n",
       "9     2536\n",
       "Name: imonth, dtype: int64"
      ]
     },
     "execution_count": 43,
     "metadata": {},
     "output_type": "execute_result"
    }
   ],
   "source": [
    "df2['imonth'].value_counts()"
   ]
  },
  {
   "cell_type": "code",
   "execution_count": 44,
   "metadata": {},
   "outputs": [
    {
     "data": {
      "text/plain": [
       "0    33771\n",
       "1      460\n",
       "Name: extended, dtype: int64"
      ]
     },
     "execution_count": 44,
     "metadata": {},
     "output_type": "execute_result"
    }
   ],
   "source": [
    "df2['extended'].value_counts()"
   ]
  },
  {
   "cell_type": "code",
   "execution_count": 45,
   "metadata": {},
   "outputs": [
    {
     "data": {
      "text/plain": [
       "95      6827\n",
       "153     4243\n",
       "4       3536\n",
       "92      2574\n",
       "160     1693\n",
       "205     1395\n",
       "182     1023\n",
       "217      928\n",
       "228      881\n",
       "214      838\n",
       "200      809\n",
       "209      797\n",
       "60       675\n",
       "147      674\n",
       "167      620\n",
       "19       614\n",
       "113      567\n",
       "45       511\n",
       "6        423\n",
       "97       392\n",
       "603      375\n",
       "155      366\n",
       "78       290\n",
       "141      281\n",
       "110      237\n",
       "104      211\n",
       "186      201\n",
       "173      161\n",
       "93       134\n",
       "123      131\n",
       "        ... \n",
       "67         2\n",
       "91         2\n",
       "68         2\n",
       "151        2\n",
       "177        2\n",
       "1002       2\n",
       "175        2\n",
       "108        2\n",
       "89         2\n",
       "50         2\n",
       "22         2\n",
       "223        2\n",
       "106        2\n",
       "347        1\n",
       "64         1\n",
       "47         1\n",
       "25         1\n",
       "190        1\n",
       "207        1\n",
       "230        1\n",
       "605        1\n",
       "76         1\n",
       "157        1\n",
       "49         1\n",
       "156        1\n",
       "73         1\n",
       "132        1\n",
       "83         1\n",
       "84         1\n",
       "218        1\n",
       "Name: country, Length: 146, dtype: int64"
      ]
     },
     "execution_count": 45,
     "metadata": {},
     "output_type": "execute_result"
    }
   ],
   "source": [
    "df2['country'].value_counts()"
   ]
  },
  {
   "cell_type": "code",
   "execution_count": 46,
   "metadata": {},
   "outputs": [
    {
     "data": {
      "text/plain": [
       "eventid                    0\n",
       "iyear                      0\n",
       "imonth                     0\n",
       "iday                       0\n",
       "approxdate            172452\n",
       "extended                   0\n",
       "resolution            179471\n",
       "country                    0\n",
       "country_txt                0\n",
       "region                     0\n",
       "region_txt                 0\n",
       "provstate                421\n",
       "city                     434\n",
       "latitude                4556\n",
       "longitude               4557\n",
       "specificity                6\n",
       "vicinity                   0\n",
       "location              126196\n",
       "summary                66129\n",
       "crit1                      0\n",
       "crit2                      0\n",
       "crit3                      0\n",
       "doubtterr                  1\n",
       "alternative           152680\n",
       "alternative_txt       152680\n",
       "multiple                   1\n",
       "success                    0\n",
       "suicide                    0\n",
       "attacktype1                0\n",
       "attacktype1_txt            0\n",
       "                       ...  \n",
       "propextent            117626\n",
       "propextent_txt        117626\n",
       "propvalue             142702\n",
       "propcomment           123732\n",
       "ishostkid                178\n",
       "nhostkid              168119\n",
       "nhostkidus            168174\n",
       "nhours                177628\n",
       "ndays                 173567\n",
       "divert                181367\n",
       "kidhijcountry         178386\n",
       "ransom                104310\n",
       "ransomamt             180341\n",
       "ransomamtus           181128\n",
       "ransompaid            180917\n",
       "ransompaidus          181139\n",
       "ransomnote            181177\n",
       "hostkidoutcome        170700\n",
       "hostkidoutcome_txt    170700\n",
       "nreleased             171291\n",
       "addnotes              153402\n",
       "scite1                 66191\n",
       "scite2                104758\n",
       "scite3                138175\n",
       "dbsource                   0\n",
       "INT_LOG                    0\n",
       "INT_IDEO                   0\n",
       "INT_MISC                   0\n",
       "INT_ANY                    0\n",
       "related               156653\n",
       "Length: 135, dtype: int64"
      ]
     },
     "execution_count": 46,
     "metadata": {},
     "output_type": "execute_result"
    }
   ],
   "source": [
    "df.isnull().sum()"
   ]
  },
  {
   "cell_type": "code",
   "execution_count": 47,
   "metadata": {},
   "outputs": [
    {
     "data": {
      "text/plain": [
       "Index(['eventid', 'iyear', 'imonth', 'iday', 'approxdate', 'extended',\n",
       "       'resolution', 'country', 'country_txt', 'region',\n",
       "       ...\n",
       "       'addnotes', 'scite1', 'scite2', 'scite3', 'dbsource', 'INT_LOG',\n",
       "       'INT_IDEO', 'INT_MISC', 'INT_ANY', 'related'],\n",
       "      dtype='object', length=135)"
      ]
     },
     "execution_count": 47,
     "metadata": {},
     "output_type": "execute_result"
    }
   ],
   "source": [
    "df.columns"
   ]
  },
  {
   "cell_type": "code",
   "execution_count": 48,
   "metadata": {},
   "outputs": [],
   "source": [
    "cdf=df[['eventid','iyear','imonth','iday','extended','country','country_txt','region','region_txt','vicinity','crit1','crit2',\n",
    "         'crit3','success','suicide','attacktype1','attacktype1_txt','INT_LOG','INT_IDEO','INT_MISC','INT_ANY']]"
   ]
  },
  {
   "cell_type": "code",
   "execution_count": 49,
   "metadata": {},
   "outputs": [],
   "source": [
    "a=cdf[cdf['country_txt']=='India']"
   ]
  },
  {
   "cell_type": "code",
   "execution_count": 50,
   "metadata": {},
   "outputs": [
    {
     "data": {
      "text/plain": [
       "<matplotlib.axes._subplots.AxesSubplot at 0x1a207c2128>"
      ]
     },
     "execution_count": 50,
     "metadata": {},
     "output_type": "execute_result"
    },
    {
     "data": {
      "image/png": "[encoded data removed]",
      "text/plain": [
       "<matplotlib.figure.Figure at 0x1a20a10d68>"
      ]
     },
     "metadata": {},
     "output_type": "display_data"
    }
   ],
   "source": [
    "plt.figure(figsize=(10,10))\n",
    "a.iyear.value_counts().plot(kind='bar')"
   ]
  },
  {
   "cell_type": "code",
   "execution_count": 51,
   "metadata": {},
   "outputs": [
    {
     "data": {
      "text/plain": [
       "0"
      ]
     },
     "execution_count": 51,
     "metadata": {},
     "output_type": "execute_result"
    }
   ],
   "source": [
    "cdf.isnull().sum().sum()"
   ]
  },
  {
   "cell_type": "code",
   "execution_count": 52,
   "metadata": {},
   "outputs": [
    {
     "data": {
      "text/plain": [
       "Middle East & North Africa     50474\n",
       "South Asia                     44974\n",
       "South America                  18978\n",
       "Sub-Saharan Africa             17550\n",
       "Western Europe                 16639\n",
       "Southeast Asia                 12485\n",
       "Central America & Caribbean    10344\n",
       "Eastern Europe                  5144\n",
       "North America                   3456\n",
       "East Asia                        802\n",
       "Central Asia                     563\n",
       "Australasia & Oceania            282\n",
       "Name: region_txt, dtype: int64"
      ]
     },
     "execution_count": 52,
     "metadata": {},
     "output_type": "execute_result"
    }
   ],
   "source": [
    "cdf['region_txt'].value_counts()"
   ]
  },
  {
   "cell_type": "code",
   "execution_count": 53,
   "metadata": {},
   "outputs": [
    {
     "data": {
      "text/plain": [
       "<matplotlib.axes._subplots.AxesSubplot at 0x1a207e85f8>"
      ]
     },
     "execution_count": 53,
     "metadata": {},
     "output_type": "execute_result"
    },
    {
     "data": {
      "image/png": "[encoded data removed]",
      "text/plain": [
       "<matplotlib.figure.Figure at 0x1a1ed4ba20>"
      ]
     },
     "metadata": {},
     "output_type": "display_data"
    }
   ],
   "source": [
    "cdf['region_txt'].value_counts().plot(kind='bar')"
   ]
  },
  {
   "cell_type": "code",
   "execution_count": 54,
   "metadata": {},
   "outputs": [
    {
     "data": {
      "text/plain": [
       "1    161632\n",
       "0     20059\n",
       "Name: success, dtype: int64"
      ]
     },
     "execution_count": 54,
     "metadata": {},
     "output_type": "execute_result"
    }
   ],
   "source": [
    "cdf['success'].value_counts()"
   ]
  },
  {
   "cell_type": "code",
   "execution_count": 55,
   "metadata": {},
   "outputs": [
    {
     "data": {
      "text/plain": [
       "181691"
      ]
     },
     "execution_count": 55,
     "metadata": {},
     "output_type": "execute_result"
    }
   ],
   "source": [
    "cdf['success'].count()"
   ]
  },
  {
   "cell_type": "code",
   "execution_count": 56,
   "metadata": {},
   "outputs": [
    {
     "data": {
      "text/html": [
       "<div>\n",
       "<style scoped>\n",
       "    .dataframe tbody tr th:only-of-type {\n",
       "        vertical-align: middle;\n",
       "    }\n",
       "\n",
       "    .dataframe tbody tr th {\n",
       "        vertical-align: top;\n",
       "    }\n",
       "\n",
       "    .dataframe thead th {\n",
       "        text-align: right;\n",
       "    }\n",
       "</style>\n",
       "<table border=\"1\" class=\"dataframe\">\n",
       "  <thead>\n",
       "    <tr style=\"text-align: right;\">\n",
       "      <th></th>\n",
       "      <th>Target</th>\n",
       "      <th>Total Numbers</th>\n",
       "    </tr>\n",
       "  </thead>\n",
       "  <tbody>\n",
       "    <tr>\n",
       "      <th>0</th>\n",
       "      <td>Success</td>\n",
       "      <td>161632</td>\n",
       "    </tr>\n",
       "    <tr>\n",
       "      <th>1</th>\n",
       "      <td>Failure</td>\n",
       "      <td>20059</td>\n",
       "    </tr>\n",
       "    <tr>\n",
       "      <th>2</th>\n",
       "      <td>All</td>\n",
       "      <td>181691</td>\n",
       "    </tr>\n",
       "  </tbody>\n",
       "</table>\n",
       "</div>"
      ],
      "text/plain": [
       "    Target  Total Numbers\n",
       "0  Success         161632\n",
       "1  Failure          20059\n",
       "2      All         181691"
      ]
     },
     "execution_count": 56,
     "metadata": {},
     "output_type": "execute_result"
    }
   ],
   "source": [
    "a={'Target':['Success','Failure','All'],'Total Numbers':[161632,20059,181691]}\n",
    "n=pd.DataFrame(a)\n",
    "n"
   ]
  },
  {
   "cell_type": "code",
   "execution_count": 57,
   "metadata": {},
   "outputs": [
    {
     "data": {
      "text/html": [
       "<div>\n",
       "<style scoped>\n",
       "    .dataframe tbody tr th:only-of-type {\n",
       "        vertical-align: middle;\n",
       "    }\n",
       "\n",
       "    .dataframe tbody tr th {\n",
       "        vertical-align: top;\n",
       "    }\n",
       "\n",
       "    .dataframe thead th {\n",
       "        text-align: right;\n",
       "    }\n",
       "</style>\n",
       "<table border=\"1\" class=\"dataframe\">\n",
       "  <thead>\n",
       "    <tr style=\"text-align: right;\">\n",
       "      <th></th>\n",
       "      <th>Percentage</th>\n",
       "      <th>Target</th>\n",
       "    </tr>\n",
       "  </thead>\n",
       "  <tbody>\n",
       "    <tr>\n",
       "      <th>0</th>\n",
       "      <td>88.95</td>\n",
       "      <td>Success</td>\n",
       "    </tr>\n",
       "    <tr>\n",
       "      <th>1</th>\n",
       "      <td>11.04</td>\n",
       "      <td>Failure</td>\n",
       "    </tr>\n",
       "  </tbody>\n",
       "</table>\n",
       "</div>"
      ],
      "text/plain": [
       "   Percentage   Target\n",
       "0       88.95  Success\n",
       "1       11.04  Failure"
      ]
     },
     "execution_count": 57,
     "metadata": {},
     "output_type": "execute_result"
    }
   ],
   "source": [
    "a={'Target':['Success','Failure'],'Percentage':[88.95,11.04]}\n",
    "p=pd.DataFrame(a)\n",
    "p"
   ]
  },
  {
   "cell_type": "code",
   "execution_count": 58,
   "metadata": {},
   "outputs": [
    {
     "data": {
      "text/plain": [
       "<matplotlib.axes._subplots.AxesSubplot at 0x1a1ed4b6a0>"
      ]
     },
     "execution_count": 58,
     "metadata": {},
     "output_type": "execute_result"
    },
    {
     "data": {
      "image/png": "[encoded data removed]",
      "text/plain": [
       "<matplotlib.figure.Figure at 0x1a207d22b0>"
      ]
     },
     "metadata": {},
     "output_type": "display_data"
    }
   ],
   "source": [
    "sns.barplot(x='Target',y='Total Numbers',data=n)"
   ]
  },
  {
   "cell_type": "code",
   "execution_count": 59,
   "metadata": {},
   "outputs": [
    {
     "data": {
      "text/plain": [
       "<matplotlib.axes._subplots.AxesSubplot at 0x1a1e3264a8>"
      ]
     },
     "execution_count": 59,
     "metadata": {},
     "output_type": "execute_result"
    },
    {
     "data": {
      "image/png": "[encoded data removed]",
      "text/plain": [
       "<matplotlib.figure.Figure at 0x1a20e961d0>"
      ]
     },
     "metadata": {},
     "output_type": "display_data"
    }
   ],
   "source": [
    "sns.barplot(x='Target',y='Percentage',data=p)"
   ]
  },
  {
   "cell_type": "code",
   "execution_count": 60,
   "metadata": {},
   "outputs": [
    {
     "data": {
      "text/plain": [
       "<matplotlib.axes._subplots.AxesSubplot at 0x1a1eb63080>"
      ]
     },
     "execution_count": 60,
     "metadata": {},
     "output_type": "execute_result"
    },
    {
     "data": {
      "image/png": "[encoded data removed]",
      "text/plain": [
       "<matplotlib.figure.Figure at 0x1a1e326198>"
      ]
     },
     "metadata": {},
     "output_type": "display_data"
    }
   ],
   "source": [
    "cdf['success'].value_counts().plot(kind='bar')"
   ]
  },
  {
   "cell_type": "code",
   "execution_count": 61,
   "metadata": {},
   "outputs": [
    {
     "data": {
      "text/plain": [
       "eventid            87.81\n",
       "iyear              87.81\n",
       "imonth             87.81\n",
       "iday               87.81\n",
       "extended           87.81\n",
       "country            87.81\n",
       "country_txt        87.81\n",
       "region             87.81\n",
       "region_txt         87.81\n",
       "vicinity           87.81\n",
       "crit1              87.81\n",
       "crit2              87.81\n",
       "crit3              87.81\n",
       "success            87.81\n",
       "suicide            87.81\n",
       "attacktype1        87.81\n",
       "attacktype1_txt    87.81\n",
       "INT_LOG            87.81\n",
       "INT_IDEO           87.81\n",
       "INT_MISC           87.81\n",
       "INT_ANY            87.81\n",
       "dtype: float64"
      ]
     },
     "execution_count": 61,
     "metadata": {},
     "output_type": "execute_result"
    }
   ],
   "source": [
    "round(cdf[(cdf['success']==1)&(cdf['region_txt']=='Middle East & North Africa')].count()/(cdf[cdf['region_txt']=='Middle East & North Africa'].count())*100,2)"
   ]
  },
  {
   "cell_type": "code",
   "execution_count": 62,
   "metadata": {},
   "outputs": [
    {
     "data": {
      "text/plain": [
       "eventid            87.54\n",
       "iyear              87.54\n",
       "imonth             87.54\n",
       "iday               87.54\n",
       "extended           87.54\n",
       "country            87.54\n",
       "country_txt        87.54\n",
       "region             87.54\n",
       "region_txt         87.54\n",
       "vicinity           87.54\n",
       "crit1              87.54\n",
       "crit2              87.54\n",
       "crit3              87.54\n",
       "success            87.54\n",
       "suicide            87.54\n",
       "attacktype1        87.54\n",
       "attacktype1_txt    87.54\n",
       "INT_LOG            87.54\n",
       "INT_IDEO           87.54\n",
       "INT_MISC           87.54\n",
       "INT_ANY            87.54\n",
       "dtype: float64"
      ]
     },
     "execution_count": 62,
     "metadata": {},
     "output_type": "execute_result"
    }
   ],
   "source": [
    "round(cdf[(cdf['success']==1)&(cdf['region_txt']=='South Asia')].count()/(cdf[cdf['region_txt']=='South Asia'].count())*100,2)"
   ]
  },
  {
   "cell_type": "code",
   "execution_count": 63,
   "metadata": {},
   "outputs": [
    {
     "data": {
      "text/plain": [
       "Iraq           24636\n",
       "Pakistan       14368\n",
       "Afghanistan    12731\n",
       "India          11960\n",
       "Name: country_txt, dtype: int64"
      ]
     },
     "execution_count": 63,
     "metadata": {},
     "output_type": "execute_result"
    }
   ],
   "source": [
    "cdf['country_txt'].value_counts().head(4)"
   ]
  },
  {
   "cell_type": "code",
   "execution_count": 64,
   "metadata": {},
   "outputs": [
    {
     "data": {
      "text/plain": [
       "Bombing/Explosion                      88255\n",
       "Armed Assault                          42669\n",
       "Assassination                          19312\n",
       "Hostage Taking (Kidnapping)            11158\n",
       "Facility/Infrastructure Attack         10356\n",
       "Unknown                                 7276\n",
       "Unarmed Assault                         1015\n",
       "Hostage Taking (Barricade Incident)      991\n",
       "Hijacking                                659\n",
       "Name: attacktype1_txt, dtype: int64"
      ]
     },
     "execution_count": 64,
     "metadata": {},
     "output_type": "execute_result"
    }
   ],
   "source": [
    "cdf['attacktype1_txt'].value_counts()"
   ]
  },
  {
   "cell_type": "code",
   "execution_count": 65,
   "metadata": {},
   "outputs": [
    {
     "data": {
      "text/plain": [
       "20.72"
      ]
     },
     "execution_count": 65,
     "metadata": {},
     "output_type": "execute_result"
    }
   ],
   "source": [
    "round(cdf[(cdf['attacktype1_txt']=='Bombing/Explosion')&(cdf['country_txt']=='Iraq')]['eventid'].count()/(cdf[cdf['attacktype1_txt']=='Bombing/Explosion']['eventid'].count())*100,2)"
   ]
  },
  {
   "cell_type": "code",
   "execution_count": 66,
   "metadata": {},
   "outputs": [
    {
     "data": {
      "text/plain": [
       "7.39"
      ]
     },
     "execution_count": 66,
     "metadata": {},
     "output_type": "execute_result"
    }
   ],
   "source": [
    "round(cdf[(cdf['attacktype1_txt']=='Armed Assault')&(cdf['country_txt']=='Iraq')]['eventid'].count()/(cdf[cdf['attacktype1_txt']=='Armed Assault']['eventid'].count())*100,2)"
   ]
  },
  {
   "cell_type": "code",
   "execution_count": 67,
   "metadata": {},
   "outputs": [
    {
     "data": {
      "text/plain": [
       "6.66"
      ]
     },
     "execution_count": 67,
     "metadata": {},
     "output_type": "execute_result"
    }
   ],
   "source": [
    "round(cdf[(cdf['attacktype1_txt']=='Assassination')&(cdf['country_txt']=='Iraq')]['eventid'].count()/(cdf[cdf['attacktype1_txt']=='Assassination']['eventid'].count())*100,2)"
   ]
  },
  {
   "cell_type": "code",
   "execution_count": 68,
   "metadata": {},
   "outputs": [
    {
     "data": {
      "text/plain": [
       "8.48"
      ]
     },
     "execution_count": 68,
     "metadata": {},
     "output_type": "execute_result"
    }
   ],
   "source": [
    "round(cdf[(cdf['attacktype1_txt']=='Hostage Taking (Kidnapping)')&(cdf['country_txt']=='Iraq')]['eventid'].count()/(cdf[cdf['attacktype1_txt']=='Hostage Taking (Kidnapping)']['eventid'].count())*100,2)"
   ]
  },
  {
   "cell_type": "code",
   "execution_count": 69,
   "metadata": {},
   "outputs": [
    {
     "data": {
      "text/plain": [
       "1.49"
      ]
     },
     "execution_count": 69,
     "metadata": {},
     "output_type": "execute_result"
    }
   ],
   "source": [
    "round(cdf[(cdf['attacktype1_txt']=='Facility/Infrastructure Attack')&(cdf['country_txt']=='Iraq')]['eventid'].count()/(cdf[cdf['attacktype1_txt']=='Facility/Infrastructure Attack']['eventid'].count())*100,2)"
   ]
  },
  {
   "cell_type": "code",
   "execution_count": 70,
   "metadata": {},
   "outputs": [
    {
     "data": {
      "text/html": [
       "<div>\n",
       "<style scoped>\n",
       "    .dataframe tbody tr th:only-of-type {\n",
       "        vertical-align: middle;\n",
       "    }\n",
       "\n",
       "    .dataframe tbody tr th {\n",
       "        vertical-align: top;\n",
       "    }\n",
       "\n",
       "    .dataframe thead th {\n",
       "        text-align: right;\n",
       "    }\n",
       "</style>\n",
       "<table border=\"1\" class=\"dataframe\">\n",
       "  <thead>\n",
       "    <tr style=\"text-align: right;\">\n",
       "      <th></th>\n",
       "      <th>Attack Type</th>\n",
       "      <th>Percentage</th>\n",
       "    </tr>\n",
       "  </thead>\n",
       "  <tbody>\n",
       "    <tr>\n",
       "      <th>0</th>\n",
       "      <td>Bombing/Explosion</td>\n",
       "      <td>20.72</td>\n",
       "    </tr>\n",
       "    <tr>\n",
       "      <th>1</th>\n",
       "      <td>Armed Assault</td>\n",
       "      <td>7.39</td>\n",
       "    </tr>\n",
       "    <tr>\n",
       "      <th>2</th>\n",
       "      <td>Assassination</td>\n",
       "      <td>6.66</td>\n",
       "    </tr>\n",
       "    <tr>\n",
       "      <th>3</th>\n",
       "      <td>Hostage Taking (Kidnapping)</td>\n",
       "      <td>8.48</td>\n",
       "    </tr>\n",
       "    <tr>\n",
       "      <th>4</th>\n",
       "      <td>Facility/Infrastructure Attack</td>\n",
       "      <td>1.49</td>\n",
       "    </tr>\n",
       "  </tbody>\n",
       "</table>\n",
       "</div>"
      ],
      "text/plain": [
       "                      Attack Type  Percentage\n",
       "0               Bombing/Explosion       20.72\n",
       "1                   Armed Assault        7.39\n",
       "2                   Assassination        6.66\n",
       "3     Hostage Taking (Kidnapping)        8.48\n",
       "4  Facility/Infrastructure Attack        1.49"
      ]
     },
     "execution_count": 70,
     "metadata": {},
     "output_type": "execute_result"
    }
   ],
   "source": [
    "a={'Attack Type':['Bombing/Explosion','Armed Assault','Assassination','Hostage Taking (Kidnapping)','Facility/Infrastructure Attack'],'Percentage':[20.72,7.39,6.66,8.48,1.49]}\n",
    "ati=pd.DataFrame(a)\n",
    "ati"
   ]
  },
  {
   "cell_type": "code",
   "execution_count": 71,
   "metadata": {},
   "outputs": [
    {
     "data": {
      "text/plain": [
       "(array([0, 1, 2, 3, 4]), <a list of 5 Text xticklabel objects>)"
      ]
     },
     "execution_count": 71,
     "metadata": {},
     "output_type": "execute_result"
    },
    {
     "data": {
      "image/png": "[encoded data removed]",
      "text/plain": [
       "<matplotlib.figure.Figure at 0x1a1e33a1d0>"
      ]
     },
     "metadata": {},
     "output_type": "display_data"
    }
   ],
   "source": [
    "sns.barplot(x='Attack Type',y='Percentage',data=ati)\n",
    "plt.xticks(rotation=90)"
   ]
  },
  {
   "cell_type": "code",
   "execution_count": 72,
   "metadata": {},
   "outputs": [
    {
     "data": {
      "text/plain": [
       "8.63"
      ]
     },
     "execution_count": 72,
     "metadata": {},
     "output_type": "execute_result"
    }
   ],
   "source": [
    "round(cdf[(cdf['attacktype1_txt']=='Bombing/Explosion')&(cdf['country_txt']=='Pakistan')]['eventid'].count()/(cdf[cdf['attacktype1_txt']=='Bombing/Explosion']['eventid'].count())*100,2)"
   ]
  },
  {
   "cell_type": "code",
   "execution_count": 73,
   "metadata": {},
   "outputs": [
    {
     "data": {
      "text/plain": [
       "9.04"
      ]
     },
     "execution_count": 73,
     "metadata": {},
     "output_type": "execute_result"
    }
   ],
   "source": [
    "round(cdf[(cdf['attacktype1_txt']=='Armed Assault')&(cdf['country_txt']=='Pakistan')]['eventid'].count()/(cdf[cdf['attacktype1_txt']=='Armed Assault']['eventid'].count())*100,2)"
   ]
  },
  {
   "cell_type": "code",
   "execution_count": 74,
   "metadata": {},
   "outputs": [
    {
     "data": {
      "text/plain": [
       "7.28"
      ]
     },
     "execution_count": 74,
     "metadata": {},
     "output_type": "execute_result"
    }
   ],
   "source": [
    "round(cdf[(cdf['attacktype1_txt']=='Assassination')&(cdf['country_txt']=='Pakistan')]['eventid'].count()/(cdf[cdf['attacktype1_txt']=='Assassination']['eventid'].count())*100,2)"
   ]
  },
  {
   "cell_type": "code",
   "execution_count": 75,
   "metadata": {},
   "outputs": [
    {
     "data": {
      "text/plain": [
       "7.38"
      ]
     },
     "execution_count": 75,
     "metadata": {},
     "output_type": "execute_result"
    }
   ],
   "source": [
    "round(cdf[(cdf['attacktype1_txt']=='Hostage Taking (Kidnapping)')&(cdf['country_txt']=='Pakistan')]['eventid'].count()/(cdf[cdf['attacktype1_txt']=='Hostage Taking (Kidnapping)']['eventid'].count())*100,2)"
   ]
  },
  {
   "cell_type": "code",
   "execution_count": 76,
   "metadata": {},
   "outputs": [
    {
     "data": {
      "text/plain": [
       "2.9"
      ]
     },
     "execution_count": 76,
     "metadata": {},
     "output_type": "execute_result"
    }
   ],
   "source": [
    "round(cdf[(cdf['attacktype1_txt']=='Facility/Infrastructure Attack')&(cdf['country_txt']=='Pakistan')]['eventid'].count()/(cdf[cdf['attacktype1_txt']=='Facility/Infrastructure Attack']['eventid'].count())*100,2)"
   ]
  },
  {
   "cell_type": "code",
   "execution_count": 77,
   "metadata": {},
   "outputs": [
    {
     "data": {
      "text/html": [
       "<div>\n",
       "<style scoped>\n",
       "    .dataframe tbody tr th:only-of-type {\n",
       "        vertical-align: middle;\n",
       "    }\n",
       "\n",
       "    .dataframe tbody tr th {\n",
       "        vertical-align: top;\n",
       "    }\n",
       "\n",
       "    .dataframe thead th {\n",
       "        text-align: right;\n",
       "    }\n",
       "</style>\n",
       "<table border=\"1\" class=\"dataframe\">\n",
       "  <thead>\n",
       "    <tr style=\"text-align: right;\">\n",
       "      <th></th>\n",
       "      <th>Attack Type</th>\n",
       "      <th>Percentage</th>\n",
       "    </tr>\n",
       "  </thead>\n",
       "  <tbody>\n",
       "    <tr>\n",
       "      <th>0</th>\n",
       "      <td>Bombing/Explosion</td>\n",
       "      <td>8.63</td>\n",
       "    </tr>\n",
       "    <tr>\n",
       "      <th>1</th>\n",
       "      <td>Armed Assault</td>\n",
       "      <td>9.04</td>\n",
       "    </tr>\n",
       "    <tr>\n",
       "      <th>2</th>\n",
       "      <td>Assassination</td>\n",
       "      <td>7.28</td>\n",
       "    </tr>\n",
       "    <tr>\n",
       "      <th>3</th>\n",
       "      <td>Hostage Taking (Kidnapping)</td>\n",
       "      <td>7.38</td>\n",
       "    </tr>\n",
       "    <tr>\n",
       "      <th>4</th>\n",
       "      <td>Facility/Infrastructure Attack</td>\n",
       "      <td>2.90</td>\n",
       "    </tr>\n",
       "  </tbody>\n",
       "</table>\n",
       "</div>"
      ],
      "text/plain": [
       "                      Attack Type  Percentage\n",
       "0               Bombing/Explosion        8.63\n",
       "1                   Armed Assault        9.04\n",
       "2                   Assassination        7.28\n",
       "3     Hostage Taking (Kidnapping)        7.38\n",
       "4  Facility/Infrastructure Attack        2.90"
      ]
     },
     "execution_count": 77,
     "metadata": {},
     "output_type": "execute_result"
    }
   ],
   "source": [
    "a={'Attack Type':['Bombing/Explosion','Armed Assault','Assassination','Hostage Taking (Kidnapping)','Facility/Infrastructure Attack'],'Percentage':[8.63,9.04,7.28,7.38,2.9]}\n",
    "atp=pd.DataFrame(a)\n",
    "atp"
   ]
  },
  {
   "cell_type": "code",
   "execution_count": 78,
   "metadata": {},
   "outputs": [
    {
     "data": {
      "text/plain": [
       "(array([0, 1, 2, 3, 4]), <a list of 5 Text xticklabel objects>)"
      ]
     },
     "execution_count": 78,
     "metadata": {},
     "output_type": "execute_result"
    },
    {
     "data": {
      "image/png": "[encoded data removed]",
      "text/plain": [
       "<matplotlib.figure.Figure at 0x1a207a2dd8>"
      ]
     },
     "metadata": {},
     "output_type": "display_data"
    }
   ],
   "source": [
    "sns.barplot(x='Attack Type',y='Percentage',data=atp)\n",
    "plt.xticks(rotation=90)"
   ]
  },
  {
   "cell_type": "code",
   "execution_count": 79,
   "metadata": {},
   "outputs": [
    {
     "data": {
      "text/plain": [
       "7.08"
      ]
     },
     "execution_count": 79,
     "metadata": {},
     "output_type": "execute_result"
    }
   ],
   "source": [
    "round(cdf[(cdf['attacktype1_txt']=='Bombing/Explosion')&(cdf['country_txt']=='Afghanistan')]['eventid'].count()/(cdf[cdf['attacktype1_txt']=='Bombing/Explosion']['eventid'].count())*100,2)"
   ]
  },
  {
   "cell_type": "code",
   "execution_count": 80,
   "metadata": {},
   "outputs": [
    {
     "data": {
      "text/plain": [
       "6.74"
      ]
     },
     "execution_count": 80,
     "metadata": {},
     "output_type": "execute_result"
    }
   ],
   "source": [
    "round(cdf[(cdf['attacktype1_txt']=='Armed Assault')&(cdf['country_txt']=='Afghanistan')]['eventid'].count()/(cdf[cdf['attacktype1_txt']=='Armed Assault']['eventid'].count())*100,2)"
   ]
  },
  {
   "cell_type": "code",
   "execution_count": 81,
   "metadata": {},
   "outputs": [
    {
     "data": {
      "text/plain": [
       "4.94"
      ]
     },
     "execution_count": 81,
     "metadata": {},
     "output_type": "execute_result"
    }
   ],
   "source": [
    "round(cdf[(cdf['attacktype1_txt']=='Assassination')&(cdf['country_txt']=='Afghanistan')]['eventid'].count()/(cdf[cdf['attacktype1_txt']=='Assassination']['eventid'].count())*100,2)"
   ]
  },
  {
   "cell_type": "code",
   "execution_count": 82,
   "metadata": {},
   "outputs": [
    {
     "data": {
      "text/plain": [
       "9.06"
      ]
     },
     "execution_count": 82,
     "metadata": {},
     "output_type": "execute_result"
    }
   ],
   "source": [
    "round(cdf[(cdf['attacktype1_txt']=='Hostage Taking (Kidnapping)')&(cdf['country_txt']=='Afghanistan')]['eventid'].count()/(cdf[cdf['attacktype1_txt']=='Hostage Taking (Kidnapping)']['eventid'].count())*100,2)"
   ]
  },
  {
   "cell_type": "code",
   "execution_count": 83,
   "metadata": {},
   "outputs": [
    {
     "data": {
      "text/plain": [
       "3.43"
      ]
     },
     "execution_count": 83,
     "metadata": {},
     "output_type": "execute_result"
    }
   ],
   "source": [
    "round(cdf[(cdf['attacktype1_txt']=='Facility/Infrastructure Attack')&(cdf['country_txt']=='Afghanistan')]['eventid'].count()/(cdf[cdf['attacktype1_txt']=='Facility/Infrastructure Attack']['eventid'].count())*100,2)"
   ]
  },
  {
   "cell_type": "code",
   "execution_count": 84,
   "metadata": {},
   "outputs": [
    {
     "data": {
      "text/html": [
       "<div>\n",
       "<style scoped>\n",
       "    .dataframe tbody tr th:only-of-type {\n",
       "        vertical-align: middle;\n",
       "    }\n",
       "\n",
       "    .dataframe tbody tr th {\n",
       "        vertical-align: top;\n",
       "    }\n",
       "\n",
       "    .dataframe thead th {\n",
       "        text-align: right;\n",
       "    }\n",
       "</style>\n",
       "<table border=\"1\" class=\"dataframe\">\n",
       "  <thead>\n",
       "    <tr style=\"text-align: right;\">\n",
       "      <th></th>\n",
       "      <th>Attack Type</th>\n",
       "      <th>Percentage</th>\n",
       "    </tr>\n",
       "  </thead>\n",
       "  <tbody>\n",
       "    <tr>\n",
       "      <th>0</th>\n",
       "      <td>Bombing/Explosion</td>\n",
       "      <td>7.08</td>\n",
       "    </tr>\n",
       "    <tr>\n",
       "      <th>1</th>\n",
       "      <td>Armed Assault</td>\n",
       "      <td>6.74</td>\n",
       "    </tr>\n",
       "    <tr>\n",
       "      <th>2</th>\n",
       "      <td>Assassination</td>\n",
       "      <td>4.94</td>\n",
       "    </tr>\n",
       "    <tr>\n",
       "      <th>3</th>\n",
       "      <td>Hostage Taking (Kidnapping)</td>\n",
       "      <td>9.06</td>\n",
       "    </tr>\n",
       "    <tr>\n",
       "      <th>4</th>\n",
       "      <td>Facility/Infrastructure Attack</td>\n",
       "      <td>3.43</td>\n",
       "    </tr>\n",
       "  </tbody>\n",
       "</table>\n",
       "</div>"
      ],
      "text/plain": [
       "                      Attack Type  Percentage\n",
       "0               Bombing/Explosion        7.08\n",
       "1                   Armed Assault        6.74\n",
       "2                   Assassination        4.94\n",
       "3     Hostage Taking (Kidnapping)        9.06\n",
       "4  Facility/Infrastructure Attack        3.43"
      ]
     },
     "execution_count": 84,
     "metadata": {},
     "output_type": "execute_result"
    }
   ],
   "source": [
    "a={'Attack Type':['Bombing/Explosion','Armed Assault','Assassination','Hostage Taking (Kidnapping)','Facility/Infrastructure Attack'],'Percentage':[7.08,6.74,4.94,9.06,3.43]}\n",
    "ata=pd.DataFrame(a)\n",
    "ata"
   ]
  },
  {
   "cell_type": "code",
   "execution_count": 85,
   "metadata": {},
   "outputs": [
    {
     "data": {
      "text/plain": [
       "(array([0, 1, 2, 3, 4]), <a list of 5 Text xticklabel objects>)"
      ]
     },
     "execution_count": 85,
     "metadata": {},
     "output_type": "execute_result"
    },
    {
     "data": {
      "image/png": "[encoded data removed]",
      "text/plain": [
       "<matplotlib.figure.Figure at 0x1a1ec374a8>"
      ]
     },
     "metadata": {},
     "output_type": "display_data"
    }
   ],
   "source": [
    "sns.barplot(x='Attack Type',y='Percentage',data=ata)\n",
    "plt.xticks(rotation=90)"
   ]
  },
  {
   "cell_type": "code",
   "execution_count": 86,
   "metadata": {},
   "outputs": [
    {
     "data": {
      "text/plain": [
       "5.47"
      ]
     },
     "execution_count": 86,
     "metadata": {},
     "output_type": "execute_result"
    }
   ],
   "source": [
    "round(cdf[(cdf['attacktype1_txt']=='Bombing/Explosion')&(cdf['country_txt']=='India')]['eventid'].count()/(cdf[cdf['attacktype1_txt']=='Bombing/Explosion']['eventid'].count())*100,2)"
   ]
  },
  {
   "cell_type": "code",
   "execution_count": 87,
   "metadata": {},
   "outputs": [
    {
     "data": {
      "text/plain": [
       "7.46"
      ]
     },
     "execution_count": 87,
     "metadata": {},
     "output_type": "execute_result"
    }
   ],
   "source": [
    "round(cdf[(cdf['attacktype1_txt']=='Armed Assault')&(cdf['country_txt']=='India')]['eventid'].count()/(cdf[cdf['attacktype1_txt']=='Armed Assault']['eventid'].count())*100,2)"
   ]
  },
  {
   "cell_type": "code",
   "execution_count": 88,
   "metadata": {},
   "outputs": [
    {
     "data": {
      "text/plain": [
       "6.36"
      ]
     },
     "execution_count": 88,
     "metadata": {},
     "output_type": "execute_result"
    }
   ],
   "source": [
    "round(cdf[(cdf['attacktype1_txt']=='Assassination')&(cdf['country_txt']=='India')]['eventid'].count()/(cdf[cdf['attacktype1_txt']=='Assassination']['eventid'].count())*100,2)"
   ]
  },
  {
   "cell_type": "code",
   "execution_count": 89,
   "metadata": {},
   "outputs": [
    {
     "data": {
      "text/plain": [
       "10.61"
      ]
     },
     "execution_count": 89,
     "metadata": {},
     "output_type": "execute_result"
    }
   ],
   "source": [
    "round(cdf[(cdf['attacktype1_txt']=='Hostage Taking (Kidnapping)')&(cdf['country_txt']=='India')]['eventid'].count()/(cdf[cdf['attacktype1_txt']=='Hostage Taking (Kidnapping)']['eventid'].count())*100,2)"
   ]
  },
  {
   "cell_type": "code",
   "execution_count": 90,
   "metadata": {},
   "outputs": [
    {
     "data": {
      "text/plain": [
       "9.62"
      ]
     },
     "execution_count": 90,
     "metadata": {},
     "output_type": "execute_result"
    }
   ],
   "source": [
    "round(cdf[(cdf['attacktype1_txt']=='Facility/Infrastructure Attack')&(cdf['country_txt']=='India')]['eventid'].count()/(cdf[cdf['attacktype1_txt']=='Facility/Infrastructure Attack']['eventid'].count())*100,2)"
   ]
  },
  {
   "cell_type": "code",
   "execution_count": 91,
   "metadata": {},
   "outputs": [
    {
     "data": {
      "text/html": [
       "<div>\n",
       "<style scoped>\n",
       "    .dataframe tbody tr th:only-of-type {\n",
       "        vertical-align: middle;\n",
       "    }\n",
       "\n",
       "    .dataframe tbody tr th {\n",
       "        vertical-align: top;\n",
       "    }\n",
       "\n",
       "    .dataframe thead th {\n",
       "        text-align: right;\n",
       "    }\n",
       "</style>\n",
       "<table border=\"1\" class=\"dataframe\">\n",
       "  <thead>\n",
       "    <tr style=\"text-align: right;\">\n",
       "      <th></th>\n",
       "      <th>Attack Type</th>\n",
       "      <th>Percentage</th>\n",
       "    </tr>\n",
       "  </thead>\n",
       "  <tbody>\n",
       "    <tr>\n",
       "      <th>0</th>\n",
       "      <td>Bombing/Explosion</td>\n",
       "      <td>5.47</td>\n",
       "    </tr>\n",
       "    <tr>\n",
       "      <th>1</th>\n",
       "      <td>Armed Assault</td>\n",
       "      <td>7.46</td>\n",
       "    </tr>\n",
       "    <tr>\n",
       "      <th>2</th>\n",
       "      <td>Assassination</td>\n",
       "      <td>6.36</td>\n",
       "    </tr>\n",
       "    <tr>\n",
       "      <th>3</th>\n",
       "      <td>Hostage Taking (Kidnapping)</td>\n",
       "      <td>10.61</td>\n",
       "    </tr>\n",
       "    <tr>\n",
       "      <th>4</th>\n",
       "      <td>Facility/Infrastructure Attack</td>\n",
       "      <td>9.62</td>\n",
       "    </tr>\n",
       "  </tbody>\n",
       "</table>\n",
       "</div>"
      ],
      "text/plain": [
       "                      Attack Type  Percentage\n",
       "0               Bombing/Explosion        5.47\n",
       "1                   Armed Assault        7.46\n",
       "2                   Assassination        6.36\n",
       "3     Hostage Taking (Kidnapping)       10.61\n",
       "4  Facility/Infrastructure Attack        9.62"
      ]
     },
     "execution_count": 91,
     "metadata": {},
     "output_type": "execute_result"
    }
   ],
   "source": [
    "a={'Attack Type':['Bombing/Explosion','Armed Assault','Assassination','Hostage Taking (Kidnapping)','Facility/Infrastructure Attack'],'Percentage':[5.47,7.46,6.36,10.61,9.62]}\n",
    "atin=pd.DataFrame(a)\n",
    "atin"
   ]
  },
  {
   "cell_type": "code",
   "execution_count": 92,
   "metadata": {},
   "outputs": [
    {
     "data": {
      "text/plain": [
       "(array([0, 1, 2, 3, 4]), <a list of 5 Text xticklabel objects>)"
      ]
     },
     "execution_count": 92,
     "metadata": {},
     "output_type": "execute_result"
    },
    {
     "data": {
      "image/png": "[encoded data removed]",
      "text/plain": [
       "<matplotlib.figure.Figure at 0x1a1ec223c8>"
      ]
     },
     "metadata": {},
     "output_type": "display_data"
    }
   ],
   "source": [
    "sns.barplot(x='Attack Type',y='Percentage',data=atin)\n",
    "plt.xticks(rotation=90)"
   ]
  },
  {
   "cell_type": "code",
   "execution_count": 93,
   "metadata": {},
   "outputs": [
    {
     "data": {
      "text/plain": [
       "0    175058\n",
       "1      6633\n",
       "Name: suicide, dtype: int64"
      ]
     },
     "execution_count": 93,
     "metadata": {},
     "output_type": "execute_result"
    }
   ],
   "source": [
    "cdf['suicide'].value_counts()"
   ]
  },
  {
   "cell_type": "code",
   "execution_count": 94,
   "metadata": {},
   "outputs": [
    {
     "data": {
      "text/plain": [
       "<matplotlib.axes._subplots.AxesSubplot at 0x1a1e34fe10>"
      ]
     },
     "execution_count": 94,
     "metadata": {},
     "output_type": "execute_result"
    },
    {
     "data": {
      "image/png": "[encoded data removed]",
      "text/plain": [
       "<matplotlib.figure.Figure at 0x1a215a5438>"
      ]
     },
     "metadata": {},
     "output_type": "display_data"
    }
   ],
   "source": [
    "cdf['suicide'].value_counts().plot(kind='bar')"
   ]
  },
  {
   "cell_type": "code",
   "execution_count": 95,
   "metadata": {},
   "outputs": [
    {
     "data": {
      "text/plain": [
       "181691"
      ]
     },
     "execution_count": 95,
     "metadata": {},
     "output_type": "execute_result"
    }
   ],
   "source": [
    "cdf['suicide'].count()"
   ]
  },
  {
   "cell_type": "code",
   "execution_count": 96,
   "metadata": {},
   "outputs": [
    {
     "data": {
      "text/html": [
       "<div>\n",
       "<style scoped>\n",
       "    .dataframe tbody tr th:only-of-type {\n",
       "        vertical-align: middle;\n",
       "    }\n",
       "\n",
       "    .dataframe tbody tr th {\n",
       "        vertical-align: top;\n",
       "    }\n",
       "\n",
       "    .dataframe thead th {\n",
       "        text-align: right;\n",
       "    }\n",
       "</style>\n",
       "<table border=\"1\" class=\"dataframe\">\n",
       "  <thead>\n",
       "    <tr style=\"text-align: right;\">\n",
       "      <th></th>\n",
       "      <th>Percentage</th>\n",
       "      <th>suicide</th>\n",
       "    </tr>\n",
       "  </thead>\n",
       "  <tbody>\n",
       "    <tr>\n",
       "      <th>0</th>\n",
       "      <td>3.65</td>\n",
       "      <td>Yes</td>\n",
       "    </tr>\n",
       "    <tr>\n",
       "      <th>1</th>\n",
       "      <td>96.34</td>\n",
       "      <td>No</td>\n",
       "    </tr>\n",
       "  </tbody>\n",
       "</table>\n",
       "</div>"
      ],
      "text/plain": [
       "   Percentage suicide\n",
       "0        3.65     Yes\n",
       "1       96.34      No"
      ]
     },
     "execution_count": 96,
     "metadata": {},
     "output_type": "execute_result"
    }
   ],
   "source": [
    "s={'suicide':['Yes','No'],'Percentage':[3.65,96.34]}\n",
    "su=pd.DataFrame(s)\n",
    "su"
   ]
  },
  {
   "cell_type": "code",
   "execution_count": 97,
   "metadata": {},
   "outputs": [
    {
     "data": {
      "text/plain": [
       "(array([0, 1]), <a list of 2 Text xticklabel objects>)"
      ]
     },
     "execution_count": 97,
     "metadata": {},
     "output_type": "execute_result"
    },
    {
     "data": {
      "image/png": "[encoded data removed]",
      "text/plain": [
       "<matplotlib.figure.Figure at 0x1a209654a8>"
      ]
     },
     "metadata": {},
     "output_type": "display_data"
    }
   ],
   "source": [
    "sns.barplot(x='suicide',y='Percentage',data=su)\n",
    "plt.xticks(rotation=90)"
   ]
  },
  {
   "cell_type": "code",
   "execution_count": 98,
   "metadata": {},
   "outputs": [
    {
     "data": {
      "text/plain": [
       "eventid            2602\n",
       "iyear              2602\n",
       "imonth             2602\n",
       "iday               2602\n",
       "extended           2602\n",
       "country            2602\n",
       "country_txt        2602\n",
       "region             2602\n",
       "region_txt         2602\n",
       "vicinity           2602\n",
       "crit1              2602\n",
       "crit2              2602\n",
       "crit3              2602\n",
       "success            2602\n",
       "suicide            2602\n",
       "attacktype1        2602\n",
       "attacktype1_txt    2602\n",
       "INT_LOG            2602\n",
       "INT_IDEO           2602\n",
       "INT_MISC           2602\n",
       "INT_ANY            2602\n",
       "dtype: int64"
      ]
     },
     "execution_count": 98,
     "metadata": {},
     "output_type": "execute_result"
    }
   ],
   "source": [
    "cdf[(cdf['suicide']==1)&(cdf['country_txt']=='Iraq')].count()"
   ]
  },
  {
   "cell_type": "code",
   "execution_count": 99,
   "metadata": {},
   "outputs": [
    {
     "data": {
      "text/plain": [
       "Iraq           24636\n",
       "Pakistan       14368\n",
       "Afghanistan    12731\n",
       "India          11960\n",
       "Name: country_txt, dtype: int64"
      ]
     },
     "execution_count": 99,
     "metadata": {},
     "output_type": "execute_result"
    }
   ],
   "source": [
    "cdf['country_txt'].value_counts().head(4)"
   ]
  },
  {
   "cell_type": "code",
   "execution_count": 100,
   "metadata": {},
   "outputs": [
    {
     "data": {
      "text/plain": [
       "eventid            39.23\n",
       "iyear              39.23\n",
       "imonth             39.23\n",
       "iday               39.23\n",
       "extended           39.23\n",
       "country            39.23\n",
       "country_txt        39.23\n",
       "region             39.23\n",
       "region_txt         39.23\n",
       "vicinity           39.23\n",
       "crit1              39.23\n",
       "crit2              39.23\n",
       "crit3              39.23\n",
       "success            39.23\n",
       "suicide            39.23\n",
       "attacktype1        39.23\n",
       "attacktype1_txt    39.23\n",
       "INT_LOG            39.23\n",
       "INT_IDEO           39.23\n",
       "INT_MISC           39.23\n",
       "INT_ANY            39.23\n",
       "dtype: float64"
      ]
     },
     "execution_count": 100,
     "metadata": {},
     "output_type": "execute_result"
    }
   ],
   "source": [
    "round(cdf[(cdf['suicide']==1)&(cdf['country_txt']=='Iraq')].count()/(cdf[cdf['suicide']==1].count())*100,2)"
   ]
  },
  {
   "cell_type": "code",
   "execution_count": 101,
   "metadata": {},
   "outputs": [
    {
     "data": {
      "text/plain": [
       "eventid            7.7\n",
       "iyear              7.7\n",
       "imonth             7.7\n",
       "iday               7.7\n",
       "extended           7.7\n",
       "country            7.7\n",
       "country_txt        7.7\n",
       "region             7.7\n",
       "region_txt         7.7\n",
       "vicinity           7.7\n",
       "crit1              7.7\n",
       "crit2              7.7\n",
       "crit3              7.7\n",
       "success            7.7\n",
       "suicide            7.7\n",
       "attacktype1        7.7\n",
       "attacktype1_txt    7.7\n",
       "INT_LOG            7.7\n",
       "INT_IDEO           7.7\n",
       "INT_MISC           7.7\n",
       "INT_ANY            7.7\n",
       "dtype: float64"
      ]
     },
     "execution_count": 101,
     "metadata": {},
     "output_type": "execute_result"
    }
   ],
   "source": [
    "round(cdf[(cdf['suicide']==1)&(cdf['country_txt']=='Pakistan')].count()/(cdf[cdf['suicide']==1].count())*100,2)"
   ]
  },
  {
   "cell_type": "code",
   "execution_count": 102,
   "metadata": {},
   "outputs": [
    {
     "data": {
      "text/plain": [
       "eventid            18.51\n",
       "iyear              18.51\n",
       "imonth             18.51\n",
       "iday               18.51\n",
       "extended           18.51\n",
       "country            18.51\n",
       "country_txt        18.51\n",
       "region             18.51\n",
       "region_txt         18.51\n",
       "vicinity           18.51\n",
       "crit1              18.51\n",
       "crit2              18.51\n",
       "crit3              18.51\n",
       "success            18.51\n",
       "suicide            18.51\n",
       "attacktype1        18.51\n",
       "attacktype1_txt    18.51\n",
       "INT_LOG            18.51\n",
       "INT_IDEO           18.51\n",
       "INT_MISC           18.51\n",
       "INT_ANY            18.51\n",
       "dtype: float64"
      ]
     },
     "execution_count": 102,
     "metadata": {},
     "output_type": "execute_result"
    }
   ],
   "source": [
    "round(cdf[(cdf['suicide']==1)&(cdf['country_txt']=='Afghanistan')].count()/(cdf[cdf['suicide']==1].count())*100,2)"
   ]
  },
  {
   "cell_type": "code",
   "execution_count": 103,
   "metadata": {},
   "outputs": [
    {
     "data": {
      "text/plain": [
       "eventid            0.9\n",
       "iyear              0.9\n",
       "imonth             0.9\n",
       "iday               0.9\n",
       "extended           0.9\n",
       "country            0.9\n",
       "country_txt        0.9\n",
       "region             0.9\n",
       "region_txt         0.9\n",
       "vicinity           0.9\n",
       "crit1              0.9\n",
       "crit2              0.9\n",
       "crit3              0.9\n",
       "success            0.9\n",
       "suicide            0.9\n",
       "attacktype1        0.9\n",
       "attacktype1_txt    0.9\n",
       "INT_LOG            0.9\n",
       "INT_IDEO           0.9\n",
       "INT_MISC           0.9\n",
       "INT_ANY            0.9\n",
       "dtype: float64"
      ]
     },
     "execution_count": 103,
     "metadata": {},
     "output_type": "execute_result"
    }
   ],
   "source": [
    "round(cdf[(cdf['suicide']==1)&(cdf['country_txt']=='India')].count()/(cdf[cdf['suicide']==1].count())*100,2)"
   ]
  },
  {
   "cell_type": "code",
   "execution_count": 104,
   "metadata": {},
   "outputs": [
    {
     "data": {
      "text/html": [
       "<div>\n",
       "<style scoped>\n",
       "    .dataframe tbody tr th:only-of-type {\n",
       "        vertical-align: middle;\n",
       "    }\n",
       "\n",
       "    .dataframe tbody tr th {\n",
       "        vertical-align: top;\n",
       "    }\n",
       "\n",
       "    .dataframe thead th {\n",
       "        text-align: right;\n",
       "    }\n",
       "</style>\n",
       "<table border=\"1\" class=\"dataframe\">\n",
       "  <thead>\n",
       "    <tr style=\"text-align: right;\">\n",
       "      <th></th>\n",
       "      <th>Country</th>\n",
       "      <th>Percentage of suicide</th>\n",
       "    </tr>\n",
       "  </thead>\n",
       "  <tbody>\n",
       "    <tr>\n",
       "      <th>0</th>\n",
       "      <td>Iraq</td>\n",
       "      <td>39.23</td>\n",
       "    </tr>\n",
       "    <tr>\n",
       "      <th>1</th>\n",
       "      <td>Pakistan</td>\n",
       "      <td>7.70</td>\n",
       "    </tr>\n",
       "    <tr>\n",
       "      <th>2</th>\n",
       "      <td>Afghanistan</td>\n",
       "      <td>18.51</td>\n",
       "    </tr>\n",
       "    <tr>\n",
       "      <th>3</th>\n",
       "      <td>India</td>\n",
       "      <td>0.90</td>\n",
       "    </tr>\n",
       "  </tbody>\n",
       "</table>\n",
       "</div>"
      ],
      "text/plain": [
       "       Country  Percentage of suicide\n",
       "0         Iraq                  39.23\n",
       "1     Pakistan                   7.70\n",
       "2  Afghanistan                  18.51\n",
       "3        India                   0.90"
      ]
     },
     "execution_count": 104,
     "metadata": {},
     "output_type": "execute_result"
    }
   ],
   "source": [
    "s={'Country':['Iraq','Pakistan','Afghanistan','India'],'Percentage of suicide':[39.23,7.7,18.51,0.9]}\n",
    "suc=pd.DataFrame(s)\n",
    "suc"
   ]
  },
  {
   "cell_type": "code",
   "execution_count": 105,
   "metadata": {},
   "outputs": [
    {
     "data": {
      "text/plain": [
       "(array([0, 1, 2, 3]), <a list of 4 Text xticklabel objects>)"
      ]
     },
     "execution_count": 105,
     "metadata": {},
     "output_type": "execute_result"
    },
    {
     "data": {
      "image/png": "[encoded data removed]",
      "text/plain": [
       "<matplotlib.figure.Figure at 0x1a209cfb00>"
      ]
     },
     "metadata": {},
     "output_type": "display_data"
    }
   ],
   "source": [
    "sns.barplot(x='Country',y='Percentage of suicide',data=suc)\n",
    "plt.xticks(rotation=90)"
   ]
  },
  {
   "cell_type": "code",
   "execution_count": 106,
   "metadata": {},
   "outputs": [
    {
     "data": {
      "text/plain": [
       "Middle East & North Africa     50474\n",
       "South Asia                     44974\n",
       "South America                  18978\n",
       "Sub-Saharan Africa             17550\n",
       "Western Europe                 16639\n",
       "Southeast Asia                 12485\n",
       "Central America & Caribbean    10344\n",
       "Eastern Europe                  5144\n",
       "North America                   3456\n",
       "East Asia                        802\n",
       "Central Asia                     563\n",
       "Australasia & Oceania            282\n",
       "Name: region_txt, dtype: int64"
      ]
     },
     "execution_count": 106,
     "metadata": {},
     "output_type": "execute_result"
    }
   ],
   "source": [
    "cdf['region_txt'].value_counts()"
   ]
  },
  {
   "cell_type": "code",
   "execution_count": 107,
   "metadata": {},
   "outputs": [
    {
     "data": {
      "text/plain": [
       "35.02"
      ]
     },
     "execution_count": 107,
     "metadata": {},
     "output_type": "execute_result"
    }
   ],
   "source": [
    "round(cdf[(cdf['attacktype1_txt']=='Bombing/Explosion')&(cdf['region_txt']=='Middle East & North Africa')]['eventid'].count()/(cdf[cdf['attacktype1_txt']=='Bombing/Explosion']['eventid'].count())*100,2)"
   ]
  },
  {
   "cell_type": "code",
   "execution_count": 108,
   "metadata": {},
   "outputs": [
    {
     "data": {
      "text/plain": [
       "21.73"
      ]
     },
     "execution_count": 108,
     "metadata": {},
     "output_type": "execute_result"
    }
   ],
   "source": [
    "round(cdf[(cdf['attacktype1_txt']=='Armed Assault')&(cdf['region_txt']=='Middle East & North Africa')]['eventid'].count()/(cdf[cdf['attacktype1_txt']=='Armed Assault']['eventid'].count())*100,2)"
   ]
  },
  {
   "cell_type": "code",
   "execution_count": 109,
   "metadata": {},
   "outputs": [
    {
     "data": {
      "text/plain": [
       "21.78"
      ]
     },
     "execution_count": 109,
     "metadata": {},
     "output_type": "execute_result"
    }
   ],
   "source": [
    "round(cdf[(cdf['attacktype1_txt']=='Assassination')&(cdf['region_txt']=='Middle East & North Africa')]['eventid'].count()/(cdf[cdf['attacktype1_txt']=='Assassination']['eventid'].count())*100,2)"
   ]
  },
  {
   "cell_type": "code",
   "execution_count": 110,
   "metadata": {},
   "outputs": [
    {
     "data": {
      "text/plain": [
       "23.89"
      ]
     },
     "execution_count": 110,
     "metadata": {},
     "output_type": "execute_result"
    }
   ],
   "source": [
    "round(cdf[(cdf['attacktype1_txt']=='Hostage Taking (Kidnapping)')&(cdf['region_txt']=='Middle East & North Africa')]['eventid'].count()/(cdf[cdf['attacktype1_txt']=='Hostage Taking (Kidnapping)']['eventid'].count())*100,2)"
   ]
  },
  {
   "cell_type": "code",
   "execution_count": 111,
   "metadata": {},
   "outputs": [
    {
     "data": {
      "text/plain": [
       "10.77"
      ]
     },
     "execution_count": 111,
     "metadata": {},
     "output_type": "execute_result"
    }
   ],
   "source": [
    "round(cdf[(cdf['attacktype1_txt']=='Facility/Infrastructure Attack')&(cdf['region_txt']=='Middle East & North Africa')]['eventid'].count()/(cdf[cdf['attacktype1_txt']=='Facility/Infrastructure Attack']['eventid'].count())*100,2)"
   ]
  },
  {
   "cell_type": "code",
   "execution_count": 112,
   "metadata": {},
   "outputs": [
    {
     "data": {
      "text/html": [
       "<div>\n",
       "<style scoped>\n",
       "    .dataframe tbody tr th:only-of-type {\n",
       "        vertical-align: middle;\n",
       "    }\n",
       "\n",
       "    .dataframe tbody tr th {\n",
       "        vertical-align: top;\n",
       "    }\n",
       "\n",
       "    .dataframe thead th {\n",
       "        text-align: right;\n",
       "    }\n",
       "</style>\n",
       "<table border=\"1\" class=\"dataframe\">\n",
       "  <thead>\n",
       "    <tr style=\"text-align: right;\">\n",
       "      <th></th>\n",
       "      <th>Attack Type</th>\n",
       "      <th>Percentage</th>\n",
       "      <th>Region</th>\n",
       "    </tr>\n",
       "  </thead>\n",
       "  <tbody>\n",
       "    <tr>\n",
       "      <th>0</th>\n",
       "      <td>Bombing/Explosion</td>\n",
       "      <td>35.02</td>\n",
       "      <td>Middle East &amp; North Africa</td>\n",
       "    </tr>\n",
       "    <tr>\n",
       "      <th>1</th>\n",
       "      <td>Armed Assault</td>\n",
       "      <td>21.73</td>\n",
       "      <td>Middle East &amp; North Africa</td>\n",
       "    </tr>\n",
       "    <tr>\n",
       "      <th>2</th>\n",
       "      <td>Assassination</td>\n",
       "      <td>21.78</td>\n",
       "      <td>Middle East &amp; North Africa</td>\n",
       "    </tr>\n",
       "    <tr>\n",
       "      <th>3</th>\n",
       "      <td>Hostage Taking (Kidnapping)</td>\n",
       "      <td>23.89</td>\n",
       "      <td>Middle East &amp; North Africa</td>\n",
       "    </tr>\n",
       "    <tr>\n",
       "      <th>4</th>\n",
       "      <td>Facility/Infrastructure Attack</td>\n",
       "      <td>10.77</td>\n",
       "      <td>Middle East &amp; North Africa</td>\n",
       "    </tr>\n",
       "  </tbody>\n",
       "</table>\n",
       "</div>"
      ],
      "text/plain": [
       "                      Attack Type  Percentage                      Region\n",
       "0               Bombing/Explosion       35.02  Middle East & North Africa\n",
       "1                   Armed Assault       21.73  Middle East & North Africa\n",
       "2                   Assassination       21.78  Middle East & North Africa\n",
       "3     Hostage Taking (Kidnapping)       23.89  Middle East & North Africa\n",
       "4  Facility/Infrastructure Attack       10.77  Middle East & North Africa"
      ]
     },
     "execution_count": 112,
     "metadata": {},
     "output_type": "execute_result"
    }
   ],
   "source": [
    "s={'Region':['Middle East & North Africa','Middle East & North Africa','Middle East & North Africa','Middle East & North Africa','Middle East & North Africa'],\n",
    "   'Attack Type':['Bombing/Explosion','Armed Assault','Assassination','Hostage Taking (Kidnapping)','Facility/Infrastructure Attack'],\n",
    "  'Percentage':[35.02,21.73,21.78,23.89,10.77]}\n",
    "re=pd.DataFrame(s)\n",
    "re"
   ]
  },
  {
   "cell_type": "code",
   "execution_count": 113,
   "metadata": {},
   "outputs": [
    {
     "data": {
      "text/plain": [
       "(array([0, 1, 2, 3, 4]), <a list of 5 Text xticklabel objects>)"
      ]
     },
     "execution_count": 113,
     "metadata": {},
     "output_type": "execute_result"
    },
    {
     "data": {
      "image/png": "[encoded data removed]",
      "text/plain": [
       "<matplotlib.figure.Figure at 0x1a216474e0>"
      ]
     },
     "metadata": {},
     "output_type": "display_data"
    }
   ],
   "source": [
    "sns.barplot(x='Attack Type',y='Percentage',hue='Region',data=re)\n",
    "plt.xticks(rotation=90)"
   ]
  },
  {
   "cell_type": "code",
   "execution_count": 114,
   "metadata": {},
   "outputs": [
    {
     "data": {
      "text/plain": [
       "24.07"
      ]
     },
     "execution_count": 114,
     "metadata": {},
     "output_type": "execute_result"
    }
   ],
   "source": [
    "round(cdf[(cdf['attacktype1_txt']=='Bombing/Explosion')&(cdf['region_txt']=='South Asia')]['eventid'].count()/(cdf[cdf['attacktype1_txt']=='Bombing/Explosion']['eventid'].count())*100,2)"
   ]
  },
  {
   "cell_type": "code",
   "execution_count": 115,
   "metadata": {},
   "outputs": [
    {
     "data": {
      "text/plain": [
       "26.73"
      ]
     },
     "execution_count": 115,
     "metadata": {},
     "output_type": "execute_result"
    }
   ],
   "source": [
    "round(cdf[(cdf['attacktype1_txt']=='Armed Assault')&(cdf['region_txt']=='South Asia')]['eventid'].count()/(cdf[cdf['attacktype1_txt']=='Armed Assault']['eventid'].count())*100,2)"
   ]
  },
  {
   "cell_type": "code",
   "execution_count": 116,
   "metadata": {},
   "outputs": [
    {
     "data": {
      "text/plain": [
       "22.27"
      ]
     },
     "execution_count": 116,
     "metadata": {},
     "output_type": "execute_result"
    }
   ],
   "source": [
    "round(cdf[(cdf['attacktype1_txt']=='Assassination')&(cdf['region_txt']=='South Asia')]['eventid'].count()/(cdf[cdf['attacktype1_txt']=='Assassination']['eventid'].count())*100,2)"
   ]
  },
  {
   "cell_type": "code",
   "execution_count": 117,
   "metadata": {},
   "outputs": [
    {
     "data": {
      "text/plain": [
       "29.37"
      ]
     },
     "execution_count": 117,
     "metadata": {},
     "output_type": "execute_result"
    }
   ],
   "source": [
    "round(cdf[(cdf['attacktype1_txt']=='Hostage Taking (Kidnapping)')&(cdf['region_txt']=='South Asia')]['eventid'].count()/(cdf[cdf['attacktype1_txt']=='Hostage Taking (Kidnapping)']['eventid'].count())*100,2)"
   ]
  },
  {
   "cell_type": "code",
   "execution_count": 118,
   "metadata": {},
   "outputs": [
    {
     "data": {
      "text/plain": [
       "21.14"
      ]
     },
     "execution_count": 118,
     "metadata": {},
     "output_type": "execute_result"
    }
   ],
   "source": [
    "round(cdf[(cdf['attacktype1_txt']=='Facility/Infrastructure Attack')&(cdf['region_txt']=='South Asia')]['eventid'].count()/(cdf[cdf['attacktype1_txt']=='Facility/Infrastructure Attack']['eventid'].count())*100,2)"
   ]
  },
  {
   "cell_type": "code",
   "execution_count": 119,
   "metadata": {},
   "outputs": [
    {
     "data": {
      "text/html": [
       "<div>\n",
       "<style scoped>\n",
       "    .dataframe tbody tr th:only-of-type {\n",
       "        vertical-align: middle;\n",
       "    }\n",
       "\n",
       "    .dataframe tbody tr th {\n",
       "        vertical-align: top;\n",
       "    }\n",
       "\n",
       "    .dataframe thead th {\n",
       "        text-align: right;\n",
       "    }\n",
       "</style>\n",
       "<table border=\"1\" class=\"dataframe\">\n",
       "  <thead>\n",
       "    <tr style=\"text-align: right;\">\n",
       "      <th></th>\n",
       "      <th>Attack Type</th>\n",
       "      <th>Percentage</th>\n",
       "      <th>Region</th>\n",
       "    </tr>\n",
       "  </thead>\n",
       "  <tbody>\n",
       "    <tr>\n",
       "      <th>0</th>\n",
       "      <td>Bombing/Explosion</td>\n",
       "      <td>24.07</td>\n",
       "      <td>South Asia</td>\n",
       "    </tr>\n",
       "    <tr>\n",
       "      <th>1</th>\n",
       "      <td>Armed Assault</td>\n",
       "      <td>26.73</td>\n",
       "      <td>South Asia</td>\n",
       "    </tr>\n",
       "    <tr>\n",
       "      <th>2</th>\n",
       "      <td>Assassination</td>\n",
       "      <td>22.27</td>\n",
       "      <td>South Asia</td>\n",
       "    </tr>\n",
       "    <tr>\n",
       "      <th>3</th>\n",
       "      <td>Hostage Taking (Kidnapping)</td>\n",
       "      <td>29.37</td>\n",
       "      <td>South Asia</td>\n",
       "    </tr>\n",
       "    <tr>\n",
       "      <th>4</th>\n",
       "      <td>Facility/Infrastructure Attack</td>\n",
       "      <td>21.14</td>\n",
       "      <td>South Asia</td>\n",
       "    </tr>\n",
       "  </tbody>\n",
       "</table>\n",
       "</div>"
      ],
      "text/plain": [
       "                      Attack Type  Percentage      Region\n",
       "0               Bombing/Explosion       24.07  South Asia\n",
       "1                   Armed Assault       26.73  South Asia\n",
       "2                   Assassination       22.27  South Asia\n",
       "3     Hostage Taking (Kidnapping)       29.37  South Asia\n",
       "4  Facility/Infrastructure Attack       21.14  South Asia"
      ]
     },
     "execution_count": 119,
     "metadata": {},
     "output_type": "execute_result"
    }
   ],
   "source": [
    "s={'Region':['South Asia','South Asia','South Asia','South Asia','South Asia'],\n",
    "   'Attack Type':['Bombing/Explosion','Armed Assault','Assassination','Hostage Taking (Kidnapping)','Facility/Infrastructure Attack'],\n",
    "  'Percentage':[24.07,26.73,22.27,29.37,21.14]}\n",
    "re1=pd.DataFrame(s)\n",
    "re1"
   ]
  },
  {
   "cell_type": "code",
   "execution_count": 120,
   "metadata": {},
   "outputs": [
    {
     "data": {
      "text/plain": [
       "(array([0, 1, 2, 3, 4]), <a list of 5 Text xticklabel objects>)"
      ]
     },
     "execution_count": 120,
     "metadata": {},
     "output_type": "execute_result"
    },
    {
     "data": {
      "image/png": "[encoded data removed]",
      "text/plain": [
       "<matplotlib.figure.Figure at 0x1a216ebcf8>"
      ]
     },
     "metadata": {},
     "output_type": "display_data"
    }
   ],
   "source": [
    "sns.barplot(x='Attack Type',y='Percentage',hue='Region',data=re1)\n",
    "plt.xticks(rotation=90)"
   ]
  },
  {
   "cell_type": "code",
   "execution_count": 121,
   "metadata": {},
   "outputs": [
    {
     "data": {
      "text/plain": [
       " 0    168932\n",
       " 1     12724\n",
       "-9        35\n",
       "Name: vicinity, dtype: int64"
      ]
     },
     "execution_count": 121,
     "metadata": {},
     "output_type": "execute_result"
    }
   ],
   "source": [
    "cdf['vicinity'].value_counts()"
   ]
  },
  {
   "cell_type": "code",
   "execution_count": 122,
   "metadata": {},
   "outputs": [
    {
     "data": {
      "text/plain": [
       "Index(['eventid', 'iyear', 'imonth', 'iday', 'extended', 'country',\n",
       "       'country_txt', 'region', 'region_txt', 'vicinity', 'crit1', 'crit2',\n",
       "       'crit3', 'success', 'suicide', 'attacktype1', 'attacktype1_txt',\n",
       "       'INT_LOG', 'INT_IDEO', 'INT_MISC', 'INT_ANY'],\n",
       "      dtype='object')"
      ]
     },
     "execution_count": 122,
     "metadata": {},
     "output_type": "execute_result"
    }
   ],
   "source": [
    "cdf.columns"
   ]
  },
  {
   "cell_type": "code",
   "execution_count": 123,
   "metadata": {},
   "outputs": [
    {
     "data": {
      "text/plain": [
       "<matplotlib.axes._subplots.AxesSubplot at 0x1a2754dda0>"
      ]
     },
     "execution_count": 123,
     "metadata": {},
     "output_type": "execute_result"
    },
    {
     "data": {
      "image/png": "[encoded data removed]",
      "text/plain": [
       "<matplotlib.figure.Figure at 0x1a27c0cbe0>"
      ]
     },
     "metadata": {},
     "output_type": "display_data"
    }
   ],
   "source": [
    "cdf['iyear'].value_counts().head(10).plot(kind='bar')"
   ]
  },
  {
   "cell_type": "code",
   "execution_count": 124,
   "metadata": {},
   "outputs": [
    {
     "data": {
      "text/plain": [
       "2014    16903\n",
       "2015    14965\n",
       "2016    13587\n",
       "2013    12036\n",
       "2017    10900\n",
       "Name: iyear, dtype: int64"
      ]
     },
     "execution_count": 124,
     "metadata": {},
     "output_type": "execute_result"
    }
   ],
   "source": [
    "cdf['iyear'].value_counts().head(5)"
   ]
  },
  {
   "cell_type": "code",
   "execution_count": 125,
   "metadata": {},
   "outputs": [
    {
     "data": {
      "text/plain": [
       "<matplotlib.axes._subplots.AxesSubplot at 0x1a28027940>"
      ]
     },
     "execution_count": 125,
     "metadata": {},
     "output_type": "execute_result"
    },
    {
     "data": {
      "image/png": "[encoded data removed]",
      "text/plain": [
       "<matplotlib.figure.Figure at 0x1a27561518>"
      ]
     },
     "metadata": {},
     "output_type": "display_data"
    }
   ],
   "source": [
    "plt.figure(figsize=(10,10))\n",
    "cdf['imonth'].value_counts().plot(kind='bar')"
   ]
  },
  {
   "cell_type": "code",
   "execution_count": 126,
   "metadata": {},
   "outputs": [
    {
     "data": {
      "text/plain": [
       "<matplotlib.axes._subplots.AxesSubplot at 0x1a280a8470>"
      ]
     },
     "execution_count": 126,
     "metadata": {},
     "output_type": "execute_result"
    },
    {
     "data": {
      "image/png": "[encoded data removed]",
      "text/plain": [
       "<matplotlib.figure.Figure at 0x1a280eae10>"
      ]
     },
     "metadata": {},
     "output_type": "display_data"
    }
   ],
   "source": [
    "plt.figure(figsize=(20,10))\n",
    "cdf['iday'].value_counts().plot(kind='bar')"
   ]
  },
  {
   "cell_type": "code",
   "execution_count": 127,
   "metadata": {},
   "outputs": [
    {
     "data": {
      "text/plain": [
       "2014    16903\n",
       "2015    14965\n",
       "2016    13587\n",
       "2013    12036\n",
       "2017    10900\n",
       "Name: iyear, dtype: int64"
      ]
     },
     "execution_count": 127,
     "metadata": {},
     "output_type": "execute_result"
    }
   ],
   "source": [
    "cdf['iyear'].value_counts().head(5)"
   ]
  },
  {
   "cell_type": "code",
   "execution_count": 128,
   "metadata": {},
   "outputs": [
    {
     "data": {
      "text/plain": [
       "Iraq           24636\n",
       "Pakistan       14368\n",
       "Afghanistan    12731\n",
       "India          11960\n",
       "Colombia        8306\n",
       "Name: country_txt, dtype: int64"
      ]
     },
     "execution_count": 128,
     "metadata": {},
     "output_type": "execute_result"
    }
   ],
   "source": [
    "cdf['country_txt'].value_counts().head(5)"
   ]
  },
  {
   "cell_type": "code",
   "execution_count": 129,
   "metadata": {},
   "outputs": [
    {
     "data": {
      "text/plain": [
       "23.27"
      ]
     },
     "execution_count": 129,
     "metadata": {},
     "output_type": "execute_result"
    }
   ],
   "source": [
    "round(cdf[(cdf['iyear']==2014)&(cdf['country_txt']=='Iraq')]['eventid'].count()/(cdf[cdf['iyear']==2014]['eventid'].count())*100,2)"
   ]
  },
  {
   "cell_type": "code",
   "execution_count": 130,
   "metadata": {},
   "outputs": [
    {
     "data": {
      "text/plain": [
       "12.73"
      ]
     },
     "execution_count": 130,
     "metadata": {},
     "output_type": "execute_result"
    }
   ],
   "source": [
    "round(cdf[(cdf['iyear']==2014)&(cdf['country_txt']=='Pakistan')]['eventid'].count()/(cdf[cdf['iyear']==2014]['eventid'].count())*100,2)"
   ]
  },
  {
   "cell_type": "code",
   "execution_count": 131,
   "metadata": {},
   "outputs": [
    {
     "data": {
      "text/plain": [
       "10.79"
      ]
     },
     "execution_count": 131,
     "metadata": {},
     "output_type": "execute_result"
    }
   ],
   "source": [
    "round(cdf[(cdf['iyear']==2014)&(cdf['country_txt']=='Afghanistan')]['eventid'].count()/(cdf[cdf['iyear']==2014]['eventid'].count())*100,2)"
   ]
  },
  {
   "cell_type": "code",
   "execution_count": 132,
   "metadata": {},
   "outputs": [
    {
     "data": {
      "text/plain": [
       "5.09"
      ]
     },
     "execution_count": 132,
     "metadata": {},
     "output_type": "execute_result"
    }
   ],
   "source": [
    "round(cdf[(cdf['iyear']==2014)&(cdf['country_txt']=='India')]['eventid'].count()/(cdf[cdf['iyear']==2014]['eventid'].count())*100,2)"
   ]
  },
  {
   "cell_type": "code",
   "execution_count": 133,
   "metadata": {},
   "outputs": [
    {
     "data": {
      "text/plain": [
       "1.37"
      ]
     },
     "execution_count": 133,
     "metadata": {},
     "output_type": "execute_result"
    }
   ],
   "source": [
    "round(cdf[(cdf['iyear']==2014)&(cdf['country_txt']=='Colombia')]['eventid'].count()/(cdf[cdf['iyear']==2014]['eventid'].count())*100,2)"
   ]
  },
  {
   "cell_type": "code",
   "execution_count": 134,
   "metadata": {},
   "outputs": [
    {
     "data": {
      "text/plain": [
       "18.38"
      ]
     },
     "execution_count": 134,
     "metadata": {},
     "output_type": "execute_result"
    }
   ],
   "source": [
    "round(cdf[(cdf['iyear']==2015)&(cdf['country_txt']=='Iraq')]['eventid'].count()/(cdf[cdf['iyear']==2015]['eventid'].count())*100,2)"
   ]
  },
  {
   "cell_type": "code",
   "execution_count": 135,
   "metadata": {},
   "outputs": [
    {
     "data": {
      "text/plain": [
       "8.31"
      ]
     },
     "execution_count": 135,
     "metadata": {},
     "output_type": "execute_result"
    }
   ],
   "source": [
    "round(cdf[(cdf['iyear']==2015)&(cdf['country_txt']=='Pakistan')]['eventid'].count()/(cdf[cdf['iyear']==2015]['eventid'].count())*100,2)"
   ]
  },
  {
   "cell_type": "code",
   "execution_count": 136,
   "metadata": {},
   "outputs": [
    {
     "data": {
      "text/plain": [
       "12.88"
      ]
     },
     "execution_count": 136,
     "metadata": {},
     "output_type": "execute_result"
    }
   ],
   "source": [
    "round(cdf[(cdf['iyear']==2015)&(cdf['country_txt']=='Afghanistan')]['eventid'].count()/(cdf[cdf['iyear']==2015]['eventid'].count())*100,2)"
   ]
  },
  {
   "cell_type": "code",
   "execution_count": 137,
   "metadata": {},
   "outputs": [
    {
     "data": {
      "text/plain": [
       "5.91"
      ]
     },
     "execution_count": 137,
     "metadata": {},
     "output_type": "execute_result"
    }
   ],
   "source": [
    "round(cdf[(cdf['iyear']==2015)&(cdf['country_txt']=='India')]['eventid'].count()/(cdf[cdf['iyear']==2015]['eventid'].count())*100,2)"
   ]
  },
  {
   "cell_type": "code",
   "execution_count": 138,
   "metadata": {},
   "outputs": [
    {
     "data": {
      "text/plain": [
       "24.73"
      ]
     },
     "execution_count": 138,
     "metadata": {},
     "output_type": "execute_result"
    }
   ],
   "source": [
    "round(cdf[(cdf['iyear']==2016)&(cdf['country_txt']=='Iraq')]['eventid'].count()/(cdf[cdf['iyear']==2016]['eventid'].count())*100,2)"
   ]
  },
  {
   "cell_type": "code",
   "execution_count": 139,
   "metadata": {},
   "outputs": [
    {
     "data": {
      "text/plain": [
       "6.36"
      ]
     },
     "execution_count": 139,
     "metadata": {},
     "output_type": "execute_result"
    }
   ],
   "source": [
    "round(cdf[(cdf['iyear']==2016)&(cdf['country_txt']=='Pakistan')]['eventid'].count()/(cdf[cdf['iyear']==2016]['eventid'].count())*100,2)"
   ]
  },
  {
   "cell_type": "code",
   "execution_count": 140,
   "metadata": {},
   "outputs": [
    {
     "data": {
      "text/plain": [
       "11.9"
      ]
     },
     "execution_count": 140,
     "metadata": {},
     "output_type": "execute_result"
    }
   ],
   "source": [
    "round(cdf[(cdf['iyear']==2016)&(cdf['country_txt']=='Afghanistan')]['eventid'].count()/(cdf[cdf['iyear']==2016]['eventid'].count())*100,2)"
   ]
  },
  {
   "cell_type": "code",
   "execution_count": 141,
   "metadata": {},
   "outputs": [
    {
     "data": {
      "text/plain": [
       "7.54"
      ]
     },
     "execution_count": 141,
     "metadata": {},
     "output_type": "execute_result"
    }
   ],
   "source": [
    "round(cdf[(cdf['iyear']==2016)&(cdf['country_txt']=='India')]['eventid'].count()/(cdf[cdf['iyear']==2016]['eventid'].count())*100,2)"
   ]
  },
  {
   "cell_type": "code",
   "execution_count": 142,
   "metadata": {},
   "outputs": [
    {
     "data": {
      "text/plain": [
       "22.62"
      ]
     },
     "execution_count": 142,
     "metadata": {},
     "output_type": "execute_result"
    }
   ],
   "source": [
    "round(cdf[(cdf['iyear']==2017)&(cdf['country_txt']=='Iraq')]['eventid'].count()/(cdf[cdf['iyear']==2017]['eventid'].count())*100,2)"
   ]
  },
  {
   "cell_type": "code",
   "execution_count": 143,
   "metadata": {},
   "outputs": [
    {
     "data": {
      "text/plain": [
       "6.6"
      ]
     },
     "execution_count": 143,
     "metadata": {},
     "output_type": "execute_result"
    }
   ],
   "source": [
    "round(cdf[(cdf['iyear']==2017)&(cdf['country_txt']=='Pakistan')]['eventid'].count()/(cdf[cdf['iyear']==2017]['eventid'].count())*100,2)"
   ]
  },
  {
   "cell_type": "code",
   "execution_count": 144,
   "metadata": {},
   "outputs": [
    {
     "data": {
      "text/plain": [
       "12.97"
      ]
     },
     "execution_count": 144,
     "metadata": {},
     "output_type": "execute_result"
    }
   ],
   "source": [
    "round(cdf[(cdf['iyear']==2017)&(cdf['country_txt']=='Afghanistan')]['eventid'].count()/(cdf[cdf['iyear']==2017]['eventid'].count())*100,2)"
   ]
  },
  {
   "cell_type": "code",
   "execution_count": 145,
   "metadata": {},
   "outputs": [
    {
     "data": {
      "text/plain": [
       "8.86"
      ]
     },
     "execution_count": 145,
     "metadata": {},
     "output_type": "execute_result"
    }
   ],
   "source": [
    "round(cdf[(cdf['iyear']==2017)&(cdf['country_txt']=='India')]['eventid'].count()/(cdf[cdf['iyear']==2017]['eventid'].count())*100,2)"
   ]
  },
  {
   "cell_type": "code",
   "execution_count": 146,
   "metadata": {},
   "outputs": [
    {
     "data": {
      "text/html": [
       "<div>\n",
       "<style scoped>\n",
       "    .dataframe tbody tr th:only-of-type {\n",
       "        vertical-align: middle;\n",
       "    }\n",
       "\n",
       "    .dataframe tbody tr th {\n",
       "        vertical-align: top;\n",
       "    }\n",
       "\n",
       "    .dataframe thead th {\n",
       "        text-align: right;\n",
       "    }\n",
       "</style>\n",
       "<table border=\"1\" class=\"dataframe\">\n",
       "  <thead>\n",
       "    <tr style=\"text-align: right;\">\n",
       "      <th></th>\n",
       "      <th>2014(%)</th>\n",
       "      <th>2015(%)</th>\n",
       "      <th>2016(%)</th>\n",
       "      <th>2017(%)</th>\n",
       "      <th>Country</th>\n",
       "    </tr>\n",
       "  </thead>\n",
       "  <tbody>\n",
       "    <tr>\n",
       "      <th>0</th>\n",
       "      <td>23.27</td>\n",
       "      <td>18.38</td>\n",
       "      <td>24.73</td>\n",
       "      <td>22.62</td>\n",
       "      <td>Iraq</td>\n",
       "    </tr>\n",
       "    <tr>\n",
       "      <th>1</th>\n",
       "      <td>12.73</td>\n",
       "      <td>8.31</td>\n",
       "      <td>6.36</td>\n",
       "      <td>6.60</td>\n",
       "      <td>Pakistan</td>\n",
       "    </tr>\n",
       "    <tr>\n",
       "      <th>2</th>\n",
       "      <td>10.79</td>\n",
       "      <td>12.88</td>\n",
       "      <td>11.90</td>\n",
       "      <td>12.97</td>\n",
       "      <td>Afghanistan</td>\n",
       "    </tr>\n",
       "    <tr>\n",
       "      <th>3</th>\n",
       "      <td>5.09</td>\n",
       "      <td>5.91</td>\n",
       "      <td>7.54</td>\n",
       "      <td>8.86</td>\n",
       "      <td>India</td>\n",
       "    </tr>\n",
       "  </tbody>\n",
       "</table>\n",
       "</div>"
      ],
      "text/plain": [
       "   2014(%)  2015(%)  2016(%)  2017(%)      Country\n",
       "0    23.27    18.38    24.73    22.62         Iraq\n",
       "1    12.73     8.31     6.36     6.60     Pakistan\n",
       "2    10.79    12.88    11.90    12.97  Afghanistan\n",
       "3     5.09     5.91     7.54     8.86        India"
      ]
     },
     "execution_count": 146,
     "metadata": {},
     "output_type": "execute_result"
    }
   ],
   "source": [
    "t={'Country':['Iraq','Pakistan','Afghanistan','India'],'2014(%)':[23.27,12.73,10.79,5.09],'2015(%)':[18.38,8.31,12.88,5.91],\n",
    "  '2016(%)':[24.73,6.36,11.9,7.54],'2017(%)':[22.62,6.6,12.97,8.86]}\n",
    "ca=pd.DataFrame(t)\n",
    "ca"
   ]
  },
  {
   "cell_type": "code",
   "execution_count": 147,
   "metadata": {},
   "outputs": [
    {
     "data": {
      "text/plain": [
       "(array([0, 1, 2, 3]), <a list of 4 Text xticklabel objects>)"
      ]
     },
     "execution_count": 147,
     "metadata": {},
     "output_type": "execute_result"
    },
    {
     "data": {
      "image/png": "[encoded data removed]",
      "text/plain": [
       "<matplotlib.figure.Figure at 0x1a281c50f0>"
      ]
     },
     "metadata": {},
     "output_type": "display_data"
    }
   ],
   "source": [
    "sns.barplot(x='Country',y='2014(%)',data=ca)\n",
    "plt.xticks(rotation=90)"
   ]
  },
  {
   "cell_type": "code",
   "execution_count": 148,
   "metadata": {},
   "outputs": [
    {
     "data": {
      "text/plain": [
       "(array([0, 1, 2, 3]), <a list of 4 Text xticklabel objects>)"
      ]
     },
     "execution_count": 148,
     "metadata": {},
     "output_type": "execute_result"
    },
    {
     "data": {
      "image/png": "[encoded data removed]",
      "text/plain": [
       "<matplotlib.figure.Figure at 0x1a281e3780>"
      ]
     },
     "metadata": {},
     "output_type": "display_data"
    }
   ],
   "source": [
    "sns.barplot(x='Country',y='2015(%)',data=ca)\n",
    "plt.xticks(rotation=90)"
   ]
  },
  {
   "cell_type": "code",
   "execution_count": 149,
   "metadata": {},
   "outputs": [
    {
     "data": {
      "text/plain": [
       "(array([0, 1, 2, 3]), <a list of 4 Text xticklabel objects>)"
      ]
     },
     "execution_count": 149,
     "metadata": {},
     "output_type": "execute_result"
    },
    {
     "data": {
      "image/png": "[encoded data removed]",
      "text/plain": [
       "<matplotlib.figure.Figure at 0x1a281c5860>"
      ]
     },
     "metadata": {},
     "output_type": "display_data"
    }
   ],
   "source": [
    "sns.barplot(x='Country',y='2016(%)',data=ca)\n",
    "plt.xticks(rotation=90)"
   ]
  },
  {
   "cell_type": "code",
   "execution_count": 150,
   "metadata": {},
   "outputs": [
    {
     "data": {
      "text/plain": [
       "(array([0, 1, 2, 3]), <a list of 4 Text xticklabel objects>)"
      ]
     },
     "execution_count": 150,
     "metadata": {},
     "output_type": "execute_result"
    },
    {
     "data": {
      "image/png": "[encoded data removed]",
      "text/plain": [
       "<matplotlib.figure.Figure at 0x1a28b5ca58>"
      ]
     },
     "metadata": {},
     "output_type": "display_data"
    }
   ],
   "source": [
    "sns.barplot(x='Country',y='2017(%)',data=ca)\n",
    "plt.xticks(rotation=90)"
   ]
  },
  {
   "cell_type": "code",
   "execution_count": 151,
   "metadata": {},
   "outputs": [
    {
     "data": {
      "text/plain": [
       "<matplotlib.axes._subplots.AxesSubplot at 0x1a28e3a278>"
      ]
     },
     "execution_count": 151,
     "metadata": {},
     "output_type": "execute_result"
    },
    {
     "data": {
      "image/png": "[encoded data removed]",
      "text/plain": [
       "<matplotlib.figure.Figure at 0x1a28d7b5c0>"
      ]
     },
     "metadata": {},
     "output_type": "display_data"
    }
   ],
   "source": [
    "ca.plot.bar(x='Country')"
   ]
  },
  {
   "cell_type": "code",
   "execution_count": null,
   "metadata": {},
   "outputs": [],
   "source": []
  },
  {
   "cell_type": "code",
   "execution_count": 152,
   "metadata": {},
   "outputs": [
    {
     "name": "stdout",
     "output_type": "stream",
     "text": [
      "<class 'pandas.core.frame.DataFrame'>\n",
      "RangeIndex: 181691 entries, 0 to 181690\n",
      "Data columns (total 21 columns):\n",
      "eventid            181691 non-null int64\n",
      "iyear              181691 non-null int64\n",
      "imonth             181691 non-null int64\n",
      "iday               181691 non-null int64\n",
      "extended           181691 non-null int64\n",
      "country            181691 non-null int64\n",
      "country_txt        181691 non-null object\n",
      "region             181691 non-null int64\n",
      "region_txt         181691 non-null object\n",
      "vicinity           181691 non-null int64\n",
      "crit1              181691 non-null int64\n",
      "crit2              181691 non-null int64\n",
      "crit3              181691 non-null int64\n",
      "success            181691 non-null int64\n",
      "suicide            181691 non-null int64\n",
      "attacktype1        181691 non-null int64\n",
      "attacktype1_txt    181691 non-null object\n",
      "INT_LOG            181691 non-null int64\n",
      "INT_IDEO           181691 non-null int64\n",
      "INT_MISC           181691 non-null int64\n",
      "INT_ANY            181691 non-null int64\n",
      "dtypes: int64(18), object(3)\n",
      "memory usage: 29.1+ MB\n"
     ]
    }
   ],
   "source": [
    "cdf.info()"
   ]
  },
  {
   "cell_type": "code",
   "execution_count": 153,
   "metadata": {},
   "outputs": [
    {
     "data": {
      "text/plain": [
       "(181691, 21)"
      ]
     },
     "execution_count": 153,
     "metadata": {},
     "output_type": "execute_result"
    }
   ],
   "source": [
    "cdf.shape"
   ]
  },
  {
   "cell_type": "code",
   "execution_count": 154,
   "metadata": {},
   "outputs": [],
   "source": [
    "mdf=cdf"
   ]
  },
  {
   "cell_type": "code",
   "execution_count": 155,
   "metadata": {},
   "outputs": [],
   "source": [
    "from sklearn.preprocessing import LabelEncoder"
   ]
  },
  {
   "cell_type": "code",
   "execution_count": 156,
   "metadata": {},
   "outputs": [],
   "source": [
    "le=LabelEncoder()"
   ]
  },
  {
   "cell_type": "code",
   "execution_count": 157,
   "metadata": {},
   "outputs": [],
   "source": [
    "mdf.country_txt=le.fit_transform(mdf['country_txt'])\n",
    "mdf.region_txt=le.fit_transform(mdf['region_txt'])\n",
    "mdf.region_txt=le.fit_transform(mdf['region_txt'])\n",
    "mdf.attacktype1_txt=le.fit_transform(mdf['attacktype1_txt'])"
   ]
  },
  {
   "cell_type": "code",
   "execution_count": 158,
   "metadata": {},
   "outputs": [],
   "source": [
    "x=mdf.drop('success',1)\n",
    "y=mdf.success"
   ]
  },
  {
   "cell_type": "code",
   "execution_count": 159,
   "metadata": {},
   "outputs": [],
   "source": [
    "from sklearn.model_selection import train_test_split"
   ]
  },
  {
   "cell_type": "code",
   "execution_count": 160,
   "metadata": {},
   "outputs": [],
   "source": [
    "x_train,x_test,y_train,y_test=train_test_split(x,y,test_size=0.3,random_state=101)"
   ]
  },
  {
   "cell_type": "code",
   "execution_count": 161,
   "metadata": {},
   "outputs": [],
   "source": [
    "from sklearn.linear_model import LogisticRegression"
   ]
  },
  {
   "cell_type": "code",
   "execution_count": 162,
   "metadata": {},
   "outputs": [],
   "source": [
    "lr=LogisticRegression()"
   ]
  },
  {
   "cell_type": "code",
   "execution_count": 163,
   "metadata": {},
   "outputs": [
    {
     "data": {
      "text/plain": [
       "LogisticRegression(C=1.0, class_weight=None, dual=False, fit_intercept=True,\n",
       "          intercept_scaling=1, max_iter=100, multi_class='ovr', n_jobs=1,\n",
       "          penalty='l2', random_state=None, solver='liblinear', tol=0.0001,\n",
       "          verbose=0, warm_start=False)"
      ]
     },
     "execution_count": 163,
     "metadata": {},
     "output_type": "execute_result"
    }
   ],
   "source": [
    "lr.fit(x_train,y_train)"
   ]
  },
  {
   "cell_type": "code",
   "execution_count": 164,
   "metadata": {},
   "outputs": [
    {
     "data": {
      "text/plain": [
       "array([1, 1, 1, ..., 1, 1, 1])"
      ]
     },
     "execution_count": 164,
     "metadata": {},
     "output_type": "execute_result"
    }
   ],
   "source": [
    "lr.predict(x_test)"
   ]
  },
  {
   "cell_type": "code",
   "execution_count": 165,
   "metadata": {},
   "outputs": [],
   "source": [
    "y_pred=lr.predict(x_test)"
   ]
  },
  {
   "cell_type": "code",
   "execution_count": 166,
   "metadata": {},
   "outputs": [],
   "source": [
    "from sklearn import metrics"
   ]
  },
  {
   "cell_type": "code",
   "execution_count": 167,
   "metadata": {},
   "outputs": [],
   "source": [
    "from sklearn.metrics import confusion_matrix,classification_report,accuracy_score"
   ]
  },
  {
   "cell_type": "code",
   "execution_count": 168,
   "metadata": {},
   "outputs": [
    {
     "data": {
      "text/plain": [
       "0.889502458354737"
      ]
     },
     "execution_count": 168,
     "metadata": {},
     "output_type": "execute_result"
    }
   ],
   "source": [
    "accuracy_score(y_test,y_pred)"
   ]
  },
  {
   "cell_type": "code",
   "execution_count": 169,
   "metadata": {},
   "outputs": [
    {
     "data": {
      "text/plain": [
       "array([[    0,  6023],\n",
       "       [    0, 48485]])"
      ]
     },
     "execution_count": 169,
     "metadata": {},
     "output_type": "execute_result"
    }
   ],
   "source": [
    "confusion_matrix(y_test,y_pred)"
   ]
  },
  {
   "cell_type": "code",
   "execution_count": 170,
   "metadata": {},
   "outputs": [
    {
     "name": "stdout",
     "output_type": "stream",
     "text": [
      "             precision    recall  f1-score   support\n",
      "\n",
      "          0       0.00      0.00      0.00      6023\n",
      "          1       0.89      1.00      0.94     48485\n",
      "\n",
      "avg / total       0.79      0.89      0.84     54508\n",
      "\n"
     ]
    }
   ],
   "source": [
    "print(classification_report(y_test,y_pred))"
   ]
  },
  {
   "cell_type": "code",
   "execution_count": 171,
   "metadata": {},
   "outputs": [
    {
     "data": {
      "text/plain": [
       "Index(['eventid', 'iyear', 'imonth', 'iday', 'extended', 'country',\n",
       "       'country_txt', 'region', 'region_txt', 'vicinity', 'crit1', 'crit2',\n",
       "       'crit3', 'success', 'suicide', 'attacktype1', 'attacktype1_txt',\n",
       "       'INT_LOG', 'INT_IDEO', 'INT_MISC', 'INT_ANY'],\n",
       "      dtype='object')"
      ]
     },
     "execution_count": 171,
     "metadata": {},
     "output_type": "execute_result"
    }
   ],
   "source": [
    "cdf.columns"
   ]
  },
  {
   "cell_type": "code",
   "execution_count": 172,
   "metadata": {},
   "outputs": [
    {
     "name": "stdout",
     "output_type": "stream",
     "text": [
      "<class 'pandas.core.frame.DataFrame'>\n",
      "RangeIndex: 181691 entries, 0 to 181690\n",
      "Data columns (total 21 columns):\n",
      "eventid            181691 non-null int64\n",
      "iyear              181691 non-null int64\n",
      "imonth             181691 non-null int64\n",
      "iday               181691 non-null int64\n",
      "extended           181691 non-null int64\n",
      "country            181691 non-null int64\n",
      "country_txt        181691 non-null int64\n",
      "region             181691 non-null int64\n",
      "region_txt         181691 non-null int64\n",
      "vicinity           181691 non-null int64\n",
      "crit1              181691 non-null int64\n",
      "crit2              181691 non-null int64\n",
      "crit3              181691 non-null int64\n",
      "success            181691 non-null int64\n",
      "suicide            181691 non-null int64\n",
      "attacktype1        181691 non-null int64\n",
      "attacktype1_txt    181691 non-null int64\n",
      "INT_LOG            181691 non-null int64\n",
      "INT_IDEO           181691 non-null int64\n",
      "INT_MISC           181691 non-null int64\n",
      "INT_ANY            181691 non-null int64\n",
      "dtypes: int64(21)\n",
      "memory usage: 29.1 MB\n"
     ]
    }
   ],
   "source": [
    "cdf.info()"
   ]
  },
  {
   "cell_type": "code",
   "execution_count": 173,
   "metadata": {},
   "outputs": [
    {
     "data": {
      "text/plain": [
       "array([[-2.46654515, -2.46157532,  0.15722459, ...,  0.9627484 ,\n",
       "        -0.1583412 ,  0.84111916],\n",
       "       [-2.46654515, -2.46157532, -1.9087118 , ...,  1.1783986 ,\n",
       "         1.60081075,  1.05427916],\n",
       "       [-2.46579098, -2.46157532, -1.61357803, ..., -0.97810341,\n",
       "         1.60081075,  1.05427916],\n",
       "       ...,\n",
       "       [ 1.08735803,  1.0830814 ,  1.63289343, ...,  0.9627484 ,\n",
       "        -0.1583412 ,  0.84111916],\n",
       "       [ 1.08735803,  1.0830814 ,  1.63289343, ..., -0.97810341,\n",
       "        -0.1583412 , -1.07732082],\n",
       "       [ 1.08735803,  1.0830814 ,  1.63289343, ..., -0.97810341,\n",
       "        -0.1583412 , -1.07732082]])"
      ]
     },
     "execution_count": 173,
     "metadata": {},
     "output_type": "execute_result"
    }
   ],
   "source": [
    "x=cdf\n",
    "from sklearn.preprocessing import StandardScaler\n",
    "sc=StandardScaler()\n",
    "x1=sc.fit_transform(x)\n",
    "x1"
   ]
  },
  {
   "cell_type": "code",
   "execution_count": 174,
   "metadata": {},
   "outputs": [
    {
     "data": {
      "text/plain": [
       "[3815511.0, 3288107.2041035416, 3042793.0794056384, 2854024.3221306214]"
      ]
     },
     "execution_count": 174,
     "metadata": {},
     "output_type": "execute_result"
    }
   ],
   "source": [
    "from sklearn.cluster import KMeans\n",
    "cluster_id=[]\n",
    "k=list(range(1,5))\n",
    "for i in range(1,5):\n",
    "    km=KMeans(i).fit(x1)\n",
    "    y_km_iris_pred=km.fit_predict(x1)\n",
    "    cluster_id.append(km.inertia_)\n",
    "cluster_id"
   ]
  },
  {
   "cell_type": "code",
   "execution_count": 175,
   "metadata": {},
   "outputs": [
    {
     "data": {
      "image/png": "[encoded data removed]",
      "text/plain": [
       "<matplotlib.figure.Figure at 0x1a2c235208>"
      ]
     },
     "metadata": {},
     "output_type": "display_data"
    }
   ],
   "source": [
    "plt.plot(k,cluster_id)\n",
    "plt.show()"
   ]
  },
  {
   "cell_type": "code",
   "execution_count": 176,
   "metadata": {},
   "outputs": [
    {
     "data": {
      "text/plain": [
       "array([1, 1, 0, ..., 1, 0, 0], dtype=int32)"
      ]
     },
     "execution_count": 176,
     "metadata": {},
     "output_type": "execute_result"
    }
   ],
   "source": [
    "kmeans=KMeans(n_clusters=2,init='k-means++',random_state=42,max_iter=1000)\n",
    "y_kmeans=kmeans.fit_predict(x1)\n",
    "y_kmeans"
   ]
  },
  {
   "cell_type": "code",
   "execution_count": 177,
   "metadata": {},
   "outputs": [
    {
     "data": {
      "image/png": "[encoded data removed]",
      "text/plain": [
       "<matplotlib.figure.Figure at 0x1a2c219f28>"
      ]
     },
     "metadata": {},
     "output_type": "display_data"
    }
   ],
   "source": [
    "#Visualizing the cluster\n",
    "x1=cdf.iloc[:,[1,13]].values\n",
    "plt.scatter(x1[y_kmeans==0,0],x1[y_kmeans==0,1],s=50,c='red',label='cluster 1')\n",
    "plt.scatter(x1[y_kmeans==1,0],x1[y_kmeans==1,1],s=50,c='blue',label='cluster 2')\n",
    "plt.scatter(kmeans.cluster_centers_[:,0],kmeans.cluster_centers_[:,1],s=100,c='yellow',label='Centroids')\n",
    "plt.legend()\n",
    "plt.show()"
   ]
  },
  {
   "cell_type": "code",
   "execution_count": null,
   "metadata": {},
   "outputs": [],
   "source": []
  },
  {
   "cell_type": "code",
   "execution_count": null,
   "metadata": {},
   "outputs": [],
   "source": []
  },
  {
   "cell_type": "code",
   "execution_count": null,
   "metadata": {},
   "outputs": [],
   "source": []
  }
 ],
 "metadata": {
  "kernelspec": {
   "display_name": "Python 3",
   "language": "python",
   "name": "python3"
  },
  "language_info": {
   "codemirror_mode": {
    "name": "ipython",
    "version": 3
   },
   "file_extension": ".py",
   "mimetype": "text/x-python",
   "name": "python",
   "nbconvert_exporter": "python",
   "pygments_lexer": "ipython3",
   "version": "3.6.4"
  }
 },
 "nbformat": 4,
 "nbformat_minor": 2
}
