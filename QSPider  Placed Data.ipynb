{
 "cells": [
  {
   "cell_type": "code",
   "execution_count": 1,
   "metadata": {},
   "outputs": [],
   "source": [
    "import warnings\n",
    "warnings.filterwarnings('ignore')"
   ]
  },
  {
   "cell_type": "code",
   "execution_count": 2,
   "metadata": {},
   "outputs": [],
   "source": [
    "import numpy as np\n",
    "import pandas as pd\n",
    "import matplotlib.pyplot as plt\n",
    "import seaborn as sns"
   ]
  },
  {
   "cell_type": "code",
   "execution_count": 3,
   "metadata": {},
   "outputs": [
    {
     "data": {
      "text/html": [
       "<div>\n",
       "<style scoped>\n",
       "    .dataframe tbody tr th:only-of-type {\n",
       "        vertical-align: middle;\n",
       "    }\n",
       "\n",
       "    .dataframe tbody tr th {\n",
       "        vertical-align: top;\n",
       "    }\n",
       "\n",
       "    .dataframe thead th {\n",
       "        text-align: right;\n",
       "    }\n",
       "</style>\n",
       "<table border=\"1\" class=\"dataframe\">\n",
       "  <thead>\n",
       "    <tr style=\"text-align: right;\">\n",
       "      <th></th>\n",
       "      <th>SL No</th>\n",
       "      <th>Company Name</th>\n",
       "      <th>Location</th>\n",
       "      <th>Branch</th>\n",
       "      <th>Skill</th>\n",
       "      <th>DOJ</th>\n",
       "      <th>Name</th>\n",
       "      <th>Contact No</th>\n",
       "      <th>Email ID</th>\n",
       "      <th>Degree</th>\n",
       "      <th>Stream</th>\n",
       "      <th>YOP</th>\n",
       "      <th>10th</th>\n",
       "      <th>12th</th>\n",
       "      <th>Deg %</th>\n",
       "      <th>Masters</th>\n",
       "      <th>Status</th>\n",
       "    </tr>\n",
       "  </thead>\n",
       "  <tbody>\n",
       "    <tr>\n",
       "      <th>0</th>\n",
       "      <td>1</td>\n",
       "      <td>Aavana</td>\n",
       "      <td>Bangalore</td>\n",
       "      <td>BTR QSP</td>\n",
       "      <td>Testing</td>\n",
       "      <td>2019-01-29</td>\n",
       "      <td>Geetanjali Munagekar</td>\n",
       "      <td>9945769452</td>\n",
       "      <td>geetanjaligmunagekar@gmail.com</td>\n",
       "      <td>BE</td>\n",
       "      <td>ECE</td>\n",
       "      <td>2018.0</td>\n",
       "      <td>84.8</td>\n",
       "      <td>56.66</td>\n",
       "      <td>70</td>\n",
       "      <td>NaN</td>\n",
       "      <td>NaN</td>\n",
       "    </tr>\n",
       "    <tr>\n",
       "      <th>1</th>\n",
       "      <td>2</td>\n",
       "      <td>Accenture</td>\n",
       "      <td>Bangalore</td>\n",
       "      <td>BAN JSP</td>\n",
       "      <td>Development</td>\n",
       "      <td>2019-01-07</td>\n",
       "      <td>Shikha Gupta</td>\n",
       "      <td>7044308519</td>\n",
       "      <td>shikha030.gupta@gmail.com</td>\n",
       "      <td>Btech</td>\n",
       "      <td>ECE</td>\n",
       "      <td>2018.0</td>\n",
       "      <td>86</td>\n",
       "      <td>51.00</td>\n",
       "      <td>74.4</td>\n",
       "      <td>NaN</td>\n",
       "      <td>NaN</td>\n",
       "    </tr>\n",
       "    <tr>\n",
       "      <th>2</th>\n",
       "      <td>3</td>\n",
       "      <td>Accenture</td>\n",
       "      <td>Bangalore</td>\n",
       "      <td>OAR JSP</td>\n",
       "      <td>Development</td>\n",
       "      <td>2019-01-28</td>\n",
       "      <td>Biswajit Sen</td>\n",
       "      <td>7978416171</td>\n",
       "      <td>22biswajitsen22@gmail.com</td>\n",
       "      <td>Btech</td>\n",
       "      <td>EEE</td>\n",
       "      <td>2018.0</td>\n",
       "      <td>72</td>\n",
       "      <td>61.00</td>\n",
       "      <td>72</td>\n",
       "      <td>NaN</td>\n",
       "      <td>NaN</td>\n",
       "    </tr>\n",
       "    <tr>\n",
       "      <th>3</th>\n",
       "      <td>4</td>\n",
       "      <td>Accenture</td>\n",
       "      <td>Bangalore</td>\n",
       "      <td>OAR JSP</td>\n",
       "      <td>Development</td>\n",
       "      <td>2019-01-28</td>\n",
       "      <td>K Mallika Sobha Devi</td>\n",
       "      <td>9849459000</td>\n",
       "      <td>konjetimallika@gmail.com</td>\n",
       "      <td>Btech</td>\n",
       "      <td>CSE</td>\n",
       "      <td>2018.0</td>\n",
       "      <td>82</td>\n",
       "      <td>94.20</td>\n",
       "      <td>78</td>\n",
       "      <td>NaN</td>\n",
       "      <td>NaN</td>\n",
       "    </tr>\n",
       "    <tr>\n",
       "      <th>4</th>\n",
       "      <td>5</td>\n",
       "      <td>Accenture</td>\n",
       "      <td>Mumbai</td>\n",
       "      <td>Punjagutta</td>\n",
       "      <td>Development</td>\n",
       "      <td>2019-01-24</td>\n",
       "      <td>M.Venkata Prasad</td>\n",
       "      <td>9160886755</td>\n",
       "      <td>venkataprasad4231@gmail.com</td>\n",
       "      <td>Btech</td>\n",
       "      <td>ECE</td>\n",
       "      <td>2018.0</td>\n",
       "      <td>85</td>\n",
       "      <td>92.00</td>\n",
       "      <td>82</td>\n",
       "      <td>NaN</td>\n",
       "      <td>NaN</td>\n",
       "    </tr>\n",
       "  </tbody>\n",
       "</table>\n",
       "</div>"
      ],
      "text/plain": [
       "   SL No Company Name   Location     Branch         Skill        DOJ  \\\n",
       "0      1       Aavana  Bangalore     BTR QSP      Testing 2019-01-29   \n",
       "1      2    Accenture  Bangalore     BAN JSP  Development 2019-01-07   \n",
       "2      3    Accenture  Bangalore     OAR JSP  Development 2019-01-28   \n",
       "3      4    Accenture  Bangalore     OAR JSP  Development 2019-01-28   \n",
       "4      5    Accenture     Mumbai  Punjagutta  Development 2019-01-24   \n",
       "\n",
       "                   Name  Contact No                        Email ID Degree  \\\n",
       "0  Geetanjali Munagekar  9945769452  geetanjaligmunagekar@gmail.com     BE   \n",
       "1         Shikha Gupta   7044308519       shikha030.gupta@gmail.com  Btech   \n",
       "2          Biswajit Sen  7978416171       22biswajitsen22@gmail.com  Btech   \n",
       "3  K Mallika Sobha Devi  9849459000        konjetimallika@gmail.com  Btech   \n",
       "4      M.Venkata Prasad  9160886755     venkataprasad4231@gmail.com  Btech   \n",
       "\n",
       "  Stream     YOP  10th   12th Deg %  Masters  Status   \n",
       "0    ECE  2018.0  84.8  56.66    70      NaN      NaN  \n",
       "1    ECE  2018.0    86  51.00  74.4      NaN      NaN  \n",
       "2    EEE  2018.0    72  61.00    72      NaN      NaN  \n",
       "3    CSE  2018.0    82  94.20    78      NaN      NaN  \n",
       "4    ECE  2018.0    85  92.00    82      NaN      NaN  "
      ]
     },
     "execution_count": 3,
     "metadata": {},
     "output_type": "execute_result"
    }
   ],
   "source": [
    "jan_df=pd.read_excel(\"January 2019.xlsx\")\n",
    "jan_df.head()"
   ]
  },
  {
   "cell_type": "code",
   "execution_count": 4,
   "metadata": {},
   "outputs": [
    {
     "data": {
      "text/plain": [
       "(684, 17)"
      ]
     },
     "execution_count": 4,
     "metadata": {},
     "output_type": "execute_result"
    }
   ],
   "source": [
    "jan_df.shape"
   ]
  },
  {
   "cell_type": "code",
   "execution_count": 13,
   "metadata": {},
   "outputs": [
    {
     "data": {
      "text/html": [
       "<div>\n",
       "<style scoped>\n",
       "    .dataframe tbody tr th:only-of-type {\n",
       "        vertical-align: middle;\n",
       "    }\n",
       "\n",
       "    .dataframe tbody tr th {\n",
       "        vertical-align: top;\n",
       "    }\n",
       "\n",
       "    .dataframe thead th {\n",
       "        text-align: right;\n",
       "    }\n",
       "</style>\n",
       "<table border=\"1\" class=\"dataframe\">\n",
       "  <thead>\n",
       "    <tr style=\"text-align: right;\">\n",
       "      <th></th>\n",
       "      <th>SL No</th>\n",
       "      <th>Company Name</th>\n",
       "      <th>Location</th>\n",
       "      <th>Branch</th>\n",
       "      <th>Skill</th>\n",
       "      <th>DOJ</th>\n",
       "      <th>Name</th>\n",
       "      <th>Contact No</th>\n",
       "      <th>Email ID</th>\n",
       "      <th>Degree</th>\n",
       "      <th>Stream</th>\n",
       "      <th>YOP</th>\n",
       "      <th>10th</th>\n",
       "      <th>12th</th>\n",
       "      <th>Deg %</th>\n",
       "      <th>Masters</th>\n",
       "      <th>CTC</th>\n",
       "      <th>Status</th>\n",
       "    </tr>\n",
       "  </thead>\n",
       "  <tbody>\n",
       "    <tr>\n",
       "      <th>0</th>\n",
       "      <td>1</td>\n",
       "      <td>3 Embedded Technology</td>\n",
       "      <td>Bangalore</td>\n",
       "      <td>BAN QSP</td>\n",
       "      <td>Testing</td>\n",
       "      <td>2019-02-04</td>\n",
       "      <td>Zeba Kouser</td>\n",
       "      <td>7259514425</td>\n",
       "      <td>zebakouser1995@gmail.om</td>\n",
       "      <td>BE</td>\n",
       "      <td>CSE</td>\n",
       "      <td>2018</td>\n",
       "      <td>90</td>\n",
       "      <td>77</td>\n",
       "      <td>69</td>\n",
       "      <td>NaN</td>\n",
       "      <td>15K/ month</td>\n",
       "      <td>NaN</td>\n",
       "    </tr>\n",
       "    <tr>\n",
       "      <th>1</th>\n",
       "      <td>2</td>\n",
       "      <td>42 Gears</td>\n",
       "      <td>Bangalore</td>\n",
       "      <td>BAN QSP</td>\n",
       "      <td>Testing</td>\n",
       "      <td>2019-02-04</td>\n",
       "      <td>Prasad Kumbhar</td>\n",
       "      <td>8830346315,9561053995</td>\n",
       "      <td>prasadkumbhar36@gmail.com</td>\n",
       "      <td>BE</td>\n",
       "      <td>ECE</td>\n",
       "      <td>2018</td>\n",
       "      <td>92.73</td>\n",
       "      <td>74.05</td>\n",
       "      <td>62.04</td>\n",
       "      <td>NaN</td>\n",
       "      <td>NaN</td>\n",
       "      <td>NaN</td>\n",
       "    </tr>\n",
       "    <tr>\n",
       "      <th>2</th>\n",
       "      <td>3</td>\n",
       "      <td>42 Gears</td>\n",
       "      <td>Bangalore</td>\n",
       "      <td>BTM QSP</td>\n",
       "      <td>Testing</td>\n",
       "      <td>2019-02-06</td>\n",
       "      <td>Guru Teja M</td>\n",
       "      <td>9035450946</td>\n",
       "      <td>gurutejamt@gmail.com</td>\n",
       "      <td>BE</td>\n",
       "      <td>ME</td>\n",
       "      <td>2018</td>\n",
       "      <td>54</td>\n",
       "      <td>68</td>\n",
       "      <td>65</td>\n",
       "      <td>NaN</td>\n",
       "      <td>NaN</td>\n",
       "      <td>NaN</td>\n",
       "    </tr>\n",
       "    <tr>\n",
       "      <th>3</th>\n",
       "      <td>4</td>\n",
       "      <td>6D Technologies</td>\n",
       "      <td>Bangalore</td>\n",
       "      <td>BTR QSP</td>\n",
       "      <td>Testing</td>\n",
       "      <td>2019-02-25</td>\n",
       "      <td>Priyanka Das</td>\n",
       "      <td>9481176896</td>\n",
       "      <td>priyankachaith4@gmail.com</td>\n",
       "      <td>BE</td>\n",
       "      <td>ME</td>\n",
       "      <td>2018</td>\n",
       "      <td>84</td>\n",
       "      <td>66</td>\n",
       "      <td>66</td>\n",
       "      <td>NaN</td>\n",
       "      <td>NaN</td>\n",
       "      <td>NaN</td>\n",
       "    </tr>\n",
       "    <tr>\n",
       "      <th>4</th>\n",
       "      <td>5</td>\n",
       "      <td>6D Technologies</td>\n",
       "      <td>Bangalore</td>\n",
       "      <td>RAJ QSP</td>\n",
       "      <td>Testing</td>\n",
       "      <td>2019-02-25</td>\n",
       "      <td>Surabhi. K. H</td>\n",
       "      <td>8296825882</td>\n",
       "      <td>surabhikarnam@gmail.com</td>\n",
       "      <td>BE</td>\n",
       "      <td>ECE</td>\n",
       "      <td>2018</td>\n",
       "      <td>89</td>\n",
       "      <td>87</td>\n",
       "      <td>73</td>\n",
       "      <td>NaN</td>\n",
       "      <td>3LPA</td>\n",
       "      <td>NaN</td>\n",
       "    </tr>\n",
       "  </tbody>\n",
       "</table>\n",
       "</div>"
      ],
      "text/plain": [
       "   SL No           Company Name   Location  Branch     Skill        DOJ  \\\n",
       "0      1  3 Embedded Technology  Bangalore  BAN QSP  Testing 2019-02-04   \n",
       "1      2               42 Gears  Bangalore  BAN QSP  Testing 2019-02-04   \n",
       "2      3               42 Gears  Bangalore  BTM QSP  Testing 2019-02-06   \n",
       "3      4        6D Technologies  Bangalore  BTR QSP  Testing 2019-02-25   \n",
       "4      5        6D Technologies  Bangalore  RAJ QSP  Testing 2019-02-25   \n",
       "\n",
       "             Name             Contact No                   Email ID Degree  \\\n",
       "0     Zeba Kouser             7259514425    zebakouser1995@gmail.om     BE   \n",
       "1  Prasad Kumbhar  8830346315,9561053995  prasadkumbhar36@gmail.com     BE   \n",
       "2     Guru Teja M             9035450946       gurutejamt@gmail.com     BE   \n",
       "3    Priyanka Das             9481176896  priyankachaith4@gmail.com     BE   \n",
       "4   Surabhi. K. H             8296825882    surabhikarnam@gmail.com     BE   \n",
       "\n",
       "  Stream   YOP   10th   12th  Deg %  Masters         CTC  Status   \n",
       "0    CSE  2018     90     77     69      NaN  15K/ month      NaN  \n",
       "1    ECE  2018  92.73  74.05  62.04      NaN         NaN      NaN  \n",
       "2     ME  2018     54     68     65      NaN         NaN      NaN  \n",
       "3     ME  2018     84     66     66      NaN         NaN      NaN  \n",
       "4    ECE  2018     89     87     73      NaN        3LPA      NaN  "
      ]
     },
     "execution_count": 13,
     "metadata": {},
     "output_type": "execute_result"
    }
   ],
   "source": [
    "feb_df=pd.read_excel(\"February Closure 2019.xlsx\")\n",
    "feb_df.head()"
   ]
  },
  {
   "cell_type": "code",
   "execution_count": 14,
   "metadata": {},
   "outputs": [
    {
     "data": {
      "text/html": [
       "<div>\n",
       "<style scoped>\n",
       "    .dataframe tbody tr th:only-of-type {\n",
       "        vertical-align: middle;\n",
       "    }\n",
       "\n",
       "    .dataframe tbody tr th {\n",
       "        vertical-align: top;\n",
       "    }\n",
       "\n",
       "    .dataframe thead th {\n",
       "        text-align: right;\n",
       "    }\n",
       "</style>\n",
       "<table border=\"1\" class=\"dataframe\">\n",
       "  <thead>\n",
       "    <tr style=\"text-align: right;\">\n",
       "      <th></th>\n",
       "      <th>SL No</th>\n",
       "      <th>Company Name</th>\n",
       "      <th>Location</th>\n",
       "      <th>Branch</th>\n",
       "      <th>Skill</th>\n",
       "      <th>DOJ</th>\n",
       "      <th>Candidate Name</th>\n",
       "      <th>Contact No</th>\n",
       "      <th>Email ID</th>\n",
       "      <th>Degree</th>\n",
       "      <th>Stream</th>\n",
       "      <th>YOP</th>\n",
       "      <th>10th</th>\n",
       "      <th>12th</th>\n",
       "      <th>Degree</th>\n",
       "      <th>Masters</th>\n",
       "      <th>CTC</th>\n",
       "    </tr>\n",
       "  </thead>\n",
       "  <tbody>\n",
       "    <tr>\n",
       "      <th>0</th>\n",
       "      <td>1</td>\n",
       "      <td>3I Infotech Ltd</td>\n",
       "      <td>Hyderabad</td>\n",
       "      <td>JNTU</td>\n",
       "      <td>Development</td>\n",
       "      <td>2019-03-19</td>\n",
       "      <td>D.Kalpana</td>\n",
       "      <td>9912493736</td>\n",
       "      <td>dkalpana301@gmail.com</td>\n",
       "      <td>Btech</td>\n",
       "      <td>CSE</td>\n",
       "      <td>2018</td>\n",
       "      <td>73</td>\n",
       "      <td>69.0</td>\n",
       "      <td>75</td>\n",
       "      <td>NaN</td>\n",
       "      <td>6 months 10k after that 2.4LPA</td>\n",
       "    </tr>\n",
       "    <tr>\n",
       "      <th>1</th>\n",
       "      <td>2</td>\n",
       "      <td>42 Gears</td>\n",
       "      <td>Bangalore</td>\n",
       "      <td>BTR QSP</td>\n",
       "      <td>Testing</td>\n",
       "      <td>2019-03-04</td>\n",
       "      <td>Karthik B S</td>\n",
       "      <td>9480242794</td>\n",
       "      <td>karthiksgowda777@gmail.com</td>\n",
       "      <td>BE</td>\n",
       "      <td>CSE</td>\n",
       "      <td>2018</td>\n",
       "      <td>60</td>\n",
       "      <td>60.0</td>\n",
       "      <td>60</td>\n",
       "      <td>NaN</td>\n",
       "      <td>NaN</td>\n",
       "    </tr>\n",
       "    <tr>\n",
       "      <th>2</th>\n",
       "      <td>3</td>\n",
       "      <td>42 Gears</td>\n",
       "      <td>Bangalore</td>\n",
       "      <td>BTM QSP</td>\n",
       "      <td>Testing</td>\n",
       "      <td>2019-03-04</td>\n",
       "      <td>Kumari Swati</td>\n",
       "      <td>9939947724</td>\n",
       "      <td>kumariswatiz1995@gmail.com</td>\n",
       "      <td>Btech</td>\n",
       "      <td>ECE</td>\n",
       "      <td>2018</td>\n",
       "      <td>68</td>\n",
       "      <td>55.0</td>\n",
       "      <td>65</td>\n",
       "      <td>NaN</td>\n",
       "      <td>NaN</td>\n",
       "    </tr>\n",
       "    <tr>\n",
       "      <th>3</th>\n",
       "      <td>4</td>\n",
       "      <td>42 Gears</td>\n",
       "      <td>Bangalore</td>\n",
       "      <td>BAN QSP</td>\n",
       "      <td>Testing</td>\n",
       "      <td>2019-03-04</td>\n",
       "      <td>Naveen kumar</td>\n",
       "      <td>8892685630,7975729829</td>\n",
       "      <td>naveenred007@gmail.com</td>\n",
       "      <td>BE</td>\n",
       "      <td>Mech</td>\n",
       "      <td>2017</td>\n",
       "      <td>82</td>\n",
       "      <td>70.0</td>\n",
       "      <td>60</td>\n",
       "      <td>NaN</td>\n",
       "      <td>NaN</td>\n",
       "    </tr>\n",
       "    <tr>\n",
       "      <th>4</th>\n",
       "      <td>5</td>\n",
       "      <td>42 Gears</td>\n",
       "      <td>Bangalore</td>\n",
       "      <td>BTR QSP</td>\n",
       "      <td>Testing</td>\n",
       "      <td>2019-03-04</td>\n",
       "      <td>Sai Saketh Tamineni</td>\n",
       "      <td>7760462854</td>\n",
       "      <td>tamminenisaisaketh@gmail.com</td>\n",
       "      <td>Btech</td>\n",
       "      <td>ECE</td>\n",
       "      <td>2018</td>\n",
       "      <td>80</td>\n",
       "      <td>85.0</td>\n",
       "      <td>65</td>\n",
       "      <td>NaN</td>\n",
       "      <td>NaN</td>\n",
       "    </tr>\n",
       "  </tbody>\n",
       "</table>\n",
       "</div>"
      ],
      "text/plain": [
       "   SL No    Company Name    Location  Branch        Skill         DOJ  \\\n",
       "0      1  3I Infotech Ltd  Hyderabad     JNTU  Development 2019-03-19   \n",
       "1      2         42 Gears  Bangalore  BTR QSP      Testing 2019-03-04   \n",
       "2      3         42 Gears  Bangalore  BTM QSP      Testing 2019-03-04   \n",
       "3      4         42 Gears  Bangalore  BAN QSP      Testing 2019-03-04   \n",
       "4      5         42 Gears  Bangalore  BTR QSP      Testing 2019-03-04   \n",
       "\n",
       "        Candidate Name             Contact No                      Email ID  \\\n",
       "0            D.Kalpana             9912493736         dkalpana301@gmail.com   \n",
       "1         Karthik B S              9480242794   karthiksgowda777@gmail.com    \n",
       "2         Kumari Swati             9939947724    kumariswatiz1995@gmail.com   \n",
       "3         Naveen kumar  8892685630,7975729829        naveenred007@gmail.com   \n",
       "4  Sai Saketh Tamineni             7760462854  tamminenisaisaketh@gmail.com   \n",
       "\n",
       "  Degree Stream    YOP 10th   12th Degree   Masters  \\\n",
       "0  Btech     CSE  2018    73  69.0      75      NaN   \n",
       "1     BE     CSE  2018    60  60.0      60      NaN   \n",
       "2  Btech     ECE  2018    68  55.0      65      NaN   \n",
       "3     BE    Mech  2017    82  70.0      60      NaN   \n",
       "4  Btech     ECE  2018    80  85.0      65      NaN   \n",
       "\n",
       "                              CTC  \n",
       "0  6 months 10k after that 2.4LPA  \n",
       "1                             NaN  \n",
       "2                             NaN  \n",
       "3                             NaN  \n",
       "4                             NaN  "
      ]
     },
     "execution_count": 14,
     "metadata": {},
     "output_type": "execute_result"
    }
   ],
   "source": [
    "Mar_df=pd.read_excel(\"March 2019.xlsx\")\n",
    "Mar_df.head()"
   ]
  },
  {
   "cell_type": "code",
   "execution_count": 18,
   "metadata": {},
   "outputs": [
    {
     "data": {
      "text/html": [
       "<div>\n",
       "<style scoped>\n",
       "    .dataframe tbody tr th:only-of-type {\n",
       "        vertical-align: middle;\n",
       "    }\n",
       "\n",
       "    .dataframe tbody tr th {\n",
       "        vertical-align: top;\n",
       "    }\n",
       "\n",
       "    .dataframe thead th {\n",
       "        text-align: right;\n",
       "    }\n",
       "</style>\n",
       "<table border=\"1\" class=\"dataframe\">\n",
       "  <thead>\n",
       "    <tr style=\"text-align: right;\">\n",
       "      <th></th>\n",
       "      <th>SL No</th>\n",
       "      <th>Company Name</th>\n",
       "      <th>Location</th>\n",
       "      <th>Branch</th>\n",
       "      <th>Skill</th>\n",
       "      <th>DOJ</th>\n",
       "      <th>Name</th>\n",
       "      <th>Contact No</th>\n",
       "      <th>Email ID</th>\n",
       "      <th>Degree</th>\n",
       "      <th>Stream</th>\n",
       "      <th>YOP</th>\n",
       "      <th>10th</th>\n",
       "      <th>12th</th>\n",
       "      <th>Degree.1</th>\n",
       "      <th>Masters</th>\n",
       "    </tr>\n",
       "  </thead>\n",
       "  <tbody>\n",
       "    <tr>\n",
       "      <th>0</th>\n",
       "      <td>1</td>\n",
       "      <td>6D Technologies</td>\n",
       "      <td>Bangalore</td>\n",
       "      <td>BTR QSP</td>\n",
       "      <td>Testing</td>\n",
       "      <td>2019-04-25</td>\n",
       "      <td>Rachael Christina M S</td>\n",
       "      <td>9483050014</td>\n",
       "      <td>rachaelchristina24@gmail.com</td>\n",
       "      <td>Mtech</td>\n",
       "      <td>CSE</td>\n",
       "      <td>2018</td>\n",
       "      <td>90.08</td>\n",
       "      <td>68</td>\n",
       "      <td>73.3</td>\n",
       "      <td>78.0</td>\n",
       "    </tr>\n",
       "    <tr>\n",
       "      <th>1</th>\n",
       "      <td>2</td>\n",
       "      <td>Accord Global Technology Solutions Private Lim...</td>\n",
       "      <td>Bangalore</td>\n",
       "      <td>RAJ JSP</td>\n",
       "      <td>Development</td>\n",
       "      <td>2019-04-01</td>\n",
       "      <td>Pinky V Billava</td>\n",
       "      <td>9743574233</td>\n",
       "      <td>pinkyvb12@gmail.com</td>\n",
       "      <td>BE</td>\n",
       "      <td>TCE</td>\n",
       "      <td>2018</td>\n",
       "      <td>88.64</td>\n",
       "      <td>88.5</td>\n",
       "      <td>71.1</td>\n",
       "      <td>NaN</td>\n",
       "    </tr>\n",
       "    <tr>\n",
       "      <th>2</th>\n",
       "      <td>3</td>\n",
       "      <td>Accord Global Technology Solutions Private Lim...</td>\n",
       "      <td>Bangalore</td>\n",
       "      <td>RAJ JSP</td>\n",
       "      <td>Development</td>\n",
       "      <td>2019-04-01</td>\n",
       "      <td>Vinod Kumar K M</td>\n",
       "      <td>9844936183</td>\n",
       "      <td>vinodvinu418@gmail.com</td>\n",
       "      <td>BE</td>\n",
       "      <td>ECE</td>\n",
       "      <td>2018</td>\n",
       "      <td>70</td>\n",
       "      <td>73</td>\n",
       "      <td>74.0</td>\n",
       "      <td>NaN</td>\n",
       "    </tr>\n",
       "    <tr>\n",
       "      <th>3</th>\n",
       "      <td>4</td>\n",
       "      <td>Accord Global Technology Solutions Private Lim...</td>\n",
       "      <td>Bangalore</td>\n",
       "      <td>RAJ JSP</td>\n",
       "      <td>Development</td>\n",
       "      <td>2019-04-01</td>\n",
       "      <td>Rajashekar V S</td>\n",
       "      <td>8095781272</td>\n",
       "      <td>rajashekarvs97@gmail.com</td>\n",
       "      <td>BE</td>\n",
       "      <td>ECE</td>\n",
       "      <td>2018</td>\n",
       "      <td>74.24</td>\n",
       "      <td>65.13</td>\n",
       "      <td>68.8</td>\n",
       "      <td>NaN</td>\n",
       "    </tr>\n",
       "    <tr>\n",
       "      <th>4</th>\n",
       "      <td>5</td>\n",
       "      <td>Aci World Wide</td>\n",
       "      <td>Bangalore</td>\n",
       "      <td>BTR QSP</td>\n",
       "      <td>Testing</td>\n",
       "      <td>2019-04-17</td>\n",
       "      <td>Samitha Krishnan</td>\n",
       "      <td>7539953325</td>\n",
       "      <td>samithasami21@gmail.com</td>\n",
       "      <td>BE</td>\n",
       "      <td>CSE</td>\n",
       "      <td>2018</td>\n",
       "      <td>82</td>\n",
       "      <td>69</td>\n",
       "      <td>86.0</td>\n",
       "      <td>NaN</td>\n",
       "    </tr>\n",
       "  </tbody>\n",
       "</table>\n",
       "</div>"
      ],
      "text/plain": [
       "   SL No                                       Company Name   Location  \\\n",
       "0      1                                    6D Technologies  Bangalore   \n",
       "1      2  Accord Global Technology Solutions Private Lim...  Bangalore   \n",
       "2      3  Accord Global Technology Solutions Private Lim...  Bangalore   \n",
       "3      4  Accord Global Technology Solutions Private Lim...  Bangalore   \n",
       "4      5                                     Aci World Wide  Bangalore   \n",
       "\n",
       "    Branch        Skill        DOJ                    Name  Contact No  \\\n",
       "0  BTR QSP      Testing 2019-04-25  Rachael Christina M S   9483050014   \n",
       "1  RAJ JSP  Development 2019-04-01         Pinky V Billava  9743574233   \n",
       "2  RAJ JSP  Development 2019-04-01         Vinod Kumar K M  9844936183   \n",
       "3  RAJ JSP  Development 2019-04-01          Rajashekar V S  8095781272   \n",
       "4  BTR QSP      Testing 2019-04-17        Samitha Krishnan  7539953325   \n",
       "\n",
       "                         Email ID Degree Stream   YOP   10th   12th  Degree.1  \\\n",
       "0   rachaelchristina24@gmail.com   Mtech    CSE  2018  90.08     68      73.3   \n",
       "1             pinkyvb12@gmail.com     BE    TCE  2018  88.64   88.5      71.1   \n",
       "2          vinodvinu418@gmail.com     BE    ECE  2018     70     73      74.0   \n",
       "3        rajashekarvs97@gmail.com     BE    ECE  2018  74.24  65.13      68.8   \n",
       "4         samithasami21@gmail.com     BE    CSE  2018     82     69      86.0   \n",
       "\n",
       "   Masters  \n",
       "0     78.0  \n",
       "1      NaN  \n",
       "2      NaN  \n",
       "3      NaN  \n",
       "4      NaN  "
      ]
     },
     "execution_count": 18,
     "metadata": {},
     "output_type": "execute_result"
    }
   ],
   "source": [
    "apr_df=pd.read_excel(\"April  2019.xlsx\")\n",
    "apr_df.head()"
   ]
  },
  {
   "cell_type": "code",
   "execution_count": 20,
   "metadata": {},
   "outputs": [
    {
     "data": {
      "text/plain": [
       "(684, 17)"
      ]
     },
     "execution_count": 20,
     "metadata": {},
     "output_type": "execute_result"
    }
   ],
   "source": [
    "jan_df.shape"
   ]
  },
  {
   "cell_type": "code",
   "execution_count": 21,
   "metadata": {},
   "outputs": [
    {
     "data": {
      "text/plain": [
       "(929, 18)"
      ]
     },
     "execution_count": 21,
     "metadata": {},
     "output_type": "execute_result"
    }
   ],
   "source": [
    "feb_df.shape"
   ]
  },
  {
   "cell_type": "code",
   "execution_count": 22,
   "metadata": {},
   "outputs": [
    {
     "data": {
      "text/plain": [
       "(674, 17)"
      ]
     },
     "execution_count": 22,
     "metadata": {},
     "output_type": "execute_result"
    }
   ],
   "source": [
    "Mar_df.shape"
   ]
  },
  {
   "cell_type": "code",
   "execution_count": 23,
   "metadata": {},
   "outputs": [
    {
     "data": {
      "text/plain": [
       "(710, 16)"
      ]
     },
     "execution_count": 23,
     "metadata": {},
     "output_type": "execute_result"
    }
   ],
   "source": [
    "apr_df.shape"
   ]
  },
  {
   "cell_type": "code",
   "execution_count": 25,
   "metadata": {},
   "outputs": [
    {
     "data": {
      "text/plain": [
       "Index(['SL No', 'Company Name', 'Location', 'Branch ', 'Skill', 'DOJ', 'Name',\n",
       "       'Contact No', 'Email ID', 'Degree', 'Stream', 'YOP', '10th', '12th',\n",
       "       'Deg %', 'Masters', 'Status '],\n",
       "      dtype='object')"
      ]
     },
     "execution_count": 25,
     "metadata": {},
     "output_type": "execute_result"
    }
   ],
   "source": [
    "jan_df.columns"
   ]
  },
  {
   "cell_type": "code",
   "execution_count": 26,
   "metadata": {},
   "outputs": [
    {
     "data": {
      "text/plain": [
       "Index(['SL No', 'Company Name ', 'Location', 'Branch ', 'Skill ', 'DOJ',\n",
       "       'Candidate Name', 'Contact No', 'Email ID', 'Degree', 'Stream ', 'YOP',\n",
       "       '10th ', '12th', 'Degree ', 'Masters', 'CTC'],\n",
       "      dtype='object')"
      ]
     },
     "execution_count": 26,
     "metadata": {},
     "output_type": "execute_result"
    }
   ],
   "source": [
    "Mar_df.columns"
   ]
  },
  {
   "cell_type": "code",
   "execution_count": 27,
   "metadata": {},
   "outputs": [
    {
     "data": {
      "text/plain": [
       "Index(['SL No', 'Company Name', 'Location', 'Branch ', 'Skill', 'DOJ', 'Name',\n",
       "       'Contact No', 'Email ID', 'Degree', 'Stream', 'YOP', '10th', '12th',\n",
       "       'Deg %', 'Masters', 'CTC', 'Status '],\n",
       "      dtype='object')"
      ]
     },
     "execution_count": 27,
     "metadata": {},
     "output_type": "execute_result"
    }
   ],
   "source": [
    "feb_df.columns"
   ]
  },
  {
   "cell_type": "code",
   "execution_count": 28,
   "metadata": {},
   "outputs": [
    {
     "data": {
      "text/plain": [
       "Index(['SL No', 'Company Name', 'Location', 'Branch', 'Skill', 'DOJ', 'Name',\n",
       "       'Contact No', 'Email ID', 'Degree', 'Stream', 'YOP', '10th', '12th',\n",
       "       'Degree.1', 'Masters'],\n",
       "      dtype='object')"
      ]
     },
     "execution_count": 28,
     "metadata": {},
     "output_type": "execute_result"
    }
   ],
   "source": [
    "apr_df.columns"
   ]
  },
  {
   "cell_type": "code",
   "execution_count": 29,
   "metadata": {},
   "outputs": [
    {
     "data": {
      "text/plain": [
       "Index(['SL No', 'Company Name', 'Location', 'Branch ', 'Skill', 'DOJ', 'Name',\n",
       "       'Contact No', 'Email ID', 'Degree', 'Stream', 'YOP', '10th', '12th',\n",
       "       'Deg %', 'Masters', 'Status '],\n",
       "      dtype='object')"
      ]
     },
     "execution_count": 29,
     "metadata": {},
     "output_type": "execute_result"
    }
   ],
   "source": [
    "jan_df.columns"
   ]
  },
  {
   "cell_type": "markdown",
   "metadata": {},
   "source": [
    "# January Month Data"
   ]
  },
  {
   "cell_type": "markdown",
   "metadata": {},
   "source": [
    "# Top 5 Hired Companies"
   ]
  },
  {
   "cell_type": "code",
   "execution_count": 45,
   "metadata": {},
   "outputs": [
    {
     "data": {
      "text/plain": [
       "<matplotlib.axes._subplots.AxesSubplot at 0x1a1aa6b278>"
      ]
     },
     "execution_count": 45,
     "metadata": {},
     "output_type": "execute_result"
    },
    {
     "data": {
      "image/png": "[encoded data removed]",
      "text/plain": [
       "<matplotlib.figure.Figure at 0x1a1a917d30>"
      ]
     },
     "metadata": {},
     "output_type": "display_data"
    }
   ],
   "source": [
    "jan_df['Company Name'].value_counts().head().plot(kind='bar')"
   ]
  },
  {
   "cell_type": "markdown",
   "metadata": {},
   "source": [
    "# Top 5 Branches "
   ]
  },
  {
   "cell_type": "code",
   "execution_count": 46,
   "metadata": {},
   "outputs": [
    {
     "data": {
      "text/plain": [
       "<matplotlib.axes._subplots.AxesSubplot at 0x1a1a9b42e8>"
      ]
     },
     "execution_count": 46,
     "metadata": {},
     "output_type": "execute_result"
    },
    {
     "data": {
      "image/png": "[encoded data removed]",
      "text/plain": [
       "<matplotlib.figure.Figure at 0x1a1ab22438>"
      ]
     },
     "metadata": {},
     "output_type": "display_data"
    }
   ],
   "source": [
    "jan_df['Branch '].value_counts().head().plot(kind='bar')"
   ]
  },
  {
   "cell_type": "markdown",
   "metadata": {},
   "source": [
    "# Top  Skills"
   ]
  },
  {
   "cell_type": "code",
   "execution_count": 47,
   "metadata": {},
   "outputs": [
    {
     "data": {
      "text/plain": [
       "<matplotlib.axes._subplots.AxesSubplot at 0x1a1ab22978>"
      ]
     },
     "execution_count": 47,
     "metadata": {},
     "output_type": "execute_result"
    },
    {
     "data": {
      "image/png": "[encoded data removed]",
      "text/plain": [
       "<matplotlib.figure.Figure at 0x1a1ab64828>"
      ]
     },
     "metadata": {},
     "output_type": "display_data"
    }
   ],
   "source": [
    "jan_df['Skill'].value_counts().head().plot(kind='bar')"
   ]
  },
  {
   "cell_type": "markdown",
   "metadata": {},
   "source": [
    "# Top 5 Degrees "
   ]
  },
  {
   "cell_type": "code",
   "execution_count": 48,
   "metadata": {},
   "outputs": [
    {
     "data": {
      "text/plain": [
       "<matplotlib.axes._subplots.AxesSubplot at 0x1a1aa64f98>"
      ]
     },
     "execution_count": 48,
     "metadata": {},
     "output_type": "execute_result"
    },
    {
     "data": {
      "image/png": "[encoded data removed]",
      "text/plain": [
       "<matplotlib.figure.Figure at 0x1a1ac1c240>"
      ]
     },
     "metadata": {},
     "output_type": "display_data"
    }
   ],
   "source": [
    "jan_df['Degree'].value_counts().head(5).plot(kind='bar')"
   ]
  },
  {
   "cell_type": "markdown",
   "metadata": {},
   "source": [
    "# Top 5 Streams"
   ]
  },
  {
   "cell_type": "code",
   "execution_count": 49,
   "metadata": {},
   "outputs": [
    {
     "data": {
      "text/plain": [
       "<matplotlib.axes._subplots.AxesSubplot at 0x1a1ace7ef0>"
      ]
     },
     "execution_count": 49,
     "metadata": {},
     "output_type": "execute_result"
    },
    {
     "data": {
      "image/png": "[encoded data removed]",
      "text/plain": [
       "<matplotlib.figure.Figure at 0x1a1acbf7b8>"
      ]
     },
     "metadata": {},
     "output_type": "display_data"
    }
   ],
   "source": [
    "jan_df['Stream'].value_counts().head().plot(kind='bar')"
   ]
  },
  {
   "cell_type": "markdown",
   "metadata": {},
   "source": [
    "# Top 5 Year of Pass Out"
   ]
  },
  {
   "cell_type": "code",
   "execution_count": 50,
   "metadata": {},
   "outputs": [
    {
     "data": {
      "text/plain": [
       "<matplotlib.axes._subplots.AxesSubplot at 0x1a1adadef0>"
      ]
     },
     "execution_count": 50,
     "metadata": {},
     "output_type": "execute_result"
    },
    {
     "data": {
      "image/png": "[encoded data removed]",
      "text/plain": [
       "<matplotlib.figure.Figure at 0x1a1ad7d128>"
      ]
     },
     "metadata": {},
     "output_type": "display_data"
    }
   ],
   "source": [
    "jan_df['YOP'].value_counts().head(5).plot(kind='bar')"
   ]
  },
  {
   "cell_type": "markdown",
   "metadata": {},
   "source": [
    "# Top 5 Job  Locations"
   ]
  },
  {
   "cell_type": "code",
   "execution_count": 51,
   "metadata": {},
   "outputs": [
    {
     "data": {
      "text/plain": [
       "<matplotlib.axes._subplots.AxesSubplot at 0x1a1ae53550>"
      ]
     },
     "execution_count": 51,
     "metadata": {},
     "output_type": "execute_result"
    },
    {
     "data": {
      "image/png": "[encoded data removed]",
      "text/plain": [
       "<matplotlib.figure.Figure at 0x1a1ab2fe48>"
      ]
     },
     "metadata": {},
     "output_type": "display_data"
    }
   ],
   "source": [
    "jan_df['Location'].value_counts().head(5).plot(kind='bar')"
   ]
  },
  {
   "cell_type": "markdown",
   "metadata": {},
   "source": [
    "# Top 5 Degree Percentage"
   ]
  },
  {
   "cell_type": "code",
   "execution_count": 53,
   "metadata": {},
   "outputs": [
    {
     "data": {
      "text/plain": [
       "<matplotlib.axes._subplots.AxesSubplot at 0x1a1acec2e8>"
      ]
     },
     "execution_count": 53,
     "metadata": {},
     "output_type": "execute_result"
    },
    {
     "data": {
      "image/png": "[encoded data removed]",
      "text/plain": [
       "<matplotlib.figure.Figure at 0x1a1af8a550>"
      ]
     },
     "metadata": {},
     "output_type": "display_data"
    }
   ],
   "source": [
    "jan_df['Deg %'].value_counts().head(5).plot(kind='bar')"
   ]
  },
  {
   "cell_type": "code",
   "execution_count": 56,
   "metadata": {},
   "outputs": [
    {
     "data": {
      "text/plain": [
       "63    31\n",
       "72    30\n",
       "68    28\n",
       "65    27\n",
       "60    26\n",
       "Name: Deg %, dtype: int64"
      ]
     },
     "execution_count": 56,
     "metadata": {},
     "output_type": "execute_result"
    }
   ],
   "source": [
    "jan_df['Deg %'].value_counts().head(5)"
   ]
  },
  {
   "cell_type": "code",
   "execution_count": 71,
   "metadata": {},
   "outputs": [
    {
     "data": {
      "text/plain": [
       "<matplotlib.axes._subplots.AxesSubplot at 0x1a1b18b7f0>"
      ]
     },
     "execution_count": 71,
     "metadata": {},
     "output_type": "execute_result"
    },
    {
     "data": {
      "image/png": "[encoded data removed]",
      "text/plain": [
       "<matplotlib.figure.Figure at 0x1a1b1d50b8>"
      ]
     },
     "metadata": {},
     "output_type": "display_data"
    }
   ],
   "source": [
    "jan_df[jan_df['Deg %']==63]['Company Name'].value_counts().head(5).plot(kind='bar')"
   ]
  },
  {
   "cell_type": "code",
   "execution_count": 72,
   "metadata": {},
   "outputs": [
    {
     "data": {
      "text/plain": [
       "<matplotlib.axes._subplots.AxesSubplot at 0x1a1b29f6d8>"
      ]
     },
     "execution_count": 72,
     "metadata": {},
     "output_type": "execute_result"
    },
    {
     "data": {
      "image/png": "[encoded data removed]",
      "text/plain": [
       "<matplotlib.figure.Figure at 0x1a1b118f98>"
      ]
     },
     "metadata": {},
     "output_type": "display_data"
    }
   ],
   "source": [
    "jan_df[jan_df['Deg %']==72]['Company Name'].value_counts().head(5).plot(kind='bar')"
   ]
  },
  {
   "cell_type": "code",
   "execution_count": 73,
   "metadata": {},
   "outputs": [
    {
     "data": {
      "text/plain": [
       "<matplotlib.axes._subplots.AxesSubplot at 0x1a1b351828>"
      ]
     },
     "execution_count": 73,
     "metadata": {},
     "output_type": "execute_result"
    },
    {
     "data": {
      "image/png": "[encoded data removed]",
      "text/plain": [
       "<matplotlib.figure.Figure at 0x1a1b1e2898>"
      ]
     },
     "metadata": {},
     "output_type": "display_data"
    }
   ],
   "source": [
    "jan_df[jan_df['Deg %']==68]['Company Name'].value_counts().head(5).plot(kind='bar')"
   ]
  },
  {
   "cell_type": "code",
   "execution_count": 74,
   "metadata": {},
   "outputs": [
    {
     "data": {
      "text/plain": [
       "<matplotlib.axes._subplots.AxesSubplot at 0x1a1b381b00>"
      ]
     },
     "execution_count": 74,
     "metadata": {},
     "output_type": "execute_result"
    },
    {
     "data": {
      "image/png": "[encoded data removed]",
      "text/plain": [
       "<matplotlib.figure.Figure at 0x1a1b1258d0>"
      ]
     },
     "metadata": {},
     "output_type": "display_data"
    }
   ],
   "source": [
    "jan_df[jan_df['Deg %']==65]['Company Name'].value_counts().head(5).plot(kind='bar')"
   ]
  },
  {
   "cell_type": "code",
   "execution_count": 75,
   "metadata": {},
   "outputs": [
    {
     "data": {
      "text/plain": [
       "<matplotlib.axes._subplots.AxesSubplot at 0x1a1b4cf518>"
      ]
     },
     "execution_count": 75,
     "metadata": {},
     "output_type": "execute_result"
    },
    {
     "data": {
      "image/png": "[encoded data removed]",
      "text/plain": [
       "<matplotlib.figure.Figure at 0x1a1b447518>"
      ]
     },
     "metadata": {},
     "output_type": "display_data"
    }
   ],
   "source": [
    "jan_df[jan_df['Deg %']==60]['Company Name'].value_counts().head(5).plot(kind='bar')"
   ]
  },
  {
   "cell_type": "code",
   "execution_count": 67,
   "metadata": {},
   "outputs": [
    {
     "data": {
      "text/plain": [
       "684"
      ]
     },
     "execution_count": 67,
     "metadata": {},
     "output_type": "execute_result"
    }
   ],
   "source": [
    "jan_df['Location'].count()"
   ]
  },
  {
   "cell_type": "code",
   "execution_count": 77,
   "metadata": {},
   "outputs": [
    {
     "data": {
      "text/plain": [
       "L And T            107\n",
       "Mphasis             82\n",
       "Capgemini           68\n",
       "Sonata Software     42\n",
       "Ntt Data            22\n",
       "Name: Company Name, dtype: int64"
      ]
     },
     "execution_count": 77,
     "metadata": {},
     "output_type": "execute_result"
    }
   ],
   "source": [
    "jan_df['Company Name'].value_counts().head(5)"
   ]
  },
  {
   "cell_type": "markdown",
   "metadata": {},
   "source": [
    "# Top 5 Streams Hired By L & T Company"
   ]
  },
  {
   "cell_type": "code",
   "execution_count": 81,
   "metadata": {},
   "outputs": [
    {
     "data": {
      "text/plain": [
       "<matplotlib.axes._subplots.AxesSubplot at 0x1a1b5f3470>"
      ]
     },
     "execution_count": 81,
     "metadata": {},
     "output_type": "execute_result"
    },
    {
     "data": {
      "image/png": "[encoded data removed]",
      "text/plain": [
       "<matplotlib.figure.Figure at 0x1a1b525860>"
      ]
     },
     "metadata": {},
     "output_type": "display_data"
    }
   ],
   "source": [
    "jan_df[jan_df['Company Name']=='L And T']['Stream'].value_counts().head(5).plot(kind='bar')"
   ]
  },
  {
   "cell_type": "markdown",
   "metadata": {},
   "source": [
    "# Top 5 Streams Hired By Mphasis Company"
   ]
  },
  {
   "cell_type": "code",
   "execution_count": 82,
   "metadata": {},
   "outputs": [
    {
     "data": {
      "text/plain": [
       "<matplotlib.axes._subplots.AxesSubplot at 0x1a1b6789e8>"
      ]
     },
     "execution_count": 82,
     "metadata": {},
     "output_type": "execute_result"
    },
    {
     "data": {
      "image/png": "[encoded data removed]",
      "text/plain": [
       "<matplotlib.figure.Figure at 0x1a1b67e668>"
      ]
     },
     "metadata": {},
     "output_type": "display_data"
    }
   ],
   "source": [
    "jan_df[jan_df['Company Name']=='Mphasis']['Stream'].value_counts().head(5).plot(kind='bar')"
   ]
  },
  {
   "cell_type": "markdown",
   "metadata": {},
   "source": [
    "# Top 5 Streams Hired By Capgemini Company"
   ]
  },
  {
   "cell_type": "code",
   "execution_count": 83,
   "metadata": {},
   "outputs": [
    {
     "data": {
      "text/plain": [
       "<matplotlib.axes._subplots.AxesSubplot at 0x1a1b6d4908>"
      ]
     },
     "execution_count": 83,
     "metadata": {},
     "output_type": "execute_result"
    },
    {
     "data": {
      "image/png": "[encoded data removed]",
      "text/plain": [
       "<matplotlib.figure.Figure at 0x1a1b6bfac8>"
      ]
     },
     "metadata": {},
     "output_type": "display_data"
    }
   ],
   "source": [
    "jan_df[jan_df['Company Name']=='Capgemini']['Stream'].value_counts().head(5).plot(kind='bar')"
   ]
  },
  {
   "cell_type": "markdown",
   "metadata": {},
   "source": [
    "# Top 5 Streams Hired By Sonata Software Company"
   ]
  },
  {
   "cell_type": "code",
   "execution_count": 84,
   "metadata": {},
   "outputs": [
    {
     "data": {
      "text/plain": [
       "<matplotlib.axes._subplots.AxesSubplot at 0x1a1b690358>"
      ]
     },
     "execution_count": 84,
     "metadata": {},
     "output_type": "execute_result"
    },
    {
     "data": {
      "image/png": "[encoded data removed]",
      "text/plain": [
       "<matplotlib.figure.Figure at 0x1a1b796828>"
      ]
     },
     "metadata": {},
     "output_type": "display_data"
    }
   ],
   "source": [
    "jan_df[jan_df['Company Name']=='Sonata Software']['Stream'].value_counts().head(5).plot(kind='bar')"
   ]
  },
  {
   "cell_type": "markdown",
   "metadata": {},
   "source": [
    "# Top 5 Streams Hired By Ntt Data Company"
   ]
  },
  {
   "cell_type": "code",
   "execution_count": 85,
   "metadata": {},
   "outputs": [
    {
     "data": {
      "text/plain": [
       "<matplotlib.axes._subplots.AxesSubplot at 0x1a1b7735f8>"
      ]
     },
     "execution_count": 85,
     "metadata": {},
     "output_type": "execute_result"
    },
    {
     "data": {
      "image/png": "[encoded data removed]",
      "text/plain": [
       "<matplotlib.figure.Figure at 0x1a1b7a38d0>"
      ]
     },
     "metadata": {},
     "output_type": "display_data"
    }
   ],
   "source": [
    "jan_df[jan_df['Company Name']=='Ntt Data']['Stream'].value_counts().head(5).plot(kind='bar')"
   ]
  },
  {
   "cell_type": "code",
   "execution_count": 86,
   "metadata": {},
   "outputs": [
    {
     "data": {
      "text/plain": [
       "<matplotlib.axes._subplots.AxesSubplot at 0x1a1b91f080>"
      ]
     },
     "execution_count": 86,
     "metadata": {},
     "output_type": "execute_result"
    },
    {
     "data": {
      "image/png": "[encoded data removed]",
      "text/plain": [
       "<matplotlib.figure.Figure at 0x1a1b5ccac8>"
      ]
     },
     "metadata": {},
     "output_type": "display_data"
    }
   ],
   "source": [
    "jan_df[jan_df['Company Name']=='L And T']['Skill'].value_counts().head(5).plot(kind='bar')"
   ]
  },
  {
   "cell_type": "code",
   "execution_count": 87,
   "metadata": {},
   "outputs": [
    {
     "data": {
      "text/plain": [
       "<matplotlib.axes._subplots.AxesSubplot at 0x1a1ba62390>"
      ]
     },
     "execution_count": 87,
     "metadata": {},
     "output_type": "execute_result"
    },
    {
     "data": {
      "image/png": "[encoded data removed]",
      "text/plain": [
       "<matplotlib.figure.Figure at 0x1a1b9cd588>"
      ]
     },
     "metadata": {},
     "output_type": "display_data"
    }
   ],
   "source": [
    "jan_df[jan_df['Company Name']=='Mphasis']['Skill'].value_counts().head(5).plot(kind='bar')"
   ]
  },
  {
   "cell_type": "code",
   "execution_count": 88,
   "metadata": {},
   "outputs": [
    {
     "data": {
      "text/plain": [
       "<matplotlib.axes._subplots.AxesSubplot at 0x1a1bb028d0>"
      ]
     },
     "execution_count": 88,
     "metadata": {},
     "output_type": "execute_result"
    },
    {
     "data": {
      "image/png": "[encoded data removed]",
      "text/plain": [
       "<matplotlib.figure.Figure at 0x1a1ba87cf8>"
      ]
     },
     "metadata": {},
     "output_type": "display_data"
    }
   ],
   "source": [
    "jan_df[jan_df['Company Name']=='Capgemini']['Skill'].value_counts().head(5).plot(kind='bar')"
   ]
  },
  {
   "cell_type": "code",
   "execution_count": 89,
   "metadata": {},
   "outputs": [
    {
     "data": {
      "text/plain": [
       "<matplotlib.axes._subplots.AxesSubplot at 0x1a1b7af400>"
      ]
     },
     "execution_count": 89,
     "metadata": {},
     "output_type": "execute_result"
    },
    {
     "data": {
      "image/png": "[encoded data removed]",
      "text/plain": [
       "<matplotlib.figure.Figure at 0x1a1bb4cb70>"
      ]
     },
     "metadata": {},
     "output_type": "display_data"
    }
   ],
   "source": [
    "jan_df[jan_df['Company Name']=='Sonata Software']['Skill'].value_counts().head(5).plot(kind='bar')"
   ]
  },
  {
   "cell_type": "code",
   "execution_count": 90,
   "metadata": {},
   "outputs": [
    {
     "data": {
      "text/plain": [
       "<matplotlib.axes._subplots.AxesSubplot at 0x1a1bb60080>"
      ]
     },
     "execution_count": 90,
     "metadata": {},
     "output_type": "execute_result"
    },
    {
     "data": {
      "image/png": "[encoded data removed]",
      "text/plain": [
       "<matplotlib.figure.Figure at 0x1a1bc2c400>"
      ]
     },
     "metadata": {},
     "output_type": "display_data"
    }
   ],
   "source": [
    "jan_df[jan_df['Company Name']=='Ntt Data']['Skill'].value_counts().head(5).plot(kind='bar')"
   ]
  },
  {
   "cell_type": "code",
   "execution_count": 93,
   "metadata": {},
   "outputs": [
    {
     "data": {
      "text/html": [
       "<div>\n",
       "<style scoped>\n",
       "    .dataframe tbody tr th:only-of-type {\n",
       "        vertical-align: middle;\n",
       "    }\n",
       "\n",
       "    .dataframe tbody tr th {\n",
       "        vertical-align: top;\n",
       "    }\n",
       "\n",
       "    .dataframe thead th {\n",
       "        text-align: right;\n",
       "    }\n",
       "</style>\n",
       "<table border=\"1\" class=\"dataframe\">\n",
       "  <thead>\n",
       "    <tr style=\"text-align: right;\">\n",
       "      <th></th>\n",
       "      <th>Nid</th>\n",
       "      <th>Name</th>\n",
       "      <th>Gender</th>\n",
       "      <th>Date of Birth</th>\n",
       "      <th>Fresher/Experience</th>\n",
       "      <th>10th Board</th>\n",
       "      <th>10th Aggregate</th>\n",
       "      <th>10th Year of Pass out</th>\n",
       "      <th>12th Board</th>\n",
       "      <th>12th Course Type</th>\n",
       "      <th>...</th>\n",
       "      <th>Did You Fail and then clear the subject in Master Degree</th>\n",
       "      <th>Have any existing backlogs in Degree?</th>\n",
       "      <th>Have any existing backlogs in Master's Degree?</th>\n",
       "      <th>Have you got year gap in Degree?</th>\n",
       "      <th>Have you got year gap in Master Degree?</th>\n",
       "      <th>Batch</th>\n",
       "      <th>nid_incubation</th>\n",
       "      <th>Payment Print/Display</th>\n",
       "      <th>Payment comments</th>\n",
       "      <th>Post date</th>\n",
       "    </tr>\n",
       "  </thead>\n",
       "  <tbody>\n",
       "    <tr>\n",
       "      <th>0</th>\n",
       "      <td>108714</td>\n",
       "      <td>M S Ramasubramanya</td>\n",
       "      <td>male</td>\n",
       "      <td>11/05/1993</td>\n",
       "      <td>Fresher</td>\n",
       "      <td>SSLC</td>\n",
       "      <td>50.00</td>\n",
       "      <td>2009.0</td>\n",
       "      <td>Diploma</td>\n",
       "      <td>NaN</td>\n",
       "      <td>...</td>\n",
       "      <td>NaN</td>\n",
       "      <td>no</td>\n",
       "      <td>NaN</td>\n",
       "      <td>no</td>\n",
       "      <td>NaN</td>\n",
       "      <td>NaN</td>\n",
       "      <td>NaN</td>\n",
       "      <td>NaN</td>\n",
       "      <td>NaN</td>\n",
       "      <td>01/01/2018</td>\n",
       "    </tr>\n",
       "    <tr>\n",
       "      <th>1</th>\n",
       "      <td>108715</td>\n",
       "      <td>Satya prakash sahoo</td>\n",
       "      <td>male</td>\n",
       "      <td>26/06/1991</td>\n",
       "      <td>Fresher</td>\n",
       "      <td>SSLC</td>\n",
       "      <td>72.00</td>\n",
       "      <td>2006.0</td>\n",
       "      <td>PUC/ 12th</td>\n",
       "      <td>Regular</td>\n",
       "      <td>...</td>\n",
       "      <td>no</td>\n",
       "      <td>no</td>\n",
       "      <td>no</td>\n",
       "      <td>no</td>\n",
       "      <td>no</td>\n",
       "      <td>QCDM2</td>\n",
       "      <td>NaN</td>\n",
       "      <td>NaN</td>\n",
       "      <td>NaN</td>\n",
       "      <td>01/01/2018</td>\n",
       "    </tr>\n",
       "    <tr>\n",
       "      <th>2</th>\n",
       "      <td>108727</td>\n",
       "      <td>Shabareesh Kumar R</td>\n",
       "      <td>male</td>\n",
       "      <td>09/01/1991</td>\n",
       "      <td>Fresher</td>\n",
       "      <td>SSLC</td>\n",
       "      <td>84.32</td>\n",
       "      <td>2006.0</td>\n",
       "      <td>PUC/ 12th</td>\n",
       "      <td>Regular</td>\n",
       "      <td>...</td>\n",
       "      <td>NaN</td>\n",
       "      <td>no</td>\n",
       "      <td>NaN</td>\n",
       "      <td>no</td>\n",
       "      <td>NaN</td>\n",
       "      <td>QSSW2,QPEW1</td>\n",
       "      <td>NaN</td>\n",
       "      <td>11900 - 07-01-2018, 2300 - 11-02-2018</td>\n",
       "      <td>(201802QSP0098) Shabareesh Kumar R with ID:108...</td>\n",
       "      <td>02/01/2018</td>\n",
       "    </tr>\n",
       "    <tr>\n",
       "      <th>3</th>\n",
       "      <td>108729</td>\n",
       "      <td>Monima Gogoi</td>\n",
       "      <td>female</td>\n",
       "      <td>21/01/1986</td>\n",
       "      <td>Fresher</td>\n",
       "      <td>SSLC</td>\n",
       "      <td>80.00</td>\n",
       "      <td>2002.0</td>\n",
       "      <td>PUC/ 12th</td>\n",
       "      <td>Regular</td>\n",
       "      <td>...</td>\n",
       "      <td>no</td>\n",
       "      <td>no</td>\n",
       "      <td>no</td>\n",
       "      <td>no</td>\n",
       "      <td>no</td>\n",
       "      <td>QCSA2,QSCW1</td>\n",
       "      <td>NaN</td>\n",
       "      <td>11900 - 20-01-2018</td>\n",
       "      <td>(201801QSP0379) Monima Gogoi with ID:108729 ha...</td>\n",
       "      <td>02/01/2018</td>\n",
       "    </tr>\n",
       "    <tr>\n",
       "      <th>4</th>\n",
       "      <td>108733</td>\n",
       "      <td>Mohit Singh Chauhan</td>\n",
       "      <td>male</td>\n",
       "      <td>30/07/1995</td>\n",
       "      <td>Fresher</td>\n",
       "      <td>SSLC</td>\n",
       "      <td>84.00</td>\n",
       "      <td>2011.0</td>\n",
       "      <td>PUC/ 12th</td>\n",
       "      <td>Regular</td>\n",
       "      <td>...</td>\n",
       "      <td>NaN</td>\n",
       "      <td>no</td>\n",
       "      <td>NaN</td>\n",
       "      <td>no</td>\n",
       "      <td>NaN</td>\n",
       "      <td>QTGW1,QCCE2</td>\n",
       "      <td>NaN</td>\n",
       "      <td>22950 - 09-01-2018, Target for Apti is 0/-</td>\n",
       "      <td>(201801QSP0264) Mohit Singh Chauhan with ID:10...</td>\n",
       "      <td>02/01/2018</td>\n",
       "    </tr>\n",
       "  </tbody>\n",
       "</table>\n",
       "<p>5 rows × 83 columns</p>\n",
       "</div>"
      ],
      "text/plain": [
       "      Nid                 Name  Gender Date of Birth Fresher/Experience  \\\n",
       "0  108714   M S Ramasubramanya    male    11/05/1993            Fresher   \n",
       "1  108715  Satya prakash sahoo    male    26/06/1991            Fresher   \n",
       "2  108727   Shabareesh Kumar R    male    09/01/1991            Fresher   \n",
       "3  108729         Monima Gogoi  female    21/01/1986            Fresher   \n",
       "4  108733  Mohit Singh Chauhan    male    30/07/1995            Fresher   \n",
       "\n",
       "  10th Board  10th Aggregate  10th Year of Pass out 12th Board  \\\n",
       "0       SSLC           50.00                 2009.0    Diploma   \n",
       "1       SSLC           72.00                 2006.0  PUC/ 12th   \n",
       "2       SSLC           84.32                 2006.0  PUC/ 12th   \n",
       "3       SSLC           80.00                 2002.0  PUC/ 12th   \n",
       "4       SSLC           84.00                 2011.0  PUC/ 12th   \n",
       "\n",
       "  12th Course Type     ...      \\\n",
       "0              NaN     ...       \n",
       "1          Regular     ...       \n",
       "2          Regular     ...       \n",
       "3          Regular     ...       \n",
       "4          Regular     ...       \n",
       "\n",
       "   Did You Fail and then clear the subject in Master Degree  \\\n",
       "0                                                NaN          \n",
       "1                                                 no          \n",
       "2                                                NaN          \n",
       "3                                                 no          \n",
       "4                                                NaN          \n",
       "\n",
       "   Have any existing backlogs in Degree?  \\\n",
       "0                                     no   \n",
       "1                                     no   \n",
       "2                                     no   \n",
       "3                                     no   \n",
       "4                                     no   \n",
       "\n",
       "  Have any existing backlogs in Master's Degree?  \\\n",
       "0                                            NaN   \n",
       "1                                             no   \n",
       "2                                            NaN   \n",
       "3                                             no   \n",
       "4                                            NaN   \n",
       "\n",
       "  Have you got year gap in Degree? Have you got year gap in Master Degree?  \\\n",
       "0                               no                                     NaN   \n",
       "1                               no                                      no   \n",
       "2                               no                                     NaN   \n",
       "3                               no                                      no   \n",
       "4                               no                                     NaN   \n",
       "\n",
       "         Batch nid_incubation                       Payment Print/Display  \\\n",
       "0          NaN            NaN                                         NaN   \n",
       "1        QCDM2            NaN                                         NaN   \n",
       "2  QSSW2,QPEW1            NaN       11900 - 07-01-2018, 2300 - 11-02-2018   \n",
       "3  QCSA2,QSCW1            NaN                          11900 - 20-01-2018   \n",
       "4  QTGW1,QCCE2            NaN  22950 - 09-01-2018, Target for Apti is 0/-   \n",
       "\n",
       "                                    Payment comments   Post date  \n",
       "0                                                NaN  01/01/2018  \n",
       "1                                                NaN  01/01/2018  \n",
       "2  (201802QSP0098) Shabareesh Kumar R with ID:108...  02/01/2018  \n",
       "3  (201801QSP0379) Monima Gogoi with ID:108729 ha...  02/01/2018  \n",
       "4  (201801QSP0264) Mohit Singh Chauhan with ID:10...  02/01/2018  \n",
       "\n",
       "[5 rows x 83 columns]"
      ]
     },
     "execution_count": 93,
     "metadata": {},
     "output_type": "execute_result"
    }
   ],
   "source": [
    "df=pd.read_csv('BTR QSp1 data.csv')\n",
    "df.head()"
   ]
  },
  {
   "cell_type": "code",
   "execution_count": 133,
   "metadata": {},
   "outputs": [
    {
     "data": {
      "text/plain": [
       "Index(['Nid', 'Name', 'Gender', 'Date of Birth', 'Fresher/Experience',\n",
       "       '10th Board', '10th Aggregate', '10th Year of Pass out', '12th Board',\n",
       "       '12th Course Type', '12th/Diploma/ITI Year of Pass out',\n",
       "       '12th/Diploma/ITI-Aggregate', 'Diploma Course Type', 'Diploma College',\n",
       "       'Other(Diploma College)', 'Diploma Stream', 'Other(Diploma Stream)',\n",
       "       'Diploma University', 'Other(Diploma University)', 'Degree',\n",
       "       'Degree Course Type', 'Degree Year of Pass out', 'Degree College Name',\n",
       "       'Other(Degree College)', 'Degree University',\n",
       "       'Degree University Registration No', 'Degree Aggregate',\n",
       "       'Stream in Degree', 'Other(Degree Stream)',\n",
       "       'Have you done your Master's Degree?', 'Master's Degree',\n",
       "       'Master's Degree Course Type', 'Other(Master's degree)',\n",
       "       'Master's Degree Year of Pass out', 'Master Degree Aggregate',\n",
       "       'Master Degree College Name', 'Other(Master's College)',\n",
       "       'Master's Degree Stream', 'Other(Master's Stream)',\n",
       "       'Master's Degree University',\n",
       "       'Master's Degree University Registration No', 'Branch Enquired',\n",
       "       'Certifications', 'Course(s)', 'Do You Have Pan Card?',\n",
       "       'Do You Have Passport?', 'Other(certifications)', 'Ready to Relocate',\n",
       "       'Already Resigned', 'Currently Are You Working',\n",
       "       'Do You Have Past Work Experience?', 'Highest Degree',\n",
       "       'How Many Months of Gap You Have?', 'Looking For a Job Change',\n",
       "       'Notice Period', 'Other(Highest Degree)',\n",
       "       'Current/ Previous Company Name', 'Current/ Previous CTC',\n",
       "       'Current/ Previous Job Profiles', 'Balance_Fees',\n",
       "       'Other(Degree University)', 'Other(Degree)',\n",
       "       'Other(Master's University)', 'Other(preferred location)',\n",
       "       'Target_fees', 'Preferred Location', 'Photo', 'UID',\n",
       "       'Do You Have Aadhar Card?', 'Native', 'State', 'City',\n",
       "       'Did You Fail and then clear the subject in Degree',\n",
       "       'Did You Fail and then clear the subject in Master Degree',\n",
       "       'Have any existing backlogs in Degree?',\n",
       "       'Have any existing backlogs in Master's Degree?',\n",
       "       'Have you got year gap in Degree?',\n",
       "       'Have you got year gap in Master Degree?', 'Batch', 'nid_incubation',\n",
       "       'Payment Print/Display', 'Payment comments', 'Post date'],\n",
       "      dtype='object')"
      ]
     },
     "execution_count": 133,
     "metadata": {},
     "output_type": "execute_result"
    }
   ],
   "source": [
    "df.columns"
   ]
  },
  {
   "cell_type": "code",
   "execution_count": 134,
   "metadata": {},
   "outputs": [
    {
     "data": {
      "text/plain": [
       "Index(['SL No', 'Company Name', 'Location', 'Branch ', 'Skill', 'DOJ', 'Name',\n",
       "       'Contact No', 'Email ID', 'Degree', 'Stream', 'YOP', '10th', '12th',\n",
       "       'Deg %', 'Masters', 'Status '],\n",
       "      dtype='object')"
      ]
     },
     "execution_count": 134,
     "metadata": {},
     "output_type": "execute_result"
    }
   ],
   "source": [
    "jan_df.columns"
   ]
  },
  {
   "cell_type": "code",
   "execution_count": null,
   "metadata": {},
   "outputs": [],
   "source": []
  },
  {
   "cell_type": "code",
   "execution_count": null,
   "metadata": {},
   "outputs": [],
   "source": []
  },
  {
   "cell_type": "code",
   "execution_count": null,
   "metadata": {},
   "outputs": [],
   "source": []
  },
  {
   "cell_type": "code",
   "execution_count": null,
   "metadata": {},
   "outputs": [],
   "source": []
  },
  {
   "cell_type": "code",
   "execution_count": 143,
   "metadata": {},
   "outputs": [],
   "source": [
    "df['Deg %']=df['Degree Aggregate'].apply(lambda x: x)"
   ]
  },
  {
   "cell_type": "code",
   "execution_count": 145,
   "metadata": {},
   "outputs": [
    {
     "data": {
      "text/plain": [
       "0       69.67\n",
       "1       56.00\n",
       "2       68.00\n",
       "3       65.00\n",
       "4       65.60\n",
       "5       61.00\n",
       "6       58.00\n",
       "7       72.00\n",
       "8         NaN\n",
       "9       62.00\n",
       "10      75.00\n",
       "11      62.00\n",
       "12      62.00\n",
       "13      75.00\n",
       "14      67.00\n",
       "15      57.00\n",
       "16      67.00\n",
       "17      60.08\n",
       "18      67.00\n",
       "19      60.00\n",
       "20      68.80\n",
       "21      62.00\n",
       "22        NaN\n",
       "23      63.60\n",
       "24      69.64\n",
       "25      59.00\n",
       "26      62.00\n",
       "27      78.80\n",
       "28      60.91\n",
       "29        NaN\n",
       "        ...  \n",
       "3969    60.00\n",
       "3970    60.66\n",
       "3971    66.00\n",
       "3972    55.00\n",
       "3973    62.00\n",
       "3974    64.00\n",
       "3975    85.60\n",
       "3976    70.82\n",
       "3977    61.00\n",
       "3978    52.30\n",
       "3979    51.26\n",
       "3980    63.00\n",
       "3981    59.00\n",
       "3982    66.66\n",
       "3983    57.60\n",
       "3984    64.00\n",
       "3985      NaN\n",
       "3986    62.01\n",
       "3987    63.60\n",
       "3988    72.80\n",
       "3989    70.00\n",
       "3990    67.00\n",
       "3991    61.00\n",
       "3992    74.19\n",
       "3993      NaN\n",
       "3994      NaN\n",
       "3995    70.00\n",
       "3996    67.82\n",
       "3997    60.00\n",
       "3998    80.15\n",
       "Name: Deg %, Length: 3999, dtype: float64"
      ]
     },
     "execution_count": 145,
     "metadata": {},
     "output_type": "execute_result"
    }
   ],
   "source": [
    "df['Deg %']"
   ]
  },
  {
   "cell_type": "code",
   "execution_count": null,
   "metadata": {},
   "outputs": [],
   "source": []
  },
  {
   "cell_type": "code",
   "execution_count": 148,
   "metadata": {},
   "outputs": [
    {
     "data": {
      "text/plain": [
       "Index(['Nid', 'Name', 'Gender', 'Date of Birth', 'Fresher/Experience',\n",
       "       '10th Board', '10th Aggregate', '10th Year of Pass out', '12th Board',\n",
       "       '12th Course Type', '12th/Diploma/ITI Year of Pass out',\n",
       "       '12th/Diploma/ITI-Aggregate', 'Diploma Course Type', 'Diploma College',\n",
       "       'Other(Diploma College)', 'Diploma Stream', 'Other(Diploma Stream)',\n",
       "       'Diploma University', 'Other(Diploma University)', 'Degree',\n",
       "       'Degree Course Type', 'Degree Year of Pass out', 'Degree College Name',\n",
       "       'Other(Degree College)', 'Degree University',\n",
       "       'Degree University Registration No', 'Degree Aggregate',\n",
       "       'Stream in Degree', 'Other(Degree Stream)',\n",
       "       'Have you done your Master's Degree?', 'Master's Degree',\n",
       "       'Master's Degree Course Type', 'Other(Master's degree)',\n",
       "       'Master's Degree Year of Pass out', 'Master Degree Aggregate',\n",
       "       'Master Degree College Name', 'Other(Master's College)',\n",
       "       'Master's Degree Stream', 'Other(Master's Stream)',\n",
       "       'Master's Degree University',\n",
       "       'Master's Degree University Registration No', 'Branch Enquired',\n",
       "       'Certifications', 'Course(s)', 'Do You Have Pan Card?',\n",
       "       'Do You Have Passport?', 'Other(certifications)', 'Ready to Relocate',\n",
       "       'Already Resigned', 'Currently Are You Working',\n",
       "       'Do You Have Past Work Experience?', 'Highest Degree',\n",
       "       'How Many Months of Gap You Have?', 'Looking For a Job Change',\n",
       "       'Notice Period', 'Other(Highest Degree)',\n",
       "       'Current/ Previous Company Name', 'Current/ Previous CTC',\n",
       "       'Current/ Previous Job Profiles', 'Balance_Fees',\n",
       "       'Other(Degree University)', 'Other(Degree)',\n",
       "       'Other(Master's University)', 'Other(preferred location)',\n",
       "       'Target_fees', 'Preferred Location', 'Photo', 'UID',\n",
       "       'Do You Have Aadhar Card?', 'Native', 'State', 'City',\n",
       "       'Did You Fail and then clear the subject in Degree',\n",
       "       'Did You Fail and then clear the subject in Master Degree',\n",
       "       'Have any existing backlogs in Degree?',\n",
       "       'Have any existing backlogs in Master's Degree?',\n",
       "       'Have you got year gap in Degree?',\n",
       "       'Have you got year gap in Master Degree?', 'Batch', 'nid_incubation',\n",
       "       'Payment Print/Display', 'Payment comments', 'Post date', 'Deg %'],\n",
       "      dtype='object')"
      ]
     },
     "execution_count": 148,
     "metadata": {},
     "output_type": "execute_result"
    }
   ],
   "source": [
    "df.columns"
   ]
  },
  {
   "cell_type": "code",
   "execution_count": null,
   "metadata": {},
   "outputs": [],
   "source": []
  },
  {
   "cell_type": "code",
   "execution_count": 157,
   "metadata": {},
   "outputs": [],
   "source": [
    "d=df[['Name','Deg %']]"
   ]
  },
  {
   "cell_type": "code",
   "execution_count": 159,
   "metadata": {},
   "outputs": [],
   "source": [
    "j=jan_df[['Name','Deg %']]"
   ]
  },
  {
   "cell_type": "code",
   "execution_count": 151,
   "metadata": {},
   "outputs": [],
   "source": [
    "df_name=pd.DataFrame(d)"
   ]
  },
  {
   "cell_type": "code",
   "execution_count": 152,
   "metadata": {},
   "outputs": [],
   "source": [
    "jan_name=pd.DataFrame(j)"
   ]
  },
  {
   "cell_type": "code",
   "execution_count": 155,
   "metadata": {},
   "outputs": [
    {
     "data": {
      "text/html": [
       "<div>\n",
       "<style scoped>\n",
       "    .dataframe tbody tr th:only-of-type {\n",
       "        vertical-align: middle;\n",
       "    }\n",
       "\n",
       "    .dataframe tbody tr th {\n",
       "        vertical-align: top;\n",
       "    }\n",
       "\n",
       "    .dataframe thead th {\n",
       "        text-align: right;\n",
       "    }\n",
       "</style>\n",
       "<table border=\"1\" class=\"dataframe\">\n",
       "  <thead>\n",
       "    <tr style=\"text-align: right;\">\n",
       "      <th></th>\n",
       "      <th>SL No</th>\n",
       "      <th>Company Name</th>\n",
       "      <th>Location</th>\n",
       "      <th>Branch</th>\n",
       "      <th>Skill</th>\n",
       "      <th>DOJ</th>\n",
       "      <th>Name</th>\n",
       "      <th>Contact No</th>\n",
       "      <th>Email ID</th>\n",
       "      <th>Degree</th>\n",
       "      <th>Stream</th>\n",
       "      <th>YOP</th>\n",
       "      <th>10th</th>\n",
       "      <th>12th</th>\n",
       "      <th>Deg %</th>\n",
       "      <th>Masters</th>\n",
       "      <th>Status</th>\n",
       "    </tr>\n",
       "  </thead>\n",
       "  <tbody>\n",
       "    <tr>\n",
       "      <th>0</th>\n",
       "      <td>168</td>\n",
       "      <td>Eka Software</td>\n",
       "      <td>Bangalore</td>\n",
       "      <td>BTR QSP</td>\n",
       "      <td>Testing</td>\n",
       "      <td>2019-01-23</td>\n",
       "      <td>Kavana B S</td>\n",
       "      <td>8762755824</td>\n",
       "      <td>kavanahebbar111@gmail.com</td>\n",
       "      <td>BE</td>\n",
       "      <td>CSE</td>\n",
       "      <td>2018.0</td>\n",
       "      <td>91.8</td>\n",
       "      <td>91.80</td>\n",
       "      <td>60.0</td>\n",
       "      <td>NaN</td>\n",
       "      <td>NaN</td>\n",
       "    </tr>\n",
       "    <tr>\n",
       "      <th>1</th>\n",
       "      <td>190</td>\n",
       "      <td>Girmiti Software</td>\n",
       "      <td>Bangalore</td>\n",
       "      <td>BTR JSP</td>\n",
       "      <td>Development</td>\n",
       "      <td>2019-01-02</td>\n",
       "      <td>Vinay S</td>\n",
       "      <td>9972912234</td>\n",
       "      <td>vinaysgowda4@gmail.com</td>\n",
       "      <td>BE</td>\n",
       "      <td>TCE</td>\n",
       "      <td>2017.0</td>\n",
       "      <td>86</td>\n",
       "      <td>80.00</td>\n",
       "      <td>NaN</td>\n",
       "      <td>NaN</td>\n",
       "      <td>NaN</td>\n",
       "    </tr>\n",
       "    <tr>\n",
       "      <th>2</th>\n",
       "      <td>236</td>\n",
       "      <td>Ionidea</td>\n",
       "      <td>Bangalore</td>\n",
       "      <td>BTR QSP</td>\n",
       "      <td>Testing</td>\n",
       "      <td>2019-01-28</td>\n",
       "      <td>Arun Kumar</td>\n",
       "      <td>9900806705</td>\n",
       "      <td>arunyalagoor1594@gmail.com</td>\n",
       "      <td>BE</td>\n",
       "      <td>ECE</td>\n",
       "      <td>2018.0</td>\n",
       "      <td>88.64</td>\n",
       "      <td>68.39</td>\n",
       "      <td>NaN</td>\n",
       "      <td>NaN</td>\n",
       "      <td>NaN</td>\n",
       "    </tr>\n",
       "    <tr>\n",
       "      <th>3</th>\n",
       "      <td>244</td>\n",
       "      <td>Kaha Technologies Pvt Ltd</td>\n",
       "      <td>Bangalore</td>\n",
       "      <td>BTR QSP</td>\n",
       "      <td>Testing</td>\n",
       "      <td>2019-01-07</td>\n",
       "      <td>Rohini D</td>\n",
       "      <td>9742086441,9742086441</td>\n",
       "      <td>roh.chintu@gmail.com</td>\n",
       "      <td>BE</td>\n",
       "      <td>CSE</td>\n",
       "      <td>2018.0</td>\n",
       "      <td>86</td>\n",
       "      <td>74.00</td>\n",
       "      <td>66.0</td>\n",
       "      <td>NaN</td>\n",
       "      <td>NaN</td>\n",
       "    </tr>\n",
       "    <tr>\n",
       "      <th>4</th>\n",
       "      <td>292</td>\n",
       "      <td>L And T</td>\n",
       "      <td>Bangalore</td>\n",
       "      <td>BTR JSP</td>\n",
       "      <td>Development</td>\n",
       "      <td>2019-01-02</td>\n",
       "      <td>Lakshmi S</td>\n",
       "      <td>9916150696</td>\n",
       "      <td>ingalakilucky1996@gmail.com</td>\n",
       "      <td>BE</td>\n",
       "      <td>ECE</td>\n",
       "      <td>2018.0</td>\n",
       "      <td>78.88</td>\n",
       "      <td>68.00</td>\n",
       "      <td>67.0</td>\n",
       "      <td>NaN</td>\n",
       "      <td>NaN</td>\n",
       "    </tr>\n",
       "    <tr>\n",
       "      <th>5</th>\n",
       "      <td>442</td>\n",
       "      <td>Mphasis</td>\n",
       "      <td>Bangalore</td>\n",
       "      <td>BTR QSP</td>\n",
       "      <td>Testing</td>\n",
       "      <td>2019-01-03</td>\n",
       "      <td>Ashwini</td>\n",
       "      <td>9606266826</td>\n",
       "      <td>ashwinih788@gmail.com</td>\n",
       "      <td>BE</td>\n",
       "      <td>ECE</td>\n",
       "      <td>2018.0</td>\n",
       "      <td>64.48</td>\n",
       "      <td>67.00</td>\n",
       "      <td>NaN</td>\n",
       "      <td>NaN</td>\n",
       "      <td>NaN</td>\n",
       "    </tr>\n",
       "  </tbody>\n",
       "</table>\n",
       "</div>"
      ],
      "text/plain": [
       "   SL No                Company Name   Location  Branch         Skill  \\\n",
       "0    168                Eka Software  Bangalore  BTR QSP      Testing   \n",
       "1    190            Girmiti Software  Bangalore  BTR JSP  Development   \n",
       "2    236                     Ionidea  Bangalore  BTR QSP      Testing   \n",
       "3    244  Kaha Technologies Pvt Ltd   Bangalore  BTR QSP      Testing   \n",
       "4    292                     L And T  Bangalore  BTR JSP  Development   \n",
       "5    442                     Mphasis  Bangalore  BTR QSP      Testing   \n",
       "\n",
       "         DOJ        Name             Contact No                     Email ID  \\\n",
       "0 2019-01-23  Kavana B S             8762755824    kavanahebbar111@gmail.com   \n",
       "1 2019-01-02     Vinay S             9972912234       vinaysgowda4@gmail.com   \n",
       "2 2019-01-28  Arun Kumar             9900806705   arunyalagoor1594@gmail.com   \n",
       "3 2019-01-07    Rohini D  9742086441,9742086441         roh.chintu@gmail.com   \n",
       "4 2019-01-02   Lakshmi S             9916150696  ingalakilucky1996@gmail.com   \n",
       "5 2019-01-03     Ashwini             9606266826        ashwinih788@gmail.com   \n",
       "\n",
       "  Degree Stream     YOP   10th   12th  Deg %  Masters  Status   \n",
       "0     BE    CSE  2018.0   91.8  91.80   60.0      NaN      NaN  \n",
       "1     BE    TCE  2017.0     86  80.00    NaN      NaN      NaN  \n",
       "2     BE    ECE  2018.0  88.64  68.39    NaN      NaN      NaN  \n",
       "3     BE    CSE  2018.0     86  74.00   66.0      NaN      NaN  \n",
       "4     BE    ECE  2018.0  78.88  68.00   67.0      NaN      NaN  \n",
       "5     BE    ECE  2018.0  64.48  67.00    NaN      NaN      NaN  "
      ]
     },
     "execution_count": 155,
     "metadata": {},
     "output_type": "execute_result"
    }
   ],
   "source": [
    "jan_final=jan_df.merge(df_name, how='inner')\n",
    "jan_final"
   ]
  },
  {
   "cell_type": "code",
   "execution_count": 154,
   "metadata": {},
   "outputs": [
    {
     "data": {
      "text/html": [
       "<div>\n",
       "<style scoped>\n",
       "    .dataframe tbody tr th:only-of-type {\n",
       "        vertical-align: middle;\n",
       "    }\n",
       "\n",
       "    .dataframe tbody tr th {\n",
       "        vertical-align: top;\n",
       "    }\n",
       "\n",
       "    .dataframe thead th {\n",
       "        text-align: right;\n",
       "    }\n",
       "</style>\n",
       "<table border=\"1\" class=\"dataframe\">\n",
       "  <thead>\n",
       "    <tr style=\"text-align: right;\">\n",
       "      <th></th>\n",
       "      <th>SL No</th>\n",
       "      <th>Company Name</th>\n",
       "      <th>Location</th>\n",
       "      <th>Branch</th>\n",
       "      <th>Skill</th>\n",
       "      <th>DOJ</th>\n",
       "      <th>Name</th>\n",
       "      <th>Contact No</th>\n",
       "      <th>Email ID</th>\n",
       "      <th>Degree</th>\n",
       "      <th>Stream</th>\n",
       "      <th>YOP</th>\n",
       "      <th>10th</th>\n",
       "      <th>12th</th>\n",
       "      <th>Deg %</th>\n",
       "      <th>Masters</th>\n",
       "      <th>Status</th>\n",
       "    </tr>\n",
       "  </thead>\n",
       "  <tbody>\n",
       "    <tr>\n",
       "      <th>0</th>\n",
       "      <td>168</td>\n",
       "      <td>Eka Software</td>\n",
       "      <td>Bangalore</td>\n",
       "      <td>BTR QSP</td>\n",
       "      <td>Testing</td>\n",
       "      <td>2019-01-23</td>\n",
       "      <td>Kavana B S</td>\n",
       "      <td>8762755824</td>\n",
       "      <td>kavanahebbar111@gmail.com</td>\n",
       "      <td>BE</td>\n",
       "      <td>CSE</td>\n",
       "      <td>2018.0</td>\n",
       "      <td>91.8</td>\n",
       "      <td>91.80</td>\n",
       "      <td>60.0</td>\n",
       "      <td>NaN</td>\n",
       "      <td>NaN</td>\n",
       "    </tr>\n",
       "    <tr>\n",
       "      <th>2</th>\n",
       "      <td>236</td>\n",
       "      <td>Ionidea</td>\n",
       "      <td>Bangalore</td>\n",
       "      <td>BTR QSP</td>\n",
       "      <td>Testing</td>\n",
       "      <td>2019-01-28</td>\n",
       "      <td>Arun Kumar</td>\n",
       "      <td>9900806705</td>\n",
       "      <td>arunyalagoor1594@gmail.com</td>\n",
       "      <td>BE</td>\n",
       "      <td>ECE</td>\n",
       "      <td>2018.0</td>\n",
       "      <td>88.64</td>\n",
       "      <td>68.39</td>\n",
       "      <td>NaN</td>\n",
       "      <td>NaN</td>\n",
       "      <td>NaN</td>\n",
       "    </tr>\n",
       "    <tr>\n",
       "      <th>3</th>\n",
       "      <td>244</td>\n",
       "      <td>Kaha Technologies Pvt Ltd</td>\n",
       "      <td>Bangalore</td>\n",
       "      <td>BTR QSP</td>\n",
       "      <td>Testing</td>\n",
       "      <td>2019-01-07</td>\n",
       "      <td>Rohini D</td>\n",
       "      <td>9742086441,9742086441</td>\n",
       "      <td>roh.chintu@gmail.com</td>\n",
       "      <td>BE</td>\n",
       "      <td>CSE</td>\n",
       "      <td>2018.0</td>\n",
       "      <td>86</td>\n",
       "      <td>74.00</td>\n",
       "      <td>66.0</td>\n",
       "      <td>NaN</td>\n",
       "      <td>NaN</td>\n",
       "    </tr>\n",
       "    <tr>\n",
       "      <th>5</th>\n",
       "      <td>442</td>\n",
       "      <td>Mphasis</td>\n",
       "      <td>Bangalore</td>\n",
       "      <td>BTR QSP</td>\n",
       "      <td>Testing</td>\n",
       "      <td>2019-01-03</td>\n",
       "      <td>Ashwini</td>\n",
       "      <td>9606266826</td>\n",
       "      <td>ashwinih788@gmail.com</td>\n",
       "      <td>BE</td>\n",
       "      <td>ECE</td>\n",
       "      <td>2018.0</td>\n",
       "      <td>64.48</td>\n",
       "      <td>67.00</td>\n",
       "      <td>NaN</td>\n",
       "      <td>NaN</td>\n",
       "      <td>NaN</td>\n",
       "    </tr>\n",
       "  </tbody>\n",
       "</table>\n",
       "</div>"
      ],
      "text/plain": [
       "   SL No                Company Name   Location  Branch     Skill        DOJ  \\\n",
       "0    168                Eka Software  Bangalore  BTR QSP  Testing 2019-01-23   \n",
       "2    236                     Ionidea  Bangalore  BTR QSP  Testing 2019-01-28   \n",
       "3    244  Kaha Technologies Pvt Ltd   Bangalore  BTR QSP  Testing 2019-01-07   \n",
       "5    442                     Mphasis  Bangalore  BTR QSP  Testing 2019-01-03   \n",
       "\n",
       "         Name             Contact No                    Email ID Degree  \\\n",
       "0  Kavana B S             8762755824   kavanahebbar111@gmail.com     BE   \n",
       "2  Arun Kumar             9900806705  arunyalagoor1594@gmail.com     BE   \n",
       "3    Rohini D  9742086441,9742086441        roh.chintu@gmail.com     BE   \n",
       "5     Ashwini             9606266826       ashwinih788@gmail.com     BE   \n",
       "\n",
       "  Stream     YOP   10th   12th  Deg %  Masters  Status   \n",
       "0    CSE  2018.0   91.8  91.80   60.0      NaN      NaN  \n",
       "2    ECE  2018.0  88.64  68.39    NaN      NaN      NaN  \n",
       "3    CSE  2018.0     86  74.00   66.0      NaN      NaN  \n",
       "5    ECE  2018.0  64.48  67.00    NaN      NaN      NaN  "
      ]
     },
     "execution_count": 154,
     "metadata": {},
     "output_type": "execute_result"
    }
   ],
   "source": [
    "jan_final[jan_final['Branch ']=='BTR QSP']"
   ]
  },
  {
   "cell_type": "code",
   "execution_count": null,
   "metadata": {},
   "outputs": [],
   "source": []
  },
  {
   "cell_type": "code",
   "execution_count": 114,
   "metadata": {},
   "outputs": [],
   "source": [
    "f=feb_df['Name']"
   ]
  },
  {
   "cell_type": "code",
   "execution_count": 115,
   "metadata": {},
   "outputs": [],
   "source": [
    "feb_name=pd.DataFrame(f)"
   ]
  },
  {
   "cell_type": "code",
   "execution_count": 116,
   "metadata": {},
   "outputs": [
    {
     "data": {
      "text/html": [
       "<div>\n",
       "<style scoped>\n",
       "    .dataframe tbody tr th:only-of-type {\n",
       "        vertical-align: middle;\n",
       "    }\n",
       "\n",
       "    .dataframe tbody tr th {\n",
       "        vertical-align: top;\n",
       "    }\n",
       "\n",
       "    .dataframe thead th {\n",
       "        text-align: right;\n",
       "    }\n",
       "</style>\n",
       "<table border=\"1\" class=\"dataframe\">\n",
       "  <thead>\n",
       "    <tr style=\"text-align: right;\">\n",
       "      <th></th>\n",
       "      <th>Name</th>\n",
       "    </tr>\n",
       "  </thead>\n",
       "  <tbody>\n",
       "    <tr>\n",
       "      <th>0</th>\n",
       "      <td>Prasad Kumbhar</td>\n",
       "    </tr>\n",
       "    <tr>\n",
       "      <th>1</th>\n",
       "      <td>Priyanka Das</td>\n",
       "    </tr>\n",
       "    <tr>\n",
       "      <th>2</th>\n",
       "      <td>Arvind Malipatil</td>\n",
       "    </tr>\n",
       "    <tr>\n",
       "      <th>3</th>\n",
       "      <td>Raghav Biyani</td>\n",
       "    </tr>\n",
       "    <tr>\n",
       "      <th>4</th>\n",
       "      <td>Mohammed Shahbaz</td>\n",
       "    </tr>\n",
       "    <tr>\n",
       "      <th>5</th>\n",
       "      <td>Nishanth H G</td>\n",
       "    </tr>\n",
       "    <tr>\n",
       "      <th>6</th>\n",
       "      <td>Saish Vijay Shet</td>\n",
       "    </tr>\n",
       "    <tr>\n",
       "      <th>7</th>\n",
       "      <td>Ankita</td>\n",
       "    </tr>\n",
       "    <tr>\n",
       "      <th>8</th>\n",
       "      <td>Abhishek</td>\n",
       "    </tr>\n",
       "    <tr>\n",
       "      <th>9</th>\n",
       "      <td>Sneha</td>\n",
       "    </tr>\n",
       "    <tr>\n",
       "      <th>10</th>\n",
       "      <td>Kavya R</td>\n",
       "    </tr>\n",
       "    <tr>\n",
       "      <th>11</th>\n",
       "      <td>Tejaswini</td>\n",
       "    </tr>\n",
       "    <tr>\n",
       "      <th>12</th>\n",
       "      <td>Divyashree</td>\n",
       "    </tr>\n",
       "    <tr>\n",
       "      <th>13</th>\n",
       "      <td>Akshay B S</td>\n",
       "    </tr>\n",
       "    <tr>\n",
       "      <th>14</th>\n",
       "      <td>J Jayaram Reddy</td>\n",
       "    </tr>\n",
       "    <tr>\n",
       "      <th>15</th>\n",
       "      <td>B Harshitha</td>\n",
       "    </tr>\n",
       "    <tr>\n",
       "      <th>16</th>\n",
       "      <td>B Harshitha</td>\n",
       "    </tr>\n",
       "    <tr>\n",
       "      <th>17</th>\n",
       "      <td>B Sarath Kumar</td>\n",
       "    </tr>\n",
       "    <tr>\n",
       "      <th>18</th>\n",
       "      <td>A Likhith Yadav</td>\n",
       "    </tr>\n",
       "    <tr>\n",
       "      <th>19</th>\n",
       "      <td>Anand Deep Kumar</td>\n",
       "    </tr>\n",
       "    <tr>\n",
       "      <th>20</th>\n",
       "      <td>Arindam Tanti</td>\n",
       "    </tr>\n",
       "    <tr>\n",
       "      <th>21</th>\n",
       "      <td>Julika Kumari</td>\n",
       "    </tr>\n",
       "    <tr>\n",
       "      <th>22</th>\n",
       "      <td>Sakshi Singal</td>\n",
       "    </tr>\n",
       "    <tr>\n",
       "      <th>23</th>\n",
       "      <td>Sandeep Kumar Ghansiala</td>\n",
       "    </tr>\n",
       "    <tr>\n",
       "      <th>24</th>\n",
       "      <td>Sudhanshu Bhatt</td>\n",
       "    </tr>\n",
       "    <tr>\n",
       "      <th>25</th>\n",
       "      <td>Sujeet Kumar</td>\n",
       "    </tr>\n",
       "    <tr>\n",
       "      <th>26</th>\n",
       "      <td>Suraj</td>\n",
       "    </tr>\n",
       "    <tr>\n",
       "      <th>27</th>\n",
       "      <td>Chandana S</td>\n",
       "    </tr>\n",
       "    <tr>\n",
       "      <th>28</th>\n",
       "      <td>Anjali Sinha</td>\n",
       "    </tr>\n",
       "    <tr>\n",
       "      <th>29</th>\n",
       "      <td>Sri Lakshmi H A</td>\n",
       "    </tr>\n",
       "    <tr>\n",
       "      <th>...</th>\n",
       "      <td>...</td>\n",
       "    </tr>\n",
       "    <tr>\n",
       "      <th>97</th>\n",
       "      <td>Radha Prasad</td>\n",
       "    </tr>\n",
       "    <tr>\n",
       "      <th>98</th>\n",
       "      <td>Pooja S</td>\n",
       "    </tr>\n",
       "    <tr>\n",
       "      <th>99</th>\n",
       "      <td>Pooja S</td>\n",
       "    </tr>\n",
       "    <tr>\n",
       "      <th>100</th>\n",
       "      <td>Divya M</td>\n",
       "    </tr>\n",
       "    <tr>\n",
       "      <th>101</th>\n",
       "      <td>Maneesh Kumar</td>\n",
       "    </tr>\n",
       "    <tr>\n",
       "      <th>102</th>\n",
       "      <td>Ranjith S N</td>\n",
       "    </tr>\n",
       "    <tr>\n",
       "      <th>103</th>\n",
       "      <td>Shruthi H M</td>\n",
       "    </tr>\n",
       "    <tr>\n",
       "      <th>104</th>\n",
       "      <td>Chaithanya B V</td>\n",
       "    </tr>\n",
       "    <tr>\n",
       "      <th>105</th>\n",
       "      <td>Syed Khunza Gowhar</td>\n",
       "    </tr>\n",
       "    <tr>\n",
       "      <th>106</th>\n",
       "      <td>Vidyarani K</td>\n",
       "    </tr>\n",
       "    <tr>\n",
       "      <th>107</th>\n",
       "      <td>Kavya Rudrappa</td>\n",
       "    </tr>\n",
       "    <tr>\n",
       "      <th>108</th>\n",
       "      <td>Pavan Kumar M</td>\n",
       "    </tr>\n",
       "    <tr>\n",
       "      <th>109</th>\n",
       "      <td>Rashmi R</td>\n",
       "    </tr>\n",
       "    <tr>\n",
       "      <th>110</th>\n",
       "      <td>Chandana H C</td>\n",
       "    </tr>\n",
       "    <tr>\n",
       "      <th>111</th>\n",
       "      <td>Almaas L</td>\n",
       "    </tr>\n",
       "    <tr>\n",
       "      <th>112</th>\n",
       "      <td>Bharathi</td>\n",
       "    </tr>\n",
       "    <tr>\n",
       "      <th>113</th>\n",
       "      <td>Jhansi A</td>\n",
       "    </tr>\n",
       "    <tr>\n",
       "      <th>114</th>\n",
       "      <td>Kavita S Naik</td>\n",
       "    </tr>\n",
       "    <tr>\n",
       "      <th>115</th>\n",
       "      <td>Mallika K N</td>\n",
       "    </tr>\n",
       "    <tr>\n",
       "      <th>116</th>\n",
       "      <td>Meghana D E</td>\n",
       "    </tr>\n",
       "    <tr>\n",
       "      <th>117</th>\n",
       "      <td>Munirathna K S</td>\n",
       "    </tr>\n",
       "    <tr>\n",
       "      <th>118</th>\n",
       "      <td>Naveen K</td>\n",
       "    </tr>\n",
       "    <tr>\n",
       "      <th>119</th>\n",
       "      <td>Nikita Abhijit Kulkarni</td>\n",
       "    </tr>\n",
       "    <tr>\n",
       "      <th>120</th>\n",
       "      <td>Sharadhi K R</td>\n",
       "    </tr>\n",
       "    <tr>\n",
       "      <th>121</th>\n",
       "      <td>Thejashree B L</td>\n",
       "    </tr>\n",
       "    <tr>\n",
       "      <th>122</th>\n",
       "      <td>Vijayalakshmi Hosakeri</td>\n",
       "    </tr>\n",
       "    <tr>\n",
       "      <th>123</th>\n",
       "      <td>Sharath A M</td>\n",
       "    </tr>\n",
       "    <tr>\n",
       "      <th>124</th>\n",
       "      <td>Prathiba M</td>\n",
       "    </tr>\n",
       "    <tr>\n",
       "      <th>125</th>\n",
       "      <td>Neethu Kuwar</td>\n",
       "    </tr>\n",
       "    <tr>\n",
       "      <th>126</th>\n",
       "      <td>Yashaswini M</td>\n",
       "    </tr>\n",
       "  </tbody>\n",
       "</table>\n",
       "<p>127 rows × 1 columns</p>\n",
       "</div>"
      ],
      "text/plain": [
       "                        Name\n",
       "0             Prasad Kumbhar\n",
       "1               Priyanka Das\n",
       "2           Arvind Malipatil\n",
       "3              Raghav Biyani\n",
       "4           Mohammed Shahbaz\n",
       "5               Nishanth H G\n",
       "6           Saish Vijay Shet\n",
       "7                     Ankita\n",
       "8                   Abhishek\n",
       "9                      Sneha\n",
       "10                   Kavya R\n",
       "11                 Tejaswini\n",
       "12                Divyashree\n",
       "13                Akshay B S\n",
       "14          J Jayaram Reddy \n",
       "15              B Harshitha \n",
       "16              B Harshitha \n",
       "17           B Sarath Kumar \n",
       "18           A Likhith Yadav\n",
       "19          Anand Deep Kumar\n",
       "20             Arindam Tanti\n",
       "21             Julika Kumari\n",
       "22             Sakshi Singal\n",
       "23   Sandeep Kumar Ghansiala\n",
       "24           Sudhanshu Bhatt\n",
       "25              Sujeet Kumar\n",
       "26                    Suraj \n",
       "27                Chandana S\n",
       "28              Anjali Sinha\n",
       "29           Sri Lakshmi H A\n",
       "..                       ...\n",
       "97              Radha Prasad\n",
       "98                   Pooja S\n",
       "99                   Pooja S\n",
       "100                  Divya M\n",
       "101            Maneesh Kumar\n",
       "102              Ranjith S N\n",
       "103              Shruthi H M\n",
       "104           Chaithanya B V\n",
       "105       Syed Khunza Gowhar\n",
       "106              Vidyarani K\n",
       "107           Kavya Rudrappa\n",
       "108            Pavan Kumar M\n",
       "109                 Rashmi R\n",
       "110             Chandana H C\n",
       "111                 Almaas L\n",
       "112                 Bharathi\n",
       "113                 Jhansi A\n",
       "114            Kavita S Naik\n",
       "115              Mallika K N\n",
       "116              Meghana D E\n",
       "117           Munirathna K S\n",
       "118                 Naveen K\n",
       "119  Nikita Abhijit Kulkarni\n",
       "120             Sharadhi K R\n",
       "121           Thejashree B L\n",
       "122   Vijayalakshmi Hosakeri\n",
       "123              Sharath A M\n",
       "124               Prathiba M\n",
       "125             Neethu Kuwar\n",
       "126             Yashaswini M\n",
       "\n",
       "[127 rows x 1 columns]"
      ]
     },
     "execution_count": 116,
     "metadata": {},
     "output_type": "execute_result"
    }
   ],
   "source": [
    "feb_name.merge(df_name, how='inner')"
   ]
  },
  {
   "cell_type": "code",
   "execution_count": 119,
   "metadata": {},
   "outputs": [],
   "source": [
    "m=Mar_df['Candidate Name']"
   ]
  },
  {
   "cell_type": "code",
   "execution_count": 120,
   "metadata": {},
   "outputs": [],
   "source": [
    "mar_name=pd.DataFrame(m)"
   ]
  },
  {
   "cell_type": "code",
   "execution_count": null,
   "metadata": {},
   "outputs": [],
   "source": []
  },
  {
   "cell_type": "code",
   "execution_count": null,
   "metadata": {},
   "outputs": [],
   "source": []
  }
 ],
 "metadata": {
  "kernelspec": {
   "display_name": "Python 3",
   "language": "python",
   "name": "python3"
  },
  "language_info": {
   "codemirror_mode": {
    "name": "ipython",
    "version": 3
   },
   "file_extension": ".py",
   "mimetype": "text/x-python",
   "name": "python",
   "nbconvert_exporter": "python",
   "pygments_lexer": "ipython3",
   "version": "3.6.4"
  }
 },
 "nbformat": 4,
 "nbformat_minor": 2
}
